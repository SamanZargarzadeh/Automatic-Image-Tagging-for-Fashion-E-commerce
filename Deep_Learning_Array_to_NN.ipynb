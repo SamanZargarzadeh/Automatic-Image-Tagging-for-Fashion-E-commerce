{
  "cells": [
    {
      "cell_type": "markdown",
      "metadata": {
        "id": "view-in-github",
        "colab_type": "text"
      },
      "source": [
        "<a href=\"https://colab.research.google.com/github/SamanZargarzadeh/Automatic-Image-Tagging-for-Fashion-E-commerce/blob/main/Deep_Learning_Array_to_NN.ipynb\" target=\"_parent\"><img src=\"https://colab.research.google.com/assets/colab-badge.svg\" alt=\"Open In Colab\"/></a>"
      ]
    },
    {
      "cell_type": "markdown",
      "id": "f4eb8b34",
      "metadata": {
        "id": "f4eb8b34"
      },
      "source": [
        "# Deep Learning Project"
      ]
    },
    {
      "cell_type": "markdown",
      "id": "22ca678b",
      "metadata": {
        "id": "22ca678b"
      },
      "source": [
        "## Automatic Image Tagging for Fashion E-commerce  "
      ]
    },
    {
      "cell_type": "markdown",
      "id": "f1ad90ce",
      "metadata": {
        "id": "f1ad90ce"
      },
      "source": [
        "Saman Zargarzadeh, Devy Yeap, Tiantian Gu, Tannaz Ebrahimi, Xia-Rong Zhang"
      ]
    },
    {
      "cell_type": "code",
      "source": [
        "from google.colab import drive\n",
        "drive.mount('/content/drive')"
      ],
      "metadata": {
        "colab": {
          "base_uri": "https://localhost:8080/"
        },
        "id": "VlIapGFv5B9N",
        "outputId": "cca007f6-9b65-46e8-e327-cbfccef68339"
      },
      "id": "VlIapGFv5B9N",
      "execution_count": 2,
      "outputs": [
        {
          "output_type": "stream",
          "name": "stdout",
          "text": [
            "Drive already mounted at /content/drive; to attempt to forcibly remount, call drive.mount(\"/content/drive\", force_remount=True).\n"
          ]
        }
      ]
    },
    {
      "cell_type": "code",
      "execution_count": 3,
      "id": "ae1e2f50",
      "metadata": {
        "id": "ae1e2f50"
      },
      "outputs": [],
      "source": [
        "import matplotlib.pyplot as plt\n",
        "import matplotlib.image as mpimg"
      ]
    },
    {
      "cell_type": "code",
      "execution_count": 4,
      "id": "26849b63",
      "metadata": {
        "id": "26849b63"
      },
      "outputs": [],
      "source": [
        "import os\n",
        "import gc\n",
        "import sys\n",
        "import json\n",
        "import random\n",
        "from pathlib import Path\n",
        "import pandas as pd\n",
        "import numpy as np"
      ]
    },
    {
      "cell_type": "code",
      "source": [
        "import pandas as pd\n",
        "import numpy as np"
      ],
      "metadata": {
        "id": "216wdD6w5WGy"
      },
      "id": "216wdD6w5WGy",
      "execution_count": 5,
      "outputs": []
    },
    {
      "cell_type": "code",
      "source": [
        "# load the array \n",
        "\n",
        "#train_set_x = np.load('/content/drive/MyDrive/train_set_x.npy')\n",
        "#test_set_x = np.load('/content/drive/MyDrive/test_set_x.npy')\n",
        "#cv_set_x = np.load('/content/drive/MyDrive/cv_set_x.npy')\n",
        "\n",
        "#train_set_y = np.load('/content/drive/MyDrive/train_set_y.npy')\n",
        "#test_set_y = np.load('/content/drive/MyDrive/test_set_y.npy')\n",
        "#cv_set_y = np.load('/content/drive/MyDrive/cv_set_y.npy')"
      ],
      "metadata": {
        "id": "j1E1cN-JFdcA"
      },
      "id": "j1E1cN-JFdcA",
      "execution_count": 5,
      "outputs": []
    },
    {
      "cell_type": "code",
      "source": [
        "# load the array \n",
        "\n",
        "train_set_x = np.load('/content/drive/MyDrive/MNIST/train_set_x.npy')\n",
        "test_set_x = np.load('/content/drive/MyDrive/MNIST/test_set_x.npy')\n",
        "cv_set_x = np.load('/content/drive/MyDrive/MNIST/cv_set_x.npy')\n",
        "\n",
        "train_set_y = np.load('/content/drive/MyDrive/MNIST/train_set_y.npy')\n",
        "test_set_y = np.load('/content/drive/MyDrive/MNIST/test_set_y.npy')\n",
        "cv_set_y = np.load('/content/drive/MyDrive/MNIST/cv_set_y.npy')"
      ],
      "metadata": {
        "id": "Jc9kPNFqM544"
      },
      "id": "Jc9kPNFqM544",
      "execution_count": 6,
      "outputs": []
    },
    {
      "cell_type": "markdown",
      "source": [
        "# Tensorflow"
      ],
      "metadata": {
        "id": "jJJ1CuJ4Z8HX"
      },
      "id": "jJJ1CuJ4Z8HX"
    },
    {
      "cell_type": "code",
      "source": [
        "#train_set_x=train_set_x.T\n",
        "#test_set_x=test_set_x.T\n",
        "#cv_set_x=cv_set_x.T"
      ],
      "metadata": {
        "id": "R3BWmWvpeXMs"
      },
      "id": "R3BWmWvpeXMs",
      "execution_count": 18,
      "outputs": []
    },
    {
      "cell_type": "code",
      "source": [
        "import tensorflow as tf"
      ],
      "metadata": {
        "id": "CsYyRzbXZIdG"
      },
      "id": "CsYyRzbXZIdG",
      "execution_count": 7,
      "outputs": []
    },
    {
      "cell_type": "code",
      "source": [
        "from tensorflow.keras.models import Sequential\n",
        "from tensorflow.keras.layers import Dense, Flatten, Dropout \n",
        "from tensorflow.keras import regularizers\n",
        "from tensorflow.keras.callbacks import Callback\n",
        "from tensorflow.keras.preprocessing import image\n",
        "from keras.regularizers import l2\n",
        "from keras.optimizers import Adam\n",
        "\n"
      ],
      "metadata": {
        "id": "Rgi_uzLRaHqj"
      },
      "id": "Rgi_uzLRaHqj",
      "execution_count": 8,
      "outputs": []
    },
    {
      "cell_type": "markdown",
      "source": [
        "### A Neural Network with two hidden layers.\n"
      ],
      "metadata": {
        "id": "rb8E2JLxk_Q5"
      },
      "id": "rb8E2JLxk_Q5"
    },
    {
      "cell_type": "code",
      "source": [
        "# Best (0.0013, 31)\n",
        "n_1=31\n",
        "alpha= 0.0013\n",
        "learning_rate = alpha \n",
        "lambd=0.1\n",
        "epochs=10"
      ],
      "metadata": {
        "id": "rm8vkmmUlHBD"
      },
      "id": "rm8vkmmUlHBD",
      "execution_count": 19,
      "outputs": []
    },
    {
      "cell_type": "code",
      "source": [
        "train_set_y.shape"
      ],
      "metadata": {
        "id": "eeu6mwVvRmgb",
        "outputId": "7448a517-0496-4671-b6b3-bac5aa636865",
        "colab": {
          "base_uri": "https://localhost:8080/"
        }
      },
      "id": "eeu6mwVvRmgb",
      "execution_count": 20,
      "outputs": [
        {
          "output_type": "execute_result",
          "data": {
            "text/plain": [
              "(10038,)"
            ]
          },
          "metadata": {},
          "execution_count": 20
        }
      ]
    },
    {
      "cell_type": "code",
      "source": [
        "modelD = Sequential()\n",
        "modelD.add(Dense(n_1, activation='relu', input_shape=(784,), kernel_regularizer=l2(lambd)))\n",
        "modelD.add(Dense(4, activation='relu', kernel_regularizer=l2(lambd)))\n",
        "modelD.add(Dense(1, activation='sigmoid', kernel_regularizer=l2(lambd)))\n",
        "\n",
        "optimizer = Adam(learning_rate=learning_rate)\n",
        "\n",
        "modelD.compile(loss='binary_crossentropy', optimizer=optimizer, metrics=['accuracy'])\n",
        "historyD = modelD.fit(train_set_x, train_set_y , epochs=epochs)\n",
        "pd.DataFrame(historyD.history).head()"
      ],
      "metadata": {
        "colab": {
          "base_uri": "https://localhost:8080/",
          "height": 563
        },
        "id": "1C0so2gBhSMm",
        "outputId": "5b75a540-c3b6-4fda-83ba-bf1092a096b5"
      },
      "id": "1C0so2gBhSMm",
      "execution_count": 21,
      "outputs": [
        {
          "output_type": "stream",
          "name": "stdout",
          "text": [
            "Epoch 1/10\n",
            "314/314 [==============================] - 2s 3ms/step - loss: 1.1850 - accuracy: 0.8867\n",
            "Epoch 2/10\n",
            "314/314 [==============================] - 1s 3ms/step - loss: 0.5526 - accuracy: 0.9096\n",
            "Epoch 3/10\n",
            "314/314 [==============================] - 1s 5ms/step - loss: 0.5406 - accuracy: 0.9116\n",
            "Epoch 4/10\n",
            "314/314 [==============================] - 2s 5ms/step - loss: 0.5357 - accuracy: 0.9092\n",
            "Epoch 5/10\n",
            "314/314 [==============================] - 2s 5ms/step - loss: 0.5337 - accuracy: 0.9088\n",
            "Epoch 6/10\n",
            "314/314 [==============================] - 1s 3ms/step - loss: 0.5293 - accuracy: 0.9091\n",
            "Epoch 7/10\n",
            "314/314 [==============================] - 1s 3ms/step - loss: 0.5292 - accuracy: 0.9086\n",
            "Epoch 8/10\n",
            "314/314 [==============================] - 1s 3ms/step - loss: 0.5250 - accuracy: 0.9118\n",
            "Epoch 9/10\n",
            "314/314 [==============================] - 1s 3ms/step - loss: 0.5224 - accuracy: 0.9111\n",
            "Epoch 10/10\n",
            "314/314 [==============================] - 1s 3ms/step - loss: 0.5220 - accuracy: 0.9117\n"
          ]
        },
        {
          "output_type": "execute_result",
          "data": {
            "text/plain": [
              "       loss  accuracy\n",
              "0  1.185016  0.886730\n",
              "1  0.552554  0.909643\n",
              "2  0.540615  0.911636\n",
              "3  0.535739  0.909245\n",
              "4  0.533661  0.908846"
            ],
            "text/html": [
              "\n",
              "  <div id=\"df-d52e615b-0b5f-4618-b41a-f1f3ed293579\">\n",
              "    <div class=\"colab-df-container\">\n",
              "      <div>\n",
              "<style scoped>\n",
              "    .dataframe tbody tr th:only-of-type {\n",
              "        vertical-align: middle;\n",
              "    }\n",
              "\n",
              "    .dataframe tbody tr th {\n",
              "        vertical-align: top;\n",
              "    }\n",
              "\n",
              "    .dataframe thead th {\n",
              "        text-align: right;\n",
              "    }\n",
              "</style>\n",
              "<table border=\"1\" class=\"dataframe\">\n",
              "  <thead>\n",
              "    <tr style=\"text-align: right;\">\n",
              "      <th></th>\n",
              "      <th>loss</th>\n",
              "      <th>accuracy</th>\n",
              "    </tr>\n",
              "  </thead>\n",
              "  <tbody>\n",
              "    <tr>\n",
              "      <th>0</th>\n",
              "      <td>1.185016</td>\n",
              "      <td>0.886730</td>\n",
              "    </tr>\n",
              "    <tr>\n",
              "      <th>1</th>\n",
              "      <td>0.552554</td>\n",
              "      <td>0.909643</td>\n",
              "    </tr>\n",
              "    <tr>\n",
              "      <th>2</th>\n",
              "      <td>0.540615</td>\n",
              "      <td>0.911636</td>\n",
              "    </tr>\n",
              "    <tr>\n",
              "      <th>3</th>\n",
              "      <td>0.535739</td>\n",
              "      <td>0.909245</td>\n",
              "    </tr>\n",
              "    <tr>\n",
              "      <th>4</th>\n",
              "      <td>0.533661</td>\n",
              "      <td>0.908846</td>\n",
              "    </tr>\n",
              "  </tbody>\n",
              "</table>\n",
              "</div>\n",
              "      <button class=\"colab-df-convert\" onclick=\"convertToInteractive('df-d52e615b-0b5f-4618-b41a-f1f3ed293579')\"\n",
              "              title=\"Convert this dataframe to an interactive table.\"\n",
              "              style=\"display:none;\">\n",
              "        \n",
              "  <svg xmlns=\"http://www.w3.org/2000/svg\" height=\"24px\"viewBox=\"0 0 24 24\"\n",
              "       width=\"24px\">\n",
              "    <path d=\"M0 0h24v24H0V0z\" fill=\"none\"/>\n",
              "    <path d=\"M18.56 5.44l.94 2.06.94-2.06 2.06-.94-2.06-.94-.94-2.06-.94 2.06-2.06.94zm-11 1L8.5 8.5l.94-2.06 2.06-.94-2.06-.94L8.5 2.5l-.94 2.06-2.06.94zm10 10l.94 2.06.94-2.06 2.06-.94-2.06-.94-.94-2.06-.94 2.06-2.06.94z\"/><path d=\"M17.41 7.96l-1.37-1.37c-.4-.4-.92-.59-1.43-.59-.52 0-1.04.2-1.43.59L10.3 9.45l-7.72 7.72c-.78.78-.78 2.05 0 2.83L4 21.41c.39.39.9.59 1.41.59.51 0 1.02-.2 1.41-.59l7.78-7.78 2.81-2.81c.8-.78.8-2.07 0-2.86zM5.41 20L4 18.59l7.72-7.72 1.47 1.35L5.41 20z\"/>\n",
              "  </svg>\n",
              "      </button>\n",
              "      \n",
              "  <style>\n",
              "    .colab-df-container {\n",
              "      display:flex;\n",
              "      flex-wrap:wrap;\n",
              "      gap: 12px;\n",
              "    }\n",
              "\n",
              "    .colab-df-convert {\n",
              "      background-color: #E8F0FE;\n",
              "      border: none;\n",
              "      border-radius: 50%;\n",
              "      cursor: pointer;\n",
              "      display: none;\n",
              "      fill: #1967D2;\n",
              "      height: 32px;\n",
              "      padding: 0 0 0 0;\n",
              "      width: 32px;\n",
              "    }\n",
              "\n",
              "    .colab-df-convert:hover {\n",
              "      background-color: #E2EBFA;\n",
              "      box-shadow: 0px 1px 2px rgba(60, 64, 67, 0.3), 0px 1px 3px 1px rgba(60, 64, 67, 0.15);\n",
              "      fill: #174EA6;\n",
              "    }\n",
              "\n",
              "    [theme=dark] .colab-df-convert {\n",
              "      background-color: #3B4455;\n",
              "      fill: #D2E3FC;\n",
              "    }\n",
              "\n",
              "    [theme=dark] .colab-df-convert:hover {\n",
              "      background-color: #434B5C;\n",
              "      box-shadow: 0px 1px 3px 1px rgba(0, 0, 0, 0.15);\n",
              "      filter: drop-shadow(0px 1px 2px rgba(0, 0, 0, 0.3));\n",
              "      fill: #FFFFFF;\n",
              "    }\n",
              "  </style>\n",
              "\n",
              "      <script>\n",
              "        const buttonEl =\n",
              "          document.querySelector('#df-d52e615b-0b5f-4618-b41a-f1f3ed293579 button.colab-df-convert');\n",
              "        buttonEl.style.display =\n",
              "          google.colab.kernel.accessAllowed ? 'block' : 'none';\n",
              "\n",
              "        async function convertToInteractive(key) {\n",
              "          const element = document.querySelector('#df-d52e615b-0b5f-4618-b41a-f1f3ed293579');\n",
              "          const dataTable =\n",
              "            await google.colab.kernel.invokeFunction('convertToInteractive',\n",
              "                                                     [key], {});\n",
              "          if (!dataTable) return;\n",
              "\n",
              "          const docLinkHtml = 'Like what you see? Visit the ' +\n",
              "            '<a target=\"_blank\" href=https://colab.research.google.com/notebooks/data_table.ipynb>data table notebook</a>'\n",
              "            + ' to learn more about interactive tables.';\n",
              "          element.innerHTML = '';\n",
              "          dataTable['output_type'] = 'display_data';\n",
              "          await google.colab.output.renderOutput(dataTable, element);\n",
              "          const docLink = document.createElement('div');\n",
              "          docLink.innerHTML = docLinkHtml;\n",
              "          element.appendChild(docLink);\n",
              "        }\n",
              "      </script>\n",
              "    </div>\n",
              "  </div>\n",
              "  "
            ]
          },
          "metadata": {},
          "execution_count": 21
        }
      ]
    },
    {
      "cell_type": "code",
      "source": [
        "loss_plot = pd.DataFrame(historyD.history).plot(y=\"loss\", title = \"Loss vs. Epochs\", legend=False)\n",
        "loss_plot.set(xlabel=\"Epochs\", ylabel=\"Loss\")"
      ],
      "metadata": {
        "colab": {
          "base_uri": "https://localhost:8080/",
          "height": 490
        },
        "id": "pPIr4KKVh-8n",
        "outputId": "2548b56b-134d-4613-d966-01bc443e93cb"
      },
      "id": "pPIr4KKVh-8n",
      "execution_count": 22,
      "outputs": [
        {
          "output_type": "execute_result",
          "data": {
            "text/plain": [
              "[Text(0.5, 0, 'Epochs'), Text(0, 0.5, 'Loss')]"
            ]
          },
          "metadata": {},
          "execution_count": 22
        },
        {
          "output_type": "display_data",
          "data": {
            "text/plain": [
              "<Figure size 640x480 with 1 Axes>"
            ],
            "image/png": "[encoded data removed]"
          },
          "metadata": {}
        }
      ]
    },
    {
      "cell_type": "code",
      "source": [
        "test_loss, test_accuracy = modelD.evaluate(test_set_x, test_set_y)"
      ],
      "metadata": {
        "colab": {
          "base_uri": "https://localhost:8080/"
        },
        "id": "PV9yOpH0iN2d",
        "outputId": "b80e498a-8c40-4d9c-c6ec-f9801839ae21"
      },
      "id": "PV9yOpH0iN2d",
      "execution_count": 23,
      "outputs": [
        {
          "output_type": "stream",
          "name": "stdout",
          "text": [
            "63/63 [==============================] - 0s 3ms/step - loss: 0.5420 - accuracy: 0.8930\n"
          ]
        }
      ]
    },
    {
      "cell_type": "code",
      "source": [
        "cv_loss, cv_accuracy = modelD.evaluate(cv_set_x, cv_set_y)"
      ],
      "metadata": {
        "colab": {
          "base_uri": "https://localhost:8080/"
        },
        "id": "4W7WoePaiSEz",
        "outputId": "064ce7b3-fc3b-4a92-f416-9f081b4d8bcb"
      },
      "id": "4W7WoePaiSEz",
      "execution_count": 24,
      "outputs": [
        {
          "output_type": "stream",
          "name": "stdout",
          "text": [
            "62/62 [==============================] - 0s 2ms/step - loss: 0.5193 - accuracy: 0.9159\n"
          ]
        }
      ]
    },
    {
      "cell_type": "code",
      "source": [
        "cv_accuracy"
      ],
      "metadata": {
        "id": "xMrT5VblSh7e",
        "outputId": "72b62a7a-c195-40c9-8113-50b48ecc115d",
        "colab": {
          "base_uri": "https://localhost:8080/"
        }
      },
      "id": "xMrT5VblSh7e",
      "execution_count": 25,
      "outputs": [
        {
          "output_type": "execute_result",
          "data": {
            "text/plain": [
              "0.9159021377563477"
            ]
          },
          "metadata": {},
          "execution_count": 25
        }
      ]
    },
    {
      "cell_type": "code",
      "source": [
        "comb=[]\n",
        "for _ in range(20):\n",
        "  n_1=np.random.randint(2,51)\n",
        "  alpha=round(10 ** (np.random.uniform(-3,1)),4)\n",
        "  comb.append((alpha,n_1))\n",
        "\n",
        "comb"
      ],
      "metadata": {
        "id": "f32E8c3TKKkm",
        "outputId": "38bb4572-addf-473f-b59c-a9b71417bc48",
        "colab": {
          "base_uri": "https://localhost:8080/"
        }
      },
      "id": "f32E8c3TKKkm",
      "execution_count": 16,
      "outputs": [
        {
          "output_type": "execute_result",
          "data": {
            "text/plain": [
              "[(0.0547, 22),\n",
              " (1.8906, 30),\n",
              " (0.0013, 31),\n",
              " (0.0153, 3),\n",
              " (0.4176, 45),\n",
              " (4.4858, 15),\n",
              " (3.1376, 12),\n",
              " (8.1115, 22),\n",
              " (0.0392, 4),\n",
              " (0.0639, 49),\n",
              " (0.4391, 18),\n",
              " (0.0167, 4),\n",
              " (0.0038, 23),\n",
              " (0.0687, 26),\n",
              " (8.0678, 22),\n",
              " (0.0841, 49),\n",
              " (0.0082, 23),\n",
              " (1.9493, 14),\n",
              " (6.7985, 15),\n",
              " (0.006, 30)]"
            ]
          },
          "metadata": {},
          "execution_count": 16
        }
      ]
    },
    {
      "cell_type": "code",
      "source": [
        "acc=[]\n",
        "for i,c in enumerate(comb):\n",
        "\n",
        "  learning_rate = c[0]\n",
        "  n_1 = c[1]\n",
        "  print(\"###############################################\")\n",
        "  print(\"combination No. \",i+1)\n",
        "  print(learning_rate) \n",
        "  print(n_1)\n",
        "\n",
        "  modelD = Sequential()\n",
        "  modelD.add(Dense(n_1, activation='relu', input_shape=(784,)))\n",
        "  modelD.add(Dense(4, activation='relu'))\n",
        "  modelD.add(Dense(1, activation='sigmoid'))\n",
        "\n",
        "  optimizer = Adam(learning_rate=learning_rate)\n",
        "\n",
        "  modelD.compile(loss='binary_crossentropy', optimizer=optimizer, metrics=['accuracy'])\n",
        "  historyD = modelD.fit(train_set_x, train_set_y , epochs=10)\n",
        "  print(\"*** ACCURACY FOR CV ***\") \n",
        "  cv_loss, cv_accuracy=modelD.evaluate(cv_set_x, cv_set_y)\n",
        "  acc.append(round(cv_accuracy*100,2))"
      ],
      "metadata": {
        "id": "VDCSLnhDIGsj",
        "outputId": "77f916e6-e45c-4a3f-d810-0fa1e3580ead",
        "colab": {
          "base_uri": "https://localhost:8080/"
        }
      },
      "id": "VDCSLnhDIGsj",
      "execution_count": 17,
      "outputs": [
        {
          "output_type": "stream",
          "name": "stdout",
          "text": [
            "###############################################\n",
            "combination No.  1\n",
            "0.0547\n",
            "22\n",
            "Epoch 1/10\n",
            "314/314 [==============================] - 2s 4ms/step - loss: 0.7237 - accuracy: 0.5093\n",
            "Epoch 2/10\n",
            "314/314 [==============================] - 1s 5ms/step - loss: 0.6941 - accuracy: 0.4938\n",
            "Epoch 3/10\n",
            "314/314 [==============================] - 2s 5ms/step - loss: 0.6942 - accuracy: 0.4940\n",
            "Epoch 4/10\n",
            "314/314 [==============================] - 1s 4ms/step - loss: 0.6939 - accuracy: 0.5078\n",
            "Epoch 5/10\n",
            "314/314 [==============================] - 1s 4ms/step - loss: 0.6944 - accuracy: 0.4968\n",
            "Epoch 6/10\n",
            "314/314 [==============================] - 2s 5ms/step - loss: 0.6940 - accuracy: 0.5042\n",
            "Epoch 7/10\n",
            "314/314 [==============================] - 1s 4ms/step - loss: 0.6945 - accuracy: 0.4916\n",
            "Epoch 8/10\n",
            "314/314 [==============================] - 1s 3ms/step - loss: 0.6950 - accuracy: 0.5052\n",
            "Epoch 9/10\n",
            "314/314 [==============================] - 1s 3ms/step - loss: 0.6946 - accuracy: 0.4958\n",
            "Epoch 10/10\n",
            "314/314 [==============================] - 1s 3ms/step - loss: 0.6939 - accuracy: 0.5092\n",
            "*** ACCURACY FOR CV ***\n",
            "62/62 [==============================] - 0s 2ms/step - loss: 0.6944 - accuracy: 0.4990\n",
            "###############################################\n",
            "combination No.  2\n",
            "1.8906\n",
            "30\n",
            "Epoch 1/10\n",
            "314/314 [==============================] - 1s 3ms/step - loss: 33.6352 - accuracy: 0.5073\n",
            "Epoch 2/10\n",
            "314/314 [==============================] - 1s 3ms/step - loss: 0.7135 - accuracy: 0.5040\n",
            "Epoch 3/10\n",
            "314/314 [==============================] - 1s 4ms/step - loss: 0.7124 - accuracy: 0.5024\n",
            "Epoch 4/10\n",
            "314/314 [==============================] - 1s 4ms/step - loss: 0.7248 - accuracy: 0.5004\n",
            "Epoch 5/10\n",
            "314/314 [==============================] - 2s 5ms/step - loss: 0.7159 - accuracy: 0.5074\n",
            "Epoch 6/10\n",
            "314/314 [==============================] - 1s 5ms/step - loss: 0.7358 - accuracy: 0.5004\n",
            "Epoch 7/10\n",
            "314/314 [==============================] - 1s 3ms/step - loss: 0.7206 - accuracy: 0.4972\n",
            "Epoch 8/10\n",
            "314/314 [==============================] - 1s 3ms/step - loss: 0.7159 - accuracy: 0.4984\n",
            "Epoch 9/10\n",
            "314/314 [==============================] - 1s 3ms/step - loss: 0.7238 - accuracy: 0.4990\n",
            "Epoch 10/10\n",
            "314/314 [==============================] - 1s 3ms/step - loss: 0.7185 - accuracy: 0.4930\n",
            "*** ACCURACY FOR CV ***\n",
            "62/62 [==============================] - 0s 3ms/step - loss: 0.7325 - accuracy: 0.5010\n",
            "###############################################\n",
            "combination No.  3\n",
            "0.0013\n",
            "31\n",
            "Epoch 1/10\n",
            "314/314 [==============================] - 1s 3ms/step - loss: 0.2107 - accuracy: 0.9198\n",
            "Epoch 2/10\n",
            "314/314 [==============================] - 1s 3ms/step - loss: 0.1553 - accuracy: 0.9394\n",
            "Epoch 3/10\n",
            "314/314 [==============================] - 1s 3ms/step - loss: 0.1400 - accuracy: 0.9449\n",
            "Epoch 4/10\n",
            "314/314 [==============================] - 1s 3ms/step - loss: 0.1284 - accuracy: 0.9485\n",
            "Epoch 5/10\n",
            "314/314 [==============================] - 1s 3ms/step - loss: 0.1209 - accuracy: 0.9538\n",
            "Epoch 6/10\n",
            "314/314 [==============================] - 1s 4ms/step - loss: 0.1118 - accuracy: 0.9562\n",
            "Epoch 7/10\n",
            "314/314 [==============================] - 2s 5ms/step - loss: 0.1113 - accuracy: 0.9571\n",
            "Epoch 8/10\n",
            "314/314 [==============================] - 1s 5ms/step - loss: 0.1029 - accuracy: 0.9606\n",
            "Epoch 9/10\n",
            "314/314 [==============================] - 2s 5ms/step - loss: 0.0981 - accuracy: 0.9622\n",
            "Epoch 10/10\n",
            "314/314 [==============================] - 1s 3ms/step - loss: 0.0975 - accuracy: 0.9633\n",
            "*** ACCURACY FOR CV ***\n",
            "62/62 [==============================] - 0s 4ms/step - loss: 0.1280 - accuracy: 0.9602\n",
            "###############################################\n",
            "combination No.  4\n",
            "0.0153\n",
            "3\n",
            "Epoch 1/10\n",
            "314/314 [==============================] - 2s 4ms/step - loss: 0.2024 - accuracy: 0.9224\n",
            "Epoch 2/10\n",
            "314/314 [==============================] - 1s 4ms/step - loss: 0.1580 - accuracy: 0.9403\n",
            "Epoch 3/10\n",
            "314/314 [==============================] - 1s 3ms/step - loss: 0.1481 - accuracy: 0.9415\n",
            "Epoch 4/10\n",
            "314/314 [==============================] - 1s 3ms/step - loss: 0.1388 - accuracy: 0.9454\n",
            "Epoch 5/10\n",
            "314/314 [==============================] - 1s 3ms/step - loss: 0.1356 - accuracy: 0.9469\n",
            "Epoch 6/10\n",
            "314/314 [==============================] - 1s 3ms/step - loss: 0.1335 - accuracy: 0.9477\n",
            "Epoch 7/10\n",
            "314/314 [==============================] - 1s 3ms/step - loss: 0.1297 - accuracy: 0.9484\n",
            "Epoch 8/10\n",
            "314/314 [==============================] - 1s 3ms/step - loss: 0.1287 - accuracy: 0.9525\n",
            "Epoch 9/10\n",
            "314/314 [==============================] - 1s 3ms/step - loss: 0.1293 - accuracy: 0.9481\n",
            "Epoch 10/10\n",
            "314/314 [==============================] - 1s 2ms/step - loss: 0.1219 - accuracy: 0.9540\n",
            "*** ACCURACY FOR CV ***\n",
            "62/62 [==============================] - 0s 2ms/step - loss: 0.1751 - accuracy: 0.9460\n",
            "###############################################\n",
            "combination No.  5\n",
            "0.4176\n",
            "45\n",
            "Epoch 1/10\n",
            "314/314 [==============================] - 2s 4ms/step - loss: 2.0747 - accuracy: 0.5099\n",
            "Epoch 2/10\n",
            "314/314 [==============================] - 1s 5ms/step - loss: 0.7020 - accuracy: 0.4968\n",
            "Epoch 3/10\n",
            "314/314 [==============================] - 2s 5ms/step - loss: 0.7017 - accuracy: 0.4932\n",
            "Epoch 4/10\n",
            "314/314 [==============================] - 2s 5ms/step - loss: 0.6972 - accuracy: 0.5002\n",
            "Epoch 5/10\n",
            "314/314 [==============================] - 2s 5ms/step - loss: 0.7012 - accuracy: 0.5020\n",
            "Epoch 6/10\n",
            "314/314 [==============================] - 1s 4ms/step - loss: 0.7009 - accuracy: 0.5016\n",
            "Epoch 7/10\n",
            "314/314 [==============================] - 1s 3ms/step - loss: 0.7033 - accuracy: 0.4900\n",
            "Epoch 8/10\n",
            "314/314 [==============================] - 1s 3ms/step - loss: 0.7017 - accuracy: 0.5044\n",
            "Epoch 9/10\n",
            "314/314 [==============================] - 1s 3ms/step - loss: 0.7018 - accuracy: 0.5088\n",
            "Epoch 10/10\n",
            "314/314 [==============================] - 1s 3ms/step - loss: 0.7000 - accuracy: 0.4978\n",
            "*** ACCURACY FOR CV ***\n",
            "62/62 [==============================] - 0s 3ms/step - loss: 0.6932 - accuracy: 0.5010\n",
            "###############################################\n",
            "combination No.  6\n",
            "4.4858\n",
            "15\n",
            "Epoch 1/10\n",
            "314/314 [==============================] - 1s 3ms/step - loss: 718.6331 - accuracy: 0.5075\n",
            "Epoch 2/10\n",
            "314/314 [==============================] - 1s 3ms/step - loss: 0.7379 - accuracy: 0.4972\n",
            "Epoch 3/10\n",
            "314/314 [==============================] - 1s 2ms/step - loss: 0.7488 - accuracy: 0.5056\n",
            "Epoch 4/10\n",
            "314/314 [==============================] - 1s 3ms/step - loss: 0.7751 - accuracy: 0.5032\n",
            "Epoch 5/10\n",
            "314/314 [==============================] - 1s 4ms/step - loss: 0.7580 - accuracy: 0.4942\n",
            "Epoch 6/10\n",
            "314/314 [==============================] - 2s 5ms/step - loss: 0.7465 - accuracy: 0.4966\n",
            "Epoch 7/10\n",
            "314/314 [==============================] - 1s 4ms/step - loss: 0.7555 - accuracy: 0.4968\n",
            "Epoch 8/10\n",
            "314/314 [==============================] - 2s 6ms/step - loss: 0.7443 - accuracy: 0.5088\n",
            "Epoch 9/10\n",
            "314/314 [==============================] - 2s 5ms/step - loss: 0.7379 - accuracy: 0.4966\n",
            "Epoch 10/10\n",
            "314/314 [==============================] - 1s 2ms/step - loss: 0.7401 - accuracy: 0.4972\n",
            "*** ACCURACY FOR CV ***\n",
            "62/62 [==============================] - 0s 2ms/step - loss: 0.7369 - accuracy: 0.4990\n",
            "###############################################\n",
            "combination No.  7\n",
            "3.1376\n",
            "12\n",
            "Epoch 1/10\n",
            "314/314 [==============================] - 2s 4ms/step - loss: 14.9812 - accuracy: 0.5042\n",
            "Epoch 2/10\n",
            "314/314 [==============================] - 1s 3ms/step - loss: 0.7415 - accuracy: 0.4994\n",
            "Epoch 3/10\n",
            "314/314 [==============================] - 1s 3ms/step - loss: 0.7416 - accuracy: 0.4910\n",
            "Epoch 4/10\n",
            "314/314 [==============================] - 1s 3ms/step - loss: 0.7359 - accuracy: 0.5046\n",
            "Epoch 5/10\n",
            "314/314 [==============================] - 1s 3ms/step - loss: 0.7343 - accuracy: 0.5114\n",
            "Epoch 6/10\n",
            "314/314 [==============================] - 1s 3ms/step - loss: 0.7346 - accuracy: 0.5046\n",
            "Epoch 7/10\n",
            "314/314 [==============================] - 1s 3ms/step - loss: 0.7347 - accuracy: 0.4976\n",
            "Epoch 8/10\n",
            "314/314 [==============================] - 1s 3ms/step - loss: 0.7299 - accuracy: 0.5064\n",
            "Epoch 9/10\n",
            "314/314 [==============================] - 1s 3ms/step - loss: 0.7249 - accuracy: 0.5028\n",
            "Epoch 10/10\n",
            "314/314 [==============================] - 1s 4ms/step - loss: 0.7357 - accuracy: 0.4956\n",
            "*** ACCURACY FOR CV ***\n",
            "62/62 [==============================] - 0s 3ms/step - loss: 0.7780 - accuracy: 0.4990\n",
            "###############################################\n",
            "combination No.  8\n",
            "8.1115\n",
            "22\n",
            "Epoch 1/10\n",
            "314/314 [==============================] - 2s 3ms/step - loss: 0.8664 - accuracy: 0.4935\n",
            "Epoch 2/10\n",
            "314/314 [==============================] - 1s 3ms/step - loss: 0.7768 - accuracy: 0.5052\n",
            "Epoch 3/10\n",
            "314/314 [==============================] - 1s 3ms/step - loss: 0.7906 - accuracy: 0.4980\n",
            "Epoch 4/10\n",
            "314/314 [==============================] - 1s 3ms/step - loss: 0.7749 - accuracy: 0.5070\n",
            "Epoch 5/10\n",
            "314/314 [==============================] - 1s 3ms/step - loss: 0.8066 - accuracy: 0.4926\n",
            "Epoch 6/10\n",
            "314/314 [==============================] - 1s 3ms/step - loss: 0.7769 - accuracy: 0.5040\n",
            "Epoch 7/10\n",
            "314/314 [==============================] - 1s 3ms/step - loss: 0.8767 - accuracy: 0.5066\n",
            "Epoch 8/10\n",
            "314/314 [==============================] - 1s 3ms/step - loss: 0.8204 - accuracy: 0.5044\n",
            "Epoch 9/10\n",
            "314/314 [==============================] - 1s 3ms/step - loss: 0.7848 - accuracy: 0.5044\n",
            "Epoch 10/10\n",
            "314/314 [==============================] - 1s 3ms/step - loss: 0.7964 - accuracy: 0.5010\n",
            "*** ACCURACY FOR CV ***\n",
            "62/62 [==============================] - 0s 4ms/step - loss: 0.7795 - accuracy: 0.4990\n",
            "###############################################\n",
            "combination No.  9\n",
            "0.0392\n",
            "4\n",
            "Epoch 1/10\n",
            "314/314 [==============================] - 2s 4ms/step - loss: 0.6947 - accuracy: 0.4948\n",
            "Epoch 2/10\n",
            "314/314 [==============================] - 1s 3ms/step - loss: 0.6942 - accuracy: 0.5026\n",
            "Epoch 3/10\n",
            "314/314 [==============================] - 1s 3ms/step - loss: 0.6944 - accuracy: 0.4978\n",
            "Epoch 4/10\n",
            "314/314 [==============================] - 1s 3ms/step - loss: 0.6942 - accuracy: 0.5006\n",
            "Epoch 5/10\n",
            "314/314 [==============================] - 1s 3ms/step - loss: 0.6941 - accuracy: 0.4938\n",
            "Epoch 6/10\n",
            "314/314 [==============================] - 1s 3ms/step - loss: 0.6943 - accuracy: 0.4928\n",
            "Epoch 7/10\n",
            "314/314 [==============================] - 1s 3ms/step - loss: 0.6940 - accuracy: 0.5076\n",
            "Epoch 8/10\n",
            "314/314 [==============================] - 1s 3ms/step - loss: 0.6943 - accuracy: 0.4986\n",
            "Epoch 9/10\n",
            "314/314 [==============================] - 1s 3ms/step - loss: 0.6942 - accuracy: 0.4964\n",
            "Epoch 10/10\n",
            "314/314 [==============================] - 1s 3ms/step - loss: 0.6938 - accuracy: 0.4974\n",
            "*** ACCURACY FOR CV ***\n",
            "62/62 [==============================] - 0s 2ms/step - loss: 0.6932 - accuracy: 0.5010\n",
            "###############################################\n",
            "combination No.  10\n",
            "0.0639\n",
            "49\n",
            "Epoch 1/10\n",
            "314/314 [==============================] - 2s 5ms/step - loss: 0.3642 - accuracy: 0.8891\n",
            "Epoch 2/10\n",
            "314/314 [==============================] - 2s 5ms/step - loss: 0.1962 - accuracy: 0.9312\n",
            "Epoch 3/10\n",
            "314/314 [==============================] - 2s 5ms/step - loss: 0.1656 - accuracy: 0.9415\n",
            "Epoch 4/10\n",
            "314/314 [==============================] - 2s 6ms/step - loss: 0.1681 - accuracy: 0.9417\n",
            "Epoch 5/10\n",
            "314/314 [==============================] - 2s 5ms/step - loss: 0.1509 - accuracy: 0.9484\n",
            "Epoch 6/10\n",
            "314/314 [==============================] - 2s 5ms/step - loss: 0.1563 - accuracy: 0.9467\n",
            "Epoch 7/10\n",
            "314/314 [==============================] - 1s 3ms/step - loss: 0.1491 - accuracy: 0.9465\n",
            "Epoch 8/10\n",
            "314/314 [==============================] - 1s 3ms/step - loss: 0.1583 - accuracy: 0.9431\n",
            "Epoch 9/10\n",
            "314/314 [==============================] - 1s 3ms/step - loss: 0.1549 - accuracy: 0.9448\n",
            "Epoch 10/10\n",
            "314/314 [==============================] - 1s 3ms/step - loss: 0.1524 - accuracy: 0.9481\n",
            "*** ACCURACY FOR CV ***\n",
            "62/62 [==============================] - 0s 2ms/step - loss: 0.1764 - accuracy: 0.9470\n",
            "###############################################\n",
            "combination No.  11\n",
            "0.4391\n",
            "18\n",
            "Epoch 1/10\n",
            "314/314 [==============================] - 1s 3ms/step - loss: 0.7018 - accuracy: 0.4990\n",
            "Epoch 2/10\n",
            "314/314 [==============================] - 1s 3ms/step - loss: 0.6987 - accuracy: 0.5058\n",
            "Epoch 3/10\n",
            "314/314 [==============================] - 1s 3ms/step - loss: 0.6992 - accuracy: 0.4976\n",
            "Epoch 4/10\n",
            "314/314 [==============================] - 1s 4ms/step - loss: 0.7054 - accuracy: 0.4942\n",
            "Epoch 5/10\n",
            "314/314 [==============================] - 1s 4ms/step - loss: 0.7011 - accuracy: 0.5016\n",
            "Epoch 6/10\n",
            "314/314 [==============================] - 1s 4ms/step - loss: 0.7008 - accuracy: 0.4970\n",
            "Epoch 7/10\n",
            "314/314 [==============================] - 1s 4ms/step - loss: 0.7020 - accuracy: 0.5012\n",
            "Epoch 8/10\n",
            "314/314 [==============================] - 1s 3ms/step - loss: 0.7009 - accuracy: 0.4984\n",
            "Epoch 9/10\n",
            "314/314 [==============================] - 1s 3ms/step - loss: 0.7035 - accuracy: 0.5034\n",
            "Epoch 10/10\n",
            "314/314 [==============================] - 1s 3ms/step - loss: 0.7027 - accuracy: 0.5014\n",
            "*** ACCURACY FOR CV ***\n",
            "62/62 [==============================] - 0s 2ms/step - loss: 0.7482 - accuracy: 0.4990\n",
            "###############################################\n",
            "combination No.  12\n",
            "0.0167\n",
            "4\n",
            "Epoch 1/10\n",
            "314/314 [==============================] - 1s 3ms/step - loss: 0.3348 - accuracy: 0.8395\n",
            "Epoch 2/10\n",
            "314/314 [==============================] - 1s 3ms/step - loss: 0.1899 - accuracy: 0.9319\n",
            "Epoch 3/10\n",
            "314/314 [==============================] - 1s 3ms/step - loss: 0.1778 - accuracy: 0.9363\n",
            "Epoch 4/10\n",
            "314/314 [==============================] - 1s 3ms/step - loss: 0.1792 - accuracy: 0.9385\n",
            "Epoch 5/10\n",
            "314/314 [==============================] - 1s 3ms/step - loss: 0.1705 - accuracy: 0.9399\n",
            "Epoch 6/10\n",
            "314/314 [==============================] - 1s 3ms/step - loss: 0.1757 - accuracy: 0.9369\n",
            "Epoch 7/10\n",
            "314/314 [==============================] - 1s 3ms/step - loss: 0.1776 - accuracy: 0.9371\n",
            "Epoch 8/10\n",
            "314/314 [==============================] - 1s 4ms/step - loss: 0.1626 - accuracy: 0.9418\n",
            "Epoch 9/10\n",
            "314/314 [==============================] - 1s 4ms/step - loss: 0.1629 - accuracy: 0.9429\n",
            "Epoch 10/10\n",
            "314/314 [==============================] - 1s 4ms/step - loss: 0.1605 - accuracy: 0.9421\n",
            "*** ACCURACY FOR CV ***\n",
            "62/62 [==============================] - 0s 3ms/step - loss: 0.1991 - accuracy: 0.9307\n",
            "###############################################\n",
            "combination No.  13\n",
            "0.0038\n",
            "23\n",
            "Epoch 1/10\n",
            "314/314 [==============================] - 2s 3ms/step - loss: 0.3503 - accuracy: 0.9208\n",
            "Epoch 2/10\n",
            "314/314 [==============================] - 1s 3ms/step - loss: 0.2465 - accuracy: 0.9328\n",
            "Epoch 3/10\n",
            "314/314 [==============================] - 1s 3ms/step - loss: 0.1999 - accuracy: 0.9408\n",
            "Epoch 4/10\n",
            "314/314 [==============================] - 1s 3ms/step - loss: 0.1762 - accuracy: 0.9436\n",
            "Epoch 5/10\n",
            "314/314 [==============================] - 1s 3ms/step - loss: 0.1653 - accuracy: 0.9462\n",
            "Epoch 6/10\n",
            "314/314 [==============================] - 1s 3ms/step - loss: 0.1523 - accuracy: 0.9507\n",
            "Epoch 7/10\n",
            "314/314 [==============================] - 1s 3ms/step - loss: 0.1423 - accuracy: 0.9520\n",
            "Epoch 8/10\n",
            "314/314 [==============================] - 1s 3ms/step - loss: 0.1330 - accuracy: 0.9558\n",
            "Epoch 9/10\n",
            "314/314 [==============================] - 1s 3ms/step - loss: 0.1247 - accuracy: 0.9590\n",
            "Epoch 10/10\n",
            "314/314 [==============================] - 1s 3ms/step - loss: 0.1180 - accuracy: 0.9593\n",
            "*** ACCURACY FOR CV ***\n",
            "62/62 [==============================] - 0s 2ms/step - loss: 0.1407 - accuracy: 0.9567\n",
            "###############################################\n",
            "combination No.  14\n",
            "0.0687\n",
            "26\n",
            "Epoch 1/10\n",
            "314/314 [==============================] - 2s 5ms/step - loss: 0.6989 - accuracy: 0.5017\n",
            "Epoch 2/10\n",
            "314/314 [==============================] - 2s 5ms/step - loss: 0.6950 - accuracy: 0.5024\n",
            "Epoch 3/10\n",
            "314/314 [==============================] - 1s 3ms/step - loss: 0.6950 - accuracy: 0.4958\n",
            "Epoch 4/10\n",
            "314/314 [==============================] - 1s 3ms/step - loss: 0.6952 - accuracy: 0.4948\n",
            "Epoch 5/10\n",
            "314/314 [==============================] - 1s 3ms/step - loss: 0.6945 - accuracy: 0.5064\n",
            "Epoch 6/10\n",
            "314/314 [==============================] - 1s 3ms/step - loss: 0.6943 - accuracy: 0.4944\n",
            "Epoch 7/10\n",
            "314/314 [==============================] - 1s 3ms/step - loss: 0.6946 - accuracy: 0.4972\n",
            "Epoch 8/10\n",
            "314/314 [==============================] - 1s 3ms/step - loss: 0.6944 - accuracy: 0.5020\n",
            "Epoch 9/10\n",
            "314/314 [==============================] - 1s 3ms/step - loss: 0.6944 - accuracy: 0.4974\n",
            "Epoch 10/10\n",
            "314/314 [==============================] - 1s 3ms/step - loss: 0.6948 - accuracy: 0.4952\n",
            "*** ACCURACY FOR CV ***\n",
            "62/62 [==============================] - 0s 2ms/step - loss: 0.6952 - accuracy: 0.4990\n",
            "###############################################\n",
            "combination No.  15\n",
            "8.0678\n",
            "22\n",
            "Epoch 1/10\n",
            "314/314 [==============================] - 1s 3ms/step - loss: 2234.9170 - accuracy: 0.4995\n",
            "Epoch 2/10\n",
            "314/314 [==============================] - 1s 3ms/step - loss: 0.8197 - accuracy: 0.4996\n",
            "Epoch 3/10\n",
            "314/314 [==============================] - 1s 3ms/step - loss: 0.7718 - accuracy: 0.4952\n",
            "Epoch 4/10\n",
            "314/314 [==============================] - 1s 3ms/step - loss: 0.7711 - accuracy: 0.4968\n",
            "Epoch 5/10\n",
            "314/314 [==============================] - 1s 3ms/step - loss: 0.7772 - accuracy: 0.4954\n",
            "Epoch 6/10\n",
            "314/314 [==============================] - 1s 4ms/step - loss: 0.7563 - accuracy: 0.5040\n",
            "Epoch 7/10\n",
            "314/314 [==============================] - 1s 4ms/step - loss: 0.8230 - accuracy: 0.5068\n",
            "Epoch 8/10\n",
            "314/314 [==============================] - 1s 4ms/step - loss: 0.8002 - accuracy: 0.4954\n",
            "Epoch 9/10\n",
            "314/314 [==============================] - 1s 4ms/step - loss: 0.7587 - accuracy: 0.4950\n",
            "Epoch 10/10\n",
            "314/314 [==============================] - 1s 3ms/step - loss: 0.8183 - accuracy: 0.4956\n",
            "*** ACCURACY FOR CV ***\n",
            "62/62 [==============================] - 0s 2ms/step - loss: 1.0903 - accuracy: 0.4990\n",
            "###############################################\n",
            "combination No.  16\n",
            "0.0841\n",
            "49\n",
            "Epoch 1/10\n",
            "314/314 [==============================] - 1s 3ms/step - loss: 0.6962 - accuracy: 0.5030\n",
            "Epoch 2/10\n",
            "314/314 [==============================] - 1s 3ms/step - loss: 0.6949 - accuracy: 0.4988\n",
            "Epoch 3/10\n",
            "314/314 [==============================] - 1s 3ms/step - loss: 0.6954 - accuracy: 0.5092\n",
            "Epoch 4/10\n",
            "314/314 [==============================] - 1s 3ms/step - loss: 0.6944 - accuracy: 0.4928\n",
            "Epoch 5/10\n",
            "314/314 [==============================] - 1s 3ms/step - loss: 0.6950 - accuracy: 0.5018\n",
            "Epoch 6/10\n",
            "314/314 [==============================] - 1s 4ms/step - loss: 0.6950 - accuracy: 0.4936\n",
            "Epoch 7/10\n",
            "314/314 [==============================] - 1s 3ms/step - loss: 0.6947 - accuracy: 0.4996\n",
            "Epoch 8/10\n",
            "314/314 [==============================] - 1s 4ms/step - loss: 0.6947 - accuracy: 0.5062\n",
            "Epoch 9/10\n",
            "314/314 [==============================] - 2s 5ms/step - loss: 0.6962 - accuracy: 0.4914\n",
            "Epoch 10/10\n",
            "314/314 [==============================] - 2s 5ms/step - loss: 0.6949 - accuracy: 0.5048\n",
            "*** ACCURACY FOR CV ***\n",
            "62/62 [==============================] - 0s 2ms/step - loss: 0.6935 - accuracy: 0.4990\n",
            "###############################################\n",
            "combination No.  17\n",
            "0.0082\n",
            "23\n",
            "Epoch 1/10\n",
            "314/314 [==============================] - 2s 3ms/step - loss: 0.1965 - accuracy: 0.9260\n",
            "Epoch 2/10\n",
            "314/314 [==============================] - 1s 5ms/step - loss: 0.1485 - accuracy: 0.9439\n",
            "Epoch 3/10\n",
            "314/314 [==============================] - 1s 5ms/step - loss: 0.1315 - accuracy: 0.9507\n",
            "Epoch 4/10\n",
            "314/314 [==============================] - 2s 5ms/step - loss: 0.1248 - accuracy: 0.9546\n",
            "Epoch 5/10\n",
            "314/314 [==============================] - 1s 4ms/step - loss: 0.1280 - accuracy: 0.9519\n",
            "Epoch 6/10\n",
            "314/314 [==============================] - 1s 3ms/step - loss: 0.1152 - accuracy: 0.9581\n",
            "Epoch 7/10\n",
            "314/314 [==============================] - 1s 3ms/step - loss: 0.1085 - accuracy: 0.9592\n",
            "Epoch 8/10\n",
            "314/314 [==============================] - 1s 3ms/step - loss: 0.1034 - accuracy: 0.9623\n",
            "Epoch 9/10\n",
            "314/314 [==============================] - 1s 3ms/step - loss: 0.0993 - accuracy: 0.9641\n",
            "Epoch 10/10\n",
            "314/314 [==============================] - 1s 3ms/step - loss: 0.1045 - accuracy: 0.9603\n",
            "*** ACCURACY FOR CV ***\n",
            "62/62 [==============================] - 0s 2ms/step - loss: 0.1387 - accuracy: 0.9587\n",
            "###############################################\n",
            "combination No.  18\n",
            "1.9493\n",
            "14\n",
            "Epoch 1/10\n",
            "314/314 [==============================] - 2s 4ms/step - loss: 1.6845 - accuracy: 0.5022\n",
            "Epoch 2/10\n",
            "314/314 [==============================] - 1s 4ms/step - loss: 0.7295 - accuracy: 0.4964\n",
            "Epoch 3/10\n",
            "314/314 [==============================] - 1s 4ms/step - loss: 0.7227 - accuracy: 0.5114\n",
            "Epoch 4/10\n",
            "314/314 [==============================] - 2s 5ms/step - loss: 0.7187 - accuracy: 0.4962\n",
            "Epoch 5/10\n",
            "314/314 [==============================] - 2s 7ms/step - loss: 0.7232 - accuracy: 0.4890\n",
            "Epoch 6/10\n",
            "314/314 [==============================] - 2s 7ms/step - loss: 0.7134 - accuracy: 0.5008\n",
            "Epoch 7/10\n",
            "314/314 [==============================] - 2s 5ms/step - loss: 0.7329 - accuracy: 0.4972\n",
            "Epoch 8/10\n",
            "314/314 [==============================] - 1s 4ms/step - loss: 0.7183 - accuracy: 0.5000\n",
            "Epoch 9/10\n",
            "314/314 [==============================] - 1s 3ms/step - loss: 0.7302 - accuracy: 0.4892\n",
            "Epoch 10/10\n",
            "314/314 [==============================] - 1s 3ms/step - loss: 0.7329 - accuracy: 0.5006\n",
            "*** ACCURACY FOR CV ***\n",
            "62/62 [==============================] - 0s 2ms/step - loss: 0.6962 - accuracy: 0.5010\n",
            "###############################################\n",
            "combination No.  19\n",
            "6.7985\n",
            "15\n",
            "Epoch 1/10\n",
            "314/314 [==============================] - 1s 3ms/step - loss: 383.9389 - accuracy: 0.4934\n",
            "Epoch 2/10\n",
            "314/314 [==============================] - 1s 3ms/step - loss: 0.7609 - accuracy: 0.5030\n",
            "Epoch 3/10\n",
            "314/314 [==============================] - 1s 3ms/step - loss: 0.7789 - accuracy: 0.5062\n",
            "Epoch 4/10\n",
            "314/314 [==============================] - 1s 3ms/step - loss: 0.7799 - accuracy: 0.4946\n",
            "Epoch 5/10\n",
            "314/314 [==============================] - 1s 3ms/step - loss: 0.7547 - accuracy: 0.4978\n",
            "Epoch 6/10\n",
            "314/314 [==============================] - 1s 3ms/step - loss: 0.7747 - accuracy: 0.5048\n",
            "Epoch 7/10\n",
            "314/314 [==============================] - 1s 3ms/step - loss: 0.7525 - accuracy: 0.5044\n",
            "Epoch 8/10\n",
            "314/314 [==============================] - 1s 4ms/step - loss: 0.9081 - accuracy: 0.4962\n",
            "Epoch 9/10\n",
            "314/314 [==============================] - 1s 4ms/step - loss: 0.7885 - accuracy: 0.5002\n",
            "Epoch 10/10\n",
            "314/314 [==============================] - 1s 4ms/step - loss: 0.7436 - accuracy: 0.4972\n",
            "*** ACCURACY FOR CV ***\n",
            "62/62 [==============================] - 0s 3ms/step - loss: 0.6981 - accuracy: 0.5010\n",
            "###############################################\n",
            "combination No.  20\n",
            "0.006\n",
            "30\n",
            "Epoch 1/10\n",
            "314/314 [==============================] - 2s 3ms/step - loss: 0.2089 - accuracy: 0.9258\n",
            "Epoch 2/10\n",
            "314/314 [==============================] - 1s 3ms/step - loss: 0.1482 - accuracy: 0.9442\n",
            "Epoch 3/10\n",
            "314/314 [==============================] - 1s 3ms/step - loss: 0.1412 - accuracy: 0.9468\n",
            "Epoch 4/10\n",
            "314/314 [==============================] - 1s 3ms/step - loss: 0.1264 - accuracy: 0.9513\n",
            "Epoch 5/10\n",
            "314/314 [==============================] - 1s 3ms/step - loss: 0.1174 - accuracy: 0.9553\n",
            "Epoch 6/10\n",
            "314/314 [==============================] - 1s 3ms/step - loss: 0.1166 - accuracy: 0.9552\n",
            "Epoch 7/10\n",
            "314/314 [==============================] - 1s 3ms/step - loss: 0.1091 - accuracy: 0.9580\n",
            "Epoch 8/10\n",
            "314/314 [==============================] - 1s 3ms/step - loss: 0.1020 - accuracy: 0.9611\n",
            "Epoch 9/10\n",
            "314/314 [==============================] - 1s 3ms/step - loss: 0.1031 - accuracy: 0.9616\n",
            "Epoch 10/10\n",
            "314/314 [==============================] - 1s 3ms/step - loss: 0.0957 - accuracy: 0.9646\n",
            "*** ACCURACY FOR CV ***\n",
            "62/62 [==============================] - 0s 3ms/step - loss: 0.1425 - accuracy: 0.9587\n"
          ]
        }
      ]
    },
    {
      "cell_type": "code",
      "source": [
        "acc"
      ],
      "metadata": {
        "id": "q9JLzab0KCem",
        "outputId": "a6ee9906-21b9-4646-be05-0e9f8a7fa73d",
        "colab": {
          "base_uri": "https://localhost:8080/"
        }
      },
      "id": "q9JLzab0KCem",
      "execution_count": 18,
      "outputs": [
        {
          "output_type": "execute_result",
          "data": {
            "text/plain": [
              "[49.9,\n",
              " 50.1,\n",
              " 96.02,\n",
              " 94.6,\n",
              " 50.1,\n",
              " 49.9,\n",
              " 49.9,\n",
              " 49.9,\n",
              " 50.1,\n",
              " 94.7,\n",
              " 49.9,\n",
              " 93.07,\n",
              " 95.67,\n",
              " 49.9,\n",
              " 49.9,\n",
              " 49.9,\n",
              " 95.87,\n",
              " 50.1,\n",
              " 50.1,\n",
              " 95.87]"
            ]
          },
          "metadata": {},
          "execution_count": 18
        }
      ]
    }
  ],
  "metadata": {
    "kernelspec": {
      "display_name": "Python 3 (ipykernel)",
      "language": "python",
      "name": "python3"
    },
    "language_info": {
      "codemirror_mode": {
        "name": "ipython",
        "version": 3
      },
      "file_extension": ".py",
      "mimetype": "text/x-python",
      "name": "python",
      "nbconvert_exporter": "python",
      "pygments_lexer": "ipython3",
      "version": "3.9.12"
    },
    "colab": {
      "provenance": [],
      "collapsed_sections": [
        "aa7d6562",
        "f16a56fe",
        "0a4b8d2d",
        "b884ee34",
        "27923275",
        "97e8a14c",
        "765e1058"
      ],
      "include_colab_link": true
    }
  },
  "nbformat": 4,
  "nbformat_minor": 5
}