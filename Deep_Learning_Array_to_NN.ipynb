{
  "cells": [
    {
      "cell_type": "markdown",
      "metadata": {
        "id": "view-in-github",
        "colab_type": "text"
      },
      "source": [
        "<a href=\"https://colab.research.google.com/github/SamanZargarzadeh/Automatic-Image-Tagging-for-Fashion-E-commerce/blob/main/Deep_Learning_Array_to_NN.ipynb\" target=\"_parent\"><img src=\"https://colab.research.google.com/assets/colab-badge.svg\" alt=\"Open In Colab\"/></a>"
      ]
    },
    {
      "cell_type": "markdown",
      "id": "f4eb8b34",
      "metadata": {
        "id": "f4eb8b34"
      },
      "source": [
        "# Deep Learning Project"
      ]
    },
    {
      "cell_type": "markdown",
      "id": "22ca678b",
      "metadata": {
        "id": "22ca678b"
      },
      "source": [
        "## Automatic Image Tagging for Fashion E-commerce  "
      ]
    },
    {
      "cell_type": "markdown",
      "id": "f1ad90ce",
      "metadata": {
        "id": "f1ad90ce"
      },
      "source": [
        "Saman Zargarzadeh, Devy Yeap, Tiantian Gu, Tannaz Ebrahimi, Xia-Rong Zhang"
      ]
    },
    {
      "cell_type": "code",
      "source": [
        "from google.colab import drive\n",
        "drive.mount('/content/drive')"
      ],
      "metadata": {
        "colab": {
          "base_uri": "https://localhost:8080/"
        },
        "id": "VlIapGFv5B9N",
        "outputId": "1b049c55-d970-4ff4-ebd4-bd5cd7b36dc0"
      },
      "id": "VlIapGFv5B9N",
      "execution_count": 1,
      "outputs": [
        {
          "output_type": "stream",
          "name": "stdout",
          "text": [
            "Mounted at /content/drive\n"
          ]
        }
      ]
    },
    {
      "cell_type": "code",
      "execution_count": 2,
      "id": "ae1e2f50",
      "metadata": {
        "id": "ae1e2f50"
      },
      "outputs": [],
      "source": [
        "import matplotlib.pyplot as plt\n",
        "import matplotlib.image as mpimg"
      ]
    },
    {
      "cell_type": "code",
      "execution_count": 3,
      "id": "26849b63",
      "metadata": {
        "id": "26849b63"
      },
      "outputs": [],
      "source": [
        "import os\n",
        "import gc\n",
        "import sys\n",
        "import json\n",
        "import random\n",
        "from pathlib import Path\n",
        "import pandas as pd\n",
        "import numpy as np"
      ]
    },
    {
      "cell_type": "code",
      "source": [
        "import pandas as pd\n",
        "import numpy as np"
      ],
      "metadata": {
        "id": "216wdD6w5WGy"
      },
      "id": "216wdD6w5WGy",
      "execution_count": 4,
      "outputs": []
    },
    {
      "cell_type": "code",
      "source": [
        "# load the array \n",
        "\n",
        "train_set_x = np.load('/content/drive/MyDrive/train_set_x.npy')\n",
        "test_set_x = np.load('/content/drive/MyDrive/test_set_x.npy')\n",
        "cv_set_x = np.load('/content/drive/MyDrive/cv_set_x.npy')\n",
        "\n",
        "train_set_y = np.load('/content/drive/MyDrive/train_set_y.npy')\n",
        "test_set_y = np.load('/content/drive/MyDrive/test_set_y.npy')\n",
        "cv_set_y = np.load('/content/drive/MyDrive/cv_set_y.npy')"
      ],
      "metadata": {
        "id": "j1E1cN-JFdcA"
      },
      "id": "j1E1cN-JFdcA",
      "execution_count": 5,
      "outputs": []
    },
    {
      "cell_type": "markdown",
      "source": [
        "# Tensorflow"
      ],
      "metadata": {
        "id": "jJJ1CuJ4Z8HX"
      },
      "id": "jJJ1CuJ4Z8HX"
    },
    {
      "cell_type": "code",
      "source": [
        "train_set_x=train_set_x.T\n",
        "test_set_x=test_set_x.T\n",
        "cv_set_x=cv_set_x.T"
      ],
      "metadata": {
        "id": "R3BWmWvpeXMs"
      },
      "id": "R3BWmWvpeXMs",
      "execution_count": 19,
      "outputs": []
    },
    {
      "cell_type": "code",
      "source": [
        "import tensorflow as tf"
      ],
      "metadata": {
        "id": "CsYyRzbXZIdG"
      },
      "id": "CsYyRzbXZIdG",
      "execution_count": 6,
      "outputs": []
    },
    {
      "cell_type": "code",
      "source": [
        "from tensorflow.keras.models import Sequential\n",
        "from tensorflow.keras.layers import Dense, Flatten, Dropout \n",
        "from tensorflow.keras import regularizers\n",
        "from tensorflow.keras.callbacks import Callback\n",
        "from tensorflow.keras.preprocessing import image"
      ],
      "metadata": {
        "id": "Rgi_uzLRaHqj"
      },
      "id": "Rgi_uzLRaHqj",
      "execution_count": 7,
      "outputs": []
    },
    {
      "cell_type": "code",
      "source": [
        "model = Sequential()\n",
        "model.add(Dense(4, activation='relu', input_shape=(7938,)))\n",
        "model.add(Dense(1, activation='sigmoid'))"
      ],
      "metadata": {
        "id": "OGeKLEPPaLLl"
      },
      "id": "OGeKLEPPaLLl",
      "execution_count": 10,
      "outputs": []
    },
    {
      "cell_type": "code",
      "source": [
        "model.compile(loss='binary_crossentropy', metrics=['accuracy'])\n",
        "history = model.fit(train_set_x, train_set_y , epochs=10)\n",
        "pd.DataFrame(history.history).head()"
      ],
      "metadata": {
        "colab": {
          "base_uri": "https://localhost:8080/",
          "height": 563
        },
        "id": "U6J--eUScqMX",
        "outputId": "5b811b99-553d-43fc-bc49-71997ebdbfa4"
      },
      "id": "U6J--eUScqMX",
      "execution_count": 28,
      "outputs": [
        {
          "output_type": "stream",
          "name": "stdout",
          "text": [
            "Epoch 1/10\n",
            "150/150 [==============================] - 2s 6ms/step - loss: 0.6485 - accuracy: 0.6316\n",
            "Epoch 2/10\n",
            "150/150 [==============================] - 1s 6ms/step - loss: 0.6465 - accuracy: 0.6266\n",
            "Epoch 3/10\n",
            "150/150 [==============================] - 1s 6ms/step - loss: 0.6443 - accuracy: 0.6312\n",
            "Epoch 4/10\n",
            "150/150 [==============================] - 1s 5ms/step - loss: 0.6428 - accuracy: 0.6318\n",
            "Epoch 5/10\n",
            "150/150 [==============================] - 1s 4ms/step - loss: 0.6391 - accuracy: 0.6399\n",
            "Epoch 6/10\n",
            "150/150 [==============================] - 1s 4ms/step - loss: 0.6405 - accuracy: 0.6330\n",
            "Epoch 7/10\n",
            "150/150 [==============================] - 1s 4ms/step - loss: 0.6376 - accuracy: 0.6395\n",
            "Epoch 8/10\n",
            "150/150 [==============================] - 1s 4ms/step - loss: 0.6351 - accuracy: 0.6451\n",
            "Epoch 9/10\n",
            "150/150 [==============================] - 1s 4ms/step - loss: 0.6363 - accuracy: 0.6420\n",
            "Epoch 10/10\n",
            "150/150 [==============================] - 1s 4ms/step - loss: 0.6332 - accuracy: 0.6435\n"
          ]
        },
        {
          "output_type": "execute_result",
          "data": {
            "text/plain": [
              "       loss  accuracy\n",
              "0  0.648542  0.631590\n",
              "1  0.646501  0.626589\n",
              "2  0.644253  0.631173\n",
              "3  0.642791  0.631798\n",
              "4  0.639096  0.639925"
            ],
            "text/html": [
              "\n",
              "  <div id=\"df-1984b4de-458c-4b12-b530-63ade260f955\">\n",
              "    <div class=\"colab-df-container\">\n",
              "      <div>\n",
              "<style scoped>\n",
              "    .dataframe tbody tr th:only-of-type {\n",
              "        vertical-align: middle;\n",
              "    }\n",
              "\n",
              "    .dataframe tbody tr th {\n",
              "        vertical-align: top;\n",
              "    }\n",
              "\n",
              "    .dataframe thead th {\n",
              "        text-align: right;\n",
              "    }\n",
              "</style>\n",
              "<table border=\"1\" class=\"dataframe\">\n",
              "  <thead>\n",
              "    <tr style=\"text-align: right;\">\n",
              "      <th></th>\n",
              "      <th>loss</th>\n",
              "      <th>accuracy</th>\n",
              "    </tr>\n",
              "  </thead>\n",
              "  <tbody>\n",
              "    <tr>\n",
              "      <th>0</th>\n",
              "      <td>0.648542</td>\n",
              "      <td>0.631590</td>\n",
              "    </tr>\n",
              "    <tr>\n",
              "      <th>1</th>\n",
              "      <td>0.646501</td>\n",
              "      <td>0.626589</td>\n",
              "    </tr>\n",
              "    <tr>\n",
              "      <th>2</th>\n",
              "      <td>0.644253</td>\n",
              "      <td>0.631173</td>\n",
              "    </tr>\n",
              "    <tr>\n",
              "      <th>3</th>\n",
              "      <td>0.642791</td>\n",
              "      <td>0.631798</td>\n",
              "    </tr>\n",
              "    <tr>\n",
              "      <th>4</th>\n",
              "      <td>0.639096</td>\n",
              "      <td>0.639925</td>\n",
              "    </tr>\n",
              "  </tbody>\n",
              "</table>\n",
              "</div>\n",
              "      <button class=\"colab-df-convert\" onclick=\"convertToInteractive('df-1984b4de-458c-4b12-b530-63ade260f955')\"\n",
              "              title=\"Convert this dataframe to an interactive table.\"\n",
              "              style=\"display:none;\">\n",
              "        \n",
              "  <svg xmlns=\"http://www.w3.org/2000/svg\" height=\"24px\"viewBox=\"0 0 24 24\"\n",
              "       width=\"24px\">\n",
              "    <path d=\"M0 0h24v24H0V0z\" fill=\"none\"/>\n",
              "    <path d=\"M18.56 5.44l.94 2.06.94-2.06 2.06-.94-2.06-.94-.94-2.06-.94 2.06-2.06.94zm-11 1L8.5 8.5l.94-2.06 2.06-.94-2.06-.94L8.5 2.5l-.94 2.06-2.06.94zm10 10l.94 2.06.94-2.06 2.06-.94-2.06-.94-.94-2.06-.94 2.06-2.06.94z\"/><path d=\"M17.41 7.96l-1.37-1.37c-.4-.4-.92-.59-1.43-.59-.52 0-1.04.2-1.43.59L10.3 9.45l-7.72 7.72c-.78.78-.78 2.05 0 2.83L4 21.41c.39.39.9.59 1.41.59.51 0 1.02-.2 1.41-.59l7.78-7.78 2.81-2.81c.8-.78.8-2.07 0-2.86zM5.41 20L4 18.59l7.72-7.72 1.47 1.35L5.41 20z\"/>\n",
              "  </svg>\n",
              "      </button>\n",
              "      \n",
              "  <style>\n",
              "    .colab-df-container {\n",
              "      display:flex;\n",
              "      flex-wrap:wrap;\n",
              "      gap: 12px;\n",
              "    }\n",
              "\n",
              "    .colab-df-convert {\n",
              "      background-color: #E8F0FE;\n",
              "      border: none;\n",
              "      border-radius: 50%;\n",
              "      cursor: pointer;\n",
              "      display: none;\n",
              "      fill: #1967D2;\n",
              "      height: 32px;\n",
              "      padding: 0 0 0 0;\n",
              "      width: 32px;\n",
              "    }\n",
              "\n",
              "    .colab-df-convert:hover {\n",
              "      background-color: #E2EBFA;\n",
              "      box-shadow: 0px 1px 2px rgba(60, 64, 67, 0.3), 0px 1px 3px 1px rgba(60, 64, 67, 0.15);\n",
              "      fill: #174EA6;\n",
              "    }\n",
              "\n",
              "    [theme=dark] .colab-df-convert {\n",
              "      background-color: #3B4455;\n",
              "      fill: #D2E3FC;\n",
              "    }\n",
              "\n",
              "    [theme=dark] .colab-df-convert:hover {\n",
              "      background-color: #434B5C;\n",
              "      box-shadow: 0px 1px 3px 1px rgba(0, 0, 0, 0.15);\n",
              "      filter: drop-shadow(0px 1px 2px rgba(0, 0, 0, 0.3));\n",
              "      fill: #FFFFFF;\n",
              "    }\n",
              "  </style>\n",
              "\n",
              "      <script>\n",
              "        const buttonEl =\n",
              "          document.querySelector('#df-1984b4de-458c-4b12-b530-63ade260f955 button.colab-df-convert');\n",
              "        buttonEl.style.display =\n",
              "          google.colab.kernel.accessAllowed ? 'block' : 'none';\n",
              "\n",
              "        async function convertToInteractive(key) {\n",
              "          const element = document.querySelector('#df-1984b4de-458c-4b12-b530-63ade260f955');\n",
              "          const dataTable =\n",
              "            await google.colab.kernel.invokeFunction('convertToInteractive',\n",
              "                                                     [key], {});\n",
              "          if (!dataTable) return;\n",
              "\n",
              "          const docLinkHtml = 'Like what you see? Visit the ' +\n",
              "            '<a target=\"_blank\" href=https://colab.research.google.com/notebooks/data_table.ipynb>data table notebook</a>'\n",
              "            + ' to learn more about interactive tables.';\n",
              "          element.innerHTML = '';\n",
              "          dataTable['output_type'] = 'display_data';\n",
              "          await google.colab.output.renderOutput(dataTable, element);\n",
              "          const docLink = document.createElement('div');\n",
              "          docLink.innerHTML = docLinkHtml;\n",
              "          element.appendChild(docLink);\n",
              "        }\n",
              "      </script>\n",
              "    </div>\n",
              "  </div>\n",
              "  "
            ]
          },
          "metadata": {},
          "execution_count": 28
        }
      ]
    },
    {
      "cell_type": "code",
      "source": [
        "loss_plot = pd.DataFrame(history.history).plot(y=\"loss\", title = \"Loss vs. Epochs\", legend=False)\n",
        "loss_plot.set(xlabel=\"Epochs\", ylabel=\"Loss\")"
      ],
      "metadata": {
        "colab": {
          "base_uri": "https://localhost:8080/",
          "height": 490
        },
        "id": "rYqkQBdVfszS",
        "outputId": "8b90f028-71c1-4343-ab92-175da8068ef9"
      },
      "id": "rYqkQBdVfszS",
      "execution_count": 29,
      "outputs": [
        {
          "output_type": "execute_result",
          "data": {
            "text/plain": [
              "[Text(0.5, 0, 'Epochs'), Text(0, 0.5, 'Loss')]"
            ]
          },
          "metadata": {},
          "execution_count": 29
        },
        {
          "output_type": "display_data",
          "data": {
            "text/plain": [
              "<Figure size 640x480 with 1 Axes>"
            ],
            "image/png": "[encoded data removed]"
          },
          "metadata": {}
        }
      ]
    },
    {
      "cell_type": "code",
      "source": [
        "test_loss, test_accuracy = model.evaluate(test_set_x, test_set_y)"
      ],
      "metadata": {
        "colab": {
          "base_uri": "https://localhost:8080/"
        },
        "id": "Oos5Br31gFBR",
        "outputId": "ea22b89d-4a9b-4907-84e2-7bfed5e1ba78"
      },
      "id": "Oos5Br31gFBR",
      "execution_count": 30,
      "outputs": [
        {
          "output_type": "stream",
          "name": "stdout",
          "text": [
            "50/50 [==============================] - 1s 14ms/step - loss: 0.6662 - accuracy: 0.6106\n"
          ]
        }
      ]
    },
    {
      "cell_type": "code",
      "source": [
        "test_loss, test_accuracy = model.evaluate(cv_set_x, cv_set_y)"
      ],
      "metadata": {
        "colab": {
          "base_uri": "https://localhost:8080/"
        },
        "id": "pJGyUVjug5gd",
        "outputId": "99f500b0-0f01-452d-d95d-064fa7edf31d"
      },
      "id": "pJGyUVjug5gd",
      "execution_count": 31,
      "outputs": [
        {
          "output_type": "stream",
          "name": "stdout",
          "text": [
            "50/50 [==============================] - 0s 2ms/step - loss: 0.6548 - accuracy: 0.6100\n"
          ]
        }
      ]
    },
    {
      "cell_type": "code",
      "source": [
        "modelD = Sequential()\n",
        "modelD.add(Dense(7, activation='relu', input_shape=(7938,)))\n",
        "modelD.add(Dense(4, activation='relu'))\n",
        "modelD.add(Dense(1, activation='sigmoid'))\n",
        "\n",
        "modelD.compile(loss='binary_crossentropy', metrics=['accuracy'])\n",
        "historyD = modelD.fit(train_set_x, train_set_y , epochs=10)\n",
        "pd.DataFrame(historyD.history).head()"
      ],
      "metadata": {
        "colab": {
          "base_uri": "https://localhost:8080/",
          "height": 563
        },
        "id": "1C0so2gBhSMm",
        "outputId": "404ac300-65e2-40f7-e4fb-799bdabab175"
      },
      "id": "1C0so2gBhSMm",
      "execution_count": 33,
      "outputs": [
        {
          "output_type": "stream",
          "name": "stdout",
          "text": [
            "Epoch 1/10\n",
            "150/150 [==============================] - 1s 4ms/step - loss: 0.7192 - accuracy: 0.5468\n",
            "Epoch 2/10\n",
            "150/150 [==============================] - 1s 4ms/step - loss: 0.6798 - accuracy: 0.5628\n",
            "Epoch 3/10\n",
            "150/150 [==============================] - 1s 4ms/step - loss: 0.6705 - accuracy: 0.5887\n",
            "Epoch 4/10\n",
            "150/150 [==============================] - 1s 4ms/step - loss: 0.6672 - accuracy: 0.6020\n",
            "Epoch 5/10\n",
            "150/150 [==============================] - 1s 4ms/step - loss: 0.6607 - accuracy: 0.6093\n",
            "Epoch 6/10\n",
            "150/150 [==============================] - 1s 4ms/step - loss: 0.6585 - accuracy: 0.6091\n",
            "Epoch 7/10\n",
            "150/150 [==============================] - 1s 4ms/step - loss: 0.6551 - accuracy: 0.6097\n",
            "Epoch 8/10\n",
            "150/150 [==============================] - 1s 6ms/step - loss: 0.6512 - accuracy: 0.6191\n",
            "Epoch 9/10\n",
            "150/150 [==============================] - 1s 7ms/step - loss: 0.6518 - accuracy: 0.6201\n",
            "Epoch 10/10\n",
            "150/150 [==============================] - 1s 7ms/step - loss: 0.6491 - accuracy: 0.6260\n"
          ]
        },
        {
          "output_type": "execute_result",
          "data": {
            "text/plain": [
              "       loss  accuracy\n",
              "0  0.719169  0.546781\n",
              "1  0.679792  0.562826\n",
              "2  0.670530  0.588664\n",
              "3  0.667213  0.602000\n",
              "4  0.660708  0.609294"
            ],
            "text/html": [
              "\n",
              "  <div id=\"df-45d353e9-7aa9-4bb6-ae94-b3be85ad0754\">\n",
              "    <div class=\"colab-df-container\">\n",
              "      <div>\n",
              "<style scoped>\n",
              "    .dataframe tbody tr th:only-of-type {\n",
              "        vertical-align: middle;\n",
              "    }\n",
              "\n",
              "    .dataframe tbody tr th {\n",
              "        vertical-align: top;\n",
              "    }\n",
              "\n",
              "    .dataframe thead th {\n",
              "        text-align: right;\n",
              "    }\n",
              "</style>\n",
              "<table border=\"1\" class=\"dataframe\">\n",
              "  <thead>\n",
              "    <tr style=\"text-align: right;\">\n",
              "      <th></th>\n",
              "      <th>loss</th>\n",
              "      <th>accuracy</th>\n",
              "    </tr>\n",
              "  </thead>\n",
              "  <tbody>\n",
              "    <tr>\n",
              "      <th>0</th>\n",
              "      <td>0.719169</td>\n",
              "      <td>0.546781</td>\n",
              "    </tr>\n",
              "    <tr>\n",
              "      <th>1</th>\n",
              "      <td>0.679792</td>\n",
              "      <td>0.562826</td>\n",
              "    </tr>\n",
              "    <tr>\n",
              "      <th>2</th>\n",
              "      <td>0.670530</td>\n",
              "      <td>0.588664</td>\n",
              "    </tr>\n",
              "    <tr>\n",
              "      <th>3</th>\n",
              "      <td>0.667213</td>\n",
              "      <td>0.602000</td>\n",
              "    </tr>\n",
              "    <tr>\n",
              "      <th>4</th>\n",
              "      <td>0.660708</td>\n",
              "      <td>0.609294</td>\n",
              "    </tr>\n",
              "  </tbody>\n",
              "</table>\n",
              "</div>\n",
              "      <button class=\"colab-df-convert\" onclick=\"convertToInteractive('df-45d353e9-7aa9-4bb6-ae94-b3be85ad0754')\"\n",
              "              title=\"Convert this dataframe to an interactive table.\"\n",
              "              style=\"display:none;\">\n",
              "        \n",
              "  <svg xmlns=\"http://www.w3.org/2000/svg\" height=\"24px\"viewBox=\"0 0 24 24\"\n",
              "       width=\"24px\">\n",
              "    <path d=\"M0 0h24v24H0V0z\" fill=\"none\"/>\n",
              "    <path d=\"M18.56 5.44l.94 2.06.94-2.06 2.06-.94-2.06-.94-.94-2.06-.94 2.06-2.06.94zm-11 1L8.5 8.5l.94-2.06 2.06-.94-2.06-.94L8.5 2.5l-.94 2.06-2.06.94zm10 10l.94 2.06.94-2.06 2.06-.94-2.06-.94-.94-2.06-.94 2.06-2.06.94z\"/><path d=\"M17.41 7.96l-1.37-1.37c-.4-.4-.92-.59-1.43-.59-.52 0-1.04.2-1.43.59L10.3 9.45l-7.72 7.72c-.78.78-.78 2.05 0 2.83L4 21.41c.39.39.9.59 1.41.59.51 0 1.02-.2 1.41-.59l7.78-7.78 2.81-2.81c.8-.78.8-2.07 0-2.86zM5.41 20L4 18.59l7.72-7.72 1.47 1.35L5.41 20z\"/>\n",
              "  </svg>\n",
              "      </button>\n",
              "      \n",
              "  <style>\n",
              "    .colab-df-container {\n",
              "      display:flex;\n",
              "      flex-wrap:wrap;\n",
              "      gap: 12px;\n",
              "    }\n",
              "\n",
              "    .colab-df-convert {\n",
              "      background-color: #E8F0FE;\n",
              "      border: none;\n",
              "      border-radius: 50%;\n",
              "      cursor: pointer;\n",
              "      display: none;\n",
              "      fill: #1967D2;\n",
              "      height: 32px;\n",
              "      padding: 0 0 0 0;\n",
              "      width: 32px;\n",
              "    }\n",
              "\n",
              "    .colab-df-convert:hover {\n",
              "      background-color: #E2EBFA;\n",
              "      box-shadow: 0px 1px 2px rgba(60, 64, 67, 0.3), 0px 1px 3px 1px rgba(60, 64, 67, 0.15);\n",
              "      fill: #174EA6;\n",
              "    }\n",
              "\n",
              "    [theme=dark] .colab-df-convert {\n",
              "      background-color: #3B4455;\n",
              "      fill: #D2E3FC;\n",
              "    }\n",
              "\n",
              "    [theme=dark] .colab-df-convert:hover {\n",
              "      background-color: #434B5C;\n",
              "      box-shadow: 0px 1px 3px 1px rgba(0, 0, 0, 0.15);\n",
              "      filter: drop-shadow(0px 1px 2px rgba(0, 0, 0, 0.3));\n",
              "      fill: #FFFFFF;\n",
              "    }\n",
              "  </style>\n",
              "\n",
              "      <script>\n",
              "        const buttonEl =\n",
              "          document.querySelector('#df-45d353e9-7aa9-4bb6-ae94-b3be85ad0754 button.colab-df-convert');\n",
              "        buttonEl.style.display =\n",
              "          google.colab.kernel.accessAllowed ? 'block' : 'none';\n",
              "\n",
              "        async function convertToInteractive(key) {\n",
              "          const element = document.querySelector('#df-45d353e9-7aa9-4bb6-ae94-b3be85ad0754');\n",
              "          const dataTable =\n",
              "            await google.colab.kernel.invokeFunction('convertToInteractive',\n",
              "                                                     [key], {});\n",
              "          if (!dataTable) return;\n",
              "\n",
              "          const docLinkHtml = 'Like what you see? Visit the ' +\n",
              "            '<a target=\"_blank\" href=https://colab.research.google.com/notebooks/data_table.ipynb>data table notebook</a>'\n",
              "            + ' to learn more about interactive tables.';\n",
              "          element.innerHTML = '';\n",
              "          dataTable['output_type'] = 'display_data';\n",
              "          await google.colab.output.renderOutput(dataTable, element);\n",
              "          const docLink = document.createElement('div');\n",
              "          docLink.innerHTML = docLinkHtml;\n",
              "          element.appendChild(docLink);\n",
              "        }\n",
              "      </script>\n",
              "    </div>\n",
              "  </div>\n",
              "  "
            ]
          },
          "metadata": {},
          "execution_count": 33
        }
      ]
    },
    {
      "cell_type": "code",
      "source": [
        "loss_plot = pd.DataFrame(historyD.history).plot(y=\"loss\", title = \"Loss vs. Epochs\", legend=False)\n",
        "loss_plot.set(xlabel=\"Epochs\", ylabel=\"Loss\")"
      ],
      "metadata": {
        "colab": {
          "base_uri": "https://localhost:8080/",
          "height": 490
        },
        "id": "pPIr4KKVh-8n",
        "outputId": "f862e7d4-227a-49bb-eae0-4fdac6683440"
      },
      "id": "pPIr4KKVh-8n",
      "execution_count": 35,
      "outputs": [
        {
          "output_type": "execute_result",
          "data": {
            "text/plain": [
              "[Text(0.5, 0, 'Epochs'), Text(0, 0.5, 'Loss')]"
            ]
          },
          "metadata": {},
          "execution_count": 35
        },
        {
          "output_type": "display_data",
          "data": {
            "text/plain": [
              "<Figure size 640x480 with 1 Axes>"
            ],
            "image/png": "[encoded data removed]"
          },
          "metadata": {}
        }
      ]
    },
    {
      "cell_type": "code",
      "source": [
        "test_loss, test_accuracy = modelD.evaluate(test_set_x, test_set_y)"
      ],
      "metadata": {
        "colab": {
          "base_uri": "https://localhost:8080/"
        },
        "id": "PV9yOpH0iN2d",
        "outputId": "bee88d60-e594-4586-f9ea-8e1f53de4d2e"
      },
      "id": "PV9yOpH0iN2d",
      "execution_count": 36,
      "outputs": [
        {
          "output_type": "stream",
          "name": "stdout",
          "text": [
            "50/50 [==============================] - 1s 4ms/step - loss: 0.6497 - accuracy: 0.6131\n"
          ]
        }
      ]
    },
    {
      "cell_type": "code",
      "source": [
        "test_loss, test_accuracy = model.evaluate(cv_set_x, cv_set_y)"
      ],
      "metadata": {
        "colab": {
          "base_uri": "https://localhost:8080/"
        },
        "id": "4W7WoePaiSEz",
        "outputId": "159e8964-9103-4560-943a-7fd31e515e1f"
      },
      "id": "4W7WoePaiSEz",
      "execution_count": 37,
      "outputs": [
        {
          "output_type": "stream",
          "name": "stdout",
          "text": [
            "50/50 [==============================] - 0s 2ms/step - loss: 0.6548 - accuracy: 0.6100\n"
          ]
        }
      ]
    },
    {
      "cell_type": "markdown",
      "id": "aa7d6562",
      "metadata": {
        "id": "aa7d6562"
      },
      "source": [
        "### Explain the problem:"
      ]
    },
    {
      "cell_type": "markdown",
      "id": "f9a38bbc",
      "metadata": {
        "id": "f9a38bbc"
      },
      "source": [
        "This dataset contains a large number of images and corresponding fashion/apparel segmentations.\n",
        "For this step of project we made a dataset which has three columns:\n",
        "\n",
        "“ImageId” - the unique ID of an image\n",
        "\n",
        "“SetClassID” - the identified attributes ID’s of the image, such as “shirt, blouse”, “sweater”, etc\n",
        "\n",
        "“Class” -  1 if identified attributes contain “dress”, else 0.\n",
        "\n",
        "Thus the binary outcome variable is “Class” - if the identified attributes of the image contain “dress”, then it’s class 1; else class 0."
      ]
    },
    {
      "cell_type": "code",
      "execution_count": null,
      "id": "b6b56b43",
      "metadata": {
        "colab": {
          "base_uri": "https://localhost:8080/",
          "height": 401
        },
        "id": "b6b56b43",
        "outputId": "6c5326f7-bcbe-48b4-c871-11eab47339bf"
      },
      "outputs": [
        {
          "data": {
            "text/html": [
              "\n",
              "     <input type=\"file\" id=\"files-9be52cf0-a3cd-4413-9bec-035ec5fc0318\" name=\"files[]\" multiple disabled\n",
              "        style=\"border:none\" />\n",
              "     <output id=\"result-9be52cf0-a3cd-4413-9bec-035ec5fc0318\">\n",
              "      Upload widget is only available when the cell has been executed in the\n",
              "      current browser session. Please rerun this cell to enable.\n",
              "      </output>\n",
              "      <script>// Copyright 2017 Google LLC\n",
              "//\n",
              "// Licensed under the Apache License, Version 2.0 (the \"License\");\n",
              "// you may not use this file except in compliance with the License.\n",
              "// You may obtain a copy of the License at\n",
              "//\n",
              "//      http://www.apache.org/licenses/LICENSE-2.0\n",
              "//\n",
              "// Unless required by applicable law or agreed to in writing, software\n",
              "// distributed under the License is distributed on an \"AS IS\" BASIS,\n",
              "// WITHOUT WARRANTIES OR CONDITIONS OF ANY KIND, either express or implied.\n",
              "// See the License for the specific language governing permissions and\n",
              "// limitations under the License.\n",
              "\n",
              "/**\n",
              " * @fileoverview Helpers for google.colab Python module.\n",
              " */\n",
              "(function(scope) {\n",
              "function span(text, styleAttributes = {}) {\n",
              "  const element = document.createElement('span');\n",
              "  element.textContent = text;\n",
              "  for (const key of Object.keys(styleAttributes)) {\n",
              "    element.style[key] = styleAttributes[key];\n",
              "  }\n",
              "  return element;\n",
              "}\n",
              "\n",
              "// Max number of bytes which will be uploaded at a time.\n",
              "const MAX_PAYLOAD_SIZE = 100 * 1024;\n",
              "\n",
              "function _uploadFiles(inputId, outputId) {\n",
              "  const steps = uploadFilesStep(inputId, outputId);\n",
              "  const outputElement = document.getElementById(outputId);\n",
              "  // Cache steps on the outputElement to make it available for the next call\n",
              "  // to uploadFilesContinue from Python.\n",
              "  outputElement.steps = steps;\n",
              "\n",
              "  return _uploadFilesContinue(outputId);\n",
              "}\n",
              "\n",
              "// This is roughly an async generator (not supported in the browser yet),\n",
              "// where there are multiple asynchronous steps and the Python side is going\n",
              "// to poll for completion of each step.\n",
              "// This uses a Promise to block the python side on completion of each step,\n",
              "// then passes the result of the previous step as the input to the next step.\n",
              "function _uploadFilesContinue(outputId) {\n",
              "  const outputElement = document.getElementById(outputId);\n",
              "  const steps = outputElement.steps;\n",
              "\n",
              "  const next = steps.next(outputElement.lastPromiseValue);\n",
              "  return Promise.resolve(next.value.promise).then((value) => {\n",
              "    // Cache the last promise value to make it available to the next\n",
              "    // step of the generator.\n",
              "    outputElement.lastPromiseValue = value;\n",
              "    return next.value.response;\n",
              "  });\n",
              "}\n",
              "\n",
              "/**\n",
              " * Generator function which is called between each async step of the upload\n",
              " * process.\n",
              " * @param {string} inputId Element ID of the input file picker element.\n",
              " * @param {string} outputId Element ID of the output display.\n",
              " * @return {!Iterable<!Object>} Iterable of next steps.\n",
              " */\n",
              "function* uploadFilesStep(inputId, outputId) {\n",
              "  const inputElement = document.getElementById(inputId);\n",
              "  inputElement.disabled = false;\n",
              "\n",
              "  const outputElement = document.getElementById(outputId);\n",
              "  outputElement.innerHTML = '';\n",
              "\n",
              "  const pickedPromise = new Promise((resolve) => {\n",
              "    inputElement.addEventListener('change', (e) => {\n",
              "      resolve(e.target.files);\n",
              "    });\n",
              "  });\n",
              "\n",
              "  const cancel = document.createElement('button');\n",
              "  inputElement.parentElement.appendChild(cancel);\n",
              "  cancel.textContent = 'Cancel upload';\n",
              "  const cancelPromise = new Promise((resolve) => {\n",
              "    cancel.onclick = () => {\n",
              "      resolve(null);\n",
              "    };\n",
              "  });\n",
              "\n",
              "  // Wait for the user to pick the files.\n",
              "  const files = yield {\n",
              "    promise: Promise.race([pickedPromise, cancelPromise]),\n",
              "    response: {\n",
              "      action: 'starting',\n",
              "    }\n",
              "  };\n",
              "\n",
              "  cancel.remove();\n",
              "\n",
              "  // Disable the input element since further picks are not allowed.\n",
              "  inputElement.disabled = true;\n",
              "\n",
              "  if (!files) {\n",
              "    return {\n",
              "      response: {\n",
              "        action: 'complete',\n",
              "      }\n",
              "    };\n",
              "  }\n",
              "\n",
              "  for (const file of files) {\n",
              "    const li = document.createElement('li');\n",
              "    li.append(span(file.name, {fontWeight: 'bold'}));\n",
              "    li.append(span(\n",
              "        `(${file.type || 'n/a'}) - ${file.size} bytes, ` +\n",
              "        `last modified: ${\n",
              "            file.lastModifiedDate ? file.lastModifiedDate.toLocaleDateString() :\n",
              "                                    'n/a'} - `));\n",
              "    const percent = span('0% done');\n",
              "    li.appendChild(percent);\n",
              "\n",
              "    outputElement.appendChild(li);\n",
              "\n",
              "    const fileDataPromise = new Promise((resolve) => {\n",
              "      const reader = new FileReader();\n",
              "      reader.onload = (e) => {\n",
              "        resolve(e.target.result);\n",
              "      };\n",
              "      reader.readAsArrayBuffer(file);\n",
              "    });\n",
              "    // Wait for the data to be ready.\n",
              "    let fileData = yield {\n",
              "      promise: fileDataPromise,\n",
              "      response: {\n",
              "        action: 'continue',\n",
              "      }\n",
              "    };\n",
              "\n",
              "    // Use a chunked sending to avoid message size limits. See b/62115660.\n",
              "    let position = 0;\n",
              "    do {\n",
              "      const length = Math.min(fileData.byteLength - position, MAX_PAYLOAD_SIZE);\n",
              "      const chunk = new Uint8Array(fileData, position, length);\n",
              "      position += length;\n",
              "\n",
              "      const base64 = btoa(String.fromCharCode.apply(null, chunk));\n",
              "      yield {\n",
              "        response: {\n",
              "          action: 'append',\n",
              "          file: file.name,\n",
              "          data: base64,\n",
              "        },\n",
              "      };\n",
              "\n",
              "      let percentDone = fileData.byteLength === 0 ?\n",
              "          100 :\n",
              "          Math.round((position / fileData.byteLength) * 100);\n",
              "      percent.textContent = `${percentDone}% done`;\n",
              "\n",
              "    } while (position < fileData.byteLength);\n",
              "  }\n",
              "\n",
              "  // All done.\n",
              "  yield {\n",
              "    response: {\n",
              "      action: 'complete',\n",
              "    }\n",
              "  };\n",
              "}\n",
              "\n",
              "scope.google = scope.google || {};\n",
              "scope.google.colab = scope.google.colab || {};\n",
              "scope.google.colab._files = {\n",
              "  _uploadFiles,\n",
              "  _uploadFilesContinue,\n",
              "};\n",
              "})(self);\n",
              "</script> "
            ],
            "text/plain": [
              "<IPython.core.display.HTML object>"
            ]
          },
          "metadata": {},
          "output_type": "display_data"
        },
        {
          "output_type": "error",
          "ename": "KeyboardInterrupt",
          "evalue": "ignored",
          "traceback": [
            "\u001b[0;31m---------------------------------------------------------------------------\u001b[0m",
            "\u001b[0;31mKeyboardInterrupt\u001b[0m                         Traceback (most recent call last)",
            "\u001b[0;32m<ipython-input-11-628b082f0ae8>\u001b[0m in \u001b[0;36m<cell line: 5>\u001b[0;34m()\u001b[0m\n\u001b[1;32m      3\u001b[0m \u001b[0;34m\u001b[0m\u001b[0m\n\u001b[1;32m      4\u001b[0m \u001b[0;31m# Upload the CSV file\u001b[0m\u001b[0;34m\u001b[0m\u001b[0;34m\u001b[0m\u001b[0m\n\u001b[0;32m----> 5\u001b[0;31m \u001b[0muploaded\u001b[0m \u001b[0;34m=\u001b[0m \u001b[0mfiles\u001b[0m\u001b[0;34m.\u001b[0m\u001b[0mupload\u001b[0m\u001b[0;34m(\u001b[0m\u001b[0;34m)\u001b[0m\u001b[0;34m\u001b[0m\u001b[0;34m\u001b[0m\u001b[0m\n\u001b[0m\u001b[1;32m      6\u001b[0m \u001b[0;34m\u001b[0m\u001b[0m\n\u001b[1;32m      7\u001b[0m \u001b[0;31m# Read the CSV file\u001b[0m\u001b[0;34m\u001b[0m\u001b[0;34m\u001b[0m\u001b[0m\n",
            "\u001b[0;32m/usr/local/lib/python3.10/dist-packages/google/colab/files.py\u001b[0m in \u001b[0;36mupload\u001b[0;34m()\u001b[0m\n\u001b[1;32m     67\u001b[0m   \"\"\"\n\u001b[1;32m     68\u001b[0m \u001b[0;34m\u001b[0m\u001b[0m\n\u001b[0;32m---> 69\u001b[0;31m   \u001b[0muploaded_files\u001b[0m \u001b[0;34m=\u001b[0m \u001b[0m_upload_files\u001b[0m\u001b[0;34m(\u001b[0m\u001b[0mmultiple\u001b[0m\u001b[0;34m=\u001b[0m\u001b[0;32mTrue\u001b[0m\u001b[0;34m)\u001b[0m\u001b[0;34m\u001b[0m\u001b[0;34m\u001b[0m\u001b[0m\n\u001b[0m\u001b[1;32m     70\u001b[0m   \u001b[0;31m# Mapping from original filename to filename as saved locally.\u001b[0m\u001b[0;34m\u001b[0m\u001b[0;34m\u001b[0m\u001b[0m\n\u001b[1;32m     71\u001b[0m   \u001b[0mlocal_filenames\u001b[0m \u001b[0;34m=\u001b[0m \u001b[0mdict\u001b[0m\u001b[0;34m(\u001b[0m\u001b[0;34m)\u001b[0m\u001b[0;34m\u001b[0m\u001b[0;34m\u001b[0m\u001b[0m\n",
            "\u001b[0;32m/usr/local/lib/python3.10/dist-packages/google/colab/files.py\u001b[0m in \u001b[0;36m_upload_files\u001b[0;34m(multiple)\u001b[0m\n\u001b[1;32m    151\u001b[0m \u001b[0;34m\u001b[0m\u001b[0m\n\u001b[1;32m    152\u001b[0m   \u001b[0;31m# First result is always an indication that the file picker has completed.\u001b[0m\u001b[0;34m\u001b[0m\u001b[0;34m\u001b[0m\u001b[0m\n\u001b[0;32m--> 153\u001b[0;31m   result = _output.eval_js(\n\u001b[0m\u001b[1;32m    154\u001b[0m       'google.colab._files._uploadFiles(\"{input_id}\", \"{output_id}\")'.format(\n\u001b[1;32m    155\u001b[0m           \u001b[0minput_id\u001b[0m\u001b[0;34m=\u001b[0m\u001b[0minput_id\u001b[0m\u001b[0;34m,\u001b[0m \u001b[0moutput_id\u001b[0m\u001b[0;34m=\u001b[0m\u001b[0moutput_id\u001b[0m\u001b[0;34m\u001b[0m\u001b[0;34m\u001b[0m\u001b[0m\n",
            "\u001b[0;32m/usr/local/lib/python3.10/dist-packages/google/colab/output/_js.py\u001b[0m in \u001b[0;36meval_js\u001b[0;34m(script, ignore_result, timeout_sec)\u001b[0m\n\u001b[1;32m     38\u001b[0m   \u001b[0;32mif\u001b[0m \u001b[0mignore_result\u001b[0m\u001b[0;34m:\u001b[0m\u001b[0;34m\u001b[0m\u001b[0;34m\u001b[0m\u001b[0m\n\u001b[1;32m     39\u001b[0m     \u001b[0;32mreturn\u001b[0m\u001b[0;34m\u001b[0m\u001b[0;34m\u001b[0m\u001b[0m\n\u001b[0;32m---> 40\u001b[0;31m   \u001b[0;32mreturn\u001b[0m \u001b[0m_message\u001b[0m\u001b[0;34m.\u001b[0m\u001b[0mread_reply_from_input\u001b[0m\u001b[0;34m(\u001b[0m\u001b[0mrequest_id\u001b[0m\u001b[0;34m,\u001b[0m \u001b[0mtimeout_sec\u001b[0m\u001b[0;34m)\u001b[0m\u001b[0;34m\u001b[0m\u001b[0;34m\u001b[0m\u001b[0m\n\u001b[0m\u001b[1;32m     41\u001b[0m \u001b[0;34m\u001b[0m\u001b[0m\n\u001b[1;32m     42\u001b[0m \u001b[0;34m\u001b[0m\u001b[0m\n",
            "\u001b[0;32m/usr/local/lib/python3.10/dist-packages/google/colab/_message.py\u001b[0m in \u001b[0;36mread_reply_from_input\u001b[0;34m(message_id, timeout_sec)\u001b[0m\n\u001b[1;32m     94\u001b[0m     \u001b[0mreply\u001b[0m \u001b[0;34m=\u001b[0m \u001b[0m_read_next_input_message\u001b[0m\u001b[0;34m(\u001b[0m\u001b[0;34m)\u001b[0m\u001b[0;34m\u001b[0m\u001b[0;34m\u001b[0m\u001b[0m\n\u001b[1;32m     95\u001b[0m     \u001b[0;32mif\u001b[0m \u001b[0mreply\u001b[0m \u001b[0;34m==\u001b[0m \u001b[0m_NOT_READY\u001b[0m \u001b[0;32mor\u001b[0m \u001b[0;32mnot\u001b[0m \u001b[0misinstance\u001b[0m\u001b[0;34m(\u001b[0m\u001b[0mreply\u001b[0m\u001b[0;34m,\u001b[0m \u001b[0mdict\u001b[0m\u001b[0;34m)\u001b[0m\u001b[0;34m:\u001b[0m\u001b[0;34m\u001b[0m\u001b[0;34m\u001b[0m\u001b[0m\n\u001b[0;32m---> 96\u001b[0;31m       \u001b[0mtime\u001b[0m\u001b[0;34m.\u001b[0m\u001b[0msleep\u001b[0m\u001b[0;34m(\u001b[0m\u001b[0;36m0.025\u001b[0m\u001b[0;34m)\u001b[0m\u001b[0;34m\u001b[0m\u001b[0;34m\u001b[0m\u001b[0m\n\u001b[0m\u001b[1;32m     97\u001b[0m       \u001b[0;32mcontinue\u001b[0m\u001b[0;34m\u001b[0m\u001b[0;34m\u001b[0m\u001b[0m\n\u001b[1;32m     98\u001b[0m     if (\n",
            "\u001b[0;31mKeyboardInterrupt\u001b[0m: "
          ]
        }
      ],
      "source": [
        "from google.colab import files\n",
        "\n",
        "\n",
        "# Upload the CSV file\n",
        "uploaded = files.upload()\n",
        "\n",
        "# Read the CSV file\n",
        "df = pd.read_csv(next(iter(uploaded)))\n"
      ]
    },
    {
      "cell_type": "code",
      "source": [
        "df = pd.read_csv(next(iter(uploaded)))\n",
        "\n",
        "df.head()"
      ],
      "metadata": {
        "id": "cu1bfz8a9XLi"
      },
      "id": "cu1bfz8a9XLi",
      "execution_count": null,
      "outputs": []
    },
    {
      "cell_type": "code",
      "execution_count": null,
      "id": "464156e6",
      "metadata": {
        "colab": {
          "base_uri": "https://localhost:8080/",
          "height": 74
        },
        "id": "464156e6",
        "outputId": "d096e5cf-0580-4409-b690-05ea1129489b"
      },
      "outputs": [
        {
          "output_type": "display_data",
          "data": {
            "text/plain": [
              "<IPython.core.display.HTML object>"
            ],
            "text/html": [
              "\n",
              "     <input type=\"file\" id=\"files-78ce93b4-a4bc-41db-bc86-3c2558ff8efd\" name=\"files[]\" multiple disabled\n",
              "        style=\"border:none\" />\n",
              "     <output id=\"result-78ce93b4-a4bc-41db-bc86-3c2558ff8efd\">\n",
              "      Upload widget is only available when the cell has been executed in the\n",
              "      current browser session. Please rerun this cell to enable.\n",
              "      </output>\n",
              "      <script>// Copyright 2017 Google LLC\n",
              "//\n",
              "// Licensed under the Apache License, Version 2.0 (the \"License\");\n",
              "// you may not use this file except in compliance with the License.\n",
              "// You may obtain a copy of the License at\n",
              "//\n",
              "//      http://www.apache.org/licenses/LICENSE-2.0\n",
              "//\n",
              "// Unless required by applicable law or agreed to in writing, software\n",
              "// distributed under the License is distributed on an \"AS IS\" BASIS,\n",
              "// WITHOUT WARRANTIES OR CONDITIONS OF ANY KIND, either express or implied.\n",
              "// See the License for the specific language governing permissions and\n",
              "// limitations under the License.\n",
              "\n",
              "/**\n",
              " * @fileoverview Helpers for google.colab Python module.\n",
              " */\n",
              "(function(scope) {\n",
              "function span(text, styleAttributes = {}) {\n",
              "  const element = document.createElement('span');\n",
              "  element.textContent = text;\n",
              "  for (const key of Object.keys(styleAttributes)) {\n",
              "    element.style[key] = styleAttributes[key];\n",
              "  }\n",
              "  return element;\n",
              "}\n",
              "\n",
              "// Max number of bytes which will be uploaded at a time.\n",
              "const MAX_PAYLOAD_SIZE = 100 * 1024;\n",
              "\n",
              "function _uploadFiles(inputId, outputId) {\n",
              "  const steps = uploadFilesStep(inputId, outputId);\n",
              "  const outputElement = document.getElementById(outputId);\n",
              "  // Cache steps on the outputElement to make it available for the next call\n",
              "  // to uploadFilesContinue from Python.\n",
              "  outputElement.steps = steps;\n",
              "\n",
              "  return _uploadFilesContinue(outputId);\n",
              "}\n",
              "\n",
              "// This is roughly an async generator (not supported in the browser yet),\n",
              "// where there are multiple asynchronous steps and the Python side is going\n",
              "// to poll for completion of each step.\n",
              "// This uses a Promise to block the python side on completion of each step,\n",
              "// then passes the result of the previous step as the input to the next step.\n",
              "function _uploadFilesContinue(outputId) {\n",
              "  const outputElement = document.getElementById(outputId);\n",
              "  const steps = outputElement.steps;\n",
              "\n",
              "  const next = steps.next(outputElement.lastPromiseValue);\n",
              "  return Promise.resolve(next.value.promise).then((value) => {\n",
              "    // Cache the last promise value to make it available to the next\n",
              "    // step of the generator.\n",
              "    outputElement.lastPromiseValue = value;\n",
              "    return next.value.response;\n",
              "  });\n",
              "}\n",
              "\n",
              "/**\n",
              " * Generator function which is called between each async step of the upload\n",
              " * process.\n",
              " * @param {string} inputId Element ID of the input file picker element.\n",
              " * @param {string} outputId Element ID of the output display.\n",
              " * @return {!Iterable<!Object>} Iterable of next steps.\n",
              " */\n",
              "function* uploadFilesStep(inputId, outputId) {\n",
              "  const inputElement = document.getElementById(inputId);\n",
              "  inputElement.disabled = false;\n",
              "\n",
              "  const outputElement = document.getElementById(outputId);\n",
              "  outputElement.innerHTML = '';\n",
              "\n",
              "  const pickedPromise = new Promise((resolve) => {\n",
              "    inputElement.addEventListener('change', (e) => {\n",
              "      resolve(e.target.files);\n",
              "    });\n",
              "  });\n",
              "\n",
              "  const cancel = document.createElement('button');\n",
              "  inputElement.parentElement.appendChild(cancel);\n",
              "  cancel.textContent = 'Cancel upload';\n",
              "  const cancelPromise = new Promise((resolve) => {\n",
              "    cancel.onclick = () => {\n",
              "      resolve(null);\n",
              "    };\n",
              "  });\n",
              "\n",
              "  // Wait for the user to pick the files.\n",
              "  const files = yield {\n",
              "    promise: Promise.race([pickedPromise, cancelPromise]),\n",
              "    response: {\n",
              "      action: 'starting',\n",
              "    }\n",
              "  };\n",
              "\n",
              "  cancel.remove();\n",
              "\n",
              "  // Disable the input element since further picks are not allowed.\n",
              "  inputElement.disabled = true;\n",
              "\n",
              "  if (!files) {\n",
              "    return {\n",
              "      response: {\n",
              "        action: 'complete',\n",
              "      }\n",
              "    };\n",
              "  }\n",
              "\n",
              "  for (const file of files) {\n",
              "    const li = document.createElement('li');\n",
              "    li.append(span(file.name, {fontWeight: 'bold'}));\n",
              "    li.append(span(\n",
              "        `(${file.type || 'n/a'}) - ${file.size} bytes, ` +\n",
              "        `last modified: ${\n",
              "            file.lastModifiedDate ? file.lastModifiedDate.toLocaleDateString() :\n",
              "                                    'n/a'} - `));\n",
              "    const percent = span('0% done');\n",
              "    li.appendChild(percent);\n",
              "\n",
              "    outputElement.appendChild(li);\n",
              "\n",
              "    const fileDataPromise = new Promise((resolve) => {\n",
              "      const reader = new FileReader();\n",
              "      reader.onload = (e) => {\n",
              "        resolve(e.target.result);\n",
              "      };\n",
              "      reader.readAsArrayBuffer(file);\n",
              "    });\n",
              "    // Wait for the data to be ready.\n",
              "    let fileData = yield {\n",
              "      promise: fileDataPromise,\n",
              "      response: {\n",
              "        action: 'continue',\n",
              "      }\n",
              "    };\n",
              "\n",
              "    // Use a chunked sending to avoid message size limits. See b/62115660.\n",
              "    let position = 0;\n",
              "    do {\n",
              "      const length = Math.min(fileData.byteLength - position, MAX_PAYLOAD_SIZE);\n",
              "      const chunk = new Uint8Array(fileData, position, length);\n",
              "      position += length;\n",
              "\n",
              "      const base64 = btoa(String.fromCharCode.apply(null, chunk));\n",
              "      yield {\n",
              "        response: {\n",
              "          action: 'append',\n",
              "          file: file.name,\n",
              "          data: base64,\n",
              "        },\n",
              "      };\n",
              "\n",
              "      let percentDone = fileData.byteLength === 0 ?\n",
              "          100 :\n",
              "          Math.round((position / fileData.byteLength) * 100);\n",
              "      percent.textContent = `${percentDone}% done`;\n",
              "\n",
              "    } while (position < fileData.byteLength);\n",
              "  }\n",
              "\n",
              "  // All done.\n",
              "  yield {\n",
              "    response: {\n",
              "      action: 'complete',\n",
              "    }\n",
              "  };\n",
              "}\n",
              "\n",
              "scope.google = scope.google || {};\n",
              "scope.google.colab = scope.google.colab || {};\n",
              "scope.google.colab._files = {\n",
              "  _uploadFiles,\n",
              "  _uploadFilesContinue,\n",
              "};\n",
              "})(self);\n",
              "</script> "
            ]
          },
          "metadata": {}
        },
        {
          "output_type": "stream",
          "name": "stdout",
          "text": [
            "Saving label_descriptions.json to label_descriptions.json\n"
          ]
        }
      ],
      "source": [
        "import json\n",
        "\n",
        "# Upload the JSON file\n",
        "uploaded_file = files.upload()\n",
        "\n",
        "# Load the JSON file\n",
        "for filename in uploaded_file.keys():\n",
        "  with open(filename, 'r') as file:\n",
        "    label_desc = json.load(file)\n",
        "\n",
        "\n",
        "#sample_sub_df = pd.read_csv('/Users/macbook/Desktop/Uni/Quarter 4/Deep Learning/Project/imaterialist-fashion-2020-fgvc7/sample_submission.csv')\n"
      ]
    },
    {
      "cell_type": "code",
      "execution_count": null,
      "id": "e8ad63ba",
      "metadata": {
        "colab": {
          "base_uri": "https://localhost:8080/",
          "height": 1000
        },
        "id": "e8ad63ba",
        "outputId": "bf716c29-5d80-45e5-c056-96bdcc3b8272"
      },
      "outputs": [
        {
          "output_type": "execute_result",
          "data": {
            "text/plain": [
              "    id                                     name   supercategory  level\n",
              "0    0                            shirt, blouse       upperbody      2\n",
              "1    1                 top, t-shirt, sweatshirt       upperbody      2\n",
              "2    2                                  sweater       upperbody      2\n",
              "3    3                                 cardigan       upperbody      2\n",
              "4    4                                   jacket       upperbody      2\n",
              "5    5                                     vest       upperbody      2\n",
              "6    6                                    pants       lowerbody      2\n",
              "7    7                                   shorts       lowerbody      2\n",
              "8    8                                    skirt       lowerbody      2\n",
              "9    9                                     coat       wholebody      2\n",
              "10  10                                    dress       wholebody      2\n",
              "11  11                                 jumpsuit       wholebody      2\n",
              "12  12                                     cape       wholebody      2\n",
              "13  13                                  glasses            head      2\n",
              "14  14                                      hat            head      2\n",
              "15  15  headband, head covering, hair accessory            head      2\n",
              "16  16                                      tie            neck      2\n",
              "17  17                                    glove  arms and hands      2\n",
              "18  18                                    watch  arms and hands      2\n",
              "19  19                                     belt           waist      2\n",
              "20  20                               leg warmer   legs and feet      2\n",
              "21  21                        tights, stockings   legs and feet      2\n",
              "22  22                                     sock   legs and feet      2\n",
              "23  23                                     shoe   legs and feet      2\n",
              "24  24                              bag, wallet          others      2\n",
              "25  25                                    scarf          others      2\n",
              "26  26                                 umbrella          others      2\n",
              "27  27                                     hood   garment parts      2\n",
              "28  28                                   collar   garment parts      2\n",
              "29  29                                    lapel   garment parts      2\n",
              "30  30                                epaulette   garment parts      2\n",
              "31  31                                   sleeve   garment parts      2\n",
              "32  32                                   pocket   garment parts      2\n",
              "33  33                                 neckline   garment parts      2\n",
              "34  34                                   buckle        closures      2\n",
              "35  35                                   zipper        closures      2\n",
              "36  36                                 applique     decorations      2\n",
              "37  37                                     bead     decorations      2\n",
              "38  38                                      bow     decorations      2\n",
              "39  39                                   flower     decorations      2\n",
              "40  40                                   fringe     decorations      2\n",
              "41  41                                   ribbon     decorations      2\n",
              "42  42                                    rivet     decorations      2\n",
              "43  43                                   ruffle     decorations      2\n",
              "44  44                                   sequin     decorations      2\n",
              "45  45                                   tassel     decorations      2"
            ],
            "text/html": [
              "\n",
              "  <div id=\"df-ff7e8dfe-859f-4bb4-ad8e-c59cb6b3e578\">\n",
              "    <div class=\"colab-df-container\">\n",
              "      <div>\n",
              "<style scoped>\n",
              "    .dataframe tbody tr th:only-of-type {\n",
              "        vertical-align: middle;\n",
              "    }\n",
              "\n",
              "    .dataframe tbody tr th {\n",
              "        vertical-align: top;\n",
              "    }\n",
              "\n",
              "    .dataframe thead th {\n",
              "        text-align: right;\n",
              "    }\n",
              "</style>\n",
              "<table border=\"1\" class=\"dataframe\">\n",
              "  <thead>\n",
              "    <tr style=\"text-align: right;\">\n",
              "      <th></th>\n",
              "      <th>id</th>\n",
              "      <th>name</th>\n",
              "      <th>supercategory</th>\n",
              "      <th>level</th>\n",
              "    </tr>\n",
              "  </thead>\n",
              "  <tbody>\n",
              "    <tr>\n",
              "      <th>0</th>\n",
              "      <td>0</td>\n",
              "      <td>shirt, blouse</td>\n",
              "      <td>upperbody</td>\n",
              "      <td>2</td>\n",
              "    </tr>\n",
              "    <tr>\n",
              "      <th>1</th>\n",
              "      <td>1</td>\n",
              "      <td>top, t-shirt, sweatshirt</td>\n",
              "      <td>upperbody</td>\n",
              "      <td>2</td>\n",
              "    </tr>\n",
              "    <tr>\n",
              "      <th>2</th>\n",
              "      <td>2</td>\n",
              "      <td>sweater</td>\n",
              "      <td>upperbody</td>\n",
              "      <td>2</td>\n",
              "    </tr>\n",
              "    <tr>\n",
              "      <th>3</th>\n",
              "      <td>3</td>\n",
              "      <td>cardigan</td>\n",
              "      <td>upperbody</td>\n",
              "      <td>2</td>\n",
              "    </tr>\n",
              "    <tr>\n",
              "      <th>4</th>\n",
              "      <td>4</td>\n",
              "      <td>jacket</td>\n",
              "      <td>upperbody</td>\n",
              "      <td>2</td>\n",
              "    </tr>\n",
              "    <tr>\n",
              "      <th>5</th>\n",
              "      <td>5</td>\n",
              "      <td>vest</td>\n",
              "      <td>upperbody</td>\n",
              "      <td>2</td>\n",
              "    </tr>\n",
              "    <tr>\n",
              "      <th>6</th>\n",
              "      <td>6</td>\n",
              "      <td>pants</td>\n",
              "      <td>lowerbody</td>\n",
              "      <td>2</td>\n",
              "    </tr>\n",
              "    <tr>\n",
              "      <th>7</th>\n",
              "      <td>7</td>\n",
              "      <td>shorts</td>\n",
              "      <td>lowerbody</td>\n",
              "      <td>2</td>\n",
              "    </tr>\n",
              "    <tr>\n",
              "      <th>8</th>\n",
              "      <td>8</td>\n",
              "      <td>skirt</td>\n",
              "      <td>lowerbody</td>\n",
              "      <td>2</td>\n",
              "    </tr>\n",
              "    <tr>\n",
              "      <th>9</th>\n",
              "      <td>9</td>\n",
              "      <td>coat</td>\n",
              "      <td>wholebody</td>\n",
              "      <td>2</td>\n",
              "    </tr>\n",
              "    <tr>\n",
              "      <th>10</th>\n",
              "      <td>10</td>\n",
              "      <td>dress</td>\n",
              "      <td>wholebody</td>\n",
              "      <td>2</td>\n",
              "    </tr>\n",
              "    <tr>\n",
              "      <th>11</th>\n",
              "      <td>11</td>\n",
              "      <td>jumpsuit</td>\n",
              "      <td>wholebody</td>\n",
              "      <td>2</td>\n",
              "    </tr>\n",
              "    <tr>\n",
              "      <th>12</th>\n",
              "      <td>12</td>\n",
              "      <td>cape</td>\n",
              "      <td>wholebody</td>\n",
              "      <td>2</td>\n",
              "    </tr>\n",
              "    <tr>\n",
              "      <th>13</th>\n",
              "      <td>13</td>\n",
              "      <td>glasses</td>\n",
              "      <td>head</td>\n",
              "      <td>2</td>\n",
              "    </tr>\n",
              "    <tr>\n",
              "      <th>14</th>\n",
              "      <td>14</td>\n",
              "      <td>hat</td>\n",
              "      <td>head</td>\n",
              "      <td>2</td>\n",
              "    </tr>\n",
              "    <tr>\n",
              "      <th>15</th>\n",
              "      <td>15</td>\n",
              "      <td>headband, head covering, hair accessory</td>\n",
              "      <td>head</td>\n",
              "      <td>2</td>\n",
              "    </tr>\n",
              "    <tr>\n",
              "      <th>16</th>\n",
              "      <td>16</td>\n",
              "      <td>tie</td>\n",
              "      <td>neck</td>\n",
              "      <td>2</td>\n",
              "    </tr>\n",
              "    <tr>\n",
              "      <th>17</th>\n",
              "      <td>17</td>\n",
              "      <td>glove</td>\n",
              "      <td>arms and hands</td>\n",
              "      <td>2</td>\n",
              "    </tr>\n",
              "    <tr>\n",
              "      <th>18</th>\n",
              "      <td>18</td>\n",
              "      <td>watch</td>\n",
              "      <td>arms and hands</td>\n",
              "      <td>2</td>\n",
              "    </tr>\n",
              "    <tr>\n",
              "      <th>19</th>\n",
              "      <td>19</td>\n",
              "      <td>belt</td>\n",
              "      <td>waist</td>\n",
              "      <td>2</td>\n",
              "    </tr>\n",
              "    <tr>\n",
              "      <th>20</th>\n",
              "      <td>20</td>\n",
              "      <td>leg warmer</td>\n",
              "      <td>legs and feet</td>\n",
              "      <td>2</td>\n",
              "    </tr>\n",
              "    <tr>\n",
              "      <th>21</th>\n",
              "      <td>21</td>\n",
              "      <td>tights, stockings</td>\n",
              "      <td>legs and feet</td>\n",
              "      <td>2</td>\n",
              "    </tr>\n",
              "    <tr>\n",
              "      <th>22</th>\n",
              "      <td>22</td>\n",
              "      <td>sock</td>\n",
              "      <td>legs and feet</td>\n",
              "      <td>2</td>\n",
              "    </tr>\n",
              "    <tr>\n",
              "      <th>23</th>\n",
              "      <td>23</td>\n",
              "      <td>shoe</td>\n",
              "      <td>legs and feet</td>\n",
              "      <td>2</td>\n",
              "    </tr>\n",
              "    <tr>\n",
              "      <th>24</th>\n",
              "      <td>24</td>\n",
              "      <td>bag, wallet</td>\n",
              "      <td>others</td>\n",
              "      <td>2</td>\n",
              "    </tr>\n",
              "    <tr>\n",
              "      <th>25</th>\n",
              "      <td>25</td>\n",
              "      <td>scarf</td>\n",
              "      <td>others</td>\n",
              "      <td>2</td>\n",
              "    </tr>\n",
              "    <tr>\n",
              "      <th>26</th>\n",
              "      <td>26</td>\n",
              "      <td>umbrella</td>\n",
              "      <td>others</td>\n",
              "      <td>2</td>\n",
              "    </tr>\n",
              "    <tr>\n",
              "      <th>27</th>\n",
              "      <td>27</td>\n",
              "      <td>hood</td>\n",
              "      <td>garment parts</td>\n",
              "      <td>2</td>\n",
              "    </tr>\n",
              "    <tr>\n",
              "      <th>28</th>\n",
              "      <td>28</td>\n",
              "      <td>collar</td>\n",
              "      <td>garment parts</td>\n",
              "      <td>2</td>\n",
              "    </tr>\n",
              "    <tr>\n",
              "      <th>29</th>\n",
              "      <td>29</td>\n",
              "      <td>lapel</td>\n",
              "      <td>garment parts</td>\n",
              "      <td>2</td>\n",
              "    </tr>\n",
              "    <tr>\n",
              "      <th>30</th>\n",
              "      <td>30</td>\n",
              "      <td>epaulette</td>\n",
              "      <td>garment parts</td>\n",
              "      <td>2</td>\n",
              "    </tr>\n",
              "    <tr>\n",
              "      <th>31</th>\n",
              "      <td>31</td>\n",
              "      <td>sleeve</td>\n",
              "      <td>garment parts</td>\n",
              "      <td>2</td>\n",
              "    </tr>\n",
              "    <tr>\n",
              "      <th>32</th>\n",
              "      <td>32</td>\n",
              "      <td>pocket</td>\n",
              "      <td>garment parts</td>\n",
              "      <td>2</td>\n",
              "    </tr>\n",
              "    <tr>\n",
              "      <th>33</th>\n",
              "      <td>33</td>\n",
              "      <td>neckline</td>\n",
              "      <td>garment parts</td>\n",
              "      <td>2</td>\n",
              "    </tr>\n",
              "    <tr>\n",
              "      <th>34</th>\n",
              "      <td>34</td>\n",
              "      <td>buckle</td>\n",
              "      <td>closures</td>\n",
              "      <td>2</td>\n",
              "    </tr>\n",
              "    <tr>\n",
              "      <th>35</th>\n",
              "      <td>35</td>\n",
              "      <td>zipper</td>\n",
              "      <td>closures</td>\n",
              "      <td>2</td>\n",
              "    </tr>\n",
              "    <tr>\n",
              "      <th>36</th>\n",
              "      <td>36</td>\n",
              "      <td>applique</td>\n",
              "      <td>decorations</td>\n",
              "      <td>2</td>\n",
              "    </tr>\n",
              "    <tr>\n",
              "      <th>37</th>\n",
              "      <td>37</td>\n",
              "      <td>bead</td>\n",
              "      <td>decorations</td>\n",
              "      <td>2</td>\n",
              "    </tr>\n",
              "    <tr>\n",
              "      <th>38</th>\n",
              "      <td>38</td>\n",
              "      <td>bow</td>\n",
              "      <td>decorations</td>\n",
              "      <td>2</td>\n",
              "    </tr>\n",
              "    <tr>\n",
              "      <th>39</th>\n",
              "      <td>39</td>\n",
              "      <td>flower</td>\n",
              "      <td>decorations</td>\n",
              "      <td>2</td>\n",
              "    </tr>\n",
              "    <tr>\n",
              "      <th>40</th>\n",
              "      <td>40</td>\n",
              "      <td>fringe</td>\n",
              "      <td>decorations</td>\n",
              "      <td>2</td>\n",
              "    </tr>\n",
              "    <tr>\n",
              "      <th>41</th>\n",
              "      <td>41</td>\n",
              "      <td>ribbon</td>\n",
              "      <td>decorations</td>\n",
              "      <td>2</td>\n",
              "    </tr>\n",
              "    <tr>\n",
              "      <th>42</th>\n",
              "      <td>42</td>\n",
              "      <td>rivet</td>\n",
              "      <td>decorations</td>\n",
              "      <td>2</td>\n",
              "    </tr>\n",
              "    <tr>\n",
              "      <th>43</th>\n",
              "      <td>43</td>\n",
              "      <td>ruffle</td>\n",
              "      <td>decorations</td>\n",
              "      <td>2</td>\n",
              "    </tr>\n",
              "    <tr>\n",
              "      <th>44</th>\n",
              "      <td>44</td>\n",
              "      <td>sequin</td>\n",
              "      <td>decorations</td>\n",
              "      <td>2</td>\n",
              "    </tr>\n",
              "    <tr>\n",
              "      <th>45</th>\n",
              "      <td>45</td>\n",
              "      <td>tassel</td>\n",
              "      <td>decorations</td>\n",
              "      <td>2</td>\n",
              "    </tr>\n",
              "  </tbody>\n",
              "</table>\n",
              "</div>\n",
              "      <button class=\"colab-df-convert\" onclick=\"convertToInteractive('df-ff7e8dfe-859f-4bb4-ad8e-c59cb6b3e578')\"\n",
              "              title=\"Convert this dataframe to an interactive table.\"\n",
              "              style=\"display:none;\">\n",
              "        \n",
              "  <svg xmlns=\"http://www.w3.org/2000/svg\" height=\"24px\"viewBox=\"0 0 24 24\"\n",
              "       width=\"24px\">\n",
              "    <path d=\"M0 0h24v24H0V0z\" fill=\"none\"/>\n",
              "    <path d=\"M18.56 5.44l.94 2.06.94-2.06 2.06-.94-2.06-.94-.94-2.06-.94 2.06-2.06.94zm-11 1L8.5 8.5l.94-2.06 2.06-.94-2.06-.94L8.5 2.5l-.94 2.06-2.06.94zm10 10l.94 2.06.94-2.06 2.06-.94-2.06-.94-.94-2.06-.94 2.06-2.06.94z\"/><path d=\"M17.41 7.96l-1.37-1.37c-.4-.4-.92-.59-1.43-.59-.52 0-1.04.2-1.43.59L10.3 9.45l-7.72 7.72c-.78.78-.78 2.05 0 2.83L4 21.41c.39.39.9.59 1.41.59.51 0 1.02-.2 1.41-.59l7.78-7.78 2.81-2.81c.8-.78.8-2.07 0-2.86zM5.41 20L4 18.59l7.72-7.72 1.47 1.35L5.41 20z\"/>\n",
              "  </svg>\n",
              "      </button>\n",
              "      \n",
              "  <style>\n",
              "    .colab-df-container {\n",
              "      display:flex;\n",
              "      flex-wrap:wrap;\n",
              "      gap: 12px;\n",
              "    }\n",
              "\n",
              "    .colab-df-convert {\n",
              "      background-color: #E8F0FE;\n",
              "      border: none;\n",
              "      border-radius: 50%;\n",
              "      cursor: pointer;\n",
              "      display: none;\n",
              "      fill: #1967D2;\n",
              "      height: 32px;\n",
              "      padding: 0 0 0 0;\n",
              "      width: 32px;\n",
              "    }\n",
              "\n",
              "    .colab-df-convert:hover {\n",
              "      background-color: #E2EBFA;\n",
              "      box-shadow: 0px 1px 2px rgba(60, 64, 67, 0.3), 0px 1px 3px 1px rgba(60, 64, 67, 0.15);\n",
              "      fill: #174EA6;\n",
              "    }\n",
              "\n",
              "    [theme=dark] .colab-df-convert {\n",
              "      background-color: #3B4455;\n",
              "      fill: #D2E3FC;\n",
              "    }\n",
              "\n",
              "    [theme=dark] .colab-df-convert:hover {\n",
              "      background-color: #434B5C;\n",
              "      box-shadow: 0px 1px 3px 1px rgba(0, 0, 0, 0.15);\n",
              "      filter: drop-shadow(0px 1px 2px rgba(0, 0, 0, 0.3));\n",
              "      fill: #FFFFFF;\n",
              "    }\n",
              "  </style>\n",
              "\n",
              "      <script>\n",
              "        const buttonEl =\n",
              "          document.querySelector('#df-ff7e8dfe-859f-4bb4-ad8e-c59cb6b3e578 button.colab-df-convert');\n",
              "        buttonEl.style.display =\n",
              "          google.colab.kernel.accessAllowed ? 'block' : 'none';\n",
              "\n",
              "        async function convertToInteractive(key) {\n",
              "          const element = document.querySelector('#df-ff7e8dfe-859f-4bb4-ad8e-c59cb6b3e578');\n",
              "          const dataTable =\n",
              "            await google.colab.kernel.invokeFunction('convertToInteractive',\n",
              "                                                     [key], {});\n",
              "          if (!dataTable) return;\n",
              "\n",
              "          const docLinkHtml = 'Like what you see? Visit the ' +\n",
              "            '<a target=\"_blank\" href=https://colab.research.google.com/notebooks/data_table.ipynb>data table notebook</a>'\n",
              "            + ' to learn more about interactive tables.';\n",
              "          element.innerHTML = '';\n",
              "          dataTable['output_type'] = 'display_data';\n",
              "          await google.colab.output.renderOutput(dataTable, element);\n",
              "          const docLink = document.createElement('div');\n",
              "          docLink.innerHTML = docLinkHtml;\n",
              "          element.appendChild(docLink);\n",
              "        }\n",
              "      </script>\n",
              "    </div>\n",
              "  </div>\n",
              "  "
            ]
          },
          "metadata": {},
          "execution_count": 16
        }
      ],
      "source": [
        "categories_df = pd.DataFrame(label_desc['categories'])\n",
        "attributes_df = pd.DataFrame(label_desc['attributes'])\n",
        "categories_df"
      ]
    },
    {
      "cell_type": "code",
      "execution_count": null,
      "id": "93027753",
      "metadata": {
        "scrolled": true,
        "colab": {
          "base_uri": "https://localhost:8080/",
          "height": 206
        },
        "id": "93027753",
        "outputId": "7d4b9fe0-b062-4daa-c893-3acd3688aa55"
      },
      "outputs": [
        {
          "output_type": "execute_result",
          "data": {
            "text/plain": [
              "                            ImageId  \\\n",
              "0  00000663ed1ff0c4e0132b9b9ac53f6e   \n",
              "1  00000663ed1ff0c4e0132b9b9ac53f6e   \n",
              "2  00000663ed1ff0c4e0132b9b9ac53f6e   \n",
              "3  00000663ed1ff0c4e0132b9b9ac53f6e   \n",
              "4  00000663ed1ff0c4e0132b9b9ac53f6e   \n",
              "\n",
              "                                       EncodedPixels  Height  Width  ClassId  \\\n",
              "0  6068157 7 6073371 20 6078584 34 6083797 48 608...    5214   3676        6   \n",
              "1  6323163 11 6328356 32 6333549 53 6338742 75 63...    5214   3676        0   \n",
              "2  8521389 10 8526585 30 8531789 42 8537002 46 85...    5214   3676       28   \n",
              "3  12903854 2 12909064 7 12914275 10 12919485 15 ...    5214   3676       31   \n",
              "4  10837337 5 10842542 14 10847746 24 10852951 33...    5214   3676       32   \n",
              "\n",
              "                     AttributesIds    Ratio  \n",
              "0  115,136,143,154,230,295,316,317  1.41839  \n",
              "1  115,136,142,146,225,295,316,317  1.41839  \n",
              "2                              163  1.41839  \n",
              "3                          160,204  1.41839  \n",
              "4                              219  1.41839  "
            ],
            "text/html": [
              "\n",
              "  <div id=\"df-d0843457-42a5-4998-8118-fd953d358712\">\n",
              "    <div class=\"colab-df-container\">\n",
              "      <div>\n",
              "<style scoped>\n",
              "    .dataframe tbody tr th:only-of-type {\n",
              "        vertical-align: middle;\n",
              "    }\n",
              "\n",
              "    .dataframe tbody tr th {\n",
              "        vertical-align: top;\n",
              "    }\n",
              "\n",
              "    .dataframe thead th {\n",
              "        text-align: right;\n",
              "    }\n",
              "</style>\n",
              "<table border=\"1\" class=\"dataframe\">\n",
              "  <thead>\n",
              "    <tr style=\"text-align: right;\">\n",
              "      <th></th>\n",
              "      <th>ImageId</th>\n",
              "      <th>EncodedPixels</th>\n",
              "      <th>Height</th>\n",
              "      <th>Width</th>\n",
              "      <th>ClassId</th>\n",
              "      <th>AttributesIds</th>\n",
              "      <th>Ratio</th>\n",
              "    </tr>\n",
              "  </thead>\n",
              "  <tbody>\n",
              "    <tr>\n",
              "      <th>0</th>\n",
              "      <td>00000663ed1ff0c4e0132b9b9ac53f6e</td>\n",
              "      <td>6068157 7 6073371 20 6078584 34 6083797 48 608...</td>\n",
              "      <td>5214</td>\n",
              "      <td>3676</td>\n",
              "      <td>6</td>\n",
              "      <td>115,136,143,154,230,295,316,317</td>\n",
              "      <td>1.41839</td>\n",
              "    </tr>\n",
              "    <tr>\n",
              "      <th>1</th>\n",
              "      <td>00000663ed1ff0c4e0132b9b9ac53f6e</td>\n",
              "      <td>6323163 11 6328356 32 6333549 53 6338742 75 63...</td>\n",
              "      <td>5214</td>\n",
              "      <td>3676</td>\n",
              "      <td>0</td>\n",
              "      <td>115,136,142,146,225,295,316,317</td>\n",
              "      <td>1.41839</td>\n",
              "    </tr>\n",
              "    <tr>\n",
              "      <th>2</th>\n",
              "      <td>00000663ed1ff0c4e0132b9b9ac53f6e</td>\n",
              "      <td>8521389 10 8526585 30 8531789 42 8537002 46 85...</td>\n",
              "      <td>5214</td>\n",
              "      <td>3676</td>\n",
              "      <td>28</td>\n",
              "      <td>163</td>\n",
              "      <td>1.41839</td>\n",
              "    </tr>\n",
              "    <tr>\n",
              "      <th>3</th>\n",
              "      <td>00000663ed1ff0c4e0132b9b9ac53f6e</td>\n",
              "      <td>12903854 2 12909064 7 12914275 10 12919485 15 ...</td>\n",
              "      <td>5214</td>\n",
              "      <td>3676</td>\n",
              "      <td>31</td>\n",
              "      <td>160,204</td>\n",
              "      <td>1.41839</td>\n",
              "    </tr>\n",
              "    <tr>\n",
              "      <th>4</th>\n",
              "      <td>00000663ed1ff0c4e0132b9b9ac53f6e</td>\n",
              "      <td>10837337 5 10842542 14 10847746 24 10852951 33...</td>\n",
              "      <td>5214</td>\n",
              "      <td>3676</td>\n",
              "      <td>32</td>\n",
              "      <td>219</td>\n",
              "      <td>1.41839</td>\n",
              "    </tr>\n",
              "  </tbody>\n",
              "</table>\n",
              "</div>\n",
              "      <button class=\"colab-df-convert\" onclick=\"convertToInteractive('df-d0843457-42a5-4998-8118-fd953d358712')\"\n",
              "              title=\"Convert this dataframe to an interactive table.\"\n",
              "              style=\"display:none;\">\n",
              "        \n",
              "  <svg xmlns=\"http://www.w3.org/2000/svg\" height=\"24px\"viewBox=\"0 0 24 24\"\n",
              "       width=\"24px\">\n",
              "    <path d=\"M0 0h24v24H0V0z\" fill=\"none\"/>\n",
              "    <path d=\"M18.56 5.44l.94 2.06.94-2.06 2.06-.94-2.06-.94-.94-2.06-.94 2.06-2.06.94zm-11 1L8.5 8.5l.94-2.06 2.06-.94-2.06-.94L8.5 2.5l-.94 2.06-2.06.94zm10 10l.94 2.06.94-2.06 2.06-.94-2.06-.94-.94-2.06-.94 2.06-2.06.94z\"/><path d=\"M17.41 7.96l-1.37-1.37c-.4-.4-.92-.59-1.43-.59-.52 0-1.04.2-1.43.59L10.3 9.45l-7.72 7.72c-.78.78-.78 2.05 0 2.83L4 21.41c.39.39.9.59 1.41.59.51 0 1.02-.2 1.41-.59l7.78-7.78 2.81-2.81c.8-.78.8-2.07 0-2.86zM5.41 20L4 18.59l7.72-7.72 1.47 1.35L5.41 20z\"/>\n",
              "  </svg>\n",
              "      </button>\n",
              "      \n",
              "  <style>\n",
              "    .colab-df-container {\n",
              "      display:flex;\n",
              "      flex-wrap:wrap;\n",
              "      gap: 12px;\n",
              "    }\n",
              "\n",
              "    .colab-df-convert {\n",
              "      background-color: #E8F0FE;\n",
              "      border: none;\n",
              "      border-radius: 50%;\n",
              "      cursor: pointer;\n",
              "      display: none;\n",
              "      fill: #1967D2;\n",
              "      height: 32px;\n",
              "      padding: 0 0 0 0;\n",
              "      width: 32px;\n",
              "    }\n",
              "\n",
              "    .colab-df-convert:hover {\n",
              "      background-color: #E2EBFA;\n",
              "      box-shadow: 0px 1px 2px rgba(60, 64, 67, 0.3), 0px 1px 3px 1px rgba(60, 64, 67, 0.15);\n",
              "      fill: #174EA6;\n",
              "    }\n",
              "\n",
              "    [theme=dark] .colab-df-convert {\n",
              "      background-color: #3B4455;\n",
              "      fill: #D2E3FC;\n",
              "    }\n",
              "\n",
              "    [theme=dark] .colab-df-convert:hover {\n",
              "      background-color: #434B5C;\n",
              "      box-shadow: 0px 1px 3px 1px rgba(0, 0, 0, 0.15);\n",
              "      filter: drop-shadow(0px 1px 2px rgba(0, 0, 0, 0.3));\n",
              "      fill: #FFFFFF;\n",
              "    }\n",
              "  </style>\n",
              "\n",
              "      <script>\n",
              "        const buttonEl =\n",
              "          document.querySelector('#df-d0843457-42a5-4998-8118-fd953d358712 button.colab-df-convert');\n",
              "        buttonEl.style.display =\n",
              "          google.colab.kernel.accessAllowed ? 'block' : 'none';\n",
              "\n",
              "        async function convertToInteractive(key) {\n",
              "          const element = document.querySelector('#df-d0843457-42a5-4998-8118-fd953d358712');\n",
              "          const dataTable =\n",
              "            await google.colab.kernel.invokeFunction('convertToInteractive',\n",
              "                                                     [key], {});\n",
              "          if (!dataTable) return;\n",
              "\n",
              "          const docLinkHtml = 'Like what you see? Visit the ' +\n",
              "            '<a target=\"_blank\" href=https://colab.research.google.com/notebooks/data_table.ipynb>data table notebook</a>'\n",
              "            + ' to learn more about interactive tables.';\n",
              "          element.innerHTML = '';\n",
              "          dataTable['output_type'] = 'display_data';\n",
              "          await google.colab.output.renderOutput(dataTable, element);\n",
              "          const docLink = document.createElement('div');\n",
              "          docLink.innerHTML = docLinkHtml;\n",
              "          element.appendChild(docLink);\n",
              "        }\n",
              "      </script>\n",
              "    </div>\n",
              "  </div>\n",
              "  "
            ]
          },
          "metadata": {},
          "execution_count": 17
        }
      ],
      "source": [
        "df[\"Ratio\"]=df[\"Height\"]/df[\"Width\"]\n",
        "df.head()"
      ]
    },
    {
      "cell_type": "code",
      "execution_count": null,
      "id": "30116d88",
      "metadata": {
        "colab": {
          "base_uri": "https://localhost:8080/",
          "height": 472
        },
        "id": "30116d88",
        "outputId": "f97874b1-b8fe-4572-8089-983496e389c7"
      },
      "outputs": [
        {
          "output_type": "display_data",
          "data": {
            "text/plain": [
              "<Figure size 640x480 with 1 Axes>"
            ],
            "image/png": "[encoded data removed]"
          },
          "metadata": {}
        }
      ],
      "source": [
        "# create the histogram plot\n",
        "plt.hist(df[\"Ratio\"], bins=40)\n",
        "\n",
        "# add labels and title\n",
        "plt.xlabel('Ratio')\n",
        "plt.ylabel('Frequency')\n",
        "plt.title('Histogram Plot')\n",
        "\n",
        "# show the plot\n",
        "plt.show()"
      ]
    },
    {
      "cell_type": "code",
      "execution_count": null,
      "id": "09952ce6",
      "metadata": {
        "colab": {
          "base_uri": "https://localhost:8080/"
        },
        "id": "09952ce6",
        "outputId": "efa28dd4-8de4-4d0b-a026-5563c1f9fdcf"
      },
      "outputs": [
        {
          "output_type": "execute_result",
          "data": {
            "text/plain": [
              "1.3736954977652924"
            ]
          },
          "metadata": {},
          "execution_count": 19
        }
      ],
      "source": [
        "(df[\"Ratio\"]).mean()"
      ]
    },
    {
      "cell_type": "code",
      "execution_count": null,
      "id": "5b664967",
      "metadata": {
        "colab": {
          "base_uri": "https://localhost:8080/"
        },
        "id": "5b664967",
        "outputId": "f460d499-0381-4e14-e273-26920bae33f1"
      },
      "outputs": [
        {
          "output_type": "execute_result",
          "data": {
            "text/plain": [
              "1.5"
            ]
          },
          "metadata": {},
          "execution_count": 20
        }
      ],
      "source": [
        "(df[\"Ratio\"]).mode()[0]"
      ]
    },
    {
      "cell_type": "code",
      "execution_count": null,
      "id": "8f2e5fa2",
      "metadata": {
        "colab": {
          "base_uri": "https://localhost:8080/",
          "height": 206
        },
        "id": "8f2e5fa2",
        "outputId": "a93bb37e-da6e-4b2b-c9ed-b40ede34f60a"
      },
      "outputs": [
        {
          "output_type": "execute_result",
          "data": {
            "text/plain": [
              "          Ratio\n",
              "1.500000  78784\n",
              "1.000000  24422\n",
              "1.499250  15896\n",
              "1.333333  12550\n",
              "0.666667  10521"
            ],
            "text/html": [
              "\n",
              "  <div id=\"df-11a09350-760d-4ed3-93f4-cc6c491882f2\">\n",
              "    <div class=\"colab-df-container\">\n",
              "      <div>\n",
              "<style scoped>\n",
              "    .dataframe tbody tr th:only-of-type {\n",
              "        vertical-align: middle;\n",
              "    }\n",
              "\n",
              "    .dataframe tbody tr th {\n",
              "        vertical-align: top;\n",
              "    }\n",
              "\n",
              "    .dataframe thead th {\n",
              "        text-align: right;\n",
              "    }\n",
              "</style>\n",
              "<table border=\"1\" class=\"dataframe\">\n",
              "  <thead>\n",
              "    <tr style=\"text-align: right;\">\n",
              "      <th></th>\n",
              "      <th>Ratio</th>\n",
              "    </tr>\n",
              "  </thead>\n",
              "  <tbody>\n",
              "    <tr>\n",
              "      <th>1.500000</th>\n",
              "      <td>78784</td>\n",
              "    </tr>\n",
              "    <tr>\n",
              "      <th>1.000000</th>\n",
              "      <td>24422</td>\n",
              "    </tr>\n",
              "    <tr>\n",
              "      <th>1.499250</th>\n",
              "      <td>15896</td>\n",
              "    </tr>\n",
              "    <tr>\n",
              "      <th>1.333333</th>\n",
              "      <td>12550</td>\n",
              "    </tr>\n",
              "    <tr>\n",
              "      <th>0.666667</th>\n",
              "      <td>10521</td>\n",
              "    </tr>\n",
              "  </tbody>\n",
              "</table>\n",
              "</div>\n",
              "      <button class=\"colab-df-convert\" onclick=\"convertToInteractive('df-11a09350-760d-4ed3-93f4-cc6c491882f2')\"\n",
              "              title=\"Convert this dataframe to an interactive table.\"\n",
              "              style=\"display:none;\">\n",
              "        \n",
              "  <svg xmlns=\"http://www.w3.org/2000/svg\" height=\"24px\"viewBox=\"0 0 24 24\"\n",
              "       width=\"24px\">\n",
              "    <path d=\"M0 0h24v24H0V0z\" fill=\"none\"/>\n",
              "    <path d=\"M18.56 5.44l.94 2.06.94-2.06 2.06-.94-2.06-.94-.94-2.06-.94 2.06-2.06.94zm-11 1L8.5 8.5l.94-2.06 2.06-.94-2.06-.94L8.5 2.5l-.94 2.06-2.06.94zm10 10l.94 2.06.94-2.06 2.06-.94-2.06-.94-.94-2.06-.94 2.06-2.06.94z\"/><path d=\"M17.41 7.96l-1.37-1.37c-.4-.4-.92-.59-1.43-.59-.52 0-1.04.2-1.43.59L10.3 9.45l-7.72 7.72c-.78.78-.78 2.05 0 2.83L4 21.41c.39.39.9.59 1.41.59.51 0 1.02-.2 1.41-.59l7.78-7.78 2.81-2.81c.8-.78.8-2.07 0-2.86zM5.41 20L4 18.59l7.72-7.72 1.47 1.35L5.41 20z\"/>\n",
              "  </svg>\n",
              "      </button>\n",
              "      \n",
              "  <style>\n",
              "    .colab-df-container {\n",
              "      display:flex;\n",
              "      flex-wrap:wrap;\n",
              "      gap: 12px;\n",
              "    }\n",
              "\n",
              "    .colab-df-convert {\n",
              "      background-color: #E8F0FE;\n",
              "      border: none;\n",
              "      border-radius: 50%;\n",
              "      cursor: pointer;\n",
              "      display: none;\n",
              "      fill: #1967D2;\n",
              "      height: 32px;\n",
              "      padding: 0 0 0 0;\n",
              "      width: 32px;\n",
              "    }\n",
              "\n",
              "    .colab-df-convert:hover {\n",
              "      background-color: #E2EBFA;\n",
              "      box-shadow: 0px 1px 2px rgba(60, 64, 67, 0.3), 0px 1px 3px 1px rgba(60, 64, 67, 0.15);\n",
              "      fill: #174EA6;\n",
              "    }\n",
              "\n",
              "    [theme=dark] .colab-df-convert {\n",
              "      background-color: #3B4455;\n",
              "      fill: #D2E3FC;\n",
              "    }\n",
              "\n",
              "    [theme=dark] .colab-df-convert:hover {\n",
              "      background-color: #434B5C;\n",
              "      box-shadow: 0px 1px 3px 1px rgba(0, 0, 0, 0.15);\n",
              "      filter: drop-shadow(0px 1px 2px rgba(0, 0, 0, 0.3));\n",
              "      fill: #FFFFFF;\n",
              "    }\n",
              "  </style>\n",
              "\n",
              "      <script>\n",
              "        const buttonEl =\n",
              "          document.querySelector('#df-11a09350-760d-4ed3-93f4-cc6c491882f2 button.colab-df-convert');\n",
              "        buttonEl.style.display =\n",
              "          google.colab.kernel.accessAllowed ? 'block' : 'none';\n",
              "\n",
              "        async function convertToInteractive(key) {\n",
              "          const element = document.querySelector('#df-11a09350-760d-4ed3-93f4-cc6c491882f2');\n",
              "          const dataTable =\n",
              "            await google.colab.kernel.invokeFunction('convertToInteractive',\n",
              "                                                     [key], {});\n",
              "          if (!dataTable) return;\n",
              "\n",
              "          const docLinkHtml = 'Like what you see? Visit the ' +\n",
              "            '<a target=\"_blank\" href=https://colab.research.google.com/notebooks/data_table.ipynb>data table notebook</a>'\n",
              "            + ' to learn more about interactive tables.';\n",
              "          element.innerHTML = '';\n",
              "          dataTable['output_type'] = 'display_data';\n",
              "          await google.colab.output.renderOutput(dataTable, element);\n",
              "          const docLink = document.createElement('div');\n",
              "          docLink.innerHTML = docLinkHtml;\n",
              "          element.appendChild(docLink);\n",
              "        }\n",
              "      </script>\n",
              "    </div>\n",
              "  </div>\n",
              "  "
            ]
          },
          "metadata": {},
          "execution_count": 21
        }
      ],
      "source": [
        "pd.DataFrame((df[\"Ratio\"]).value_counts()).head()"
      ]
    },
    {
      "cell_type": "code",
      "execution_count": null,
      "id": "e4eb1961",
      "metadata": {
        "colab": {
          "base_uri": "https://localhost:8080/",
          "height": 206
        },
        "id": "e4eb1961",
        "outputId": "1cc6a51e-29c7-4e1b-beee-a5ac423eff8f"
      },
      "outputs": [
        {
          "output_type": "execute_result",
          "data": {
            "text/plain": [
              "                            ImageId     Ratio\n",
              "0  00000663ed1ff0c4e0132b9b9ac53f6e  1.418390\n",
              "1  0000fe7c9191fba733c8a69cfaf962b7  1.000000\n",
              "2  0002ec21ddb8477e98b2cbb87ea2e269  1.502253\n",
              "3  0002f5a0ebc162ecfb73e2c91e3b8f62  1.417500\n",
              "4  0004467156e47b0eb6de4aa6479cbd15  1.500000"
            ],
            "text/html": [
              "\n",
              "  <div id=\"df-40aecef3-963c-4573-9eda-b8caafdd629a\">\n",
              "    <div class=\"colab-df-container\">\n",
              "      <div>\n",
              "<style scoped>\n",
              "    .dataframe tbody tr th:only-of-type {\n",
              "        vertical-align: middle;\n",
              "    }\n",
              "\n",
              "    .dataframe tbody tr th {\n",
              "        vertical-align: top;\n",
              "    }\n",
              "\n",
              "    .dataframe thead th {\n",
              "        text-align: right;\n",
              "    }\n",
              "</style>\n",
              "<table border=\"1\" class=\"dataframe\">\n",
              "  <thead>\n",
              "    <tr style=\"text-align: right;\">\n",
              "      <th></th>\n",
              "      <th>ImageId</th>\n",
              "      <th>Ratio</th>\n",
              "    </tr>\n",
              "  </thead>\n",
              "  <tbody>\n",
              "    <tr>\n",
              "      <th>0</th>\n",
              "      <td>00000663ed1ff0c4e0132b9b9ac53f6e</td>\n",
              "      <td>1.418390</td>\n",
              "    </tr>\n",
              "    <tr>\n",
              "      <th>1</th>\n",
              "      <td>0000fe7c9191fba733c8a69cfaf962b7</td>\n",
              "      <td>1.000000</td>\n",
              "    </tr>\n",
              "    <tr>\n",
              "      <th>2</th>\n",
              "      <td>0002ec21ddb8477e98b2cbb87ea2e269</td>\n",
              "      <td>1.502253</td>\n",
              "    </tr>\n",
              "    <tr>\n",
              "      <th>3</th>\n",
              "      <td>0002f5a0ebc162ecfb73e2c91e3b8f62</td>\n",
              "      <td>1.417500</td>\n",
              "    </tr>\n",
              "    <tr>\n",
              "      <th>4</th>\n",
              "      <td>0004467156e47b0eb6de4aa6479cbd15</td>\n",
              "      <td>1.500000</td>\n",
              "    </tr>\n",
              "  </tbody>\n",
              "</table>\n",
              "</div>\n",
              "      <button class=\"colab-df-convert\" onclick=\"convertToInteractive('df-40aecef3-963c-4573-9eda-b8caafdd629a')\"\n",
              "              title=\"Convert this dataframe to an interactive table.\"\n",
              "              style=\"display:none;\">\n",
              "        \n",
              "  <svg xmlns=\"http://www.w3.org/2000/svg\" height=\"24px\"viewBox=\"0 0 24 24\"\n",
              "       width=\"24px\">\n",
              "    <path d=\"M0 0h24v24H0V0z\" fill=\"none\"/>\n",
              "    <path d=\"M18.56 5.44l.94 2.06.94-2.06 2.06-.94-2.06-.94-.94-2.06-.94 2.06-2.06.94zm-11 1L8.5 8.5l.94-2.06 2.06-.94-2.06-.94L8.5 2.5l-.94 2.06-2.06.94zm10 10l.94 2.06.94-2.06 2.06-.94-2.06-.94-.94-2.06-.94 2.06-2.06.94z\"/><path d=\"M17.41 7.96l-1.37-1.37c-.4-.4-.92-.59-1.43-.59-.52 0-1.04.2-1.43.59L10.3 9.45l-7.72 7.72c-.78.78-.78 2.05 0 2.83L4 21.41c.39.39.9.59 1.41.59.51 0 1.02-.2 1.41-.59l7.78-7.78 2.81-2.81c.8-.78.8-2.07 0-2.86zM5.41 20L4 18.59l7.72-7.72 1.47 1.35L5.41 20z\"/>\n",
              "  </svg>\n",
              "      </button>\n",
              "      \n",
              "  <style>\n",
              "    .colab-df-container {\n",
              "      display:flex;\n",
              "      flex-wrap:wrap;\n",
              "      gap: 12px;\n",
              "    }\n",
              "\n",
              "    .colab-df-convert {\n",
              "      background-color: #E8F0FE;\n",
              "      border: none;\n",
              "      border-radius: 50%;\n",
              "      cursor: pointer;\n",
              "      display: none;\n",
              "      fill: #1967D2;\n",
              "      height: 32px;\n",
              "      padding: 0 0 0 0;\n",
              "      width: 32px;\n",
              "    }\n",
              "\n",
              "    .colab-df-convert:hover {\n",
              "      background-color: #E2EBFA;\n",
              "      box-shadow: 0px 1px 2px rgba(60, 64, 67, 0.3), 0px 1px 3px 1px rgba(60, 64, 67, 0.15);\n",
              "      fill: #174EA6;\n",
              "    }\n",
              "\n",
              "    [theme=dark] .colab-df-convert {\n",
              "      background-color: #3B4455;\n",
              "      fill: #D2E3FC;\n",
              "    }\n",
              "\n",
              "    [theme=dark] .colab-df-convert:hover {\n",
              "      background-color: #434B5C;\n",
              "      box-shadow: 0px 1px 3px 1px rgba(0, 0, 0, 0.15);\n",
              "      filter: drop-shadow(0px 1px 2px rgba(0, 0, 0, 0.3));\n",
              "      fill: #FFFFFF;\n",
              "    }\n",
              "  </style>\n",
              "\n",
              "      <script>\n",
              "        const buttonEl =\n",
              "          document.querySelector('#df-40aecef3-963c-4573-9eda-b8caafdd629a button.colab-df-convert');\n",
              "        buttonEl.style.display =\n",
              "          google.colab.kernel.accessAllowed ? 'block' : 'none';\n",
              "\n",
              "        async function convertToInteractive(key) {\n",
              "          const element = document.querySelector('#df-40aecef3-963c-4573-9eda-b8caafdd629a');\n",
              "          const dataTable =\n",
              "            await google.colab.kernel.invokeFunction('convertToInteractive',\n",
              "                                                     [key], {});\n",
              "          if (!dataTable) return;\n",
              "\n",
              "          const docLinkHtml = 'Like what you see? Visit the ' +\n",
              "            '<a target=\"_blank\" href=https://colab.research.google.com/notebooks/data_table.ipynb>data table notebook</a>'\n",
              "            + ' to learn more about interactive tables.';\n",
              "          element.innerHTML = '';\n",
              "          dataTable['output_type'] = 'display_data';\n",
              "          await google.colab.output.renderOutput(dataTable, element);\n",
              "          const docLink = document.createElement('div');\n",
              "          docLink.innerHTML = docLinkHtml;\n",
              "          element.appendChild(docLink);\n",
              "        }\n",
              "      </script>\n",
              "    </div>\n",
              "  </div>\n",
              "  "
            ]
          },
          "metadata": {},
          "execution_count": 22
        }
      ],
      "source": [
        "ratio_df = df.groupby('ImageId')['Ratio'].mean().reset_index()\n",
        "ratio_df.head()"
      ]
    },
    {
      "cell_type": "code",
      "execution_count": null,
      "id": "c3dc7a91",
      "metadata": {
        "scrolled": true,
        "colab": {
          "base_uri": "https://localhost:8080/"
        },
        "id": "c3dc7a91",
        "outputId": "a7a495c1-6444-4cbd-afd7-529d1373c595"
      },
      "outputs": [
        {
          "output_type": "stream",
          "name": "stderr",
          "text": [
            "<ipython-input-23-b0eba770b937>:1: FutureWarning: Indexing with multiple keys (implicitly converted to a tuple of keys) will be deprecated, use a list instead.\n",
            "  image_df = df.groupby('ImageId')['AttributesIds', 'ClassId'].agg(lambda x: list(x))\n"
          ]
        }
      ],
      "source": [
        "image_df = df.groupby('ImageId')['AttributesIds', 'ClassId'].agg(lambda x: list(x))\n",
        "image_df.reset_index(inplace=True)\n",
        "image_df['ImageId'] = image_df['ImageId'].astype('str')"
      ]
    },
    {
      "cell_type": "code",
      "execution_count": null,
      "id": "c1b8603c",
      "metadata": {
        "id": "c1b8603c"
      },
      "outputs": [],
      "source": [
        "names = [\"shirt, blouse\",\"top, t-shirt, sweatshirt\",\"sweater\",\"cardigan\",\n",
        "\"jacket\",\"vest\",\"pants\",\"shorts\",\"skirt\",\"coat\",\"dress\",\"jumpsuit\",\"cape\",\n",
        "\"glasses\",\"hat\",\"headband, head covering, hair accessory\",\"tie\",\"glove\",\n",
        "\"watch\",\"belt\",\"leg warmer\",\"tights, stockings\",\"sock\",\"shoe\",\"bag, wallet\",\n",
        "\"scarf\",\"umbrella\",\"hood\",\"collar\",\"lapel\",\"epaulette\",\"sleeve\",\"pocket\",\"neckline\",\n",
        "\"buckle\",\"zipper\",\"applique\",\"bead\",\"bow\",\"flower\",\"fringe\",\"ribbon\",\"rivet\",\"ruffle\",\n",
        "\"sequin\",\"tassel\"]"
      ]
    },
    {
      "cell_type": "code",
      "execution_count": null,
      "id": "76b7d75b",
      "metadata": {
        "id": "76b7d75b"
      },
      "outputs": [],
      "source": [
        "set_cls= []\n",
        "for i in range(len(image_df)):\n",
        "    classes = list(set(image_df['ClassId'].iloc[i]))\n",
        "    set_cls.append(classes)\n",
        "    \n",
        "image_df['SetClassId'] = set_cls\n",
        "image_df.drop(['AttributesIds','ClassId'],axis=1,inplace=True)"
      ]
    },
    {
      "cell_type": "code",
      "execution_count": null,
      "id": "e26c10b9",
      "metadata": {
        "scrolled": false,
        "colab": {
          "base_uri": "https://localhost:8080/",
          "height": 206
        },
        "id": "e26c10b9",
        "outputId": "a1ade9f6-8534-4626-de88-4e4f63d8e568"
      },
      "outputs": [
        {
          "output_type": "execute_result",
          "data": {
            "text/plain": [
              "                            ImageId                 SetClassId     Ratio\n",
              "0  00000663ed1ff0c4e0132b9b9ac53f6e  [0, 32, 4, 6, 28, 29, 31]  1.418390\n",
              "1  0000fe7c9191fba733c8a69cfaf962b7                    [33, 1]  1.000000\n",
              "2  0002ec21ddb8477e98b2cbb87ea2e269               [33, 10, 23]  1.502253\n",
              "3  0002f5a0ebc162ecfb73e2c91e3b8f62               [33, 10, 15]  1.417500\n",
              "4  0004467156e47b0eb6de4aa6479cbd15           [33, 10, 15, 31]  1.500000"
            ],
            "text/html": [
              "\n",
              "  <div id=\"df-2e2769ca-e331-4938-9125-b716734d22db\">\n",
              "    <div class=\"colab-df-container\">\n",
              "      <div>\n",
              "<style scoped>\n",
              "    .dataframe tbody tr th:only-of-type {\n",
              "        vertical-align: middle;\n",
              "    }\n",
              "\n",
              "    .dataframe tbody tr th {\n",
              "        vertical-align: top;\n",
              "    }\n",
              "\n",
              "    .dataframe thead th {\n",
              "        text-align: right;\n",
              "    }\n",
              "</style>\n",
              "<table border=\"1\" class=\"dataframe\">\n",
              "  <thead>\n",
              "    <tr style=\"text-align: right;\">\n",
              "      <th></th>\n",
              "      <th>ImageId</th>\n",
              "      <th>SetClassId</th>\n",
              "      <th>Ratio</th>\n",
              "    </tr>\n",
              "  </thead>\n",
              "  <tbody>\n",
              "    <tr>\n",
              "      <th>0</th>\n",
              "      <td>00000663ed1ff0c4e0132b9b9ac53f6e</td>\n",
              "      <td>[0, 32, 4, 6, 28, 29, 31]</td>\n",
              "      <td>1.418390</td>\n",
              "    </tr>\n",
              "    <tr>\n",
              "      <th>1</th>\n",
              "      <td>0000fe7c9191fba733c8a69cfaf962b7</td>\n",
              "      <td>[33, 1]</td>\n",
              "      <td>1.000000</td>\n",
              "    </tr>\n",
              "    <tr>\n",
              "      <th>2</th>\n",
              "      <td>0002ec21ddb8477e98b2cbb87ea2e269</td>\n",
              "      <td>[33, 10, 23]</td>\n",
              "      <td>1.502253</td>\n",
              "    </tr>\n",
              "    <tr>\n",
              "      <th>3</th>\n",
              "      <td>0002f5a0ebc162ecfb73e2c91e3b8f62</td>\n",
              "      <td>[33, 10, 15]</td>\n",
              "      <td>1.417500</td>\n",
              "    </tr>\n",
              "    <tr>\n",
              "      <th>4</th>\n",
              "      <td>0004467156e47b0eb6de4aa6479cbd15</td>\n",
              "      <td>[33, 10, 15, 31]</td>\n",
              "      <td>1.500000</td>\n",
              "    </tr>\n",
              "  </tbody>\n",
              "</table>\n",
              "</div>\n",
              "      <button class=\"colab-df-convert\" onclick=\"convertToInteractive('df-2e2769ca-e331-4938-9125-b716734d22db')\"\n",
              "              title=\"Convert this dataframe to an interactive table.\"\n",
              "              style=\"display:none;\">\n",
              "        \n",
              "  <svg xmlns=\"http://www.w3.org/2000/svg\" height=\"24px\"viewBox=\"0 0 24 24\"\n",
              "       width=\"24px\">\n",
              "    <path d=\"M0 0h24v24H0V0z\" fill=\"none\"/>\n",
              "    <path d=\"M18.56 5.44l.94 2.06.94-2.06 2.06-.94-2.06-.94-.94-2.06-.94 2.06-2.06.94zm-11 1L8.5 8.5l.94-2.06 2.06-.94-2.06-.94L8.5 2.5l-.94 2.06-2.06.94zm10 10l.94 2.06.94-2.06 2.06-.94-2.06-.94-.94-2.06-.94 2.06-2.06.94z\"/><path d=\"M17.41 7.96l-1.37-1.37c-.4-.4-.92-.59-1.43-.59-.52 0-1.04.2-1.43.59L10.3 9.45l-7.72 7.72c-.78.78-.78 2.05 0 2.83L4 21.41c.39.39.9.59 1.41.59.51 0 1.02-.2 1.41-.59l7.78-7.78 2.81-2.81c.8-.78.8-2.07 0-2.86zM5.41 20L4 18.59l7.72-7.72 1.47 1.35L5.41 20z\"/>\n",
              "  </svg>\n",
              "      </button>\n",
              "      \n",
              "  <style>\n",
              "    .colab-df-container {\n",
              "      display:flex;\n",
              "      flex-wrap:wrap;\n",
              "      gap: 12px;\n",
              "    }\n",
              "\n",
              "    .colab-df-convert {\n",
              "      background-color: #E8F0FE;\n",
              "      border: none;\n",
              "      border-radius: 50%;\n",
              "      cursor: pointer;\n",
              "      display: none;\n",
              "      fill: #1967D2;\n",
              "      height: 32px;\n",
              "      padding: 0 0 0 0;\n",
              "      width: 32px;\n",
              "    }\n",
              "\n",
              "    .colab-df-convert:hover {\n",
              "      background-color: #E2EBFA;\n",
              "      box-shadow: 0px 1px 2px rgba(60, 64, 67, 0.3), 0px 1px 3px 1px rgba(60, 64, 67, 0.15);\n",
              "      fill: #174EA6;\n",
              "    }\n",
              "\n",
              "    [theme=dark] .colab-df-convert {\n",
              "      background-color: #3B4455;\n",
              "      fill: #D2E3FC;\n",
              "    }\n",
              "\n",
              "    [theme=dark] .colab-df-convert:hover {\n",
              "      background-color: #434B5C;\n",
              "      box-shadow: 0px 1px 3px 1px rgba(0, 0, 0, 0.15);\n",
              "      filter: drop-shadow(0px 1px 2px rgba(0, 0, 0, 0.3));\n",
              "      fill: #FFFFFF;\n",
              "    }\n",
              "  </style>\n",
              "\n",
              "      <script>\n",
              "        const buttonEl =\n",
              "          document.querySelector('#df-2e2769ca-e331-4938-9125-b716734d22db button.colab-df-convert');\n",
              "        buttonEl.style.display =\n",
              "          google.colab.kernel.accessAllowed ? 'block' : 'none';\n",
              "\n",
              "        async function convertToInteractive(key) {\n",
              "          const element = document.querySelector('#df-2e2769ca-e331-4938-9125-b716734d22db');\n",
              "          const dataTable =\n",
              "            await google.colab.kernel.invokeFunction('convertToInteractive',\n",
              "                                                     [key], {});\n",
              "          if (!dataTable) return;\n",
              "\n",
              "          const docLinkHtml = 'Like what you see? Visit the ' +\n",
              "            '<a target=\"_blank\" href=https://colab.research.google.com/notebooks/data_table.ipynb>data table notebook</a>'\n",
              "            + ' to learn more about interactive tables.';\n",
              "          element.innerHTML = '';\n",
              "          dataTable['output_type'] = 'display_data';\n",
              "          await google.colab.output.renderOutput(dataTable, element);\n",
              "          const docLink = document.createElement('div');\n",
              "          docLink.innerHTML = docLinkHtml;\n",
              "          element.appendChild(docLink);\n",
              "        }\n",
              "      </script>\n",
              "    </div>\n",
              "  </div>\n",
              "  "
            ]
          },
          "metadata": {},
          "execution_count": 26
        }
      ],
      "source": [
        "image_df=image_df.merge(ratio_df, on='ImageId')\n",
        "image_df.head()"
      ]
    },
    {
      "cell_type": "code",
      "execution_count": null,
      "id": "12e99165",
      "metadata": {
        "colab": {
          "base_uri": "https://localhost:8080/",
          "height": 206
        },
        "id": "12e99165",
        "outputId": "6c4fb534-bbbc-4ba3-8aed-e60fef6cbc41"
      },
      "outputs": [
        {
          "output_type": "execute_result",
          "data": {
            "text/plain": [
              "                             ImageId                  SetClassId  Ratio\n",
              "4   0004467156e47b0eb6de4aa6479cbd15            [33, 10, 15, 31]    1.5\n",
              "5   00048c3a2fb9c29340473c4cfc06424a  [1, 33, 35, 8, 13, 23, 24]    1.5\n",
              "12  000c9b4926cd78edd4c19cbc6beba111                    [33, 10]    1.5\n",
              "13  000cd2e13d1bdd28f480304d7bb9e1ca  [1, 35, 37, 7, 23, 28, 31]    1.5\n",
              "15  000e18920575a2e59b3a0c38e6546d29        [33, 36, 10, 15, 23]    1.5"
            ],
            "text/html": [
              "\n",
              "  <div id=\"df-7b2e5250-7060-46a0-bdf5-87960fa26863\">\n",
              "    <div class=\"colab-df-container\">\n",
              "      <div>\n",
              "<style scoped>\n",
              "    .dataframe tbody tr th:only-of-type {\n",
              "        vertical-align: middle;\n",
              "    }\n",
              "\n",
              "    .dataframe tbody tr th {\n",
              "        vertical-align: top;\n",
              "    }\n",
              "\n",
              "    .dataframe thead th {\n",
              "        text-align: right;\n",
              "    }\n",
              "</style>\n",
              "<table border=\"1\" class=\"dataframe\">\n",
              "  <thead>\n",
              "    <tr style=\"text-align: right;\">\n",
              "      <th></th>\n",
              "      <th>ImageId</th>\n",
              "      <th>SetClassId</th>\n",
              "      <th>Ratio</th>\n",
              "    </tr>\n",
              "  </thead>\n",
              "  <tbody>\n",
              "    <tr>\n",
              "      <th>4</th>\n",
              "      <td>0004467156e47b0eb6de4aa6479cbd15</td>\n",
              "      <td>[33, 10, 15, 31]</td>\n",
              "      <td>1.5</td>\n",
              "    </tr>\n",
              "    <tr>\n",
              "      <th>5</th>\n",
              "      <td>00048c3a2fb9c29340473c4cfc06424a</td>\n",
              "      <td>[1, 33, 35, 8, 13, 23, 24]</td>\n",
              "      <td>1.5</td>\n",
              "    </tr>\n",
              "    <tr>\n",
              "      <th>12</th>\n",
              "      <td>000c9b4926cd78edd4c19cbc6beba111</td>\n",
              "      <td>[33, 10]</td>\n",
              "      <td>1.5</td>\n",
              "    </tr>\n",
              "    <tr>\n",
              "      <th>13</th>\n",
              "      <td>000cd2e13d1bdd28f480304d7bb9e1ca</td>\n",
              "      <td>[1, 35, 37, 7, 23, 28, 31]</td>\n",
              "      <td>1.5</td>\n",
              "    </tr>\n",
              "    <tr>\n",
              "      <th>15</th>\n",
              "      <td>000e18920575a2e59b3a0c38e6546d29</td>\n",
              "      <td>[33, 36, 10, 15, 23]</td>\n",
              "      <td>1.5</td>\n",
              "    </tr>\n",
              "  </tbody>\n",
              "</table>\n",
              "</div>\n",
              "      <button class=\"colab-df-convert\" onclick=\"convertToInteractive('df-7b2e5250-7060-46a0-bdf5-87960fa26863')\"\n",
              "              title=\"Convert this dataframe to an interactive table.\"\n",
              "              style=\"display:none;\">\n",
              "        \n",
              "  <svg xmlns=\"http://www.w3.org/2000/svg\" height=\"24px\"viewBox=\"0 0 24 24\"\n",
              "       width=\"24px\">\n",
              "    <path d=\"M0 0h24v24H0V0z\" fill=\"none\"/>\n",
              "    <path d=\"M18.56 5.44l.94 2.06.94-2.06 2.06-.94-2.06-.94-.94-2.06-.94 2.06-2.06.94zm-11 1L8.5 8.5l.94-2.06 2.06-.94-2.06-.94L8.5 2.5l-.94 2.06-2.06.94zm10 10l.94 2.06.94-2.06 2.06-.94-2.06-.94-.94-2.06-.94 2.06-2.06.94z\"/><path d=\"M17.41 7.96l-1.37-1.37c-.4-.4-.92-.59-1.43-.59-.52 0-1.04.2-1.43.59L10.3 9.45l-7.72 7.72c-.78.78-.78 2.05 0 2.83L4 21.41c.39.39.9.59 1.41.59.51 0 1.02-.2 1.41-.59l7.78-7.78 2.81-2.81c.8-.78.8-2.07 0-2.86zM5.41 20L4 18.59l7.72-7.72 1.47 1.35L5.41 20z\"/>\n",
              "  </svg>\n",
              "      </button>\n",
              "      \n",
              "  <style>\n",
              "    .colab-df-container {\n",
              "      display:flex;\n",
              "      flex-wrap:wrap;\n",
              "      gap: 12px;\n",
              "    }\n",
              "\n",
              "    .colab-df-convert {\n",
              "      background-color: #E8F0FE;\n",
              "      border: none;\n",
              "      border-radius: 50%;\n",
              "      cursor: pointer;\n",
              "      display: none;\n",
              "      fill: #1967D2;\n",
              "      height: 32px;\n",
              "      padding: 0 0 0 0;\n",
              "      width: 32px;\n",
              "    }\n",
              "\n",
              "    .colab-df-convert:hover {\n",
              "      background-color: #E2EBFA;\n",
              "      box-shadow: 0px 1px 2px rgba(60, 64, 67, 0.3), 0px 1px 3px 1px rgba(60, 64, 67, 0.15);\n",
              "      fill: #174EA6;\n",
              "    }\n",
              "\n",
              "    [theme=dark] .colab-df-convert {\n",
              "      background-color: #3B4455;\n",
              "      fill: #D2E3FC;\n",
              "    }\n",
              "\n",
              "    [theme=dark] .colab-df-convert:hover {\n",
              "      background-color: #434B5C;\n",
              "      box-shadow: 0px 1px 3px 1px rgba(0, 0, 0, 0.15);\n",
              "      filter: drop-shadow(0px 1px 2px rgba(0, 0, 0, 0.3));\n",
              "      fill: #FFFFFF;\n",
              "    }\n",
              "  </style>\n",
              "\n",
              "      <script>\n",
              "        const buttonEl =\n",
              "          document.querySelector('#df-7b2e5250-7060-46a0-bdf5-87960fa26863 button.colab-df-convert');\n",
              "        buttonEl.style.display =\n",
              "          google.colab.kernel.accessAllowed ? 'block' : 'none';\n",
              "\n",
              "        async function convertToInteractive(key) {\n",
              "          const element = document.querySelector('#df-7b2e5250-7060-46a0-bdf5-87960fa26863');\n",
              "          const dataTable =\n",
              "            await google.colab.kernel.invokeFunction('convertToInteractive',\n",
              "                                                     [key], {});\n",
              "          if (!dataTable) return;\n",
              "\n",
              "          const docLinkHtml = 'Like what you see? Visit the ' +\n",
              "            '<a target=\"_blank\" href=https://colab.research.google.com/notebooks/data_table.ipynb>data table notebook</a>'\n",
              "            + ' to learn more about interactive tables.';\n",
              "          element.innerHTML = '';\n",
              "          dataTable['output_type'] = 'display_data';\n",
              "          await google.colab.output.renderOutput(dataTable, element);\n",
              "          const docLink = document.createElement('div');\n",
              "          docLink.innerHTML = docLinkHtml;\n",
              "          element.appendChild(docLink);\n",
              "        }\n",
              "      </script>\n",
              "    </div>\n",
              "  </div>\n",
              "  "
            ]
          },
          "metadata": {},
          "execution_count": 27
        }
      ],
      "source": [
        "image_df = image_df[image_df['Ratio'] == 1.5]\n",
        "image_df.head()"
      ]
    },
    {
      "cell_type": "code",
      "execution_count": null,
      "id": "811e0de8",
      "metadata": {
        "colab": {
          "base_uri": "https://localhost:8080/"
        },
        "id": "811e0de8",
        "outputId": "3b0961c7-8a55-4d9a-dbe4-bf0d651aa24e"
      },
      "outputs": [
        {
          "output_type": "execute_result",
          "data": {
            "text/plain": [
              "(9817, 3)"
            ]
          },
          "metadata": {},
          "execution_count": 28
        }
      ],
      "source": [
        "image_df.shape"
      ]
    },
    {
      "cell_type": "code",
      "execution_count": null,
      "id": "71f23500",
      "metadata": {
        "colab": {
          "base_uri": "https://localhost:8080/"
        },
        "id": "71f23500",
        "outputId": "4193941b-f512-4248-eee0-b2fd4f35edd4"
      },
      "outputs": [
        {
          "output_type": "stream",
          "name": "stdout",
          "text": [
            "Number of images that have only one class:\n",
            "13\n"
          ]
        }
      ],
      "source": [
        "indices = []\n",
        "\n",
        "# Loop through the rows of the DataFrame\n",
        "for i in range(len(image_df)):\n",
        "    if len(image_df.SetClassId.iloc[i]) == 1:\n",
        "        indices.append(i)\n",
        "print(\"Number of images that have only one class:\")\n",
        "print(len(indices))"
      ]
    },
    {
      "cell_type": "markdown",
      "id": "f3dbdff9",
      "metadata": {
        "id": "f3dbdff9"
      },
      "source": [
        "So only 13 images have only one class so we couldn't make the data binary with this strategy "
      ]
    },
    {
      "cell_type": "markdown",
      "id": "eb3ba803",
      "metadata": {
        "id": "eb3ba803"
      },
      "source": [
        "Our next idea would be making data binary by the tags of Dress"
      ]
    },
    {
      "cell_type": "code",
      "execution_count": null,
      "id": "89786f58",
      "metadata": {
        "id": "89786f58"
      },
      "outputs": [],
      "source": [
        "# Define the numbers to search for\n",
        "search_numbers = [10]\n",
        "\n",
        "# Create a boolean mask indicating which rows contain the specified numbers\n",
        "mask = image_df['SetClassId'].apply(lambda x: any([num in x for num in search_numbers]))\n",
        "\n",
        "# Filter the DataFrame based on the mask\n",
        "filtered_df = image_df[mask]\n",
        "other_df = image_df[~mask]\n"
      ]
    },
    {
      "cell_type": "code",
      "execution_count": null,
      "id": "aaac4ffc",
      "metadata": {
        "colab": {
          "base_uri": "https://localhost:8080/"
        },
        "id": "aaac4ffc",
        "outputId": "c4285946-0bb8-4817-b3d7-489aa7d33939"
      },
      "outputs": [
        {
          "output_type": "execute_result",
          "data": {
            "text/plain": [
              "(4113, 3)"
            ]
          },
          "metadata": {},
          "execution_count": 31
        }
      ],
      "source": [
        "filtered_df.shape"
      ]
    },
    {
      "cell_type": "code",
      "execution_count": null,
      "id": "6574cbe1",
      "metadata": {
        "colab": {
          "base_uri": "https://localhost:8080/"
        },
        "id": "6574cbe1",
        "outputId": "157c942e-10eb-4dd1-be73-0609156fb339"
      },
      "outputs": [
        {
          "output_type": "execute_result",
          "data": {
            "text/plain": [
              "(5704, 3)"
            ]
          },
          "metadata": {},
          "execution_count": 32
        }
      ],
      "source": [
        "other_df.shape"
      ]
    },
    {
      "cell_type": "code",
      "execution_count": null,
      "id": "739f281e",
      "metadata": {
        "scrolled": true,
        "id": "739f281e"
      },
      "outputs": [],
      "source": [
        "for i in range(5):\n",
        "    x = np.random.randint(0,len(filtered_df),size=(1,))[0]\n",
        "    ID = filtered_df['ImageId'].iloc[x]\n",
        "    classes = filtered_df['SetClassId'].iloc[x]\n",
        "    print('*'*50)\n",
        "    plt.imshow(mpimg.imread(f'train/{ID}.jpg'))\n",
        "    plt.show()\n",
        "    for j in range(len(classes)):\n",
        "        print('[{}] {} '.format(j,names[classes[j]]))\n",
        "    print('*'*50)\n",
        "    "
      ]
    },
    {
      "cell_type": "code",
      "source": [
        "import os\n",
        "from google.colab import drive\n",
        "drive.mount('/content/drive')\n",
        "\n",
        "print(os.getcwd())  # Print current working directory\n",
        "\n"
      ],
      "metadata": {
        "id": "qI0ibIheBuNH",
        "outputId": "698a9071-d30a-4318-e189-00794399ad89",
        "colab": {
          "base_uri": "https://localhost:8080/"
        }
      },
      "id": "qI0ibIheBuNH",
      "execution_count": null,
      "outputs": [
        {
          "output_type": "stream",
          "name": "stdout",
          "text": [
            "Drive already mounted at /content/drive; to attempt to forcibly remount, call drive.mount(\"/content/drive\", force_remount=True).\n",
            "/content\n"
          ]
        }
      ]
    },
    {
      "cell_type": "code",
      "execution_count": null,
      "id": "a4e685f2",
      "metadata": {
        "id": "a4e685f2",
        "outputId": "fbf05074-1836-4753-c04e-596ba6325789"
      },
      "outputs": [
        {
          "name": "stdout",
          "output_type": "stream",
          "text": [
            "**************************************************\n"
          ]
        },
        {
          "data": {
            "image/png": "[encoded data removed]",
            "text/plain": [
              "<Figure size 432x288 with 1 Axes>"
            ]
          },
          "metadata": {
            "needs_background": "light"
          },
          "output_type": "display_data"
        },
        {
          "name": "stdout",
          "output_type": "stream",
          "text": [
            "[0] top, t-shirt, sweatshirt \n",
            "[1] sleeve \n",
            "[2] neckline \n",
            "**************************************************\n",
            "**************************************************\n"
          ]
        },
        {
          "data": {
            "image/png": "[encoded data removed]",
            "text/plain": [
              "<Figure size 432x288 with 1 Axes>"
            ]
          },
          "metadata": {
            "needs_background": "light"
          },
          "output_type": "display_data"
        },
        {
          "name": "stdout",
          "output_type": "stream",
          "text": [
            "[0] neckline \n",
            "[1] sweater \n",
            "[2] zipper \n",
            "[3] jacket \n",
            "[4] pants \n",
            "[5] shoe \n",
            "[6] lapel \n",
            "[7] sleeve \n",
            "**************************************************\n",
            "**************************************************\n"
          ]
        },
        {
          "data": {
            "image/png": "[encoded data removed]",
            "text/plain": [
              "<Figure size 432x288 with 1 Axes>"
            ]
          },
          "metadata": {
            "needs_background": "light"
          },
          "output_type": "display_data"
        },
        {
          "name": "stdout",
          "output_type": "stream",
          "text": [
            "[0] neckline \n",
            "[1] jumpsuit \n",
            "[2] shoe \n",
            "**************************************************\n",
            "**************************************************\n"
          ]
        },
        {
          "data": {
            "image/png": "[encoded data removed]",
            "text/plain": [
              "<Figure size 432x288 with 1 Axes>"
            ]
          },
          "metadata": {
            "needs_background": "light"
          },
          "output_type": "display_data"
        },
        {
          "name": "stdout",
          "output_type": "stream",
          "text": [
            "[0] top, t-shirt, sweatshirt \n",
            "[1] sleeve \n",
            "[2] neckline \n",
            "**************************************************\n",
            "**************************************************\n"
          ]
        },
        {
          "data": {
            "image/png": "[encoded data removed]",
            "text/plain": [
              "<Figure size 432x288 with 1 Axes>"
            ]
          },
          "metadata": {
            "needs_background": "light"
          },
          "output_type": "display_data"
        },
        {
          "name": "stdout",
          "output_type": "stream",
          "text": [
            "[0] pocket \n",
            "[1] top, t-shirt, sweatshirt \n",
            "[2] neckline \n",
            "[3] jacket \n",
            "[4] shorts \n",
            "[5] shoe \n",
            "[6] bag, wallet \n",
            "**************************************************\n"
          ]
        }
      ],
      "source": [
        "for i in range(5):\n",
        "    x = np.random.randint(0,len(other_df),size=(1,))[0]\n",
        "    ID = other_df['ImageId'].iloc[x]\n",
        "    classes = other_df['SetClassId'].iloc[x]\n",
        "    print('*'*50)\n",
        "    plt.imshow(mpimg.imread(f'/Users/macbook/Desktop/Uni/Quarter 4/Deep Learning/Project/imaterialist-fashion-2020-fgvc7/train/{ID}.jpg'))\n",
        "    plt.show()\n",
        "    for j in range(len(classes)):\n",
        "        print('[{}] {} '.format(j,names[classes[j]]))\n",
        "    print('*'*50)"
      ]
    },
    {
      "cell_type": "markdown",
      "id": "f16a56fe",
      "metadata": {
        "id": "f16a56fe"
      },
      "source": [
        "# Adding Class Column"
      ]
    },
    {
      "cell_type": "markdown",
      "id": "4f9b2ce0",
      "metadata": {
        "id": "4f9b2ce0"
      },
      "source": [
        "Dress = 1 and Non-Dress = 0"
      ]
    },
    {
      "cell_type": "code",
      "execution_count": null,
      "id": "c43424f4",
      "metadata": {
        "scrolled": true,
        "id": "c43424f4",
        "outputId": "09e1ef19-e5c5-4f94-a08e-0d1e8b11aacd"
      },
      "outputs": [
        {
          "name": "stderr",
          "output_type": "stream",
          "text": [
            "/var/folders/s5/4b25bvq14pqbm1qxsg0hhlr40000gn/T/ipykernel_23079/4009865848.py:1: SettingWithCopyWarning: \n",
            "A value is trying to be set on a copy of a slice from a DataFrame.\n",
            "Try using .loc[row_indexer,col_indexer] = value instead\n",
            "\n",
            "See the caveats in the documentation: https://pandas.pydata.org/pandas-docs/stable/user_guide/indexing.html#returning-a-view-versus-a-copy\n",
            "  filtered_df[\"Class\"]=1\n",
            "/var/folders/s5/4b25bvq14pqbm1qxsg0hhlr40000gn/T/ipykernel_23079/4009865848.py:2: SettingWithCopyWarning: \n",
            "A value is trying to be set on a copy of a slice from a DataFrame.\n",
            "Try using .loc[row_indexer,col_indexer] = value instead\n",
            "\n",
            "See the caveats in the documentation: https://pandas.pydata.org/pandas-docs/stable/user_guide/indexing.html#returning-a-view-versus-a-copy\n",
            "  other_df[\"Class\"]=0\n"
          ]
        }
      ],
      "source": [
        "filtered_df[\"Class\"]=1\n",
        "other_df[\"Class\"]=0"
      ]
    },
    {
      "cell_type": "markdown",
      "id": "4c41db95",
      "metadata": {
        "id": "4c41db95"
      },
      "source": [
        "Choose a Sample of 10,000 row data"
      ]
    },
    {
      "cell_type": "code",
      "execution_count": null,
      "id": "efb1ca40",
      "metadata": {
        "id": "efb1ca40"
      },
      "outputs": [],
      "source": [
        "Sample_One=filtered_df.sample(n=4000, random_state=1)\n",
        "Sample_Zero=other_df.sample(n=4000, random_state=1)"
      ]
    },
    {
      "cell_type": "code",
      "execution_count": null,
      "id": "b4dfbdcb",
      "metadata": {
        "id": "b4dfbdcb",
        "outputId": "9b7b92ee-e58e-4701-9c72-aae85cd53f45"
      },
      "outputs": [
        {
          "data": {
            "text/html": [
              "<div>\n",
              "<style scoped>\n",
              "    .dataframe tbody tr th:only-of-type {\n",
              "        vertical-align: middle;\n",
              "    }\n",
              "\n",
              "    .dataframe tbody tr th {\n",
              "        vertical-align: top;\n",
              "    }\n",
              "\n",
              "    .dataframe thead th {\n",
              "        text-align: right;\n",
              "    }\n",
              "</style>\n",
              "<table border=\"1\" class=\"dataframe\">\n",
              "  <thead>\n",
              "    <tr style=\"text-align: right;\">\n",
              "      <th></th>\n",
              "      <th>ImageId</th>\n",
              "      <th>SetClassId</th>\n",
              "      <th>Ratio</th>\n",
              "      <th>Class</th>\n",
              "    </tr>\n",
              "  </thead>\n",
              "  <tbody>\n",
              "    <tr>\n",
              "      <th>27728</th>\n",
              "      <td>9b01f757e9d3e3fc5e952777a96b4a89</td>\n",
              "      <td>[33, 1, 10, 23, 31]</td>\n",
              "      <td>1.5</td>\n",
              "      <td>1</td>\n",
              "    </tr>\n",
              "    <tr>\n",
              "      <th>30430</th>\n",
              "      <td>aa5abdaffe018a1120b398c95b73421a</td>\n",
              "      <td>[33, 10, 19]</td>\n",
              "      <td>1.5</td>\n",
              "      <td>1</td>\n",
              "    </tr>\n",
              "    <tr>\n",
              "      <th>40662</th>\n",
              "      <td>e4799cbf1636e0ba03ca83b6c6900376</td>\n",
              "      <td>[33, 10, 23, 31]</td>\n",
              "      <td>1.5</td>\n",
              "      <td>1</td>\n",
              "    </tr>\n",
              "    <tr>\n",
              "      <th>6148</th>\n",
              "      <td>225817254a2f21bda925bdad41d98c10</td>\n",
              "      <td>[33, 10, 15, 23, 31]</td>\n",
              "      <td>1.5</td>\n",
              "      <td>1</td>\n",
              "    </tr>\n",
              "    <tr>\n",
              "      <th>32577</th>\n",
              "      <td>b68ddc7f37b231502787fc8b1c02464c</td>\n",
              "      <td>[1, 33, 10, 19, 28, 31]</td>\n",
              "      <td>1.5</td>\n",
              "      <td>1</td>\n",
              "    </tr>\n",
              "    <tr>\n",
              "      <th>...</th>\n",
              "      <td>...</td>\n",
              "      <td>...</td>\n",
              "      <td>...</td>\n",
              "      <td>...</td>\n",
              "    </tr>\n",
              "    <tr>\n",
              "      <th>37347</th>\n",
              "      <td>d1a26c080b2905f8349fcab2b8bae2d7</td>\n",
              "      <td>[0, 6, 24, 28, 31]</td>\n",
              "      <td>1.5</td>\n",
              "      <td>0</td>\n",
              "    </tr>\n",
              "    <tr>\n",
              "      <th>18358</th>\n",
              "      <td>6735faf45054c79ad33b47ad53a629be</td>\n",
              "      <td>[32, 0, 4, 6, 16, 18, 28, 29, 31]</td>\n",
              "      <td>1.5</td>\n",
              "      <td>0</td>\n",
              "    </tr>\n",
              "    <tr>\n",
              "      <th>43592</th>\n",
              "      <td>f5001c233ae05d4675e752b2d797f00a</td>\n",
              "      <td>[32, 0, 4, 6, 16, 22, 23, 28, 29, 31]</td>\n",
              "      <td>1.5</td>\n",
              "      <td>0</td>\n",
              "    </tr>\n",
              "    <tr>\n",
              "      <th>37199</th>\n",
              "      <td>d0c14188313179dac499039ddc274bc1</td>\n",
              "      <td>[33, 34, 35, 1, 8, 43, 19, 23]</td>\n",
              "      <td>1.5</td>\n",
              "      <td>0</td>\n",
              "    </tr>\n",
              "    <tr>\n",
              "      <th>22929</th>\n",
              "      <td>80637bae50c888587a6d4fd077f42d05</td>\n",
              "      <td>[32, 1, 6, 24, 25, 31]</td>\n",
              "      <td>1.5</td>\n",
              "      <td>0</td>\n",
              "    </tr>\n",
              "  </tbody>\n",
              "</table>\n",
              "<p>8000 rows × 4 columns</p>\n",
              "</div>"
            ],
            "text/plain": [
              "                                ImageId  \\\n",
              "27728  9b01f757e9d3e3fc5e952777a96b4a89   \n",
              "30430  aa5abdaffe018a1120b398c95b73421a   \n",
              "40662  e4799cbf1636e0ba03ca83b6c6900376   \n",
              "6148   225817254a2f21bda925bdad41d98c10   \n",
              "32577  b68ddc7f37b231502787fc8b1c02464c   \n",
              "...                                 ...   \n",
              "37347  d1a26c080b2905f8349fcab2b8bae2d7   \n",
              "18358  6735faf45054c79ad33b47ad53a629be   \n",
              "43592  f5001c233ae05d4675e752b2d797f00a   \n",
              "37199  d0c14188313179dac499039ddc274bc1   \n",
              "22929  80637bae50c888587a6d4fd077f42d05   \n",
              "\n",
              "                                  SetClassId  Ratio  Class  \n",
              "27728                    [33, 1, 10, 23, 31]    1.5      1  \n",
              "30430                           [33, 10, 19]    1.5      1  \n",
              "40662                       [33, 10, 23, 31]    1.5      1  \n",
              "6148                    [33, 10, 15, 23, 31]    1.5      1  \n",
              "32577                [1, 33, 10, 19, 28, 31]    1.5      1  \n",
              "...                                      ...    ...    ...  \n",
              "37347                     [0, 6, 24, 28, 31]    1.5      0  \n",
              "18358      [32, 0, 4, 6, 16, 18, 28, 29, 31]    1.5      0  \n",
              "43592  [32, 0, 4, 6, 16, 22, 23, 28, 29, 31]    1.5      0  \n",
              "37199         [33, 34, 35, 1, 8, 43, 19, 23]    1.5      0  \n",
              "22929                 [32, 1, 6, 24, 25, 31]    1.5      0  \n",
              "\n",
              "[8000 rows x 4 columns]"
            ]
          },
          "execution_count": 794,
          "metadata": {},
          "output_type": "execute_result"
        }
      ],
      "source": [
        "# Join the two DataFrames based on the 'ImageId' column\n",
        "merged_df = pd.concat([Sample_One, Sample_Zero], sort=False)\n",
        "\n",
        "# Print the merged DataFrame\n",
        "merged_df"
      ]
    },
    {
      "cell_type": "code",
      "execution_count": null,
      "id": "9096f8c0",
      "metadata": {
        "id": "9096f8c0"
      },
      "outputs": [],
      "source": [
        "from sklearn.model_selection import train_test_split"
      ]
    },
    {
      "cell_type": "code",
      "execution_count": null,
      "id": "37df0009",
      "metadata": {
        "id": "37df0009"
      },
      "outputs": [],
      "source": [
        "y_tc, y_test = train_test_split(merged_df, test_size=0.2, random_state=42)\n",
        "y_train, y_cv = train_test_split(y_tc, test_size=0.25, random_state=42)"
      ]
    },
    {
      "cell_type": "code",
      "execution_count": null,
      "id": "60fa3b2a",
      "metadata": {
        "id": "60fa3b2a"
      },
      "outputs": [],
      "source": [
        "y_train = y_train.reset_index(drop=True)\n",
        "y_test = y_test.reset_index(drop=True)\n",
        "y_cv = y_cv.reset_index(drop=True)\n"
      ]
    },
    {
      "cell_type": "code",
      "execution_count": null,
      "id": "04d30d41",
      "metadata": {
        "id": "04d30d41",
        "outputId": "da729ffb-d75b-4df9-d600-fe078017eb1f"
      },
      "outputs": [
        {
          "data": {
            "text/plain": [
              "42"
            ]
          },
          "execution_count": 798,
          "metadata": {},
          "output_type": "execute_result"
        }
      ],
      "source": [
        "h_num_px=63\n",
        "w_num_px=int(h_num_px/1.5)\n",
        "\n",
        "w_num_px"
      ]
    },
    {
      "cell_type": "code",
      "execution_count": null,
      "id": "7f54779f",
      "metadata": {
        "scrolled": true,
        "id": "7f54779f"
      },
      "outputs": [],
      "source": [
        "from PIL import Image\n",
        "import numpy as np\n",
        "\n",
        "# Initialize an empty array to hold the images\n",
        "X_test = np.empty((0, h_num_px, w_num_px, 3), dtype=np.uint8)\n",
        "Y_test = y_test.copy()\n",
        "Drop_ID_test=[]\n",
        "\n",
        "\n",
        "for ID in y_test[\"ImageId\"]:\n",
        "    try:\n",
        "        # load image using PIL\n",
        "        img = Image.open((f'/Users/macbook/Desktop/Uni/Quarter 4/Deep Learning/Project/imaterialist-fashion-2020-fgvc7/train/{ID}.jpg')).resize((w_num_px, h_num_px))\n",
        "        # convert to numpy array\n",
        "        img_array = np.asarray(img)\n",
        "        array = np.expand_dims(img_array, axis=0)\n",
        "        X_test = np.append(X_test, array, axis=0)\n",
        "    except Exception as e:\n",
        "        print(f\"Error loading image {ID}: {e}\")\n",
        "        Drop_ID_test.append(ID)\n",
        "        #Y_test.drop(Y_test[Y_test[\"ImageID\"] == ID].index, inplace=True)\n"
      ]
    },
    {
      "cell_type": "code",
      "execution_count": null,
      "id": "1eaaeab0",
      "metadata": {
        "scrolled": true,
        "id": "1eaaeab0",
        "outputId": "1365f4f3-4a4f-4da2-b39b-59542129a196"
      },
      "outputs": [
        {
          "name": "stdout",
          "output_type": "stream",
          "text": [
            "Error loading image 4e11531bffbd53642119f548f31853dd: all the input arrays must have same number of dimensions, but the array at index 0 has 4 dimension(s) and the array at index 1 has 3 dimension(s)\n"
          ]
        }
      ],
      "source": [
        "from PIL import Image\n",
        "import numpy as np\n",
        "\n",
        "# Initialize an empty array to hold the images\n",
        "X_train = np.empty((0, h_num_px, w_num_px, 3), dtype=np.uint8)\n",
        "Y_train = y_train.copy()\n",
        "Drop_ID_train=[]\n",
        "\n",
        "for ID in y_train[\"ImageId\"]:\n",
        "    try:\n",
        "        # load image using PIL\n",
        "        img = Image.open((f'/Users/macbook/Desktop/Uni/Quarter 4/Deep Learning/Project/imaterialist-fashion-2020-fgvc7/train/{ID}.jpg')).resize((w_num_px, h_num_px))\n",
        "        # convert to numpy array\n",
        "        img_array = np.asarray(img)\n",
        "        array = np.expand_dims(img_array, axis=0)\n",
        "        X_train = np.append(X_train, array, axis=0)\n",
        "    except Exception as e:\n",
        "        print(f\"Error loading image {ID}: {e}\")\n",
        "        Drop_ID_train.append(ID)\n",
        "        #y_train.drop(y_train[y_train['ImageID'] == ID].index, inplace=True)\n",
        "        "
      ]
    },
    {
      "cell_type": "code",
      "execution_count": null,
      "id": "7f36daf2",
      "metadata": {
        "id": "7f36daf2"
      },
      "outputs": [],
      "source": [
        "from PIL import Image\n",
        "import numpy as np\n",
        "\n",
        "# Initialize an empty array to hold the images\n",
        "X_cv = np.empty((0, h_num_px, w_num_px, 3), dtype=np.uint8)\n",
        "Y_cv = y_cv.copy()\n",
        "Drop_ID_cv=[]\n",
        "\n",
        "for ID in y_cv[\"ImageId\"]:\n",
        "    try:\n",
        "        # load image using PIL\n",
        "        img = Image.open((f'/Users/macbook/Desktop/Uni/Quarter 4/Deep Learning/Project/imaterialist-fashion-2020-fgvc7/train/{ID}.jpg')).resize((w_num_px, h_num_px))\n",
        "        # convert to numpy array\n",
        "        img_array = np.asarray(img)\n",
        "        array = np.expand_dims(img_array, axis=0)\n",
        "        X_cv = np.append(X_cv, array, axis=0)\n",
        "    except Exception as e:\n",
        "        print(f\"Error loading image {ID}: {e}\")\n",
        "        Drop_ID_cv.append(ID)\n",
        "        #y_cv.drop(y_cv[y_cv['ImageID'] == ID].index, inplace=True)\n",
        "        "
      ]
    },
    {
      "cell_type": "code",
      "execution_count": null,
      "id": "76b2c9c3",
      "metadata": {
        "id": "76b2c9c3"
      },
      "outputs": [],
      "source": [
        "for ID in Drop_ID_test:\n",
        "    Y_test.drop(Y_test[Y_test[\"ImageId\"] == ID].index, inplace=True)\n",
        "\n",
        "for ID in Drop_ID_train:\n",
        "    Y_train.drop(Y_train[Y_train['ImageId'] == ID].index, inplace=True)\n",
        "\n",
        "for ID in Drop_ID_cv:\n",
        "    Y_cv.drop(Y_cv[Y_cv['ImageId'] == ID].index, inplace=True)\n",
        "\n",
        "train_set_y=np.array(Y_train[\"Class\"])\n",
        "test_set_y=np.array(Y_test[\"Class\"])\n",
        "cv_set_y=np.array(Y_cv[\"Class\"])"
      ]
    },
    {
      "cell_type": "code",
      "execution_count": null,
      "id": "c827024d",
      "metadata": {
        "id": "c827024d",
        "outputId": "1b4c8597-2245-405a-8d51-feb29b3f7f1f"
      },
      "outputs": [
        {
          "name": "stdout",
          "output_type": "stream",
          "text": [
            "train: 4799\n",
            "cv: 1600\n",
            "test: 1600\n"
          ]
        }
      ],
      "source": [
        "print(\"train:\",train_set_y.shape[0])\n",
        "print(\"cv:\", cv_set_y.shape[0])\n",
        "print(\"test:\",test_set_y.shape[0])"
      ]
    },
    {
      "cell_type": "code",
      "execution_count": null,
      "id": "6a0a3a1c",
      "metadata": {
        "scrolled": true,
        "id": "6a0a3a1c"
      },
      "outputs": [],
      "source": [
        "train_set_x_flatten = X_train.reshape(X_train.shape[0], -1).T\n",
        "test_set_x_flatten = X_test.reshape(X_test.shape[0], -1).T\n",
        "cv_set_x_flatten = X_cv.reshape(X_cv.shape[0], -1).T"
      ]
    },
    {
      "cell_type": "code",
      "execution_count": null,
      "id": "deb7a2cc",
      "metadata": {
        "id": "deb7a2cc"
      },
      "outputs": [],
      "source": [
        "train_set_x = train_set_x_flatten/255.\n",
        "test_set_x = test_set_x_flatten/255.\n",
        "cv_set_x = cv_set_x_flatten/255."
      ]
    },
    {
      "cell_type": "markdown",
      "source": [
        "**Importing Arrays**\n"
      ],
      "metadata": {
        "id": "NZw1YzoWkOY0"
      },
      "id": "NZw1YzoWkOY0"
    },
    {
      "cell_type": "markdown",
      "id": "0a4b8d2d",
      "metadata": {
        "id": "0a4b8d2d"
      },
      "source": [
        "# Logistic Regression Model"
      ]
    },
    {
      "cell_type": "code",
      "execution_count": null,
      "id": "08321664",
      "metadata": {
        "id": "08321664"
      },
      "outputs": [],
      "source": [
        "def initialize_with_zeros(dim):\n",
        "    w = np.zeros((dim,1))\n",
        "    b = 0\n",
        "    \n",
        "    assert(w.shape == (dim, 1))\n",
        "    assert(isinstance(b, float) or isinstance(b, int))\n",
        "    \n",
        "    return w, b"
      ]
    },
    {
      "cell_type": "code",
      "execution_count": null,
      "id": "ee9e6adf",
      "metadata": {
        "id": "ee9e6adf"
      },
      "outputs": [],
      "source": [
        "def sigmoid(z):\n",
        "    s = 1/(1+np.exp(-z))\n",
        "    return s"
      ]
    },
    {
      "cell_type": "code",
      "execution_count": null,
      "id": "3f229292",
      "metadata": {
        "id": "3f229292"
      },
      "outputs": [],
      "source": [
        "def propagate(w, b, X, Y):\n",
        "\n",
        "    m = X.shape[1]\n",
        "    \n",
        "    # FORWARD PROPAGATION (FROM X TO COST)\n",
        "    A = sigmoid(np.dot(w.T,X)+b)                                    \n",
        "    cost = (-1/m)*np.sum(Y*np.log(A)+(1-Y)*np.log(1-A))                                 \n",
        "    \n",
        "    \n",
        "    # BACKWARD PROPAGATION (TO FIND GRAD)\n",
        "    Dw = (1/m)*np.dot(X, (A-Y).T)\n",
        "    Db = (1/m)*np.sum(A-Y)\n",
        "\n",
        "    assert(Dw.shape == w.shape)\n",
        "    assert(Db.dtype == float)\n",
        "    cost = np.squeeze(cost)\n",
        "    assert(cost.shape == ())\n",
        "    \n",
        "    grads = {\"Dw\": Dw,\n",
        "             \"Db\": Db}\n",
        "    \n",
        "    return grads, cost"
      ]
    },
    {
      "cell_type": "code",
      "execution_count": null,
      "id": "3ffc03c1",
      "metadata": {
        "id": "3ffc03c1"
      },
      "outputs": [],
      "source": [
        "def optimize(w, b, X, Y, num_iterations, learning_rate, print_cost = False):\n",
        "    \n",
        "    costs = []\n",
        "    \n",
        "    for i in range(num_iterations):\n",
        "        grads, cost = propagate(w, b, X, Y)\n",
        "\n",
        "        \n",
        "        # Retrieve derivatives from grads\n",
        "        Dw = grads[\"Dw\"]\n",
        "        Db = grads[\"Db\"]\n",
        "        \n",
        "        # update rule \n",
        "        w = w - learning_rate *Dw\n",
        "        b = b - learning_rate *Db\n",
        "        \n",
        "        # Record the costs\n",
        "        if i % 100 == 0:\n",
        "            costs.append(cost)\n",
        "        \n",
        "        # Print the cost every 100 training iterations\n",
        "        if print_cost and i % 100 == 0:\n",
        "            print (\"Cost after iteration %i: %f\" %(i, cost))\n",
        "    \n",
        "    params = {\"w\": w,\n",
        "              \"b\": b}\n",
        "    \n",
        "    grads = {\"Dw\": Dw,\n",
        "             \"Db\": Db}\n",
        "    \n",
        "    return params, grads, costs"
      ]
    },
    {
      "cell_type": "code",
      "execution_count": null,
      "id": "f38256a5",
      "metadata": {
        "id": "f38256a5"
      },
      "outputs": [],
      "source": [
        "def predict(w, b, X):\n",
        "    m = X.shape[1]\n",
        "    Y_prediction = np.zeros((1,m))\n",
        "    w = w.reshape(X.shape[0], 1)\n",
        "    \n",
        "    # Compute vector \"A\" predicting the probabilities of a cat being present in the picture\n",
        "    A = sigmoid(np.dot(w.T,X)+b) \n",
        "        \n",
        "    for i in range(A.shape[1]):  \n",
        "        # Convert probabilities A[0,i] to actual predictions p[0,i]\n",
        "        if A[0,i] <= 0.5:\n",
        "            Y_prediction[0,i]=0\n",
        "        else:\n",
        "            Y_prediction[0,i]=1\n",
        "            \n",
        "    \n",
        "    assert(Y_prediction.shape == (1, m))\n",
        "    \n",
        "    return Y_prediction"
      ]
    },
    {
      "cell_type": "code",
      "execution_count": null,
      "id": "2c020255",
      "metadata": {
        "id": "2c020255"
      },
      "outputs": [],
      "source": [
        "def model(X_train, Y_train, X_test, Y_test, X_cv, Y_cv, num_iterations = 2000, learning_rate = 0.5, print_cost = False):\n",
        "    # initialize parameters with zeros \n",
        "    w, b = initialize_with_zeros(X_train.shape[0])\n",
        "\n",
        "    # Gradient descent \n",
        "    parameters, grads, costs = optimize(w, b, X_train, Y_train, num_iterations, learning_rate, print_cost = False)\n",
        "    \n",
        "    # Retrieve parameters w and b from dictionary \"parameters\"\n",
        "    w = parameters[\"w\"]\n",
        "    b = parameters[\"b\"]\n",
        "    \n",
        "    # Predict test/train set examples \n",
        "    Y_prediction_test = predict(w, b, X_test)\n",
        "    Y_prediction_train = predict(w, b, X_train)\n",
        "    Y_prediction_cv = predict(w, b, X_cv)\n",
        "\n",
        "\n",
        "    \n",
        "    # Print train/test Errors\n",
        "    print(\"train accuracy: {} %\".format(100 - np.mean(np.abs(Y_prediction_train - Y_train)) * 100))\n",
        "    print(\"test accuracy: {} %\".format(100 - np.mean(np.abs(Y_prediction_test - Y_test)) * 100))\n",
        "    print(\"cv accuracy: {} %\".format(100 - np.mean(np.abs(Y_prediction_cv - Y_cv)) * 100))\n",
        "\n",
        "    \n",
        "    d = {\"costs\": costs,\n",
        "         \"Y_prediction_test\": Y_prediction_test, \n",
        "         \"Y_prediction_train\" : Y_prediction_train,\n",
        "         \"Y_prediction_cv\" : Y_prediction_cv,\n",
        "         \"w\" : w, \n",
        "         \"b\" : b,\n",
        "         \"learning_rate\" : learning_rate,\n",
        "         \"num_iterations\": num_iterations}\n",
        "    \n",
        "    # plot the cost\n",
        "\n",
        "    plt.plot(np.squeeze(costs))\n",
        "    plt.ylabel('cost')\n",
        "    plt.xlabel('iterations (per hundreds)')\n",
        "    plt.title(\"Learning rate =\" + str(learning_rate))\n",
        "    plt.show()\n",
        "    \n",
        "    return d"
      ]
    },
    {
      "cell_type": "code",
      "execution_count": null,
      "id": "5b68fa4b",
      "metadata": {
        "id": "5b68fa4b",
        "outputId": "e5d4f5b1-40d3-4146-d5d0-6b0e43d06750",
        "colab": {
          "base_uri": "https://localhost:8080/",
          "height": 526
        }
      },
      "outputs": [
        {
          "output_type": "stream",
          "name": "stdout",
          "text": [
            "train accuracy: 61.30443842467181 %\n",
            "test accuracy: 59.9375 %\n",
            "cv accuracy: 61.9375 %\n"
          ]
        },
        {
          "output_type": "display_data",
          "data": {
            "text/plain": [
              "<Figure size 640x480 with 1 Axes>"
            ],
            "image/png": "[encoded data removed]"
          },
          "metadata": {}
        }
      ],
      "source": [
        "d = model(train_set_x, train_set_y, \n",
        "          test_set_x, test_set_y, \n",
        "          cv_set_x, cv_set_y,\n",
        "          num_iterations = 2500, \n",
        "          learning_rate = 0.0001, print_cost = True)\n"
      ]
    },
    {
      "cell_type": "markdown",
      "id": "b884ee34",
      "metadata": {
        "id": "b884ee34"
      },
      "source": [
        "# Shallow NN"
      ]
    },
    {
      "cell_type": "code",
      "execution_count": null,
      "id": "a9debfd3",
      "metadata": {
        "id": "a9debfd3"
      },
      "outputs": [],
      "source": [
        "def layer_sizes(X, Y):\n",
        "    \n",
        "    n_x = X.shape[0] # size of input layer\n",
        "    n_h = 4\n",
        "    n_y = Y.shape[0] # size of output layer\n",
        "    \n",
        "    return (n_x, n_h, n_y)"
      ]
    },
    {
      "cell_type": "code",
      "execution_count": null,
      "id": "76785618",
      "metadata": {
        "id": "76785618",
        "outputId": "d5abe0d7-7dcc-49e7-b77a-f09c83a70c50",
        "colab": {
          "base_uri": "https://localhost:8080/"
        }
      },
      "outputs": [
        {
          "output_type": "stream",
          "name": "stdout",
          "text": [
            "The size of the input layer is: n_x = 7938\n",
            "The size of the hidden layer is: n_h = 4\n",
            "The size of the output layer is: n_y = 4799\n"
          ]
        }
      ],
      "source": [
        "(n_x, n_h, n_y) = layer_sizes(train_set_x, train_set_y)\n",
        "print(\"The size of the input layer is: n_x = \" + str(n_x))\n",
        "print(\"The size of the hidden layer is: n_h = \" + str(n_h))\n",
        "print(\"The size of the output layer is: n_y = \" + str(n_y))"
      ]
    },
    {
      "cell_type": "code",
      "execution_count": null,
      "id": "648e2640",
      "metadata": {
        "id": "648e2640"
      },
      "outputs": [],
      "source": [
        "n_x = train_set_x.shape[0] # size of input layer\n",
        "n_h = 4\n",
        "n_y = train_set_y.shape[0] # size of output layer"
      ]
    },
    {
      "cell_type": "code",
      "execution_count": null,
      "id": "a59cb9bb",
      "metadata": {
        "id": "a59cb9bb"
      },
      "outputs": [],
      "source": [
        "def initialize_parameters(n_x, n_h, n_y):\n",
        "\n",
        "    np.random.seed(1)\n",
        "    \n",
        "    W1 = np.random.randn(n_h,n_x)*0.01\n",
        "    b1 = np.zeros((n_h,1))\n",
        "    W2 = np.random.randn(n_y,n_h)*0.01\n",
        "    b2 = np.zeros((n_y,1))\n",
        "\n",
        "    \n",
        "    assert(W1.shape == (n_h, n_x))\n",
        "    assert(b1.shape == (n_h, 1))\n",
        "    assert(W2.shape == (n_y, n_h))\n",
        "    assert(b2.shape == (n_y, 1))\n",
        "    \n",
        "    parameters = {\"W1\": W1,\n",
        "                  \"b1\": b1,\n",
        "                  \"W2\": W2,\n",
        "                  \"b2\": b2}\n",
        "    \n",
        "    return parameters    "
      ]
    },
    {
      "cell_type": "code",
      "execution_count": null,
      "id": "12fb3c7b",
      "metadata": {
        "id": "12fb3c7b"
      },
      "outputs": [],
      "source": [
        "def initialize_parameters_deep(layer_dims):\n",
        "    \n",
        "    np.random.seed(3)\n",
        "    parameters = {}\n",
        "    L = len(layer_dims)            # number of layers in the network\n",
        "\n",
        "    for l in range(1, L):\n",
        "        parameters['W' + str(l)] = np.random.randn(layer_dims[l], layer_dims[l-1]) * 0.01\n",
        "        parameters['b' + str(l)] = np.zeros((layer_dims[l], 1))\n",
        "\n",
        "        \n",
        "        assert(parameters['W' + str(l)].shape == (layer_dims[l], layer_dims[l-1]))\n",
        "        assert(parameters['b' + str(l)].shape == (layer_dims[l], 1))\n",
        "\n",
        "        \n",
        "    return parameters\n"
      ]
    },
    {
      "cell_type": "code",
      "execution_count": null,
      "id": "451ac97d",
      "metadata": {
        "id": "451ac97d"
      },
      "outputs": [],
      "source": [
        "def linear_forward(A, W, b):\n",
        "    \n",
        "    Z = np.dot(W,A)+b\n",
        "    \n",
        "    assert(Z.shape == (W.shape[0], A.shape[1]))\n",
        "    cache = (A, W, b)\n",
        "    \n",
        "    return Z, cache\n"
      ]
    },
    {
      "cell_type": "code",
      "execution_count": null,
      "id": "3c3c0f90",
      "metadata": {
        "id": "3c3c0f90"
      },
      "outputs": [],
      "source": [
        "def relu(Z):\n",
        "    A = np.maximum(0, Z)\n",
        "    cache = Z\n",
        "    return A, cache\n"
      ]
    },
    {
      "cell_type": "code",
      "execution_count": null,
      "id": "32038657",
      "metadata": {
        "id": "32038657"
      },
      "outputs": [],
      "source": [
        "def sigmoid(Z):\n",
        "    A = 1 / (1 + np.exp(-Z))\n",
        "    cache = Z\n",
        "    return A, cache\n"
      ]
    },
    {
      "cell_type": "code",
      "execution_count": null,
      "id": "28ca307e",
      "metadata": {
        "id": "28ca307e"
      },
      "outputs": [],
      "source": [
        "def linear_activation_forward(A_prev, W, b, activation):\n",
        "    \n",
        "    if activation == \"sigmoid\":\n",
        "        # Inputs: \"A_prev, W, b\". Outputs: \"A, activation_cache\".\n",
        "        Z, linear_cache = linear_forward(A_prev, W, b)\n",
        "        A, activation_cache = sigmoid(Z)\n",
        "    \n",
        "    elif activation == \"relu\":\n",
        "        # Inputs: \"A_prev, W, b\". Outputs: \"A, activation_cache\".\n",
        "        Z, linear_cache = linear_forward(A_prev, W, b)\n",
        "        A, activation_cache = relu(Z)\n",
        "    \n",
        "    assert (A.shape == (W.shape[0], A_prev.shape[1]))\n",
        "    cache = (linear_cache, activation_cache)\n",
        "\n",
        "    return A, cache"
      ]
    },
    {
      "cell_type": "code",
      "execution_count": null,
      "id": "bf448438",
      "metadata": {
        "id": "bf448438"
      },
      "outputs": [],
      "source": [
        "def L_model_forward(X, parameters):\n",
        "\n",
        "    caches = []\n",
        "    A = X\n",
        "    L = len(parameters) // 2                  # number of layers in the neural network\n",
        "    \n",
        "    # Implement [LINEAR -> RELU]*(L-1). \n",
        "    for l in range(1, L):\n",
        "        A_prev = A \n",
        "        A, cache = linear_activation_forward(A_prev, parameters['W' + str(l)], parameters['b' + str(l)], activation = \"relu\")\n",
        "        caches.append(cache)                  # Add \"cache\" to the \"caches\" list\n",
        "    \n",
        "    # Implement LINEAR -> SIGMOID. \n",
        "    AL, cache = linear_activation_forward(A, parameters['W' + str(L)], parameters['b' + str(L)], activation = \"sigmoid\")\n",
        "    caches.append(cache)                      # Add \"cache\" to the \"caches\" list\n",
        "    \n",
        "    assert(AL.shape == (1,X.shape[1]))\n",
        "            \n",
        "    return AL, caches\n"
      ]
    },
    {
      "cell_type": "code",
      "execution_count": null,
      "id": "2780d546",
      "metadata": {
        "id": "2780d546"
      },
      "outputs": [],
      "source": [
        "def compute_cost(AL, Y):\n",
        "    \n",
        "    Y = Y.reshape(1, -1) # reshape Y to be a row vector\n",
        "\n",
        "    m = Y.shape[1]\n",
        "\n",
        "    # Compute loss from aL and y.\n",
        "    cost = -(1/m)*np.sum(Y*np.log(AL)+(1-Y)*np.log(1-AL))\n",
        "    \n",
        "    cost = np.squeeze(cost)      # To make sure your cost's shape is what we expect (e.g. this turns [[17]] into 17).\n",
        "    assert(cost.shape == ())\n",
        "    \n",
        "    return cost"
      ]
    },
    {
      "cell_type": "code",
      "execution_count": null,
      "id": "63b0d3d9",
      "metadata": {
        "id": "63b0d3d9"
      },
      "outputs": [],
      "source": [
        "def sigmoid_backward(dA, activation_cache):\n",
        "    Z = activation_cache\n",
        "    s = 1/(1+np.exp(-Z))\n",
        "    dZ = dA * s * (1-s)\n",
        "    return dZ\n"
      ]
    },
    {
      "cell_type": "code",
      "execution_count": null,
      "id": "a3eef2ee",
      "metadata": {
        "id": "a3eef2ee"
      },
      "outputs": [],
      "source": [
        "def relu_backward(dA, activation_cache):\n",
        "    Z = activation_cache\n",
        "    dZ = np.array(dA, copy=True) # Convert dz to a correct object\n",
        "    dZ[Z <= 0] = 0 # When z <= 0, set dz to 0 as well. \n",
        "    return dZ\n"
      ]
    },
    {
      "cell_type": "code",
      "execution_count": null,
      "id": "3a6255ea",
      "metadata": {
        "id": "3a6255ea"
      },
      "outputs": [],
      "source": [
        "def linear_backward(dZ, cache):\n",
        "\n",
        "    A_prev, W, b = cache\n",
        "    m = A_prev.shape[1]\n",
        "\n",
        "    dA_prev = np.dot(W.T,dZ)\n",
        "    dW = (1/m)*np.dot(dZ,A_prev.T)\n",
        "    db = (1/m)*np.sum(dZ,axis=1,keepdims=True)\n",
        "    \n",
        "    \n",
        "    assert (dA_prev.shape == A_prev.shape)\n",
        "    assert (dW.shape == W.shape)\n",
        "    assert (db.shape == b.shape)\n",
        "    \n",
        "    return dA_prev, dW, db"
      ]
    },
    {
      "cell_type": "code",
      "execution_count": null,
      "id": "46ea535d",
      "metadata": {
        "id": "46ea535d"
      },
      "outputs": [],
      "source": [
        "def linear_activation_backward(dA, cache, activation):\n",
        "\n",
        "    linear_cache, activation_cache = cache\n",
        "    \n",
        "    if activation == \"relu\":\n",
        "        dZ = relu_backward(dA, activation_cache)\n",
        "        dA_prev, dW, db = linear_backward(dZ, linear_cache)\n",
        "        \n",
        "    elif activation == \"sigmoid\":\n",
        "        dZ = sigmoid_backward(dA, activation_cache)\n",
        "        dA_prev, dW, db = linear_backward(dZ, linear_cache)\n",
        "    \n",
        "    return dA_prev, dW, db"
      ]
    },
    {
      "cell_type": "code",
      "execution_count": null,
      "id": "d4d95c35",
      "metadata": {
        "id": "d4d95c35"
      },
      "outputs": [],
      "source": [
        "def L_model_backward(AL, Y, caches):\n",
        "    \n",
        "    grads = {}\n",
        "    L = len(caches) # the number of layers\n",
        "    m = AL.shape[1]\n",
        "    Y = Y.reshape(AL.shape) # after this line, Y is the same shape as AL\n",
        "    \n",
        "    # Initializing the backpropagation\n",
        "    dAL = - (np.divide(Y, AL) - np.divide(1 - Y, 1 - AL))\n",
        "    \n",
        "    # Lth layer (SIGMOID -> LINEAR) gradients. Inputs: \"dAL, current_cache\". Outputs: \"grads[\"dAL-1\"], grads[\"dWL\"], grads[\"dbL\"]\n",
        "    current_cache = caches[L-1]\n",
        "    grads[\"dA\" + str(L-1)], grads[\"dW\" + str(L)], grads[\"db\" + str(L)] = linear_activation_backward(dAL,current_cache, \"sigmoid\")\n",
        "\n",
        "    \n",
        "    # Loop from l=L-2 to l=0\n",
        "    for l in reversed(range(L-1)):\n",
        "        # lth layer: (RELU -> LINEAR) gradients.\n",
        "        # Inputs: \"grads[\"dA\" + str(l + 1)], current_cache\". Outputs: \"grads[\"dA\" + str(l)] , grads[\"dW\" + str(l + 1)] , grads[\"db\" + str(l + 1)] \n",
        "        current_cache = caches[l]\n",
        "        dA_prev_temp, dW_temp, db_temp = linear_activation_backward(grads[\"dA\" + str(l + 1)], current_cache, activation=\"relu\")\n",
        "        grads[\"dA\" + str(l)] = dA_prev_temp\n",
        "        grads[\"dW\" + str(l + 1)] =dW_temp\n",
        "        grads[\"db\" + str(l + 1)] = db_temp\n",
        "\n",
        "    return grads"
      ]
    },
    {
      "cell_type": "code",
      "execution_count": null,
      "id": "8af35e41",
      "metadata": {
        "id": "8af35e41"
      },
      "outputs": [],
      "source": [
        "def update_parameters(parameters, grads, learning_rate):\n",
        "    \n",
        "    L = len(parameters) // 2 # number of layers in the neural network\n",
        "\n",
        "    # Update rule for each parameter. Use a for loop.\n",
        "    for l in range(L):\n",
        "        parameters[\"W\" + str(l+1)] = parameters[\"W\" + str(l+1)]-learning_rate*grads[\"dW\" + str(l+1)]\n",
        "        parameters[\"b\" + str(l+1)] = parameters[\"b\" + str(l+1)]-learning_rate*grads[\"db\" + str(l+1)]\n",
        "\n",
        "    return parameters"
      ]
    },
    {
      "cell_type": "code",
      "execution_count": null,
      "id": "ec8ae9a4",
      "metadata": {
        "id": "ec8ae9a4",
        "outputId": "0f3ba7ba-bfda-4e67-cbf2-46b5ea144967",
        "colab": {
          "base_uri": "https://localhost:8080/"
        }
      },
      "outputs": [
        {
          "output_type": "execute_result",
          "data": {
            "text/plain": [
              "(7938, 4, 4799)"
            ]
          },
          "metadata": {},
          "execution_count": 43
        }
      ],
      "source": [
        "layers_dims = (n_x, n_h, n_y)\n",
        "layers_dims"
      ]
    },
    {
      "cell_type": "code",
      "execution_count": null,
      "id": "5fb46def",
      "metadata": {
        "id": "5fb46def"
      },
      "outputs": [],
      "source": [
        "def two_layer_model(X, Y, layers_dims, learning_rate = 0.1, num_iterations = 3000, print_cost=False):\n",
        "    \n",
        "    np.random.seed(1)\n",
        "    grads = {}\n",
        "    costs = []                              # to keep track of the cost\n",
        "    m = X.shape[1]                           # number of examples\n",
        "    (n_x, n_h, n_y) = layers_dims\n",
        "    \n",
        "    # Initialize parameters dictionary, by calling one of the functions you'd previously implemented\n",
        "    parameters = initialize_parameters(n_x, n_h, n_y)\n",
        "    \n",
        "    # Get W1, b1, W2 and b2 from the dictionary parameters.\n",
        "    W1 = parameters[\"W1\"]\n",
        "    b1 = parameters[\"b1\"]\n",
        "    W2 = parameters[\"W2\"]\n",
        "    b2 = parameters[\"b2\"]\n",
        "    \n",
        "    # Loop (gradient descent)\n",
        "    for i in range(0, num_iterations):\n",
        "\n",
        "        # Forward propagation: LINEAR -> RELU -> LINEAR -> SIGMOID. Inputs: \"X, W1, b1, W2, b2\". Output: \"A1, cache1, A2, cache2\".\n",
        "        A1, cache1 = linear_activation_forward(X, W1, b1, activation=\"relu\")\n",
        "        A2, cache2 = linear_activation_forward(A1, W2, b2, activation=\"sigmoid\")\n",
        "        \n",
        "        # Compute cost\n",
        "        cost = compute_cost(A2, Y)\n",
        "        \n",
        "        # Initializing backward propagation\n",
        "        dA2 = - (np.divide(Y, A2) - np.divide(1 - Y, 1 - A2))\n",
        "        \n",
        "        # Backward propagation. Inputs: \"dA2, cache2, cache1\". Outputs: \"dA1, dW2, db2; also dA0 (not used), dW1, db1\".\n",
        "        dA1, dW2, db2 = linear_activation_backward(dA2, cache2, activation=\"sigmoid\")\n",
        "        dA0, dW1, db1 = linear_activation_backward(dA1, cache1, activation=\"relu\")\n",
        "        \n",
        "        # Set grads['dWl'] to dW1, grads['db1'] to db1, grads['dW2'] to dW2, grads['db2'] to db2\n",
        "        grads['dW1'] = dW1\n",
        "        grads['db1'] = db1\n",
        "        grads['dW2'] = dW2\n",
        "        grads['db2'] = db2\n",
        "        \n",
        "        # Update parameters.\n",
        "        parameters = update_parameters(parameters, grads, learning_rate)\n",
        "\n",
        "        # Retrieve W1, b1, W2, b2 from parameters\n",
        "        W1 = parameters[\"W1\"]\n",
        "        b1 = parameters[\"b1\"]\n",
        "        W2 = parameters[\"W2\"]\n",
        "        b2 = parameters[\"b2\"]\n",
        "        \n",
        "        # Print the cost every 100 training example\n",
        "        if print_cost and i % 100 == 0:\n",
        "            print(\"Cost after iteration {}: {}\".format(i, np.squeeze(cost)))\n",
        "        if print_cost and i % 100 == 0:\n",
        "            costs.append(cost)\n",
        "       \n",
        "    # plot the cost\n",
        "\n",
        "    plt.plot(np.squeeze(costs))\n",
        "    plt.ylabel('cost')\n",
        "    plt.xlabel('iterations (per hundreds)')\n",
        "    plt.title(\"Learning rate =\" + str(learning_rate))\n",
        "    plt.show()\n",
        "    \n",
        "    return parameters"
      ]
    },
    {
      "cell_type": "markdown",
      "id": "5a64711c",
      "metadata": {
        "id": "5a64711c"
      },
      "source": [
        "Two layer as an example "
      ]
    },
    {
      "cell_type": "code",
      "execution_count": null,
      "id": "91f63b1b",
      "metadata": {
        "id": "91f63b1b"
      },
      "outputs": [],
      "source": [
        "#parameters = two_layer_model(train_set_x, train_set_y, layers_dims = (n_x, n_h, n_y), learning_rate = 0.05,num_iterations = 2500, print_cost=True)"
      ]
    },
    {
      "cell_type": "code",
      "execution_count": null,
      "id": "c3be6ed5",
      "metadata": {
        "scrolled": true,
        "id": "c3be6ed5"
      },
      "outputs": [],
      "source": [
        "#def predict(parameters, X):\n",
        "\n",
        "    #A1, cache1 = linear_activation_forward(X, parameters[\"W1\"], parameters[\"b1\"], activation=\"relu\")\n",
        "    #A2, cache2 = linear_activation_forward(A1, parameters[\"W2\"], parameters[\"b2\"], activation=\"sigmoid\")\n",
        "    #predictions = np.where(A2 > 0.5, 1, 0)\n",
        "    \n",
        "    #return predictions"
      ]
    },
    {
      "cell_type": "code",
      "execution_count": null,
      "id": "b429ab63",
      "metadata": {
        "id": "b429ab63"
      },
      "outputs": [],
      "source": [
        "#predict(parameters, train_set_x)"
      ]
    },
    {
      "cell_type": "code",
      "execution_count": null,
      "id": "7c871b7c",
      "metadata": {
        "id": "7c871b7c"
      },
      "outputs": [],
      "source": [
        "#predictions = predict(parameters, train_set_x)\n",
        "#accuracy = float((np.dot(train_set_y,predictions.T) + np.dot(1-train_set_y,1-predictions.T))/float(train_set_y.size)*100)\n",
        "#accuracy\n"
      ]
    },
    {
      "cell_type": "markdown",
      "id": "27923275",
      "metadata": {
        "id": "27923275"
      },
      "source": [
        "# L Layer Function"
      ]
    },
    {
      "cell_type": "code",
      "execution_count": null,
      "id": "b9c59c1b",
      "metadata": {
        "id": "b9c59c1b"
      },
      "outputs": [],
      "source": [
        "def L_layer_model(X, Y, layers_dims, learning_rate = 0.0075, num_iterations = 3000, print_cost=False):#lr was 0.009\n",
        "\n",
        "    np.random.seed(1)\n",
        "    costs = []                         # keep track of cost\n",
        "    \n",
        "    # Parameters initialization. (≈ 1 line of code)\n",
        "    parameters = initialize_parameters_deep(layers_dims)\n",
        "    \n",
        "    # Loop (gradient descent)\n",
        "    for i in range(0, num_iterations):\n",
        "\n",
        "        # Forward propagation: [LINEAR -> RELU]*(L-1) -> LINEAR -> SIGMOID.\n",
        "        AL, caches = L_model_forward(X, parameters)\n",
        "        \n",
        "        # Compute cost.\n",
        "        cost = compute_cost(AL, Y)\n",
        "    \n",
        "        # Backward propagation.\n",
        "        grads = L_model_backward(AL, Y, caches)\n",
        " \n",
        "        # Update parameters.\n",
        "        parameters = update_parameters(parameters, grads, learning_rate)\n",
        "                \n",
        "        # Print the cost every 100 training example\n",
        "        if print_cost and i % 100 == 0:\n",
        "            print (\"Cost after iteration %i: %f\" %(i, cost))\n",
        "        if print_cost and i % 100 == 0:\n",
        "            costs.append(cost)\n",
        "            \n",
        "    # plot the cost\n",
        "    plt.plot(np.squeeze(costs))\n",
        "    plt.ylabel('cost')\n",
        "    plt.xlabel('iterations (per hundreds)')\n",
        "    plt.title(\"Learning rate =\" + str(learning_rate))\n",
        "    plt.show()\n",
        "    \n",
        "    return parameters"
      ]
    },
    {
      "cell_type": "code",
      "execution_count": null,
      "id": "2084003d",
      "metadata": {
        "id": "2084003d"
      },
      "outputs": [],
      "source": [
        "def predict(parameters, X):\n",
        "\n",
        "    AL, caches = L_model_forward(X, parameters)\n",
        "    predictions = np.where(AL > 0.5, 1, 0)\n",
        "    \n",
        "    return predictions"
      ]
    },
    {
      "cell_type": "markdown",
      "id": "97e8a14c",
      "metadata": {
        "id": "97e8a14c"
      },
      "source": [
        "# Two Layer with 7 Unit and 4 Unit"
      ]
    },
    {
      "cell_type": "code",
      "execution_count": null,
      "id": "1ef11d25",
      "metadata": {
        "id": "1ef11d25"
      },
      "outputs": [],
      "source": [
        "layers_dims = [n_x, n_y, 7, 4, 1] #  4-layer model"
      ]
    },
    {
      "cell_type": "code",
      "execution_count": null,
      "id": "0004fe10",
      "metadata": {
        "id": "0004fe10"
      },
      "outputs": [],
      "source": [
        "parameters = L_layer_model(train_set_x, train_set_y, layers_dims, num_iterations = 2500, print_cost = True)"
      ]
    },
    {
      "cell_type": "code",
      "execution_count": null,
      "id": "eefda90c",
      "metadata": {
        "id": "eefda90c"
      },
      "outputs": [],
      "source": [
        "predictions = predict(parameters, train_set_x)\n",
        "accuracy_train = float((np.dot(train_set_y,predictions.T) + np.dot(1-train_set_y,1-predictions.T))/float(train_set_y.size)*100)\n",
        "print(\"Train Set:\", accuracy_train)\n",
        "\n",
        "predictions = predict(parameters, test_set_x)\n",
        "accuracy_test = float((np.dot(test_set_y,predictions.T) + np.dot(1-test_set_y,1-predictions.T))/float(test_set_y.size)*100)\n",
        "print(\"Test Set:\", accuracy_test)\n",
        "\n",
        "predictions = predict(parameters, cv_set_x)\n",
        "accuracy_cv = float((np.dot(cv_set_y,predictions.T) + np.dot(1-cv_set_y,1-predictions.T))/float(cv_set_y.size)*100)\n",
        "print(\"CV Set:\", accuracy_cv)\n"
      ]
    },
    {
      "cell_type": "markdown",
      "id": "765e1058",
      "metadata": {
        "id": "765e1058"
      },
      "source": [
        "# One Hidden with L Layer Function"
      ]
    },
    {
      "cell_type": "code",
      "execution_count": null,
      "id": "a0d2efd9",
      "metadata": {
        "id": "a0d2efd9"
      },
      "outputs": [],
      "source": [
        "layers_dims = [n_x, n_y, 4, 1] "
      ]
    },
    {
      "cell_type": "code",
      "execution_count": null,
      "id": "53366fda",
      "metadata": {
        "id": "53366fda",
        "outputId": "9899691a-409e-41ec-8d6d-a93170cea730",
        "colab": {
          "base_uri": "https://localhost:8080/",
          "height": 264
        }
      },
      "outputs": [
        {
          "output_type": "stream",
          "name": "stdout",
          "text": [
            "Cost after iteration 0: 0.693192\n",
            "Cost after iteration 100: 0.693159\n"
          ]
        },
        {
          "output_type": "error",
          "ename": "KeyboardInterrupt",
          "evalue": "ignored",
          "traceback": [
            "\u001b[0;31m---------------------------------------------------------------------------\u001b[0m",
            "\u001b[0;31mKeyboardInterrupt\u001b[0m                         Traceback (most recent call last)",
            "\u001b[0;32m<ipython-input-53-3e82b9041b81>\u001b[0m in \u001b[0;36m<cell line: 1>\u001b[0;34m()\u001b[0m\n\u001b[0;32m----> 1\u001b[0;31m \u001b[0mparameters\u001b[0m \u001b[0;34m=\u001b[0m \u001b[0mL_layer_model\u001b[0m\u001b[0;34m(\u001b[0m\u001b[0mtrain_set_x\u001b[0m\u001b[0;34m,\u001b[0m \u001b[0mtrain_set_y\u001b[0m\u001b[0;34m,\u001b[0m \u001b[0mlayers_dims\u001b[0m\u001b[0;34m,\u001b[0m \u001b[0mnum_iterations\u001b[0m \u001b[0;34m=\u001b[0m \u001b[0;36m2500\u001b[0m\u001b[0;34m,\u001b[0m \u001b[0mprint_cost\u001b[0m \u001b[0;34m=\u001b[0m \u001b[0;32mTrue\u001b[0m\u001b[0;34m)\u001b[0m\u001b[0;34m\u001b[0m\u001b[0;34m\u001b[0m\u001b[0m\n\u001b[0m",
            "\u001b[0;32m<ipython-input-49-4af59459b01b>\u001b[0m in \u001b[0;36mL_layer_model\u001b[0;34m(X, Y, layers_dims, learning_rate, num_iterations, print_cost)\u001b[0m\n\u001b[1;32m     11\u001b[0m \u001b[0;34m\u001b[0m\u001b[0m\n\u001b[1;32m     12\u001b[0m         \u001b[0;31m# Forward propagation: [LINEAR -> RELU]*(L-1) -> LINEAR -> SIGMOID.\u001b[0m\u001b[0;34m\u001b[0m\u001b[0;34m\u001b[0m\u001b[0m\n\u001b[0;32m---> 13\u001b[0;31m         \u001b[0mAL\u001b[0m\u001b[0;34m,\u001b[0m \u001b[0mcaches\u001b[0m \u001b[0;34m=\u001b[0m \u001b[0mL_model_forward\u001b[0m\u001b[0;34m(\u001b[0m\u001b[0mX\u001b[0m\u001b[0;34m,\u001b[0m \u001b[0mparameters\u001b[0m\u001b[0;34m)\u001b[0m\u001b[0;34m\u001b[0m\u001b[0;34m\u001b[0m\u001b[0m\n\u001b[0m\u001b[1;32m     14\u001b[0m \u001b[0;34m\u001b[0m\u001b[0m\n\u001b[1;32m     15\u001b[0m         \u001b[0;31m# Compute cost.\u001b[0m\u001b[0;34m\u001b[0m\u001b[0;34m\u001b[0m\u001b[0m\n",
            "\u001b[0;32m<ipython-input-35-fe51c184de6a>\u001b[0m in \u001b[0;36mL_model_forward\u001b[0;34m(X, parameters)\u001b[0m\n\u001b[1;32m      8\u001b[0m     \u001b[0;32mfor\u001b[0m \u001b[0ml\u001b[0m \u001b[0;32min\u001b[0m \u001b[0mrange\u001b[0m\u001b[0;34m(\u001b[0m\u001b[0;36m1\u001b[0m\u001b[0;34m,\u001b[0m \u001b[0mL\u001b[0m\u001b[0;34m)\u001b[0m\u001b[0;34m:\u001b[0m\u001b[0;34m\u001b[0m\u001b[0;34m\u001b[0m\u001b[0m\n\u001b[1;32m      9\u001b[0m         \u001b[0mA_prev\u001b[0m \u001b[0;34m=\u001b[0m \u001b[0mA\u001b[0m\u001b[0;34m\u001b[0m\u001b[0;34m\u001b[0m\u001b[0m\n\u001b[0;32m---> 10\u001b[0;31m         \u001b[0mA\u001b[0m\u001b[0;34m,\u001b[0m \u001b[0mcache\u001b[0m \u001b[0;34m=\u001b[0m \u001b[0mlinear_activation_forward\u001b[0m\u001b[0;34m(\u001b[0m\u001b[0mA_prev\u001b[0m\u001b[0;34m,\u001b[0m \u001b[0mparameters\u001b[0m\u001b[0;34m[\u001b[0m\u001b[0;34m'W'\u001b[0m \u001b[0;34m+\u001b[0m \u001b[0mstr\u001b[0m\u001b[0;34m(\u001b[0m\u001b[0ml\u001b[0m\u001b[0;34m)\u001b[0m\u001b[0;34m]\u001b[0m\u001b[0;34m,\u001b[0m \u001b[0mparameters\u001b[0m\u001b[0;34m[\u001b[0m\u001b[0;34m'b'\u001b[0m \u001b[0;34m+\u001b[0m \u001b[0mstr\u001b[0m\u001b[0;34m(\u001b[0m\u001b[0ml\u001b[0m\u001b[0;34m)\u001b[0m\u001b[0;34m]\u001b[0m\u001b[0;34m,\u001b[0m \u001b[0mactivation\u001b[0m \u001b[0;34m=\u001b[0m \u001b[0;34m\"relu\"\u001b[0m\u001b[0;34m)\u001b[0m\u001b[0;34m\u001b[0m\u001b[0;34m\u001b[0m\u001b[0m\n\u001b[0m\u001b[1;32m     11\u001b[0m         \u001b[0mcaches\u001b[0m\u001b[0;34m.\u001b[0m\u001b[0mappend\u001b[0m\u001b[0;34m(\u001b[0m\u001b[0mcache\u001b[0m\u001b[0;34m)\u001b[0m                  \u001b[0;31m# Add \"cache\" to the \"caches\" list\u001b[0m\u001b[0;34m\u001b[0m\u001b[0;34m\u001b[0m\u001b[0m\n\u001b[1;32m     12\u001b[0m \u001b[0;34m\u001b[0m\u001b[0m\n",
            "\u001b[0;32m<ipython-input-34-58332920acbd>\u001b[0m in \u001b[0;36mlinear_activation_forward\u001b[0;34m(A_prev, W, b, activation)\u001b[0m\n\u001b[1;32m      8\u001b[0m     \u001b[0;32melif\u001b[0m \u001b[0mactivation\u001b[0m \u001b[0;34m==\u001b[0m \u001b[0;34m\"relu\"\u001b[0m\u001b[0;34m:\u001b[0m\u001b[0;34m\u001b[0m\u001b[0;34m\u001b[0m\u001b[0m\n\u001b[1;32m      9\u001b[0m         \u001b[0;31m# Inputs: \"A_prev, W, b\". Outputs: \"A, activation_cache\".\u001b[0m\u001b[0;34m\u001b[0m\u001b[0;34m\u001b[0m\u001b[0m\n\u001b[0;32m---> 10\u001b[0;31m         \u001b[0mZ\u001b[0m\u001b[0;34m,\u001b[0m \u001b[0mlinear_cache\u001b[0m \u001b[0;34m=\u001b[0m \u001b[0mlinear_forward\u001b[0m\u001b[0;34m(\u001b[0m\u001b[0mA_prev\u001b[0m\u001b[0;34m,\u001b[0m \u001b[0mW\u001b[0m\u001b[0;34m,\u001b[0m \u001b[0mb\u001b[0m\u001b[0;34m)\u001b[0m\u001b[0;34m\u001b[0m\u001b[0;34m\u001b[0m\u001b[0m\n\u001b[0m\u001b[1;32m     11\u001b[0m         \u001b[0mA\u001b[0m\u001b[0;34m,\u001b[0m \u001b[0mactivation_cache\u001b[0m \u001b[0;34m=\u001b[0m \u001b[0mrelu\u001b[0m\u001b[0;34m(\u001b[0m\u001b[0mZ\u001b[0m\u001b[0;34m)\u001b[0m\u001b[0;34m\u001b[0m\u001b[0;34m\u001b[0m\u001b[0m\n\u001b[1;32m     12\u001b[0m \u001b[0;34m\u001b[0m\u001b[0m\n",
            "\u001b[0;32m<ipython-input-31-60a8dead3f89>\u001b[0m in \u001b[0;36mlinear_forward\u001b[0;34m(A, W, b)\u001b[0m\n\u001b[1;32m      1\u001b[0m \u001b[0;32mdef\u001b[0m \u001b[0mlinear_forward\u001b[0m\u001b[0;34m(\u001b[0m\u001b[0mA\u001b[0m\u001b[0;34m,\u001b[0m \u001b[0mW\u001b[0m\u001b[0;34m,\u001b[0m \u001b[0mb\u001b[0m\u001b[0;34m)\u001b[0m\u001b[0;34m:\u001b[0m\u001b[0;34m\u001b[0m\u001b[0;34m\u001b[0m\u001b[0m\n\u001b[1;32m      2\u001b[0m \u001b[0;34m\u001b[0m\u001b[0m\n\u001b[0;32m----> 3\u001b[0;31m     \u001b[0mZ\u001b[0m \u001b[0;34m=\u001b[0m \u001b[0mnp\u001b[0m\u001b[0;34m.\u001b[0m\u001b[0mdot\u001b[0m\u001b[0;34m(\u001b[0m\u001b[0mW\u001b[0m\u001b[0;34m,\u001b[0m\u001b[0mA\u001b[0m\u001b[0;34m)\u001b[0m\u001b[0;34m+\u001b[0m\u001b[0mb\u001b[0m\u001b[0;34m\u001b[0m\u001b[0;34m\u001b[0m\u001b[0m\n\u001b[0m\u001b[1;32m      4\u001b[0m \u001b[0;34m\u001b[0m\u001b[0m\n\u001b[1;32m      5\u001b[0m     \u001b[0;32massert\u001b[0m\u001b[0;34m(\u001b[0m\u001b[0mZ\u001b[0m\u001b[0;34m.\u001b[0m\u001b[0mshape\u001b[0m \u001b[0;34m==\u001b[0m \u001b[0;34m(\u001b[0m\u001b[0mW\u001b[0m\u001b[0;34m.\u001b[0m\u001b[0mshape\u001b[0m\u001b[0;34m[\u001b[0m\u001b[0;36m0\u001b[0m\u001b[0;34m]\u001b[0m\u001b[0;34m,\u001b[0m \u001b[0mA\u001b[0m\u001b[0;34m.\u001b[0m\u001b[0mshape\u001b[0m\u001b[0;34m[\u001b[0m\u001b[0;36m1\u001b[0m\u001b[0;34m]\u001b[0m\u001b[0;34m)\u001b[0m\u001b[0;34m)\u001b[0m\u001b[0;34m\u001b[0m\u001b[0;34m\u001b[0m\u001b[0m\n",
            "\u001b[0;32m/usr/local/lib/python3.10/dist-packages/numpy/core/overrides.py\u001b[0m in \u001b[0;36mdot\u001b[0;34m(*args, **kwargs)\u001b[0m\n",
            "\u001b[0;31mKeyboardInterrupt\u001b[0m: "
          ]
        }
      ],
      "source": [
        "parameters = L_layer_model(train_set_x, train_set_y, layers_dims, num_iterations = 2500, print_cost = True)"
      ]
    },
    {
      "cell_type": "code",
      "execution_count": null,
      "id": "1501bc77",
      "metadata": {
        "id": "1501bc77"
      },
      "outputs": [],
      "source": [
        "predictions = predict(parameters, train_set_x)\n",
        "accuracy_train = float((np.dot(train_set_y,predictions.T) + np.dot(1-train_set_y,1-predictions.T))/float(train_set_y.size)*100)\n",
        "print(\"Train Set:\", accuracy_train)\n",
        "\n",
        "predictions = predict(parameters, test_set_x)\n",
        "accuracy_test = float((np.dot(test_set_y,predictions.T) + np.dot(1-test_set_y,1-predictions.T))/float(test_set_y.size)*100)\n",
        "print(\"Test Set:\", accuracy_test)\n",
        "\n",
        "predictions = predict(parameters, cv_set_x)\n",
        "accuracy_cv = float((np.dot(cv_set_y,predictions.T) + np.dot(1-cv_set_y,1-predictions.T))/float(cv_set_y.size)*100)\n",
        "print(\"CV Set:\", accuracy_cv)"
      ]
    },
    {
      "cell_type": "code",
      "execution_count": null,
      "id": "064391a7",
      "metadata": {
        "id": "064391a7"
      },
      "outputs": [],
      "source": []
    }
  ],
  "metadata": {
    "kernelspec": {
      "display_name": "Python 3 (ipykernel)",
      "language": "python",
      "name": "python3"
    },
    "language_info": {
      "codemirror_mode": {
        "name": "ipython",
        "version": 3
      },
      "file_extension": ".py",
      "mimetype": "text/x-python",
      "name": "python",
      "nbconvert_exporter": "python",
      "pygments_lexer": "ipython3",
      "version": "3.9.12"
    },
    "colab": {
      "provenance": [],
      "include_colab_link": true
    }
  },
  "nbformat": 4,
  "nbformat_minor": 5
}