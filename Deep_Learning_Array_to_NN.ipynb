{
  "cells": [
    {
      "cell_type": "markdown",
      "metadata": {
        "id": "view-in-github",
        "colab_type": "text"
      },
      "source": [
        "<a href=\"https://colab.research.google.com/github/SamanZargarzadeh/Automatic-Image-Tagging-for-Fashion-E-commerce/blob/main/Deep_Learning_Array_to_NN.ipynb\" target=\"_parent\"><img src=\"https://colab.research.google.com/assets/colab-badge.svg\" alt=\"Open In Colab\"/></a>"
      ]
    },
    {
      "cell_type": "markdown",
      "id": "f4eb8b34",
      "metadata": {
        "id": "f4eb8b34"
      },
      "source": [
        "# Deep Learning Project"
      ]
    },
    {
      "cell_type": "markdown",
      "id": "22ca678b",
      "metadata": {
        "id": "22ca678b"
      },
      "source": [
        "## Automatic Image Tagging for Fashion E-commerce  "
      ]
    },
    {
      "cell_type": "markdown",
      "id": "f1ad90ce",
      "metadata": {
        "id": "f1ad90ce"
      },
      "source": [
        "Saman Zargarzadeh, Devy Yeap, Tiantian Gu, Tannaz Ebrahimi, Xia-Rong Zhang"
      ]
    },
    {
      "cell_type": "code",
      "source": [
        "from google.colab import drive\n",
        "drive.mount('/content/drive')"
      ],
      "metadata": {
        "colab": {
          "base_uri": "https://localhost:8080/"
        },
        "id": "VlIapGFv5B9N",
        "outputId": "3e58180b-93a9-4467-ea84-297b91ed60eb"
      },
      "id": "VlIapGFv5B9N",
      "execution_count": 7,
      "outputs": [
        {
          "output_type": "stream",
          "name": "stdout",
          "text": [
            "Mounted at /content/drive\n"
          ]
        }
      ]
    },
    {
      "cell_type": "code",
      "execution_count": 3,
      "id": "ae1e2f50",
      "metadata": {
        "id": "ae1e2f50"
      },
      "outputs": [],
      "source": [
        "import matplotlib.pyplot as plt\n",
        "import matplotlib.image as mpimg"
      ]
    },
    {
      "cell_type": "code",
      "execution_count": 4,
      "id": "26849b63",
      "metadata": {
        "id": "26849b63"
      },
      "outputs": [],
      "source": [
        "import os\n",
        "import gc\n",
        "import sys\n",
        "import json\n",
        "import random\n",
        "from pathlib import Path\n",
        "import pandas as pd\n",
        "import numpy as np"
      ]
    },
    {
      "cell_type": "code",
      "source": [
        "import pandas as pd\n",
        "import numpy as np"
      ],
      "metadata": {
        "id": "216wdD6w5WGy"
      },
      "id": "216wdD6w5WGy",
      "execution_count": 5,
      "outputs": []
    },
    {
      "cell_type": "code",
      "source": [
        "# load the array \n",
        "\n",
        "train_set_x = np.load('/content/drive/MyDrive/train_set_x.npy')\n",
        "test_set_x = np.load('/content/drive/MyDrive/test_set_x.npy')\n",
        "cv_set_x = np.load('/content/drive/MyDrive/cv_set_x.npy')\n",
        "\n",
        "train_set_y = np.load('/content/drive/MyDrive/train_set_y.npy')\n",
        "test_set_y = np.load('/content/drive/MyDrive/test_set_y.npy')\n",
        "cv_set_y = np.load('/content/drive/MyDrive/cv_set_y.npy')"
      ],
      "metadata": {
        "id": "j1E1cN-JFdcA"
      },
      "id": "j1E1cN-JFdcA",
      "execution_count": 8,
      "outputs": []
    },
    {
      "cell_type": "markdown",
      "source": [
        "# Tensorflow"
      ],
      "metadata": {
        "id": "jJJ1CuJ4Z8HX"
      },
      "id": "jJJ1CuJ4Z8HX"
    },
    {
      "cell_type": "code",
      "source": [
        "train_set_x=train_set_x.T\n",
        "test_set_x=test_set_x.T\n",
        "cv_set_x=cv_set_x.T"
      ],
      "metadata": {
        "id": "R3BWmWvpeXMs"
      },
      "id": "R3BWmWvpeXMs",
      "execution_count": 9,
      "outputs": []
    },
    {
      "cell_type": "code",
      "source": [
        "import tensorflow as tf"
      ],
      "metadata": {
        "id": "CsYyRzbXZIdG"
      },
      "id": "CsYyRzbXZIdG",
      "execution_count": 10,
      "outputs": []
    },
    {
      "cell_type": "code",
      "source": [
        "from tensorflow.keras.models import Sequential\n",
        "from tensorflow.keras.layers import Dense, Flatten, Dropout \n",
        "from tensorflow.keras import regularizers\n",
        "from tensorflow.keras.callbacks import Callback\n",
        "from tensorflow.keras.preprocessing import image\n",
        "from keras.regularizers import l2\n",
        "from keras.optimizers import Adam\n",
        "\n"
      ],
      "metadata": {
        "id": "Rgi_uzLRaHqj"
      },
      "id": "Rgi_uzLRaHqj",
      "execution_count": 11,
      "outputs": []
    },
    {
      "cell_type": "markdown",
      "source": [
        "### A Neural Network with two hidden layers.\n"
      ],
      "metadata": {
        "id": "rb8E2JLxk_Q5"
      },
      "id": "rb8E2JLxk_Q5"
    },
    {
      "cell_type": "code",
      "source": [
        "n_1=46\n",
        "alpha= 0.0104\n",
        "learning_rate = alpha \n",
        "lambd=0.1\n",
        "epochs=10"
      ],
      "metadata": {
        "id": "rm8vkmmUlHBD"
      },
      "id": "rm8vkmmUlHBD",
      "execution_count": 17,
      "outputs": []
    },
    {
      "cell_type": "code",
      "source": [
        "modelD = Sequential()\n",
        "modelD.add(Dense(n_1, activation='relu', input_shape=(7938,), kernel_regularizer=l2(lambd)))\n",
        "modelD.add(Dense(4, activation='relu', kernel_regularizer=l2(lambd)))\n",
        "modelD.add(Dense(1, activation='sigmoid', kernel_regularizer=l2(lambd)))\n",
        "\n",
        "optimizer = Adam(learning_rate=learning_rate)\n",
        "\n",
        "modelD.compile(loss='binary_crossentropy', optimizer=optimizer, metrics=['accuracy'])\n",
        "historyD = modelD.fit(train_set_x, train_set_y , epochs=epochs)\n",
        "pd.DataFrame(historyD.history).head()"
      ],
      "metadata": {
        "colab": {
          "base_uri": "https://localhost:8080/",
          "height": 563
        },
        "id": "1C0so2gBhSMm",
        "outputId": "535c5fb3-57ff-4c9e-ec2a-cc8a0769931c"
      },
      "id": "1C0so2gBhSMm",
      "execution_count": 18,
      "outputs": [
        {
          "output_type": "stream",
          "name": "stdout",
          "text": [
            "Epoch 1/10\n",
            "150/150 [==============================] - 1s 4ms/step - loss: 2.2105 - accuracy: 0.4922\n",
            "Epoch 2/10\n",
            "150/150 [==============================] - 1s 4ms/step - loss: 0.7510 - accuracy: 0.4909\n",
            "Epoch 3/10\n",
            "150/150 [==============================] - 1s 4ms/step - loss: 0.7106 - accuracy: 0.4978\n",
            "Epoch 4/10\n",
            "150/150 [==============================] - 1s 4ms/step - loss: 0.7002 - accuracy: 0.5043\n",
            "Epoch 5/10\n",
            "150/150 [==============================] - 1s 4ms/step - loss: 0.6966 - accuracy: 0.4972\n",
            "Epoch 6/10\n",
            "150/150 [==============================] - 1s 4ms/step - loss: 0.6951 - accuracy: 0.5057\n",
            "Epoch 7/10\n",
            "150/150 [==============================] - 1s 4ms/step - loss: 0.6944 - accuracy: 0.4934\n",
            "Epoch 8/10\n",
            "150/150 [==============================] - 1s 4ms/step - loss: 0.6941 - accuracy: 0.4964\n",
            "Epoch 9/10\n",
            "150/150 [==============================] - 1s 4ms/step - loss: 0.6937 - accuracy: 0.4820\n",
            "Epoch 10/10\n",
            "150/150 [==============================] - 1s 4ms/step - loss: 0.6934 - accuracy: 0.5036\n"
          ]
        },
        {
          "output_type": "execute_result",
          "data": {
            "text/plain": [
              "       loss  accuracy\n",
              "0  2.210474  0.492186\n",
              "1  0.750953  0.490936\n",
              "2  0.710551  0.497812\n",
              "3  0.700159  0.504272\n",
              "4  0.696550  0.497187"
            ],
            "text/html": [
              "\n",
              "  <div id=\"df-93170f10-f3d9-4f4c-818f-96f2181442c1\">\n",
              "    <div class=\"colab-df-container\">\n",
              "      <div>\n",
              "<style scoped>\n",
              "    .dataframe tbody tr th:only-of-type {\n",
              "        vertical-align: middle;\n",
              "    }\n",
              "\n",
              "    .dataframe tbody tr th {\n",
              "        vertical-align: top;\n",
              "    }\n",
              "\n",
              "    .dataframe thead th {\n",
              "        text-align: right;\n",
              "    }\n",
              "</style>\n",
              "<table border=\"1\" class=\"dataframe\">\n",
              "  <thead>\n",
              "    <tr style=\"text-align: right;\">\n",
              "      <th></th>\n",
              "      <th>loss</th>\n",
              "      <th>accuracy</th>\n",
              "    </tr>\n",
              "  </thead>\n",
              "  <tbody>\n",
              "    <tr>\n",
              "      <th>0</th>\n",
              "      <td>2.210474</td>\n",
              "      <td>0.492186</td>\n",
              "    </tr>\n",
              "    <tr>\n",
              "      <th>1</th>\n",
              "      <td>0.750953</td>\n",
              "      <td>0.490936</td>\n",
              "    </tr>\n",
              "    <tr>\n",
              "      <th>2</th>\n",
              "      <td>0.710551</td>\n",
              "      <td>0.497812</td>\n",
              "    </tr>\n",
              "    <tr>\n",
              "      <th>3</th>\n",
              "      <td>0.700159</td>\n",
              "      <td>0.504272</td>\n",
              "    </tr>\n",
              "    <tr>\n",
              "      <th>4</th>\n",
              "      <td>0.696550</td>\n",
              "      <td>0.497187</td>\n",
              "    </tr>\n",
              "  </tbody>\n",
              "</table>\n",
              "</div>\n",
              "      <button class=\"colab-df-convert\" onclick=\"convertToInteractive('df-93170f10-f3d9-4f4c-818f-96f2181442c1')\"\n",
              "              title=\"Convert this dataframe to an interactive table.\"\n",
              "              style=\"display:none;\">\n",
              "        \n",
              "  <svg xmlns=\"http://www.w3.org/2000/svg\" height=\"24px\"viewBox=\"0 0 24 24\"\n",
              "       width=\"24px\">\n",
              "    <path d=\"M0 0h24v24H0V0z\" fill=\"none\"/>\n",
              "    <path d=\"M18.56 5.44l.94 2.06.94-2.06 2.06-.94-2.06-.94-.94-2.06-.94 2.06-2.06.94zm-11 1L8.5 8.5l.94-2.06 2.06-.94-2.06-.94L8.5 2.5l-.94 2.06-2.06.94zm10 10l.94 2.06.94-2.06 2.06-.94-2.06-.94-.94-2.06-.94 2.06-2.06.94z\"/><path d=\"M17.41 7.96l-1.37-1.37c-.4-.4-.92-.59-1.43-.59-.52 0-1.04.2-1.43.59L10.3 9.45l-7.72 7.72c-.78.78-.78 2.05 0 2.83L4 21.41c.39.39.9.59 1.41.59.51 0 1.02-.2 1.41-.59l7.78-7.78 2.81-2.81c.8-.78.8-2.07 0-2.86zM5.41 20L4 18.59l7.72-7.72 1.47 1.35L5.41 20z\"/>\n",
              "  </svg>\n",
              "      </button>\n",
              "      \n",
              "  <style>\n",
              "    .colab-df-container {\n",
              "      display:flex;\n",
              "      flex-wrap:wrap;\n",
              "      gap: 12px;\n",
              "    }\n",
              "\n",
              "    .colab-df-convert {\n",
              "      background-color: #E8F0FE;\n",
              "      border: none;\n",
              "      border-radius: 50%;\n",
              "      cursor: pointer;\n",
              "      display: none;\n",
              "      fill: #1967D2;\n",
              "      height: 32px;\n",
              "      padding: 0 0 0 0;\n",
              "      width: 32px;\n",
              "    }\n",
              "\n",
              "    .colab-df-convert:hover {\n",
              "      background-color: #E2EBFA;\n",
              "      box-shadow: 0px 1px 2px rgba(60, 64, 67, 0.3), 0px 1px 3px 1px rgba(60, 64, 67, 0.15);\n",
              "      fill: #174EA6;\n",
              "    }\n",
              "\n",
              "    [theme=dark] .colab-df-convert {\n",
              "      background-color: #3B4455;\n",
              "      fill: #D2E3FC;\n",
              "    }\n",
              "\n",
              "    [theme=dark] .colab-df-convert:hover {\n",
              "      background-color: #434B5C;\n",
              "      box-shadow: 0px 1px 3px 1px rgba(0, 0, 0, 0.15);\n",
              "      filter: drop-shadow(0px 1px 2px rgba(0, 0, 0, 0.3));\n",
              "      fill: #FFFFFF;\n",
              "    }\n",
              "  </style>\n",
              "\n",
              "      <script>\n",
              "        const buttonEl =\n",
              "          document.querySelector('#df-93170f10-f3d9-4f4c-818f-96f2181442c1 button.colab-df-convert');\n",
              "        buttonEl.style.display =\n",
              "          google.colab.kernel.accessAllowed ? 'block' : 'none';\n",
              "\n",
              "        async function convertToInteractive(key) {\n",
              "          const element = document.querySelector('#df-93170f10-f3d9-4f4c-818f-96f2181442c1');\n",
              "          const dataTable =\n",
              "            await google.colab.kernel.invokeFunction('convertToInteractive',\n",
              "                                                     [key], {});\n",
              "          if (!dataTable) return;\n",
              "\n",
              "          const docLinkHtml = 'Like what you see? Visit the ' +\n",
              "            '<a target=\"_blank\" href=https://colab.research.google.com/notebooks/data_table.ipynb>data table notebook</a>'\n",
              "            + ' to learn more about interactive tables.';\n",
              "          element.innerHTML = '';\n",
              "          dataTable['output_type'] = 'display_data';\n",
              "          await google.colab.output.renderOutput(dataTable, element);\n",
              "          const docLink = document.createElement('div');\n",
              "          docLink.innerHTML = docLinkHtml;\n",
              "          element.appendChild(docLink);\n",
              "        }\n",
              "      </script>\n",
              "    </div>\n",
              "  </div>\n",
              "  "
            ]
          },
          "metadata": {},
          "execution_count": 18
        }
      ]
    },
    {
      "cell_type": "code",
      "source": [
        "loss_plot = pd.DataFrame(historyD.history).plot(y=\"loss\", title = \"Loss vs. Epochs\", legend=False)\n",
        "loss_plot.set(xlabel=\"Epochs\", ylabel=\"Loss\")"
      ],
      "metadata": {
        "colab": {
          "base_uri": "https://localhost:8080/",
          "height": 490
        },
        "id": "pPIr4KKVh-8n",
        "outputId": "f5bcedb7-a616-4aaf-d3c4-824951bc08cc"
      },
      "id": "pPIr4KKVh-8n",
      "execution_count": 14,
      "outputs": [
        {
          "output_type": "execute_result",
          "data": {
            "text/plain": [
              "[Text(0.5, 0, 'Epochs'), Text(0, 0.5, 'Loss')]"
            ]
          },
          "metadata": {},
          "execution_count": 14
        },
        {
          "output_type": "display_data",
          "data": {
            "text/plain": [
              "<Figure size 640x480 with 1 Axes>"
            ],
            "image/png": "[encoded data removed]"
          },
          "metadata": {}
        }
      ]
    },
    {
      "cell_type": "code",
      "source": [
        "test_loss, test_accuracy = modelD.evaluate(test_set_x, test_set_y)"
      ],
      "metadata": {
        "colab": {
          "base_uri": "https://localhost:8080/"
        },
        "id": "PV9yOpH0iN2d",
        "outputId": "56c2d1ec-2121-4329-95b9-ce7f4b47afb3"
      },
      "id": "PV9yOpH0iN2d",
      "execution_count": 15,
      "outputs": [
        {
          "output_type": "stream",
          "name": "stdout",
          "text": [
            "50/50 [==============================] - 0s 3ms/step - loss: 0.6934 - accuracy: 0.4975\n"
          ]
        }
      ]
    },
    {
      "cell_type": "code",
      "source": [
        "cv_loss, cv_accuracy = modelD.evaluate(cv_set_x, cv_set_y)"
      ],
      "metadata": {
        "colab": {
          "base_uri": "https://localhost:8080/"
        },
        "id": "4W7WoePaiSEz",
        "outputId": "ffd3ae12-fdfc-467f-80e2-d08e36010a43"
      },
      "id": "4W7WoePaiSEz",
      "execution_count": 16,
      "outputs": [
        {
          "output_type": "stream",
          "name": "stdout",
          "text": [
            "50/50 [==============================] - 0s 2ms/step - loss: 0.6933 - accuracy: 0.4994\n"
          ]
        }
      ]
    }
  ],
  "metadata": {
    "kernelspec": {
      "display_name": "Python 3 (ipykernel)",
      "language": "python",
      "name": "python3"
    },
    "language_info": {
      "codemirror_mode": {
        "name": "ipython",
        "version": 3
      },
      "file_extension": ".py",
      "mimetype": "text/x-python",
      "name": "python",
      "nbconvert_exporter": "python",
      "pygments_lexer": "ipython3",
      "version": "3.9.12"
    },
    "colab": {
      "provenance": [],
      "collapsed_sections": [
        "aa7d6562",
        "f16a56fe",
        "0a4b8d2d",
        "b884ee34",
        "27923275",
        "97e8a14c",
        "765e1058"
      ],
      "include_colab_link": true
    }
  },
  "nbformat": 4,
  "nbformat_minor": 5
}