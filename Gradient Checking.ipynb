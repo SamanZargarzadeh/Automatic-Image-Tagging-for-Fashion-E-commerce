{
 "cells": [
  {
   "cell_type": "markdown",
   "metadata": {},
   "source": [
    "# Gradient Checking\n",
    "\n"
   ]
  },
  {
   "cell_type": "markdown",
   "metadata": {},
   "source": [
    "# Adding Previous Model and data"
   ]
  },
  {
   "cell_type": "code",
   "execution_count": 1,
   "metadata": {},
   "outputs": [],
   "source": [
    "import numpy as np\n",
    "\n",
    "# load the text file into an array\n",
    "train_set_x = np.load('/Users/macbook/Desktop/Uni/Quarter 4/Deep Learning/Project/Automatic-Image-Tagging-for-Fashion-E-commerce/train_set_x.npy')\n",
    "test_set_x = np.load('/Users/macbook/Desktop/Uni/Quarter 4/Deep Learning/Project/Automatic-Image-Tagging-for-Fashion-E-commerce/test_set_x.npy')\n",
    "cv_set_x = np.load('/Users/macbook/Desktop/Uni/Quarter 4/Deep Learning/Project/Automatic-Image-Tagging-for-Fashion-E-commerce/cv_set_x.npy')\n",
    "\n",
    "train_set_y = np.load('/Users/macbook/Desktop/Uni/Quarter 4/Deep Learning/Project/Automatic-Image-Tagging-for-Fashion-E-commerce/train_set_y.npy')\n",
    "test_set_y = np.load('/Users/macbook/Desktop/Uni/Quarter 4/Deep Learning/Project/Automatic-Image-Tagging-for-Fashion-E-commerce/test_set_y.npy')\n",
    "cv_set_y = np.load('/Users/macbook/Desktop/Uni/Quarter 4/Deep Learning/Project/Automatic-Image-Tagging-for-Fashion-E-commerce/cv_set_y.npy')\n"
   ]
  },
  {
   "cell_type": "code",
   "execution_count": 2,
   "metadata": {},
   "outputs": [],
   "source": [
    "from dnn_app_utils_v3 import *"
   ]
  },
  {
   "cell_type": "code",
   "execution_count": 3,
   "metadata": {},
   "outputs": [],
   "source": [
    "def L_layer_model(X, Y, layers_dims, learning_rate = 0.0318, num_iterations = 500, print_cost=False):\n",
    "\n",
    "    np.random.seed(1)\n",
    "    costs = []                         # keep track of cost\n",
    "    \n",
    "    # Parameters initialization. (≈ 1 line of code)\n",
    "    parameters = initialize_parameters_deep(layers_dims)\n",
    "    \n",
    "    # Loop (gradient descent)\n",
    "    for i in range(0, num_iterations):\n",
    "\n",
    "        # Forward propagation: [LINEAR -> RELU]*(L-1) -> LINEAR -> SIGMOID.\n",
    "        AL, caches = L_model_forward(X, parameters)\n",
    "        \n",
    "        # Compute cost.\n",
    "        cost = compute_cost(AL, Y)\n",
    "    \n",
    "        # Backward propagation.\n",
    "        grads = L_model_backward(AL, Y, caches)\n",
    " \n",
    "        # Update parameters.\n",
    "        parameters = update_parameters(parameters, grads, learning_rate)\n",
    "                \n",
    "        # Print the cost every 100 training example\n",
    "        if print_cost and i % 100 == 0:\n",
    "            print (\"Cost after iteration %i: %f\" %(i, cost))\n",
    "        if print_cost and i % 100 == 0:\n",
    "            costs.append(cost)\n",
    "            \n",
    "    # plot the cost\n",
    "    plt.plot(np.squeeze(costs))\n",
    "    plt.ylabel('cost')\n",
    "    plt.xlabel('iterations (per hundreds)')\n",
    "    plt.title(\"Learning rate =\" + str(learning_rate))\n",
    "    plt.show()\n",
    "    \n",
    "    return parameters"
   ]
  },
  {
   "cell_type": "code",
   "execution_count": 4,
   "metadata": {},
   "outputs": [],
   "source": [
    "n_1=32\n",
    "alpha=0.0373917182"
   ]
  },
  {
   "cell_type": "code",
   "execution_count": 5,
   "metadata": {},
   "outputs": [],
   "source": [
    "n_x = train_set_x.shape[0]\n",
    "\n",
    "layers_dims = [n_x, n_1, 4, 1] #  4-layer model"
   ]
  },
  {
   "cell_type": "code",
   "execution_count": 6,
   "metadata": {},
   "outputs": [
    {
     "name": "stdout",
     "output_type": "stream",
     "text": [
      "Cost after iteration 0: 0.692474\n",
      "Cost after iteration 100: 0.659311\n",
      "Cost after iteration 200: 0.648730\n",
      "Cost after iteration 300: 0.630714\n",
      "Cost after iteration 400: 0.646042\n"
     ]
    },
    {
     "data": {
      "image/png": "[encoded data removed]",
      "text/plain": [
       "<Figure size 432x288 with 1 Axes>"
      ]
     },
     "metadata": {
      "needs_background": "light"
     },
     "output_type": "display_data"
    }
   ],
   "source": [
    "parameters = L_layer_model(train_set_x, train_set_y.reshape(1, -1), \n",
    "                           layers_dims, learning_rate = alpha, num_iterations = 500, print_cost = True)"
   ]
  },
  {
   "cell_type": "code",
   "execution_count": 7,
   "metadata": {},
   "outputs": [
    {
     "data": {
      "text/plain": [
       "{'W1': array([[ 0.01893912, -0.00658534, -0.00524851, ..., -0.01480856,\n",
       "         -0.00343404, -0.00576381],\n",
       "        [ 0.0140128 ,  0.01108747,  0.00423321, ...,  0.0055438 ,\n",
       "         -0.0016089 , -0.01772652],\n",
       "        [-0.00196307,  0.00548584,  0.00395184, ..., -0.01603017,\n",
       "          0.00218838,  0.00474529],\n",
       "        ...,\n",
       "        [-0.0211464 ,  0.0003351 ,  0.00891222, ...,  0.01797098,\n",
       "          0.0007018 , -0.01208007],\n",
       "        [ 0.01692769,  0.02460921, -0.00475794, ..., -0.0040709 ,\n",
       "         -0.00197291, -0.00354192],\n",
       "        [ 0.0053072 ,  0.0076439 ,  0.00205667, ...,  0.00159498,\n",
       "          0.01401833, -0.01150636]]),\n",
       " 'b1': array([[-5.36737014e-03],\n",
       "        [-1.28405955e-03],\n",
       "        [-1.12102416e-04],\n",
       "        [-1.69636256e-03],\n",
       "        [-4.77031693e-03],\n",
       "        [-1.02165618e-02],\n",
       "        [ 1.10902521e-02],\n",
       "        [ 1.73636259e-02],\n",
       "        [-7.28698938e-04],\n",
       "        [-5.90897487e-03],\n",
       "        [-9.90197772e-03],\n",
       "        [-9.66757344e-03],\n",
       "        [ 6.86467064e-04],\n",
       "        [ 3.76124710e-03],\n",
       "        [ 1.37955706e-03],\n",
       "        [-1.28732533e-03],\n",
       "        [ 2.57004612e-03],\n",
       "        [ 2.70215000e-03],\n",
       "        [-2.02157895e-03],\n",
       "        [-4.52530504e-03],\n",
       "        [-2.83927702e-04],\n",
       "        [ 1.75399166e-03],\n",
       "        [ 1.18572495e-02],\n",
       "        [ 1.19534552e-02],\n",
       "        [-8.76218269e-04],\n",
       "        [-8.55659582e-04],\n",
       "        [ 1.49336147e-03],\n",
       "        [ 3.71151796e-03],\n",
       "        [-1.63679217e-03],\n",
       "        [ 1.84538034e-03],\n",
       "        [ 1.14698481e-03],\n",
       "        [ 6.29776127e-05]]),\n",
       " 'W2': array([[-0.05229286, -0.57610695, -0.00421642,  0.21614716,  0.22098409,\n",
       "          0.05687907,  0.08884557,  0.26693989,  0.49863898, -0.11493804,\n",
       "          0.23173092, -0.18523621, -0.23720774, -0.15901437, -0.17473305,\n",
       "          0.30837274, -0.35932236, -0.03345087,  0.07408861,  0.18824235,\n",
       "          0.05599145, -0.03576254, -0.0850596 , -0.18922075,  0.02831672,\n",
       "         -0.06949337,  0.11567113,  0.13550775,  0.18795841, -0.15376244,\n",
       "          0.01748218,  0.05139399],\n",
       "        [ 0.0201973 ,  0.01296019,  0.07923136, -0.00360735,  0.01065648,\n",
       "          0.00233078, -0.21286292,  0.03182462,  0.26328476, -0.04930595,\n",
       "         -0.34667884, -0.2087218 ,  0.04412671, -0.06860096,  0.12652994,\n",
       "         -0.08674961, -0.13935249,  0.20528353, -0.36310052,  0.1313378 ,\n",
       "          0.27779357, -0.09903648,  0.08611887,  0.02248143, -0.00964774,\n",
       "          0.0761502 ,  0.12410281, -0.22666871,  0.45362986,  0.00381629,\n",
       "          0.33443772,  0.17007985],\n",
       "        [-0.09719319,  0.03935084, -0.14566882, -0.17941834, -0.17817066,\n",
       "         -0.29210486,  0.3879594 ,  0.29492533,  0.19690368, -0.16179805,\n",
       "         -0.22351448, -0.15627861,  0.0296038 ,  0.08961956,  0.04838597,\n",
       "         -0.15229139,  0.1257884 ,  0.04725691, -0.05335595, -0.1922276 ,\n",
       "         -0.11994347,  0.16313794,  0.23168798,  0.27577885, -0.15544103,\n",
       "          0.30277143, -0.04368535,  0.22787514, -0.24142628, -0.05357069,\n",
       "         -0.14829139,  0.1290792 ],\n",
       "        [ 0.07852823,  0.12407023,  0.05940093, -0.02021101,  0.07209852,\n",
       "         -0.06507859, -0.19724425,  0.23533334,  0.12123199,  0.11895832,\n",
       "          0.29910757, -0.04989043, -0.23472732,  0.45995179,  0.14859275,\n",
       "         -0.18028009, -0.02694054, -0.1656506 , -0.18233891,  0.10220044,\n",
       "          0.2044403 ,  0.09343784, -0.14232338, -0.09741956, -0.09686444,\n",
       "         -0.20037525,  0.08564397, -0.09500853,  0.12911977,  0.04080262,\n",
       "          0.01026731, -0.29084904]]),\n",
       " 'b2': array([[ 0.01631139],\n",
       "        [ 0.01366597],\n",
       "        [ 0.04970324],\n",
       "        [-0.0027092 ]]),\n",
       " 'W3': array([[-0.7043554 , -0.9156508 , -0.67306628,  0.41618142]]),\n",
       " 'b3': array([[0.01853306]])}"
      ]
     },
     "execution_count": 7,
     "metadata": {},
     "output_type": "execute_result"
    }
   ],
   "source": [
    "X = train_set_x\n",
    "Y = train_set_y\n",
    "parameters"
   ]
  },
  {
   "cell_type": "code",
   "execution_count": 8,
   "metadata": {},
   "outputs": [],
   "source": [
    "# Packages\n",
    "import numpy as np\n",
    "from gc_utils import sigmoid, relu, dictionary_to_vector, vector_to_dictionary, gradients_to_vector"
   ]
  },
  {
   "cell_type": "code",
   "execution_count": 9,
   "metadata": {},
   "outputs": [],
   "source": [
    "def forward_propagation_n(X, Y, parameters):\n",
    "   \n",
    "\n",
    "    # retrieve parameters\n",
    "    m = X.shape[1]\n",
    "    W1 = parameters[\"W1\"]\n",
    "    b1 = parameters[\"b1\"]\n",
    "    W2 = parameters[\"W2\"]\n",
    "    b2 = parameters[\"b2\"]\n",
    "    W3 = parameters[\"W3\"]\n",
    "    b3 = parameters[\"b3\"]\n",
    "\n",
    "    # LINEAR -> RELU -> LINEAR -> RELU -> LINEAR -> SIGMOID\n",
    "    Z1 = np.dot(W1, X) + b1\n",
    "    A1 = relu(Z1)\n",
    "    Z2 = np.dot(W2, A1) + b2\n",
    "    A2 = relu(Z2)\n",
    "    Z3 = np.dot(W3, A2) + b3\n",
    "    A3 = sigmoid(Z3)\n",
    "\n",
    "    # Cost\n",
    "    logprobs = np.multiply(-np.log(A3),Y) + np.multiply(-np.log(1 - A3), 1 - Y)\n",
    "    cost = 1./m * np.sum(logprobs)\n",
    "    \n",
    "    cache = (Z1, A1, W1, b1, Z2, A2, W2, b2, Z3, A3, W3, b3)\n",
    "    \n",
    "    return cost, cache"
   ]
  },
  {
   "cell_type": "code",
   "execution_count": 10,
   "metadata": {},
   "outputs": [],
   "source": [
    "def backward_propagation_n(X, Y, cache):\n",
    "\n",
    "    \n",
    "    m = X.shape[1]\n",
    "    (Z1, A1, W1, b1, Z2, A2, W2, b2, Z3, A3, W3, b3) = cache\n",
    "    \n",
    "    dZ3 = A3 - Y\n",
    "    dW3 = 1./m * np.dot(dZ3, A2.T)\n",
    "    db3 = 1./m * np.sum(dZ3, axis=1, keepdims = True)\n",
    "    \n",
    "    dA2 = np.dot(W3.T, dZ3)\n",
    "    dZ2 = np.multiply(dA2, np.int64(A2 > 0))\n",
    "    dW2 = 1./m * np.dot(dZ2, A1.T) * 2\n",
    "    db2 = 1./m * np.sum(dZ2, axis=1, keepdims = True)\n",
    "    \n",
    "    dA1 = np.dot(W2.T, dZ2)\n",
    "    dZ1 = np.multiply(dA1, np.int64(A1 > 0))\n",
    "    dW1 = 1./m * np.dot(dZ1, X.T)\n",
    "    db1 = 4./m * np.sum(dZ1, axis=1, keepdims = True)\n",
    "    \n",
    "    gradients = {\"dZ3\": dZ3, \"dW3\": dW3, \"db3\": db3,\n",
    "                 \"dA2\": dA2, \"dZ2\": dZ2, \"dW2\": dW2, \"db2\": db2,\n",
    "                 \"dA1\": dA1, \"dZ1\": dZ1, \"dW1\": dW1, \"db1\": db1}\n",
    "    \n",
    "    return gradients"
   ]
  },
  {
   "cell_type": "code",
   "execution_count": 11,
   "metadata": {},
   "outputs": [
    {
     "data": {
      "text/plain": [
       "array([[ 0.01893912],\n",
       "       [-0.00658534],\n",
       "       [-0.00524851],\n",
       "       ...,\n",
       "       [-0.67306628],\n",
       "       [ 0.41618142],\n",
       "       [ 0.01853306]])"
      ]
     },
     "execution_count": 11,
     "metadata": {},
     "output_type": "execute_result"
    }
   ],
   "source": [
    "#take a look\n",
    "parameters_values, keys = dictionary_to_vector(parameters)\n",
    "parameters_values"
   ]
  },
  {
   "cell_type": "code",
   "execution_count": 12,
   "metadata": {},
   "outputs": [],
   "source": [
    "def gradient_check_n(parameters, gradients, X, Y, epsilon = 1e-7):\n",
    "\n",
    "    \n",
    "    # Set-up variables\n",
    "    parameters_values, _ = dictionary_to_vector(parameters)\n",
    "    grad = gradients_to_vector(gradients)\n",
    "    num_parameters = parameters_values.shape[0]\n",
    "    J_plus = np.zeros((num_parameters, 1))\n",
    "    J_minus = np.zeros((num_parameters, 1))\n",
    "    gradapprox = np.zeros((num_parameters, 1))\n",
    "    \n",
    "    # Compute gradapprox\n",
    "    for i in range(num_parameters):\n",
    "        print(i)\n",
    "        # Compute J_plus[i]. Inputs: \"parameters_values, epsilon\". Output = \"J_plus[i]\".\n",
    "        # \"_\" is used because the function you have to outputs two parameters but we only care about the first one\n",
    "        thetaplus = np.copy(parameters_values)                                      # Step 1\n",
    "        thetaplus[i][0] = thetaplus[i] + epsilon                                    # Step 2\n",
    "        J_plus[i], _ = forward_propagation_n(X, Y, vector_to_dictionary(thetaplus)) # Step 3\n",
    "\n",
    "        \n",
    "        # Compute J_minus[i]. Inputs: \"parameters_values, epsilon\". Output = \"J_minus[i]\".\n",
    "        thetaminus = np.copy(parameters_values)                                       # Step 1\n",
    "        thetaminus[i][0] = thetaminus[i] - epsilon                                    # Step 2        \n",
    "        J_minus[i], _ = forward_propagation_n(X, Y, vector_to_dictionary(thetaminus)) # Step 3                              \n",
    "        \n",
    "        \n",
    "        # Compute gradapprox[i]\n",
    "        gradapprox[i] = (J_plus[i]-J_minus[i])/(2*epsilon)\n",
    "\n",
    "    \n",
    "    # Compare gradapprox to backward propagation gradients by computing difference.\n",
    "    ### START CODE HERE ### (approx. 1 line)\n",
    "    numerator = np.linalg.norm(grad-gradapprox)                                           # Step 1'\n",
    "    denominator = np.linalg.norm(grad)+np.linalg.norm(gradapprox)                                         # Step 2'\n",
    "    difference = numerator /denominator                                           # Step 3'\n",
    "    ### END CODE HERE ###\n",
    "\n",
    "    if difference > 2e-7:\n",
    "        print (\"\\033[93m\" + \"There is a mistake in the backward propagation! difference = \" + str(difference) + \"\\033[0m\")\n",
    "    else:\n",
    "        print (\"\\033[92m\" + \"Your backward propagation works perfectly fine! difference = \" + str(difference) + \"\\033[0m\")\n",
    "    \n",
    "    return difference"
   ]
  },
  {
   "cell_type": "code",
   "execution_count": 13,
   "metadata": {},
   "outputs": [
    {
     "name": "stdout",
     "output_type": "stream",
     "text": [
      "0\n"
     ]
    },
    {
     "ename": "ValueError",
     "evalue": "shapes (5,4) and (7938,4799) not aligned: 4 (dim 1) != 7938 (dim 0)",
     "output_type": "error",
     "traceback": [
      "\u001b[0;31m---------------------------------------------------------------------------\u001b[0m",
      "\u001b[0;31mValueError\u001b[0m                                Traceback (most recent call last)",
      "Input \u001b[0;32mIn [13]\u001b[0m, in \u001b[0;36m<cell line: 5>\u001b[0;34m()\u001b[0m\n\u001b[1;32m      3\u001b[0m cost, cache \u001b[38;5;241m=\u001b[39m forward_propagation_n(X, Y, parameters)\n\u001b[1;32m      4\u001b[0m gradients \u001b[38;5;241m=\u001b[39m backward_propagation_n(X, Y, cache)\n\u001b[0;32m----> 5\u001b[0m difference \u001b[38;5;241m=\u001b[39m \u001b[43mgradient_check_n\u001b[49m\u001b[43m(\u001b[49m\u001b[43mparameters\u001b[49m\u001b[43m,\u001b[49m\u001b[43m \u001b[49m\u001b[43mgradients\u001b[49m\u001b[43m,\u001b[49m\u001b[43m \u001b[49m\u001b[43mX\u001b[49m\u001b[43m,\u001b[49m\u001b[43m \u001b[49m\u001b[43mY\u001b[49m\u001b[43m)\u001b[49m\n",
      "Input \u001b[0;32mIn [12]\u001b[0m, in \u001b[0;36mgradient_check_n\u001b[0;34m(parameters, gradients, X, Y, epsilon)\u001b[0m\n\u001b[1;32m     17\u001b[0m thetaplus \u001b[38;5;241m=\u001b[39m np\u001b[38;5;241m.\u001b[39mcopy(parameters_values)                                      \u001b[38;5;66;03m# Step 1\u001b[39;00m\n\u001b[1;32m     18\u001b[0m thetaplus[i][\u001b[38;5;241m0\u001b[39m] \u001b[38;5;241m=\u001b[39m thetaplus[i] \u001b[38;5;241m+\u001b[39m epsilon                                    \u001b[38;5;66;03m# Step 2\u001b[39;00m\n\u001b[0;32m---> 19\u001b[0m J_plus[i], _ \u001b[38;5;241m=\u001b[39m \u001b[43mforward_propagation_n\u001b[49m\u001b[43m(\u001b[49m\u001b[43mX\u001b[49m\u001b[43m,\u001b[49m\u001b[43m \u001b[49m\u001b[43mY\u001b[49m\u001b[43m,\u001b[49m\u001b[43m \u001b[49m\u001b[43mvector_to_dictionary\u001b[49m\u001b[43m(\u001b[49m\u001b[43mthetaplus\u001b[49m\u001b[43m)\u001b[49m\u001b[43m)\u001b[49m \u001b[38;5;66;03m# Step 3\u001b[39;00m\n\u001b[1;32m     22\u001b[0m \u001b[38;5;66;03m# Compute J_minus[i]. Inputs: \"parameters_values, epsilon\". Output = \"J_minus[i]\".\u001b[39;00m\n\u001b[1;32m     23\u001b[0m thetaminus \u001b[38;5;241m=\u001b[39m np\u001b[38;5;241m.\u001b[39mcopy(parameters_values)                                       \u001b[38;5;66;03m# Step 1\u001b[39;00m\n",
      "Input \u001b[0;32mIn [9]\u001b[0m, in \u001b[0;36mforward_propagation_n\u001b[0;34m(X, Y, parameters)\u001b[0m\n\u001b[1;32m     11\u001b[0m b3 \u001b[38;5;241m=\u001b[39m parameters[\u001b[38;5;124m\"\u001b[39m\u001b[38;5;124mb3\u001b[39m\u001b[38;5;124m\"\u001b[39m]\n\u001b[1;32m     13\u001b[0m \u001b[38;5;66;03m# LINEAR -> RELU -> LINEAR -> RELU -> LINEAR -> SIGMOID\u001b[39;00m\n\u001b[0;32m---> 14\u001b[0m Z1 \u001b[38;5;241m=\u001b[39m \u001b[43mnp\u001b[49m\u001b[38;5;241;43m.\u001b[39;49m\u001b[43mdot\u001b[49m\u001b[43m(\u001b[49m\u001b[43mW1\u001b[49m\u001b[43m,\u001b[49m\u001b[43m \u001b[49m\u001b[43mX\u001b[49m\u001b[43m)\u001b[49m \u001b[38;5;241m+\u001b[39m b1\n\u001b[1;32m     15\u001b[0m A1 \u001b[38;5;241m=\u001b[39m relu(Z1)\n\u001b[1;32m     16\u001b[0m Z2 \u001b[38;5;241m=\u001b[39m np\u001b[38;5;241m.\u001b[39mdot(W2, A1) \u001b[38;5;241m+\u001b[39m b2\n",
      "File \u001b[0;32m<__array_function__ internals>:5\u001b[0m, in \u001b[0;36mdot\u001b[0;34m(*args, **kwargs)\u001b[0m\n",
      "\u001b[0;31mValueError\u001b[0m: shapes (5,4) and (7938,4799) not aligned: 4 (dim 1) != 7938 (dim 0)"
     ]
    }
   ],
   "source": [
    "#example\n",
    "\n",
    "cost, cache = forward_propagation_n(X, Y, parameters)\n",
    "gradients = backward_propagation_n(X, Y, cache)\n",
    "difference = gradient_check_n(parameters, gradients, X, Y)"
   ]
  },
  {
   "cell_type": "code",
   "execution_count": 14,
   "metadata": {},
   "outputs": [
    {
     "data": {
      "text/plain": [
       "{'W1': array([[ 0.01893912, -0.00658534, -0.00524851, -0.01196816],\n",
       "        [ 0.00927844, -0.02589804,  0.01977668, -0.00898884],\n",
       "        [ 0.00340231, -0.00218398,  0.01638447, -0.02310488],\n",
       "        [-0.00261039, -0.00406979,  0.01304422, -0.01153279],\n",
       "        [-0.00163551, -0.00939223,  0.00109609,  0.00675665]]),\n",
       " 'b1': array([[-0.01205605],\n",
       "        [ 0.01271026],\n",
       "        [ 0.00944078],\n",
       "        [ 0.00502803],\n",
       "        [ 0.01031472]]),\n",
       " 'W2': array([[-0.0077414 , -0.00121588, -0.01040581, -0.00314208,  0.00608345],\n",
       "        [-0.00811791, -0.00530927, -0.0081558 , -0.00884946, -0.00752012],\n",
       "        [ 0.00036799, -0.01155443,  0.00319779,  0.01948672,  0.0089202 ]]),\n",
       " 'b2': array([[-0.00178255],\n",
       "        [-0.00938061],\n",
       "        [-0.00802661]]),\n",
       " 'W3': array([[ 0.01907527,  0.00102544, -0.00748061]]),\n",
       " 'b3': array([[0.0011299]])}"
      ]
     },
     "execution_count": 14,
     "metadata": {},
     "output_type": "execute_result"
    }
   ],
   "source": [
    "vector_to_dictionary(parameters_values)"
   ]
  },
  {
   "cell_type": "code",
   "execution_count": 136,
   "metadata": {},
   "outputs": [
    {
     "data": {
      "text/plain": [
       "(254185, 1)"
      ]
     },
     "execution_count": 136,
     "metadata": {},
     "output_type": "execute_result"
    }
   ],
   "source": [
    "parameters_values.shape"
   ]
  },
  {
   "cell_type": "code",
   "execution_count": null,
   "metadata": {},
   "outputs": [],
   "source": []
  }
 ],
 "metadata": {
  "coursera": {
   "course_slug": "deep-neural-network",
   "graded_item_id": "n6NBD",
   "launcher_item_id": "yfOsE"
  },
  "kernelspec": {
   "display_name": "Python 3 (ipykernel)",
   "language": "python",
   "name": "python3"
  },
  "language_info": {
   "codemirror_mode": {
    "name": "ipython",
    "version": 3
   },
   "file_extension": ".py",
   "mimetype": "text/x-python",
   "name": "python",
   "nbconvert_exporter": "python",
   "pygments_lexer": "ipython3",
   "version": "3.9.12"
  }
 },
 "nbformat": 4,
 "nbformat_minor": 1
}
