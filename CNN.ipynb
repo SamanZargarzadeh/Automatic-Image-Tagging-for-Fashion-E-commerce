{
  "nbformat": 4,
  "nbformat_minor": 0,
  "metadata": {
    "colab": {
      "provenance": [],
      "include_colab_link": true
    },
    "kernelspec": {
      "name": "python3",
      "display_name": "Python 3"
    },
    "language_info": {
      "name": "python"
    }
  },
  "cells": [
    {
      "cell_type": "markdown",
      "metadata": {
        "id": "view-in-github",
        "colab_type": "text"
      },
      "source": [
        "<a href=\"https://colab.research.google.com/github/SamanZargarzadeh/Automatic-Image-Tagging-for-Fashion-E-commerce/blob/main/CNN.ipynb\" target=\"_parent\"><img src=\"https://colab.research.google.com/assets/colab-badge.svg\" alt=\"Open In Colab\"/></a>"
      ]
    },
    {
      "cell_type": "code",
      "execution_count": 2,
      "metadata": {
        "id": "l6_zVh5bYokV"
      },
      "outputs": [],
      "source": [
        "import tensorflow as tf\n",
        "from scipy.io import loadmat\n",
        "from tensorflow.keras.models import Sequential\n",
        "from tensorflow.keras.layers import Dense, Flatten, BatchNormalization, Dropout, Conv2D, MaxPooling2D \n",
        "from tensorflow.keras import regularizers\n",
        "from tensorflow.keras.callbacks import Callback\n",
        "from tensorflow.keras.preprocessing import image\n",
        "import numpy as np\n",
        "import pandas as pd\n",
        "import matplotlib.pyplot as plt\n",
        "%matplotlib inline"
      ]
    },
    {
      "cell_type": "code",
      "source": [
        "from google.colab import drive\n",
        "drive.mount('/content/drive',force_remount=True)"
      ],
      "metadata": {
        "colab": {
          "base_uri": "https://localhost:8080/"
        },
        "id": "X6UkTdOnbfE0",
        "outputId": "de80e1f2-a395-4378-b88b-e2f8a455a75d"
      },
      "execution_count": 3,
      "outputs": [
        {
          "output_type": "stream",
          "name": "stdout",
          "text": [
            "Mounted at /content/drive\n"
          ]
        }
      ]
    },
    {
      "cell_type": "code",
      "source": [
        "from google.colab import drive\n",
        "drive.mount('gdrive')"
      ],
      "metadata": {
        "colab": {
          "base_uri": "https://localhost:8080/"
        },
        "id": "qkMQgYJCbjq1",
        "outputId": "90697a11-23b6-4b43-89fe-a83c9ff529fd"
      },
      "execution_count": 4,
      "outputs": [
        {
          "output_type": "stream",
          "name": "stdout",
          "text": [
            "Mounted at gdrive\n"
          ]
        }
      ]
    },
    {
      "cell_type": "code",
      "source": [
        "X_train= np.load('/content/gdrive/MyDrive/iMaterialist_CNN/train_set_x.npy')[:500]\n",
        "#X_test= np.load('/content/gdrive/MyDrive/iMaterialist_CNN/test_set_x.npy')\n",
        "#X_cv= np.load('/content/gdrive/MyDrive/iMaterialist_CNN/cv_set_x.npy')\n",
        "\n",
        "y_train= np.load('/content/gdrive/MyDrive/iMaterialist_CNN/train_set_y.npy')[:500]\n",
        "#y_test= np.load('/content/gdrive/MyDrive/iMaterialist_CNN/test_set_y.npy')\n",
        "#y_cv= np.load('/content/gdrive/MyDrive/iMaterialist_CNN/cv_set_y.npy')"
      ],
      "metadata": {
        "id": "IEbGZc5Ib2MO"
      },
      "execution_count": 5,
      "outputs": []
    },
    {
      "cell_type": "code",
      "source": [
        "print(\"train X shape: \", X_train.shape) \n",
        "print(\"train y shape: \", y_train.shape)  \n",
        "#print(\"test X shape: \", X_test.shape)   \n",
        "#print(\"test y shape: \", y_test.shape)   \n",
        "#print(\"CV y shape: \", X_cv.shape) \n",
        "#print(\"CV y shape: \", y_cv.shape) "
      ],
      "metadata": {
        "colab": {
          "base_uri": "https://localhost:8080/"
        },
        "id": "XydrZduFcrve",
        "outputId": "796302de-ecd6-491d-dda0-91facd962b03"
      },
      "execution_count": 6,
      "outputs": [
        {
          "output_type": "stream",
          "name": "stdout",
          "text": [
            "train X shape:  (500, 300, 200, 3)\n",
            "train y shape:  (500,)\n"
          ]
        }
      ]
    },
    {
      "cell_type": "code",
      "source": [
        "model = Sequential([\n",
        "                    Conv2D(filters=16, kernel_size=(5,5), strides=(1,1), padding='valid', activation = 'relu', input_shape=(300, 200, 3)), \n",
        "                    MaxPooling2D(pool_size=(2,2), strides=(2,2), padding='valid'),\n",
        "                    Conv2D(filters=32, kernel_size=(5,5), strides=(1,1), padding='valid', activation = 'relu'), \n",
        "                    MaxPooling2D(pool_size=(2,2), strides=(2,2), padding='valid'),\n",
        "                    Conv2D(filters=64, kernel_size=(5,5), strides=(1,1), padding='valid', activation = 'relu'), \n",
        "                    MaxPooling2D(pool_size=(2,2), strides=(2,2), padding='valid'),\n",
        "                    Flatten(),\n",
        "                    Dense(64, activation = 'relu'),\n",
        "                    BatchNormalization(),\n",
        "                    Dropout(0.2),\n",
        "                    Dense(16, activation = 'relu'),\n",
        "                    BatchNormalization(),\n",
        "                    Dropout(0.2),\n",
        "                    Dense(1, activation='sigmoid')\n",
        "])"
      ],
      "metadata": {
        "id": "BisnPmMPb0ZC"
      },
      "execution_count": 19,
      "outputs": []
    },
    {
      "cell_type": "code",
      "source": [
        "model = Sequential([\n",
        "    Conv2D(filters=16, kernel_size=(5,5), strides=(1,1), padding='valid', activation='relu', input_shape=(300, 200, 3)),\n",
        "    MaxPooling2D(pool_size=(2,2), strides=(2,2), padding='valid'),\n",
        "    Conv2D(filters=32, kernel_size=(5,5), strides=(1,1), padding='valid', activation='relu'),\n",
        "    MaxPooling2D(pool_size=(2,2), strides=(2,2), padding='valid'),\n",
        "    Conv2D(filters=64, kernel_size=(3,3), strides=(1,1), padding='valid', activation='relu'),\n",
        "    MaxPooling2D(pool_size=(2,2), strides=(2,2), padding='valid'),\n",
        "    Flatten(),\n",
        "    Dense(64, activation='relu'),\n",
        "    Dense(1, activation='sigmoid')\n",
        "])\n"
      ],
      "metadata": {
        "id": "FaGsYAcw68Yk"
      },
      "execution_count": 6,
      "outputs": []
    },
    {
      "cell_type": "code",
      "source": [
        "model.summary()\n"
      ],
      "metadata": {
        "colab": {
          "base_uri": "https://localhost:8080/"
        },
        "id": "1r77l6lTb5oh",
        "outputId": "fb47632c-0058-4c90-9a28-05e8c078458b"
      },
      "execution_count": 20,
      "outputs": [
        {
          "output_type": "stream",
          "name": "stdout",
          "text": [
            "Model: \"sequential_3\"\n",
            "_________________________________________________________________\n",
            " Layer (type)                Output Shape              Param #   \n",
            "=================================================================\n",
            " conv2d_6 (Conv2D)           (None, 296, 196, 16)      1216      \n",
            "                                                                 \n",
            " max_pooling2d_6 (MaxPooling  (None, 148, 98, 16)      0         \n",
            " 2D)                                                             \n",
            "                                                                 \n",
            " conv2d_7 (Conv2D)           (None, 144, 94, 32)       12832     \n",
            "                                                                 \n",
            " max_pooling2d_7 (MaxPooling  (None, 72, 47, 32)       0         \n",
            " 2D)                                                             \n",
            "                                                                 \n",
            " conv2d_8 (Conv2D)           (None, 68, 43, 64)        51264     \n",
            "                                                                 \n",
            " max_pooling2d_8 (MaxPooling  (None, 34, 21, 64)       0         \n",
            " 2D)                                                             \n",
            "                                                                 \n",
            " flatten_3 (Flatten)         (None, 45696)             0         \n",
            "                                                                 \n",
            " dense_9 (Dense)             (None, 64)                2924608   \n",
            "                                                                 \n",
            " batch_normalization_6 (Batc  (None, 64)               256       \n",
            " hNormalization)                                                 \n",
            "                                                                 \n",
            " dropout_6 (Dropout)         (None, 64)                0         \n",
            "                                                                 \n",
            " dense_10 (Dense)            (None, 16)                1040      \n",
            "                                                                 \n",
            " batch_normalization_7 (Batc  (None, 16)               64        \n",
            " hNormalization)                                                 \n",
            "                                                                 \n",
            " dropout_7 (Dropout)         (None, 16)                0         \n",
            "                                                                 \n",
            " dense_11 (Dense)            (None, 1)                 17        \n",
            "                                                                 \n",
            "=================================================================\n",
            "Total params: 2,991,297\n",
            "Trainable params: 2,991,137\n",
            "Non-trainable params: 160\n",
            "_________________________________________________________________\n"
          ]
        }
      ]
    },
    {
      "cell_type": "code",
      "source": [
        "model.compile(\n",
        "    optimizer=tf.keras.optimizers.Adam(learning_rate=0.01),\n",
        "    loss='binary_crossentropy',\n",
        "    metrics=[tf.keras.metrics.BinaryAccuracy()]\n",
        ")"
      ],
      "metadata": {
        "id": "Q9O-JrS_b6ML"
      },
      "execution_count": 21,
      "outputs": []
    },
    {
      "cell_type": "code",
      "source": [
        "history = model.fit(X_train[..., np.newaxis] , y_train, epochs = 10, batch_size = 50, verbose = 2, validation_split=0.2)\n"
      ],
      "metadata": {
        "colab": {
          "base_uri": "https://localhost:8080/"
        },
        "id": "G1EaFkpVb9FX",
        "outputId": "26edd1ac-8328-4d65-ff61-f1b9ce77ec79"
      },
      "execution_count": 23,
      "outputs": [
        {
          "output_type": "stream",
          "name": "stdout",
          "text": [
            "Epoch 1/10\n",
            "8/8 - 57s - loss: 0.6349 - binary_accuracy: 0.6225 - val_loss: 2.0568 - val_binary_accuracy: 0.6200 - 57s/epoch - 7s/step\n",
            "Epoch 2/10\n",
            "8/8 - 56s - loss: 0.6389 - binary_accuracy: 0.6375 - val_loss: 48.2961 - val_binary_accuracy: 0.5900 - 56s/epoch - 7s/step\n",
            "Epoch 3/10\n",
            "8/8 - 54s - loss: 0.6148 - binary_accuracy: 0.6650 - val_loss: 1.5403 - val_binary_accuracy: 0.6200 - 54s/epoch - 7s/step\n",
            "Epoch 4/10\n",
            "8/8 - 54s - loss: 0.6235 - binary_accuracy: 0.6200 - val_loss: 0.7758 - val_binary_accuracy: 0.6200 - 54s/epoch - 7s/step\n",
            "Epoch 5/10\n",
            "8/8 - 57s - loss: 0.6107 - binary_accuracy: 0.6450 - val_loss: 0.7139 - val_binary_accuracy: 0.6100 - 57s/epoch - 7s/step\n",
            "Epoch 6/10\n",
            "8/8 - 55s - loss: 0.5743 - binary_accuracy: 0.6750 - val_loss: 0.6849 - val_binary_accuracy: 0.5400 - 55s/epoch - 7s/step\n",
            "Epoch 7/10\n",
            "8/8 - 54s - loss: 0.5926 - binary_accuracy: 0.6875 - val_loss: 0.9226 - val_binary_accuracy: 0.6300 - 54s/epoch - 7s/step\n",
            "Epoch 8/10\n",
            "8/8 - 55s - loss: 0.5328 - binary_accuracy: 0.7500 - val_loss: 0.7722 - val_binary_accuracy: 0.5100 - 55s/epoch - 7s/step\n",
            "Epoch 9/10\n",
            "8/8 - 60s - loss: 0.5226 - binary_accuracy: 0.7275 - val_loss: 0.7952 - val_binary_accuracy: 0.6500 - 60s/epoch - 8s/step\n",
            "Epoch 10/10\n",
            "8/8 - 55s - loss: 0.5084 - binary_accuracy: 0.7525 - val_loss: 0.7132 - val_binary_accuracy: 0.6500 - 55s/epoch - 7s/step\n"
          ]
        }
      ]
    },
    {
      "cell_type": "code",
      "source": [
        "print(history.history.keys())\n"
      ],
      "metadata": {
        "colab": {
          "base_uri": "https://localhost:8080/"
        },
        "id": "QgEumzp8b__V",
        "outputId": "dde4d482-8cde-43cf-84b6-fec4acf39286"
      },
      "execution_count": 24,
      "outputs": [
        {
          "output_type": "stream",
          "name": "stdout",
          "text": [
            "dict_keys(['loss', 'binary_accuracy', 'val_loss', 'val_binary_accuracy'])\n"
          ]
        }
      ]
    },
    {
      "cell_type": "code",
      "source": [
        "# Plot the training and validation loss\n",
        "\n",
        "plt.plot(history.history['loss'])\n",
        "plt.plot(history.history['val_loss'])\n",
        "plt.title('Loss vs. epochs')\n",
        "plt.ylabel('Loss')\n",
        "plt.xlabel('Epoch')\n",
        "plt.legend(['Training', 'Validation'], loc='upper right')\n",
        "plt.show()"
      ],
      "metadata": {
        "colab": {
          "base_uri": "https://localhost:8080/",
          "height": 472
        },
        "id": "jYQ7RxvtcC8B",
        "outputId": "7c7b8ca8-29f6-4f67-aaa1-18a92e68063e"
      },
      "execution_count": 25,
      "outputs": [
        {
          "output_type": "display_data",
          "data": {
            "text/plain": [
              "<Figure size 640x480 with 1 Axes>"
            ],
            "image/png": "[encoded data removed]"
          },
          "metadata": {}
        }
      ]
    },
    {
      "cell_type": "code",
      "source": [],
      "metadata": {
        "id": "9sknJxDjcFPU"
      },
      "execution_count": null,
      "outputs": []
    }
  ]
}