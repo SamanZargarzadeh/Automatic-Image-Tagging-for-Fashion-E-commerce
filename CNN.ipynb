{
  "nbformat": 4,
  "nbformat_minor": 0,
  "metadata": {
    "colab": {
      "provenance": [],
      "include_colab_link": true
    },
    "kernelspec": {
      "name": "python3",
      "display_name": "Python 3"
    },
    "language_info": {
      "name": "python"
    }
  },
  "cells": [
    {
      "cell_type": "markdown",
      "metadata": {
        "id": "view-in-github",
        "colab_type": "text"
      },
      "source": [
        "<a href=\"https://colab.research.google.com/github/SamanZargarzadeh/Automatic-Image-Tagging-for-Fashion-E-commerce/blob/main/CNN.ipynb\" target=\"_parent\"><img src=\"https://colab.research.google.com/assets/colab-badge.svg\" alt=\"Open In Colab\"/></a>"
      ]
    },
    {
      "cell_type": "code",
      "execution_count": 1,
      "metadata": {
        "id": "l6_zVh5bYokV"
      },
      "outputs": [],
      "source": [
        "import tensorflow as tf\n",
        "from scipy.io import loadmat\n",
        "from tensorflow.keras.models import Sequential\n",
        "from tensorflow.keras.layers import Dense, Flatten, BatchNormalization, Dropout, Conv2D, MaxPooling2D \n",
        "from tensorflow.keras import regularizers\n",
        "from tensorflow.keras.callbacks import Callback\n",
        "from tensorflow.keras.preprocessing import image\n",
        "import numpy as np\n",
        "import pandas as pd\n",
        "import matplotlib.pyplot as plt\n",
        "%matplotlib inline"
      ]
    },
    {
      "cell_type": "code",
      "source": [
        "from google.colab import drive\n",
        "drive.mount('/content/drive',force_remount=True)"
      ],
      "metadata": {
        "colab": {
          "base_uri": "https://localhost:8080/"
        },
        "id": "X6UkTdOnbfE0",
        "outputId": "8c8ef859-ca72-4ee1-dde1-845f8027de46"
      },
      "execution_count": 2,
      "outputs": [
        {
          "output_type": "stream",
          "name": "stdout",
          "text": [
            "Mounted at /content/drive\n"
          ]
        }
      ]
    },
    {
      "cell_type": "code",
      "source": [
        "from google.colab import drive\n",
        "drive.mount('gdrive')"
      ],
      "metadata": {
        "colab": {
          "base_uri": "https://localhost:8080/"
        },
        "id": "qkMQgYJCbjq1",
        "outputId": "25fc08d6-c356-414c-abe6-80b117712d5c"
      },
      "execution_count": 3,
      "outputs": [
        {
          "output_type": "stream",
          "name": "stdout",
          "text": [
            "Mounted at gdrive\n"
          ]
        }
      ]
    },
    {
      "cell_type": "code",
      "source": [
        "X_train= np.load('/content/gdrive/MyDrive/iMaterialist CNN 60x40/train_set_x.npy')\n",
        "#X_test= np.load('/content/gdrive/MyDrive/iMaterialist_CNN/test_set_x.npy')\n",
        "#X_cv= np.load('/content/gdrive/MyDrive/iMaterialist_CNN/cv_set_x.npy')\n",
        "\n",
        "y_train= np.load('/content/gdrive/MyDrive/iMaterialist CNN 60x40/train_set_y.npy')\n",
        "#y_test= np.load('/content/gdrive/MyDrive/iMaterialist_CNN/test_set_y.npy')\n",
        "#y_cv= np.load('/content/gdrive/MyDrive/iMaterialist_CNN/cv_set_y.npy')"
      ],
      "metadata": {
        "id": "IEbGZc5Ib2MO"
      },
      "execution_count": 4,
      "outputs": []
    },
    {
      "cell_type": "code",
      "source": [
        "print(\"train X shape: \", X_train.shape) \n",
        "print(\"train y shape: \", y_train.shape)  \n",
        "#print(\"test X shape: \", X_test.shape)   \n",
        "#print(\"test y shape: \", y_test.shape)   \n",
        "#print(\"CV y shape: \", X_cv.shape) \n",
        "#print(\"CV y shape: \", y_cv.shape) "
      ],
      "metadata": {
        "colab": {
          "base_uri": "https://localhost:8080/"
        },
        "id": "XydrZduFcrve",
        "outputId": "2516e784-5f73-4b8a-daf9-4f049a0dd1b4"
      },
      "execution_count": 5,
      "outputs": [
        {
          "output_type": "stream",
          "name": "stdout",
          "text": [
            "train X shape:  (4799, 60, 40, 3)\n",
            "train y shape:  (4799,)\n"
          ]
        }
      ]
    },
    {
      "cell_type": "code",
      "source": [
        "model = Sequential([\n",
        "                    Conv2D(filters=16, kernel_size=(5,5), strides=(1,1), padding='valid', activation = 'relu', input_shape=(60, 40, 3)), \n",
        "                    MaxPooling2D(pool_size=(2,2), strides=(2,2), padding='valid'),\n",
        "                    Conv2D(filters=32, kernel_size=(5,5), strides=(1,1), padding='valid', activation = 'relu'), \n",
        "                    MaxPooling2D(pool_size=(2,2), strides=(2,2), padding='valid'),\n",
        "                    Conv2D(filters=64, kernel_size=(5,5), strides=(1,1), padding='valid', activation = 'relu'), \n",
        "                    MaxPooling2D(pool_size=(2,2), strides=(2,2), padding='valid'),\n",
        "                    Flatten(),\n",
        "                    Dense(64, activation = 'relu'),\n",
        "                    BatchNormalization(),\n",
        "                    Dropout(0.2),\n",
        "                    Dense(16, activation = 'relu'),\n",
        "                    BatchNormalization(),\n",
        "                    Dropout(0.2),\n",
        "                    Dense(1, activation='sigmoid')\n",
        "])"
      ],
      "metadata": {
        "id": "BisnPmMPb0ZC"
      },
      "execution_count": 6,
      "outputs": []
    },
    {
      "cell_type": "code",
      "source": [
        "model.summary()\n"
      ],
      "metadata": {
        "colab": {
          "base_uri": "https://localhost:8080/"
        },
        "id": "1r77l6lTb5oh",
        "outputId": "2efa4b03-5978-406f-b0c1-ad9d179cfc72"
      },
      "execution_count": 7,
      "outputs": [
        {
          "output_type": "stream",
          "name": "stdout",
          "text": [
            "Model: \"sequential\"\n",
            "_________________________________________________________________\n",
            " Layer (type)                Output Shape              Param #   \n",
            "=================================================================\n",
            " conv2d (Conv2D)             (None, 56, 36, 16)        1216      \n",
            "                                                                 \n",
            " max_pooling2d (MaxPooling2D  (None, 28, 18, 16)       0         \n",
            " )                                                               \n",
            "                                                                 \n",
            " conv2d_1 (Conv2D)           (None, 24, 14, 32)        12832     \n",
            "                                                                 \n",
            " max_pooling2d_1 (MaxPooling  (None, 12, 7, 32)        0         \n",
            " 2D)                                                             \n",
            "                                                                 \n",
            " conv2d_2 (Conv2D)           (None, 8, 3, 64)          51264     \n",
            "                                                                 \n",
            " max_pooling2d_2 (MaxPooling  (None, 4, 1, 64)         0         \n",
            " 2D)                                                             \n",
            "                                                                 \n",
            " flatten (Flatten)           (None, 256)               0         \n",
            "                                                                 \n",
            " dense (Dense)               (None, 64)                16448     \n",
            "                                                                 \n",
            " batch_normalization (BatchN  (None, 64)               256       \n",
            " ormalization)                                                   \n",
            "                                                                 \n",
            " dropout (Dropout)           (None, 64)                0         \n",
            "                                                                 \n",
            " dense_1 (Dense)             (None, 16)                1040      \n",
            "                                                                 \n",
            " batch_normalization_1 (Batc  (None, 16)               64        \n",
            " hNormalization)                                                 \n",
            "                                                                 \n",
            " dropout_1 (Dropout)         (None, 16)                0         \n",
            "                                                                 \n",
            " dense_2 (Dense)             (None, 1)                 17        \n",
            "                                                                 \n",
            "=================================================================\n",
            "Total params: 83,137\n",
            "Trainable params: 82,977\n",
            "Non-trainable params: 160\n",
            "_________________________________________________________________\n"
          ]
        }
      ]
    },
    {
      "cell_type": "code",
      "source": [
        "model.compile(\n",
        "    optimizer=tf.keras.optimizers.Adam(learning_rate=0.01),\n",
        "    loss='binary_crossentropy',\n",
        "    metrics=[tf.keras.metrics.BinaryAccuracy()]\n",
        ")"
      ],
      "metadata": {
        "id": "Q9O-JrS_b6ML"
      },
      "execution_count": 8,
      "outputs": []
    },
    {
      "cell_type": "code",
      "source": [
        "history = model.fit(X_train[..., np.newaxis] , y_train, epochs = 20, batch_size = 50, verbose = 2, validation_split=0.2)\n"
      ],
      "metadata": {
        "colab": {
          "base_uri": "https://localhost:8080/"
        },
        "id": "G1EaFkpVb9FX",
        "outputId": "2b7b80c1-bafd-4161-d6a8-4ef04648d5d3"
      },
      "execution_count": 15,
      "outputs": [
        {
          "output_type": "stream",
          "name": "stdout",
          "text": [
            "Epoch 1/20\n",
            "77/77 - 7s - loss: 0.2090 - binary_accuracy: 0.9203 - val_loss: 1.2122 - val_binary_accuracy: 0.6594 - 7s/epoch - 90ms/step\n",
            "Epoch 2/20\n",
            "77/77 - 8s - loss: 0.1408 - binary_accuracy: 0.9453 - val_loss: 1.2502 - val_binary_accuracy: 0.6510 - 8s/epoch - 103ms/step\n",
            "Epoch 3/20\n",
            "77/77 - 7s - loss: 0.1102 - binary_accuracy: 0.9575 - val_loss: 1.5551 - val_binary_accuracy: 0.6604 - 7s/epoch - 87ms/step\n",
            "Epoch 4/20\n",
            "77/77 - 8s - loss: 0.1041 - binary_accuracy: 0.9614 - val_loss: 1.5027 - val_binary_accuracy: 0.6542 - 8s/epoch - 103ms/step\n",
            "Epoch 5/20\n",
            "77/77 - 7s - loss: 0.0822 - binary_accuracy: 0.9721 - val_loss: 2.0291 - val_binary_accuracy: 0.6354 - 7s/epoch - 89ms/step\n",
            "Epoch 6/20\n",
            "77/77 - 8s - loss: 0.0704 - binary_accuracy: 0.9758 - val_loss: 1.5547 - val_binary_accuracy: 0.6687 - 8s/epoch - 103ms/step\n",
            "Epoch 7/20\n",
            "77/77 - 8s - loss: 0.0650 - binary_accuracy: 0.9784 - val_loss: 1.6318 - val_binary_accuracy: 0.6687 - 8s/epoch - 103ms/step\n",
            "Epoch 8/20\n",
            "77/77 - 7s - loss: 0.0699 - binary_accuracy: 0.9742 - val_loss: 1.5697 - val_binary_accuracy: 0.6802 - 7s/epoch - 87ms/step\n",
            "Epoch 9/20\n",
            "77/77 - 55s - loss: 0.0952 - binary_accuracy: 0.9648 - val_loss: 1.5749 - val_binary_accuracy: 0.6531 - 55s/epoch - 709ms/step\n",
            "Epoch 10/20\n",
            "77/77 - 7s - loss: 0.0463 - binary_accuracy: 0.9841 - val_loss: 1.8498 - val_binary_accuracy: 0.6573 - 7s/epoch - 87ms/step\n",
            "Epoch 11/20\n",
            "77/77 - 8s - loss: 0.0589 - binary_accuracy: 0.9792 - val_loss: 1.7189 - val_binary_accuracy: 0.6708 - 8s/epoch - 103ms/step\n",
            "Epoch 12/20\n",
            "77/77 - 7s - loss: 0.0698 - binary_accuracy: 0.9758 - val_loss: 1.5173 - val_binary_accuracy: 0.6562 - 7s/epoch - 93ms/step\n",
            "Epoch 13/20\n",
            "77/77 - 8s - loss: 0.0534 - binary_accuracy: 0.9818 - val_loss: 1.8412 - val_binary_accuracy: 0.6635 - 8s/epoch - 98ms/step\n",
            "Epoch 14/20\n",
            "77/77 - 8s - loss: 0.0637 - binary_accuracy: 0.9792 - val_loss: 1.7926 - val_binary_accuracy: 0.6615 - 8s/epoch - 105ms/step\n",
            "Epoch 15/20\n",
            "77/77 - 7s - loss: 0.0477 - binary_accuracy: 0.9862 - val_loss: 1.8710 - val_binary_accuracy: 0.6458 - 7s/epoch - 88ms/step\n",
            "Epoch 16/20\n",
            "77/77 - 8s - loss: 0.0485 - binary_accuracy: 0.9838 - val_loss: 1.8514 - val_binary_accuracy: 0.6698 - 8s/epoch - 103ms/step\n",
            "Epoch 17/20\n",
            "77/77 - 7s - loss: 0.0451 - binary_accuracy: 0.9846 - val_loss: 2.0022 - val_binary_accuracy: 0.6625 - 7s/epoch - 87ms/step\n",
            "Epoch 18/20\n",
            "77/77 - 8s - loss: 0.0507 - binary_accuracy: 0.9815 - val_loss: 1.6449 - val_binary_accuracy: 0.6740 - 8s/epoch - 104ms/step\n",
            "Epoch 19/20\n",
            "77/77 - 8s - loss: 0.0593 - binary_accuracy: 0.9773 - val_loss: 1.6375 - val_binary_accuracy: 0.6719 - 8s/epoch - 108ms/step\n",
            "Epoch 20/20\n",
            "77/77 - 7s - loss: 0.0504 - binary_accuracy: 0.9862 - val_loss: 1.9093 - val_binary_accuracy: 0.6719 - 7s/epoch - 86ms/step\n"
          ]
        }
      ]
    },
    {
      "cell_type": "code",
      "source": [
        "print(history.history.keys())\n"
      ],
      "metadata": {
        "colab": {
          "base_uri": "https://localhost:8080/"
        },
        "id": "QgEumzp8b__V",
        "outputId": "ea3bb0ab-066b-4297-9c22-135b2bb91241"
      },
      "execution_count": 11,
      "outputs": [
        {
          "output_type": "stream",
          "name": "stdout",
          "text": [
            "dict_keys(['loss', 'binary_accuracy', 'val_loss', 'val_binary_accuracy'])\n"
          ]
        }
      ]
    },
    {
      "cell_type": "code",
      "source": [
        "# Plot the training and validation loss\n",
        "\n",
        "plt.plot(history.history['loss'])\n",
        "plt.plot(history.history['val_loss'])\n",
        "plt.title('Loss vs. epochs')\n",
        "plt.ylabel('Loss')\n",
        "plt.xlabel('Epoch')\n",
        "plt.legend(['Training', 'Validation'], loc='upper right')\n",
        "plt.show()"
      ],
      "metadata": {
        "colab": {
          "base_uri": "https://localhost:8080/",
          "height": 472
        },
        "id": "jYQ7RxvtcC8B",
        "outputId": "ad3e3625-bab4-48b2-c465-fc5f37272d53"
      },
      "execution_count": 12,
      "outputs": [
        {
          "output_type": "display_data",
          "data": {
            "text/plain": [
              "<Figure size 640x480 with 1 Axes>"
            ],
            "image/png": "[encoded data removed]"
          },
          "metadata": {}
        }
      ]
    },
    {
      "cell_type": "code",
      "source": [],
      "metadata": {
        "id": "9sknJxDjcFPU"
      },
      "execution_count": null,
      "outputs": []
    }
  ]
}