{
  "nbformat": 4,
  "nbformat_minor": 0,
  "metadata": {
    "colab": {
      "provenance": [],
      "include_colab_link": true
    },
    "kernelspec": {
      "name": "python3",
      "display_name": "Python 3"
    },
    "language_info": {
      "name": "python"
    }
  },
  "cells": [
    {
      "cell_type": "markdown",
      "metadata": {
        "id": "view-in-github",
        "colab_type": "text"
      },
      "source": [
        "<a href=\"https://colab.research.google.com/github/SamanZargarzadeh/Automatic-Image-Tagging-for-Fashion-E-commerce/blob/main/CNN.ipynb\" target=\"_parent\"><img src=\"https://colab.research.google.com/assets/colab-badge.svg\" alt=\"Open In Colab\"/></a>"
      ]
    },
    {
      "cell_type": "code",
      "execution_count": 1,
      "metadata": {
        "id": "l6_zVh5bYokV"
      },
      "outputs": [],
      "source": [
        "import tensorflow as tf\n",
        "from scipy.io import loadmat\n",
        "from tensorflow.keras.models import Sequential\n",
        "from tensorflow.keras.layers import Dense, Flatten, BatchNormalization, Dropout, Conv2D, MaxPooling2D \n",
        "from tensorflow.keras import regularizers\n",
        "from tensorflow.keras.callbacks import Callback\n",
        "from tensorflow.keras.preprocessing import image\n",
        "import numpy as np\n",
        "import pandas as pd\n",
        "import matplotlib.pyplot as plt\n",
        "%matplotlib inline"
      ]
    },
    {
      "cell_type": "code",
      "source": [
        "from google.colab import drive\n",
        "drive.mount('/content/drive',force_remount=True)"
      ],
      "metadata": {
        "id": "X6UkTdOnbfE0",
        "outputId": "ce172d1c-a41c-441e-ea54-5d67fc98c903",
        "colab": {
          "base_uri": "https://localhost:8080/"
        }
      },
      "execution_count": 2,
      "outputs": [
        {
          "output_type": "stream",
          "name": "stdout",
          "text": [
            "Mounted at /content/drive\n"
          ]
        }
      ]
    },
    {
      "cell_type": "code",
      "source": [
        "from google.colab import drive\n",
        "drive.mount('gdrive')"
      ],
      "metadata": {
        "id": "qkMQgYJCbjq1",
        "outputId": "bb6fd906-277a-46a4-9b7d-5bbca6c40867",
        "colab": {
          "base_uri": "https://localhost:8080/"
        }
      },
      "execution_count": 3,
      "outputs": [
        {
          "output_type": "stream",
          "name": "stdout",
          "text": [
            "Mounted at gdrive\n"
          ]
        }
      ]
    },
    {
      "cell_type": "code",
      "source": [
        "X_train= np.load('/content/gdrive/MyDrive/iMaterialist_CNN/train_set_x.npy')\n",
        "#X_test= np.load('/content/gdrive/MyDrive/iMaterialist_CNN/test_set_x.npy')\n",
        "#X_cv= np.load('/content/gdrive/MyDrive/iMaterialist_CNN/cv_set_x.npy')\n",
        "\n",
        "y_train= np.load('/content/gdrive/MyDrive/iMaterialist_CNN/train_set_y.npy')\n",
        "#y_test= np.load('/content/gdrive/MyDrive/iMaterialist_CNN/test_set_y.npy')\n",
        "#y_cv= np.load('/content/gdrive/MyDrive/iMaterialist_CNN/cv_set_y.npy')"
      ],
      "metadata": {
        "id": "IEbGZc5Ib2MO"
      },
      "execution_count": 4,
      "outputs": []
    },
    {
      "cell_type": "code",
      "source": [
        "print(\"train X shape: \", X_train.shape) \n",
        "print(\"train y shape: \", y_train.shape)  \n",
        "print(\"test X shape: \", X_test.shape)   \n",
        "print(\"test y shape: \", y_test.shape)   \n",
        "print(\"CV y shape: \", X_cv.shape) \n",
        "print(\"CV y shape: \", y_cv.shape) "
      ],
      "metadata": {
        "id": "XydrZduFcrve",
        "outputId": "6eb6edd8-8e0d-4ff0-bf66-07c8babcee92",
        "colab": {
          "base_uri": "https://localhost:8080/"
        }
      },
      "execution_count": 5,
      "outputs": [
        {
          "output_type": "stream",
          "name": "stdout",
          "text": [
            "train X shape:  (4799, 300, 200, 3)\n",
            "train y shape:  (4799,)\n",
            "test X shape:  (1600, 300, 200, 3)\n",
            "test y shape:  (1600,)\n",
            "CV y shape:  (1600, 300, 200, 3)\n",
            "CV y shape:  (1600,)\n"
          ]
        }
      ]
    },
    {
      "cell_type": "code",
      "source": [
        "model = Sequential([\n",
        "                    Conv2D(filters=2, kernel_size=(5,5), strides=(1,1), padding='valid', activation = 'relu', input_shape=(300, 200, 3)), \n",
        "                    MaxPooling2D(pool_size=(2,2), strides=(2,2), padding='valid'),\n",
        "                    Flatten(),\n",
        "                    Dense(4, activation = 'relu'),\n",
        "                    BatchNormalization(),\n",
        "                    Dropout(0.2),\n",
        "                    Dense(1, activation='softmax')\n",
        "])"
      ],
      "metadata": {
        "id": "BisnPmMPb0ZC"
      },
      "execution_count": 5,
      "outputs": []
    },
    {
      "cell_type": "code",
      "source": [
        "model.summary()\n"
      ],
      "metadata": {
        "id": "1r77l6lTb5oh",
        "outputId": "f5749086-03db-44a1-bc59-6e23b052e972",
        "colab": {
          "base_uri": "https://localhost:8080/"
        }
      },
      "execution_count": 6,
      "outputs": [
        {
          "output_type": "stream",
          "name": "stdout",
          "text": [
            "Model: \"sequential\"\n",
            "_________________________________________________________________\n",
            " Layer (type)                Output Shape              Param #   \n",
            "=================================================================\n",
            " conv2d (Conv2D)             (None, 296, 196, 2)       152       \n",
            "                                                                 \n",
            " max_pooling2d (MaxPooling2D  (None, 148, 98, 2)       0         \n",
            " )                                                               \n",
            "                                                                 \n",
            " flatten (Flatten)           (None, 29008)             0         \n",
            "                                                                 \n",
            " dense (Dense)               (None, 4)                 116036    \n",
            "                                                                 \n",
            " batch_normalization (BatchN  (None, 4)                16        \n",
            " ormalization)                                                   \n",
            "                                                                 \n",
            " dropout (Dropout)           (None, 4)                 0         \n",
            "                                                                 \n",
            " dense_1 (Dense)             (None, 1)                 5         \n",
            "                                                                 \n",
            "=================================================================\n",
            "Total params: 116,209\n",
            "Trainable params: 116,201\n",
            "Non-trainable params: 8\n",
            "_________________________________________________________________\n"
          ]
        }
      ]
    },
    {
      "cell_type": "code",
      "source": [
        "model.compile(\n",
        "    optimizer=tf.keras.optimizers.Adam(learning_rate=0.01),\n",
        "    loss='binary_crossentropy',\n",
        "    metrics=[tf.keras.metrics.BinaryAccuracy()]\n",
        ")"
      ],
      "metadata": {
        "id": "Q9O-JrS_b6ML"
      },
      "execution_count": 7,
      "outputs": []
    },
    {
      "cell_type": "code",
      "source": [
        "history = model.fit(X_train[..., np.newaxis] , y_train, epochs = 10, batch_size = 256, verbose = 2)\n"
      ],
      "metadata": {
        "id": "G1EaFkpVb9FX"
      },
      "execution_count": null,
      "outputs": []
    },
    {
      "cell_type": "code",
      "source": [
        "print(history.history.keys())\n"
      ],
      "metadata": {
        "id": "QgEumzp8b__V"
      },
      "execution_count": null,
      "outputs": []
    },
    {
      "cell_type": "code",
      "source": [
        "# Plot the training and validation loss\n",
        "\n",
        "plt.plot(history.history['loss'])\n",
        "plt.plot(history.history['val_loss'])\n",
        "plt.title('Loss vs. epochs')\n",
        "plt.ylabel('Loss')\n",
        "plt.xlabel('Epoch')\n",
        "plt.legend(['Training', 'Validation'], loc='upper right')\n",
        "plt.show()"
      ],
      "metadata": {
        "id": "jYQ7RxvtcC8B"
      },
      "execution_count": null,
      "outputs": []
    },
    {
      "cell_type": "code",
      "source": [],
      "metadata": {
        "id": "9sknJxDjcFPU"
      },
      "execution_count": null,
      "outputs": []
    }
  ]
}