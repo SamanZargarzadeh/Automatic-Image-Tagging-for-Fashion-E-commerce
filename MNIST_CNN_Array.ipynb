{
  "cells": [
    {
      "cell_type": "markdown",
      "metadata": {
        "id": "view-in-github",
        "colab_type": "text"
      },
      "source": [
        "<a href=\"https://colab.research.google.com/github/SamanZargarzadeh/Automatic-Image-Tagging-for-Fashion-E-commerce/blob/main/MNIST_CNN_Array.ipynb\" target=\"_parent\"><img src=\"https://colab.research.google.com/assets/colab-badge.svg\" alt=\"Open In Colab\"/></a>"
      ]
    },
    {
      "cell_type": "markdown",
      "metadata": {
        "id": "0ElpI5lHLqv8"
      },
      "source": [
        "# Fashion Image tagging with MNIST Dataset"
      ]
    },
    {
      "cell_type": "code",
      "execution_count": 1,
      "metadata": {
        "colab": {
          "base_uri": "https://localhost:8080/"
        },
        "id": "NxOJfwnMt-sc",
        "outputId": "e11f9145-8572-41f5-f9b6-18519f0c4f26"
      },
      "outputs": [
        {
          "output_type": "stream",
          "name": "stdout",
          "text": [
            "Mounted at gdrive\n"
          ]
        }
      ],
      "source": [
        "from google.colab import drive\n",
        "drive.mount('gdrive')"
      ]
    },
    {
      "cell_type": "markdown",
      "metadata": {
        "id": "lG8F4AaigI5f"
      },
      "source": [
        "# 1) Import "
      ]
    },
    {
      "cell_type": "code",
      "execution_count": 5,
      "metadata": {
        "id": "rWNYn_VmWX5Y"
      },
      "outputs": [],
      "source": [
        "import numpy as np\n",
        "import pandas as pd\n",
        "import matplotlib.pyplot as plt\n",
        "%matplotlib inline"
      ]
    },
    {
      "cell_type": "markdown",
      "metadata": {
        "id": "CFp_nFFm6xDy"
      },
      "source": [
        "# 2) Load Data"
      ]
    },
    {
      "cell_type": "code",
      "execution_count": 6,
      "metadata": {
        "id": "dTnwaNYTIcEk",
        "outputId": "335a5bd9-6c52-45fb-fee6-cc1f6bf83d89",
        "colab": {
          "base_uri": "https://localhost:8080/"
        }
      },
      "outputs": [
        {
          "output_type": "stream",
          "name": "stdout",
          "text": [
            "Downloading data from https://storage.googleapis.com/tensorflow/tf-keras-datasets/train-labels-idx1-ubyte.gz\n",
            "29515/29515 [==============================] - 0s 1us/step\n",
            "Downloading data from https://storage.googleapis.com/tensorflow/tf-keras-datasets/train-images-idx3-ubyte.gz\n",
            "26421880/26421880 [==============================] - 2s 0us/step\n",
            "Downloading data from https://storage.googleapis.com/tensorflow/tf-keras-datasets/t10k-labels-idx1-ubyte.gz\n",
            "5148/5148 [==============================] - 0s 0us/step\n",
            "Downloading data from https://storage.googleapis.com/tensorflow/tf-keras-datasets/t10k-images-idx3-ubyte.gz\n",
            "4422102/4422102 [==============================] - 1s 0us/step\n"
          ]
        }
      ],
      "source": [
        "fashion_mnist_data = tf.keras.datasets.fashion_mnist\n",
        "(X_CV_train, y_CV_train), (X_test, y_test) = fashion_mnist_data.load_data()\n",
        "\n",
        "from sklearn.model_selection import train_test_split\n",
        "X_train, X_cv, y_train, y_cv = train_test_split(X_CV_train, y_CV_train,test_size=(1000/6000),train_size=(5000/6000))\n",
        "\n"
      ]
    },
    {
      "cell_type": "code",
      "execution_count": 7,
      "metadata": {
        "colab": {
          "base_uri": "https://localhost:8080/"
        },
        "id": "B0XxNSnvIc39",
        "outputId": "95d0ade6-f291-484c-ce2c-4e8375f3bacd"
      },
      "outputs": [
        {
          "output_type": "stream",
          "name": "stdout",
          "text": [
            "train X shape:  (50000, 28, 28)\n",
            "train y shape:  (50000,)\n",
            "CV X shape:  (10000, 28, 28)\n",
            "CV y shape:  (10000,)\n",
            "test X shape:  (10000, 28, 28)\n",
            "test y shape:  (10000,)\n"
          ]
        }
      ],
      "source": [
        "print(\"train X shape: \", X_train.shape) \n",
        "print(\"train y shape: \", y_train.shape) \n",
        "print(\"CV X shape: \", X_cv.shape) \n",
        "print(\"CV y shape: \", y_cv.shape) \n",
        "print(\"test X shape: \", X_test.shape)   \n",
        "print(\"test y shape: \", y_test.shape)   "
      ]
    },
    {
      "cell_type": "code",
      "execution_count": 8,
      "metadata": {
        "id": "SE6467TEIdfr"
      },
      "outputs": [],
      "source": [
        "# Define the labels\n",
        "\n",
        "labels = [\n",
        "    'T-shirt/top', # 0\n",
        "    'Trouser',     # 1\n",
        "    'Pullover',    # 2\n",
        "    'Dress',       # 3\n",
        "    'Coat',        # 4\n",
        "    'Sandal',      # 5\n",
        "    'Shirt',       # 6\n",
        "    'Sneaker',     # 7\n",
        "    'Bag',         # 8\n",
        "    'Ankle boot'   # 9\n",
        "]"
      ]
    },
    {
      "cell_type": "code",
      "execution_count": 9,
      "metadata": {
        "colab": {
          "base_uri": "https://localhost:8080/",
          "height": 448
        },
        "id": "wWjfYnKkIdr2",
        "outputId": "30f1c057-e6ba-4802-8a00-6d79573f4251"
      },
      "outputs": [
        {
          "output_type": "display_data",
          "data": {
            "text/plain": [
              "<Figure size 640x480 with 1 Axes>"
            ],
            "image/png": "[encoded data removed]"
          },
          "metadata": {}
        },
        {
          "output_type": "stream",
          "name": "stdout",
          "text": [
            "label: Sneaker\n"
          ]
        }
      ],
      "source": [
        "# Display one of the images\n",
        "\n",
        "i = 1\n",
        "img = X_train[i, : , :]\n",
        "plt.imshow(img)\n",
        "plt.show()\n",
        "print(f\"label: {labels[y_train[i]]}\")"
      ]
    },
    {
      "cell_type": "code",
      "execution_count": 10,
      "metadata": {
        "colab": {
          "base_uri": "https://localhost:8080/"
        },
        "id": "Q83MuprFJw0S",
        "outputId": "1d8e65c4-d8c5-41b9-b854-913e0f365121"
      },
      "outputs": [
        {
          "output_type": "execute_result",
          "data": {
            "text/plain": [
              "7"
            ]
          },
          "metadata": {},
          "execution_count": 10
        }
      ],
      "source": [
        "# display y label\n",
        "y_train[i]"
      ]
    },
    {
      "cell_type": "code",
      "execution_count": 11,
      "metadata": {
        "id": "gOhc81IGI0z1",
        "colab": {
          "base_uri": "https://localhost:8080/"
        },
        "outputId": "0d023074-1c2c-4c84-fafa-244bda8e2bb5"
      },
      "outputs": [
        {
          "output_type": "execute_result",
          "data": {
            "text/plain": [
              "(50000, 28, 28)"
            ]
          },
          "metadata": {},
          "execution_count": 11
        }
      ],
      "source": [
        "# Rescale the image values so that they lie in between 0 and 1.\n",
        "\n",
        "X_train = X_train / 255.\n",
        "X_test = X_test / 255.\n",
        "X_cv = X_cv / 255.\n",
        "X_train.shape"
      ]
    },
    {
      "cell_type": "code",
      "source": [
        "#X_train = X_train.reshape(X_train.shape[0], -1)\n",
        "#X_test = X_test.reshape(X_test.shape[0], -1)\n",
        "#X_cv = X_cv.reshape(X_cv.shape[0], -1)\n"
      ],
      "metadata": {
        "id": "qx8xoqJ6NOBh"
      },
      "execution_count": null,
      "outputs": []
    },
    {
      "cell_type": "code",
      "source": [
        "X_train.shape"
      ],
      "metadata": {
        "colab": {
          "base_uri": "https://localhost:8080/"
        },
        "id": "TMDHQm9gQKME",
        "outputId": "7edec3ef-48b7-4992-e8c9-e940993a8224"
      },
      "execution_count": 12,
      "outputs": [
        {
          "output_type": "execute_result",
          "data": {
            "text/plain": [
              "(50000, 28, 28)"
            ]
          },
          "metadata": {},
          "execution_count": 12
        }
      ]
    },
    {
      "cell_type": "code",
      "source": [
        "y_train.shape"
      ],
      "metadata": {
        "colab": {
          "base_uri": "https://localhost:8080/"
        },
        "id": "iv1ASFwFQM8f",
        "outputId": "29b3fbef-a9a1-4c7e-8047-c014eb821de4"
      },
      "execution_count": 13,
      "outputs": [
        {
          "output_type": "execute_result",
          "data": {
            "text/plain": [
              "(50000,)"
            ]
          },
          "metadata": {},
          "execution_count": 13
        }
      ]
    },
    {
      "cell_type": "code",
      "source": [
        "unique_values = np.unique(y_test)\n",
        "counts = np.bincount(y_test)\n",
        "\n",
        "# Iterate over the unique values and print their corresponding counts\n",
        "for value in unique_values:\n",
        "    count = counts[value]\n",
        "    print(f\"Count of {value}: {count}\")\n"
      ],
      "metadata": {
        "colab": {
          "base_uri": "https://localhost:8080/"
        },
        "id": "eb8ctnXBi2gy",
        "outputId": "6f4992e6-da13-434f-f8ec-287eb9984046"
      },
      "execution_count": 14,
      "outputs": [
        {
          "output_type": "stream",
          "name": "stdout",
          "text": [
            "Count of 0: 1000\n",
            "Count of 1: 1000\n",
            "Count of 2: 1000\n",
            "Count of 3: 1000\n",
            "Count of 4: 1000\n",
            "Count of 5: 1000\n",
            "Count of 6: 1000\n",
            "Count of 7: 1000\n",
            "Count of 8: 1000\n",
            "Count of 9: 1000\n"
          ]
        }
      ]
    },
    {
      "cell_type": "code",
      "source": [
        "# Filter data for values Dress and Shirt\n",
        "filter_indices = np.logical_or(y_train == 3, y_train == 6)\n",
        "filtered_X_train = X_train[filter_indices]\n",
        "filtered_y = y_train[filter_indices]\n",
        "filtered_y_train = np.where(filtered_y == 3, 1, np.where(filtered_y == 6, 0, filtered_y))\n",
        "\n",
        "print(filtered_y_train.shape)\n",
        "print(filtered_X_train.shape)"
      ],
      "metadata": {
        "colab": {
          "base_uri": "https://localhost:8080/"
        },
        "id": "xm82k1QsGUOe",
        "outputId": "1d236d48-e342-45da-86c4-df08add56fa5"
      },
      "execution_count": 15,
      "outputs": [
        {
          "output_type": "stream",
          "name": "stdout",
          "text": [
            "(10072,)\n",
            "(10072, 28, 28)\n"
          ]
        }
      ]
    },
    {
      "cell_type": "code",
      "source": [
        "filter_indices = np.logical_or(y_test == 3, y_test == 6)\n",
        "filtered_X_test = X_test[filter_indices]\n",
        "filtered_y = y_test[filter_indices]\n",
        "filtered_y_test = np.where(filtered_y == 3, 1, np.where(filtered_y == 6, 0, filtered_y))\n",
        "\n",
        "print(filtered_y_test.shape)\n",
        "print(filtered_X_test.shape)\n"
      ],
      "metadata": {
        "colab": {
          "base_uri": "https://localhost:8080/"
        },
        "id": "Vwe4xa9ZIpDr",
        "outputId": "6dd7a592-9571-4454-b535-9eb5ffc072bb"
      },
      "execution_count": 16,
      "outputs": [
        {
          "output_type": "stream",
          "name": "stdout",
          "text": [
            "(2000,)\n",
            "(2000, 28, 28)\n"
          ]
        }
      ]
    },
    {
      "cell_type": "code",
      "source": [
        "filter_indices = np.logical_or(y_cv == 3, y_cv == 6)\n",
        "filtered_X_cv = X_cv[filter_indices]\n",
        "filtered_y = y_cv[filter_indices]\n",
        "filtered_y_cv = np.where(filtered_y == 3, 1, np.where(filtered_y == 6, 0, filtered_y))\n",
        "\n",
        "print(filtered_y_cv.shape)\n",
        "print(filtered_X_cv.shape)"
      ],
      "metadata": {
        "colab": {
          "base_uri": "https://localhost:8080/"
        },
        "id": "vcOmoSHuJCbX",
        "outputId": "f1816838-cb0a-49e2-932b-3ad1d57f0010"
      },
      "execution_count": 17,
      "outputs": [
        {
          "output_type": "stream",
          "name": "stdout",
          "text": [
            "(1928,)\n",
            "(1928, 28, 28)\n"
          ]
        }
      ]
    },
    {
      "cell_type": "code",
      "source": [
        "train_set_x = filtered_X_train\n",
        "test_set_x = filtered_X_test\n",
        "cv_set_x = filtered_X_cv\n",
        "\n",
        "train_set_y = filtered_y_train\n",
        "test_set_y = filtered_y_test\n",
        "cv_set_y = filtered_y_cv"
      ],
      "metadata": {
        "id": "Z_4HXt7llQRE"
      },
      "execution_count": 18,
      "outputs": []
    },
    {
      "cell_type": "code",
      "source": [
        "# Save the arrays\n",
        "np.save('/content/gdrive/MyDrive/MNIST_CNN/train_set_x.npy', filtered_X_train)\n",
        "np.save('/content/gdrive/MyDrive/MNIST_CNN/test_set_x.npy', filtered_X_test)\n",
        "np.save('/content/gdrive/MyDrive/MNIST_CNN/cv_set_x.npy', filtered_X_cv)\n",
        "np.save('/content/gdrive/MyDrive/MNIST_CNN/train_set_y.npy', filtered_y_train)\n",
        "np.save('/content/gdrive/MyDrive/MNIST_CNN/test_set_y.npy', filtered_y_test)\n",
        "np.save('/content/gdrive/MyDrive/MNIST_CNN/cv_set_y.npy', filtered_y_cv)"
      ],
      "metadata": {
        "id": "mRlzRbC2LIkA"
      },
      "execution_count": 19,
      "outputs": []
    }
  ],
  "metadata": {
    "colab": {
      "provenance": [],
      "include_colab_link": true
    },
    "kernelspec": {
      "display_name": "Python 3",
      "language": "python",
      "name": "python3"
    },
    "language_info": {
      "codemirror_mode": {
        "name": "ipython",
        "version": 3
      },
      "file_extension": ".py",
      "mimetype": "text/x-python",
      "name": "python",
      "nbconvert_exporter": "python",
      "pygments_lexer": "ipython3",
      "version": "3.8.5"
    }
  },
  "nbformat": 4,
  "nbformat_minor": 0
}