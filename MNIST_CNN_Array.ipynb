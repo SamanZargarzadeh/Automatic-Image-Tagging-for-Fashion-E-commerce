{
  "cells": [
    {
      "cell_type": "markdown",
      "metadata": {
        "id": "view-in-github",
        "colab_type": "text"
      },
      "source": [
        "<a href=\"https://colab.research.google.com/github/SamanZargarzadeh/Automatic-Image-Tagging-for-Fashion-E-commerce/blob/main/MNIST_CNN_Array.ipynb\" target=\"_parent\"><img src=\"https://colab.research.google.com/assets/colab-badge.svg\" alt=\"Open In Colab\"/></a>"
      ]
    },
    {
      "cell_type": "markdown",
      "metadata": {
        "id": "0ElpI5lHLqv8"
      },
      "source": [
        "# Fashion Image tagging with MNIST Dataset"
      ]
    },
    {
      "cell_type": "code",
      "execution_count": null,
      "metadata": {
        "colab": {
          "base_uri": "https://localhost:8080/"
        },
        "id": "NxOJfwnMt-sc",
        "outputId": "0282a54c-d7e7-40a8-9637-8267ea5af45e"
      },
      "outputs": [
        {
          "output_type": "stream",
          "name": "stdout",
          "text": [
            "Mounted at gdrive\n"
          ]
        }
      ],
      "source": [
        "from google.colab import drive\n",
        "drive.mount('gdrive')"
      ]
    },
    {
      "cell_type": "markdown",
      "metadata": {
        "id": "lG8F4AaigI5f"
      },
      "source": [
        "# 1) Import "
      ]
    },
    {
      "cell_type": "code",
      "execution_count": null,
      "metadata": {
        "id": "bUl20Z9l2Yq8"
      },
      "outputs": [],
      "source": [
        "import tensorflow as tf"
      ]
    },
    {
      "cell_type": "code",
      "execution_count": null,
      "metadata": {
        "colab": {
          "base_uri": "https://localhost:8080/",
          "height": 35
        },
        "id": "DXk2d8A52ySO",
        "outputId": "d5f6c564-47a6-402e-999a-c19f1d9ea5bd"
      },
      "outputs": [
        {
          "output_type": "execute_result",
          "data": {
            "text/plain": [
              "'2.12.0'"
            ],
            "application/vnd.google.colaboratory.intrinsic+json": {
              "type": "string"
            }
          },
          "metadata": {},
          "execution_count": 3
        }
      ],
      "source": [
        "# check the version\n",
        "tf.__version__"
      ]
    },
    {
      "cell_type": "code",
      "execution_count": null,
      "metadata": {
        "id": "KwR0wxfxDvLr"
      },
      "outputs": [],
      "source": [
        "from tensorflow.keras.models import Sequential\n",
        "from tensorflow.keras.layers import Dense, Flatten, Dropout \n",
        "from tensorflow.keras import regularizers\n",
        "from tensorflow.keras.callbacks import Callback\n",
        "from tensorflow.keras.preprocessing import image\n",
        "from keras.regularizers import l2\n",
        "from keras.optimizers import Adam"
      ]
    },
    {
      "cell_type": "code",
      "execution_count": null,
      "metadata": {
        "id": "rWNYn_VmWX5Y"
      },
      "outputs": [],
      "source": [
        "import numpy as np\n",
        "import pandas as pd\n",
        "import matplotlib.pyplot as plt\n",
        "%matplotlib inline"
      ]
    },
    {
      "cell_type": "markdown",
      "metadata": {
        "id": "CFp_nFFm6xDy"
      },
      "source": [
        "# 2) Load Data"
      ]
    },
    {
      "cell_type": "code",
      "execution_count": null,
      "metadata": {
        "id": "dTnwaNYTIcEk",
        "outputId": "ed82b60a-41d6-413b-f327-15a55c381d33",
        "colab": {
          "base_uri": "https://localhost:8080/"
        }
      },
      "outputs": [
        {
          "output_type": "stream",
          "name": "stdout",
          "text": [
            "Downloading data from https://storage.googleapis.com/tensorflow/tf-keras-datasets/train-labels-idx1-ubyte.gz\n",
            "29515/29515 [==============================] - 0s 1us/step\n",
            "Downloading data from https://storage.googleapis.com/tensorflow/tf-keras-datasets/train-images-idx3-ubyte.gz\n",
            "26421880/26421880 [==============================] - 2s 0us/step\n",
            "Downloading data from https://storage.googleapis.com/tensorflow/tf-keras-datasets/t10k-labels-idx1-ubyte.gz\n",
            "5148/5148 [==============================] - 0s 0us/step\n",
            "Downloading data from https://storage.googleapis.com/tensorflow/tf-keras-datasets/t10k-images-idx3-ubyte.gz\n",
            "4422102/4422102 [==============================] - 1s 0us/step\n"
          ]
        }
      ],
      "source": [
        "fashion_mnist_data = tf.keras.datasets.fashion_mnist\n",
        "(X_CV_train, y_CV_train), (X_test, y_test) = fashion_mnist_data.load_data()\n",
        "\n",
        "from sklearn.model_selection import train_test_split\n",
        "X_train, X_cv, y_train, y_cv = train_test_split(X_CV_train, y_CV_train,test_size=(1000/6000),train_size=(5000/6000))\n",
        "\n"
      ]
    },
    {
      "cell_type": "code",
      "execution_count": null,
      "metadata": {
        "colab": {
          "base_uri": "https://localhost:8080/"
        },
        "id": "B0XxNSnvIc39",
        "outputId": "439c8f46-bdf8-47bc-8db2-2f41d59d0843"
      },
      "outputs": [
        {
          "output_type": "stream",
          "name": "stdout",
          "text": [
            "train X shape:  (50000, 28, 28)\n",
            "train y shape:  (50000,)\n",
            "CV X shape:  (10000, 28, 28)\n",
            "CV y shape:  (10000,)\n",
            "test X shape:  (10000, 28, 28)\n",
            "test y shape:  (10000,)\n"
          ]
        }
      ],
      "source": [
        "print(\"train X shape: \", X_train.shape) \n",
        "print(\"train y shape: \", y_train.shape) \n",
        "print(\"CV X shape: \", X_cv.shape) \n",
        "print(\"CV y shape: \", y_cv.shape) \n",
        "print(\"test X shape: \", X_test.shape)   \n",
        "print(\"test y shape: \", y_test.shape)   "
      ]
    },
    {
      "cell_type": "code",
      "execution_count": null,
      "metadata": {
        "id": "SE6467TEIdfr"
      },
      "outputs": [],
      "source": [
        "# Define the labels\n",
        "\n",
        "labels = [\n",
        "    'T-shirt/top', # 0\n",
        "    'Trouser',     # 1\n",
        "    'Pullover',    # 2\n",
        "    'Dress',       # 3\n",
        "    'Coat',        # 4\n",
        "    'Sandal',      # 5\n",
        "    'Shirt',       # 6\n",
        "    'Sneaker',     # 7\n",
        "    'Bag',         # 8\n",
        "    'Ankle boot'   # 9\n",
        "]"
      ]
    },
    {
      "cell_type": "code",
      "execution_count": null,
      "metadata": {
        "colab": {
          "base_uri": "https://localhost:8080/",
          "height": 448
        },
        "id": "wWjfYnKkIdr2",
        "outputId": "95e47bec-a9f7-44e3-f192-c26f341dc5f4"
      },
      "outputs": [
        {
          "output_type": "display_data",
          "data": {
            "text/plain": [
              "<Figure size 640x480 with 1 Axes>"
            ],
            "image/png": "[encoded data removed]"
          },
          "metadata": {}
        },
        {
          "output_type": "stream",
          "name": "stdout",
          "text": [
            "label: Shirt\n"
          ]
        }
      ],
      "source": [
        "# Display one of the images\n",
        "\n",
        "i = 1\n",
        "img = X_train[i, : , :]\n",
        "plt.imshow(img)\n",
        "plt.show()\n",
        "print(f\"label: {labels[y_train[i]]}\")"
      ]
    },
    {
      "cell_type": "code",
      "execution_count": null,
      "metadata": {
        "colab": {
          "base_uri": "https://localhost:8080/"
        },
        "id": "Q83MuprFJw0S",
        "outputId": "99ecfe9b-3298-45c1-9737-8955e20b237e"
      },
      "outputs": [
        {
          "output_type": "execute_result",
          "data": {
            "text/plain": [
              "6"
            ]
          },
          "metadata": {},
          "execution_count": 12
        }
      ],
      "source": [
        "# display y label\n",
        "y_train[i]"
      ]
    },
    {
      "cell_type": "code",
      "execution_count": null,
      "metadata": {
        "id": "gOhc81IGI0z1",
        "colab": {
          "base_uri": "https://localhost:8080/"
        },
        "outputId": "d87aa0e1-1002-4e90-e01c-50e10728940c"
      },
      "outputs": [
        {
          "output_type": "execute_result",
          "data": {
            "text/plain": [
              "(50000, 28, 28)"
            ]
          },
          "metadata": {},
          "execution_count": 13
        }
      ],
      "source": [
        "# Rescale the image values so that they lie in between 0 and 1.\n",
        "\n",
        "X_train = X_train / 255.\n",
        "X_test = X_test / 255.\n",
        "X_cv = X_cv / 255.\n",
        "X_train.shape"
      ]
    },
    {
      "cell_type": "code",
      "source": [
        "X_train = X_train.reshape(X_train.shape[0], -1)\n",
        "X_test = X_test.reshape(X_test.shape[0], -1)\n",
        "X_cv = X_cv.reshape(X_cv.shape[0], -1)\n"
      ],
      "metadata": {
        "id": "qx8xoqJ6NOBh"
      },
      "execution_count": null,
      "outputs": []
    },
    {
      "cell_type": "code",
      "source": [
        "X_train.shape"
      ],
      "metadata": {
        "colab": {
          "base_uri": "https://localhost:8080/"
        },
        "id": "TMDHQm9gQKME",
        "outputId": "1d8bc62a-121b-46ff-f1fc-19611b5aac52"
      },
      "execution_count": null,
      "outputs": [
        {
          "output_type": "execute_result",
          "data": {
            "text/plain": [
              "(50000, 784)"
            ]
          },
          "metadata": {},
          "execution_count": 15
        }
      ]
    },
    {
      "cell_type": "code",
      "source": [
        "y_train.shape"
      ],
      "metadata": {
        "colab": {
          "base_uri": "https://localhost:8080/"
        },
        "id": "iv1ASFwFQM8f",
        "outputId": "3952179c-b5af-440e-97c9-a47cdfaaa7aa"
      },
      "execution_count": null,
      "outputs": [
        {
          "output_type": "execute_result",
          "data": {
            "text/plain": [
              "(50000,)"
            ]
          },
          "metadata": {},
          "execution_count": 16
        }
      ]
    },
    {
      "cell_type": "code",
      "source": [
        "unique_values = np.unique(y_test)\n",
        "counts = np.bincount(y_test)\n",
        "\n",
        "# Iterate over the unique values and print their corresponding counts\n",
        "for value in unique_values:\n",
        "    count = counts[value]\n",
        "    print(f\"Count of {value}: {count}\")\n"
      ],
      "metadata": {
        "colab": {
          "base_uri": "https://localhost:8080/"
        },
        "id": "eb8ctnXBi2gy",
        "outputId": "50fd3d1a-7eae-4266-e5fc-f325bbf51dbb"
      },
      "execution_count": null,
      "outputs": [
        {
          "output_type": "stream",
          "name": "stdout",
          "text": [
            "Count of 0: 1000\n",
            "Count of 1: 1000\n",
            "Count of 2: 1000\n",
            "Count of 3: 1000\n",
            "Count of 4: 1000\n",
            "Count of 5: 1000\n",
            "Count of 6: 1000\n",
            "Count of 7: 1000\n",
            "Count of 8: 1000\n",
            "Count of 9: 1000\n"
          ]
        }
      ]
    },
    {
      "cell_type": "code",
      "source": [
        "# Filter data for values Dress and Shirt\n",
        "filter_indices = np.logical_or(y_train == 2, y_train == 4)\n",
        "filtered_X_train = X_train[filter_indices]\n",
        "filtered_y = y_train[filter_indices]\n",
        "filtered_y_train = np.where(filtered_y == 2, 1, np.where(filtered_y == 4, 0, filtered_y))\n",
        "\n",
        "print(filtered_y_train.shape)\n",
        "print(filtered_X_train.shape)"
      ],
      "metadata": {
        "colab": {
          "base_uri": "https://localhost:8080/"
        },
        "id": "xm82k1QsGUOe",
        "outputId": "16c44c16-d3d7-422d-9bc8-2c4a185418e9"
      },
      "execution_count": null,
      "outputs": [
        {
          "output_type": "stream",
          "name": "stdout",
          "text": [
            "(9993,)\n",
            "(9993, 784)\n"
          ]
        }
      ]
    },
    {
      "cell_type": "code",
      "source": [
        "filter_indices = np.logical_or(y_test == 2, y_test == 4)\n",
        "filtered_X_test = X_test[filter_indices]\n",
        "filtered_y = y_test[filter_indices]\n",
        "filtered_y_test = np.where(filtered_y == 2, 1, np.where(filtered_y == 4, 0, filtered_y))\n",
        "\n",
        "print(filtered_y_test.shape)\n",
        "print(filtered_X_test.shape)\n"
      ],
      "metadata": {
        "colab": {
          "base_uri": "https://localhost:8080/"
        },
        "id": "Vwe4xa9ZIpDr",
        "outputId": "b664e664-b22c-4270-a272-29af3329bb4a"
      },
      "execution_count": null,
      "outputs": [
        {
          "output_type": "stream",
          "name": "stdout",
          "text": [
            "(2000,)\n",
            "(2000, 784)\n"
          ]
        }
      ]
    },
    {
      "cell_type": "code",
      "source": [
        "filter_indices = np.logical_or(y_cv == 2, y_cv == 4)\n",
        "filtered_X_cv = X_cv[filter_indices]\n",
        "filtered_y = y_cv[filter_indices]\n",
        "filtered_y_cv = np.where(filtered_y == 2, 1, np.where(filtered_y == 4, 0, filtered_y))\n",
        "\n",
        "print(filtered_y_cv.shape)\n",
        "print(filtered_X_cv.shape)"
      ],
      "metadata": {
        "colab": {
          "base_uri": "https://localhost:8080/"
        },
        "id": "vcOmoSHuJCbX",
        "outputId": "389c5f41-9202-4480-b122-87698b3ec7ce"
      },
      "execution_count": null,
      "outputs": [
        {
          "output_type": "stream",
          "name": "stdout",
          "text": [
            "(2007,)\n",
            "(2007, 784)\n"
          ]
        }
      ]
    },
    {
      "cell_type": "code",
      "source": [
        "# Best (0.0013, 31)\n",
        "n_1=13\n",
        "alpha= 0.0742\n",
        "learning_rate = alpha \n",
        "lambd=0\n",
        "epochs=10"
      ],
      "metadata": {
        "id": "QSSyIuCpkspJ"
      },
      "execution_count": null,
      "outputs": []
    },
    {
      "cell_type": "code",
      "source": [
        "train_set_x = filtered_X_train\n",
        "test_set_x = filtered_X_test\n",
        "cv_set_x = filtered_X_cv\n",
        "\n",
        "train_set_y = filtered_y_train\n",
        "test_set_y = filtered_y_test\n",
        "cv_set_y = filtered_y_cv"
      ],
      "metadata": {
        "id": "Z_4HXt7llQRE"
      },
      "execution_count": null,
      "outputs": []
    },
    {
      "cell_type": "code",
      "source": [
        "modelD = Sequential()\n",
        "modelD.add(Dense(n_1, activation='relu', input_shape=(784,), kernel_regularizer=l2(lambd)))\n",
        "modelD.add(Dense(4, activation='relu', kernel_regularizer=l2(lambd)))\n",
        "modelD.add(Dense(1, activation='sigmoid', kernel_regularizer=l2(lambd)))\n",
        "\n",
        "optimizer = Adam(learning_rate=learning_rate)\n",
        "\n",
        "modelD.compile(loss='binary_crossentropy', optimizer=optimizer, metrics=['accuracy'])\n",
        "historyD = modelD.fit(train_set_x, train_set_y , epochs=epochs)\n",
        "pd.DataFrame(historyD.history).head()"
      ],
      "metadata": {
        "id": "s53jaxlmk7TQ",
        "outputId": "07249ac2-6933-4a38-ba54-fc2028eb0eb8",
        "colab": {
          "base_uri": "https://localhost:8080/",
          "height": 563
        }
      },
      "execution_count": null,
      "outputs": [
        {
          "output_type": "stream",
          "name": "stdout",
          "text": [
            "Epoch 1/10\n",
            "313/313 [==============================] - 1s 2ms/step - loss: 0.7067 - accuracy: 0.4992\n",
            "Epoch 2/10\n",
            "313/313 [==============================] - 1s 3ms/step - loss: 0.6946 - accuracy: 0.4996\n",
            "Epoch 3/10\n",
            "313/313 [==============================] - 1s 3ms/step - loss: 0.6953 - accuracy: 0.4936\n",
            "Epoch 4/10\n",
            "313/313 [==============================] - 1s 3ms/step - loss: 0.6958 - accuracy: 0.4976\n",
            "Epoch 5/10\n",
            "313/313 [==============================] - 1s 3ms/step - loss: 0.6939 - accuracy: 0.5087\n",
            "Epoch 6/10\n",
            "313/313 [==============================] - 1s 3ms/step - loss: 0.6947 - accuracy: 0.4949\n",
            "Epoch 7/10\n",
            "313/313 [==============================] - 1s 3ms/step - loss: 0.6951 - accuracy: 0.4981\n",
            "Epoch 8/10\n",
            "313/313 [==============================] - 1s 2ms/step - loss: 0.6940 - accuracy: 0.5071\n",
            "Epoch 9/10\n",
            "313/313 [==============================] - 1s 2ms/step - loss: 0.6960 - accuracy: 0.4987\n",
            "Epoch 10/10\n",
            "313/313 [==============================] - 1s 2ms/step - loss: 0.6942 - accuracy: 0.5027\n"
          ]
        },
        {
          "output_type": "execute_result",
          "data": {
            "text/plain": [
              "       loss  accuracy\n",
              "0  0.706707  0.499249\n",
              "1  0.694629  0.499650\n",
              "2  0.695338  0.493646\n",
              "3  0.695782  0.497648\n",
              "4  0.693935  0.508656"
            ],
            "text/html": [
              "\n",
              "  <div id=\"df-5623bb60-657a-4162-a1fd-6c3cf5a3f2e3\">\n",
              "    <div class=\"colab-df-container\">\n",
              "      <div>\n",
              "<style scoped>\n",
              "    .dataframe tbody tr th:only-of-type {\n",
              "        vertical-align: middle;\n",
              "    }\n",
              "\n",
              "    .dataframe tbody tr th {\n",
              "        vertical-align: top;\n",
              "    }\n",
              "\n",
              "    .dataframe thead th {\n",
              "        text-align: right;\n",
              "    }\n",
              "</style>\n",
              "<table border=\"1\" class=\"dataframe\">\n",
              "  <thead>\n",
              "    <tr style=\"text-align: right;\">\n",
              "      <th></th>\n",
              "      <th>loss</th>\n",
              "      <th>accuracy</th>\n",
              "    </tr>\n",
              "  </thead>\n",
              "  <tbody>\n",
              "    <tr>\n",
              "      <th>0</th>\n",
              "      <td>0.706707</td>\n",
              "      <td>0.499249</td>\n",
              "    </tr>\n",
              "    <tr>\n",
              "      <th>1</th>\n",
              "      <td>0.694629</td>\n",
              "      <td>0.499650</td>\n",
              "    </tr>\n",
              "    <tr>\n",
              "      <th>2</th>\n",
              "      <td>0.695338</td>\n",
              "      <td>0.493646</td>\n",
              "    </tr>\n",
              "    <tr>\n",
              "      <th>3</th>\n",
              "      <td>0.695782</td>\n",
              "      <td>0.497648</td>\n",
              "    </tr>\n",
              "    <tr>\n",
              "      <th>4</th>\n",
              "      <td>0.693935</td>\n",
              "      <td>0.508656</td>\n",
              "    </tr>\n",
              "  </tbody>\n",
              "</table>\n",
              "</div>\n",
              "      <button class=\"colab-df-convert\" onclick=\"convertToInteractive('df-5623bb60-657a-4162-a1fd-6c3cf5a3f2e3')\"\n",
              "              title=\"Convert this dataframe to an interactive table.\"\n",
              "              style=\"display:none;\">\n",
              "        \n",
              "  <svg xmlns=\"http://www.w3.org/2000/svg\" height=\"24px\"viewBox=\"0 0 24 24\"\n",
              "       width=\"24px\">\n",
              "    <path d=\"M0 0h24v24H0V0z\" fill=\"none\"/>\n",
              "    <path d=\"M18.56 5.44l.94 2.06.94-2.06 2.06-.94-2.06-.94-.94-2.06-.94 2.06-2.06.94zm-11 1L8.5 8.5l.94-2.06 2.06-.94-2.06-.94L8.5 2.5l-.94 2.06-2.06.94zm10 10l.94 2.06.94-2.06 2.06-.94-2.06-.94-.94-2.06-.94 2.06-2.06.94z\"/><path d=\"M17.41 7.96l-1.37-1.37c-.4-.4-.92-.59-1.43-.59-.52 0-1.04.2-1.43.59L10.3 9.45l-7.72 7.72c-.78.78-.78 2.05 0 2.83L4 21.41c.39.39.9.59 1.41.59.51 0 1.02-.2 1.41-.59l7.78-7.78 2.81-2.81c.8-.78.8-2.07 0-2.86zM5.41 20L4 18.59l7.72-7.72 1.47 1.35L5.41 20z\"/>\n",
              "  </svg>\n",
              "      </button>\n",
              "      \n",
              "  <style>\n",
              "    .colab-df-container {\n",
              "      display:flex;\n",
              "      flex-wrap:wrap;\n",
              "      gap: 12px;\n",
              "    }\n",
              "\n",
              "    .colab-df-convert {\n",
              "      background-color: #E8F0FE;\n",
              "      border: none;\n",
              "      border-radius: 50%;\n",
              "      cursor: pointer;\n",
              "      display: none;\n",
              "      fill: #1967D2;\n",
              "      height: 32px;\n",
              "      padding: 0 0 0 0;\n",
              "      width: 32px;\n",
              "    }\n",
              "\n",
              "    .colab-df-convert:hover {\n",
              "      background-color: #E2EBFA;\n",
              "      box-shadow: 0px 1px 2px rgba(60, 64, 67, 0.3), 0px 1px 3px 1px rgba(60, 64, 67, 0.15);\n",
              "      fill: #174EA6;\n",
              "    }\n",
              "\n",
              "    [theme=dark] .colab-df-convert {\n",
              "      background-color: #3B4455;\n",
              "      fill: #D2E3FC;\n",
              "    }\n",
              "\n",
              "    [theme=dark] .colab-df-convert:hover {\n",
              "      background-color: #434B5C;\n",
              "      box-shadow: 0px 1px 3px 1px rgba(0, 0, 0, 0.15);\n",
              "      filter: drop-shadow(0px 1px 2px rgba(0, 0, 0, 0.3));\n",
              "      fill: #FFFFFF;\n",
              "    }\n",
              "  </style>\n",
              "\n",
              "      <script>\n",
              "        const buttonEl =\n",
              "          document.querySelector('#df-5623bb60-657a-4162-a1fd-6c3cf5a3f2e3 button.colab-df-convert');\n",
              "        buttonEl.style.display =\n",
              "          google.colab.kernel.accessAllowed ? 'block' : 'none';\n",
              "\n",
              "        async function convertToInteractive(key) {\n",
              "          const element = document.querySelector('#df-5623bb60-657a-4162-a1fd-6c3cf5a3f2e3');\n",
              "          const dataTable =\n",
              "            await google.colab.kernel.invokeFunction('convertToInteractive',\n",
              "                                                     [key], {});\n",
              "          if (!dataTable) return;\n",
              "\n",
              "          const docLinkHtml = 'Like what you see? Visit the ' +\n",
              "            '<a target=\"_blank\" href=https://colab.research.google.com/notebooks/data_table.ipynb>data table notebook</a>'\n",
              "            + ' to learn more about interactive tables.';\n",
              "          element.innerHTML = '';\n",
              "          dataTable['output_type'] = 'display_data';\n",
              "          await google.colab.output.renderOutput(dataTable, element);\n",
              "          const docLink = document.createElement('div');\n",
              "          docLink.innerHTML = docLinkHtml;\n",
              "          element.appendChild(docLink);\n",
              "        }\n",
              "      </script>\n",
              "    </div>\n",
              "  </div>\n",
              "  "
            ]
          },
          "metadata": {},
          "execution_count": 40
        }
      ]
    },
    {
      "cell_type": "code",
      "source": [
        "loss_plot = pd.DataFrame(historyD.history).plot(y=\"loss\", title = \"Loss vs. Epochs\", legend=False)\n",
        "loss_plot.set(xlabel=\"Epochs\", ylabel=\"Loss\")"
      ],
      "metadata": {
        "id": "emxkdB73l3ak",
        "outputId": "ae957e50-eac7-4869-b467-3631054570c0",
        "colab": {
          "base_uri": "https://localhost:8080/",
          "height": 490
        }
      },
      "execution_count": null,
      "outputs": [
        {
          "output_type": "execute_result",
          "data": {
            "text/plain": [
              "[Text(0.5, 0, 'Epochs'), Text(0, 0.5, 'Loss')]"
            ]
          },
          "metadata": {},
          "execution_count": 41
        },
        {
          "output_type": "display_data",
          "data": {
            "text/plain": [
              "<Figure size 640x480 with 1 Axes>"
            ],
            "image/png": "[encoded data removed]"
          },
          "metadata": {}
        }
      ]
    },
    {
      "cell_type": "code",
      "source": [
        "test_loss, test_accuracy = modelD.evaluate(test_set_x, test_set_y)"
      ],
      "metadata": {
        "id": "MwMZoW2Jl5-N",
        "outputId": "6f744952-1bf5-44c6-9356-4c101e21dcb0",
        "colab": {
          "base_uri": "https://localhost:8080/"
        }
      },
      "execution_count": null,
      "outputs": [
        {
          "output_type": "stream",
          "name": "stdout",
          "text": [
            "63/63 [==============================] - 0s 2ms/step - loss: 0.6998 - accuracy: 0.5000\n"
          ]
        }
      ]
    },
    {
      "cell_type": "code",
      "source": [
        "cv_loss, cv_accuracy = modelD.evaluate(cv_set_x, cv_set_y)"
      ],
      "metadata": {
        "id": "FB_hjhGmmUNZ",
        "outputId": "e52253a4-aeb6-4d0e-cc9c-7c82aa21e67c",
        "colab": {
          "base_uri": "https://localhost:8080/"
        }
      },
      "execution_count": null,
      "outputs": [
        {
          "output_type": "stream",
          "name": "stdout",
          "text": [
            "63/63 [==============================] - 0s 2ms/step - loss: 0.7017 - accuracy: 0.4918\n"
          ]
        }
      ]
    },
    {
      "cell_type": "code",
      "source": [
        "# Save the arrays\n",
        "np.save('/content/gdrive/MyDrive/MNIST/train_set_x.npy', filtered_X_train)\n",
        "np.save('/content/gdrive/MyDrive/MNIST/test_set_x.npy', filtered_X_test)\n",
        "np.save('/content/gdrive/MyDrive/MNIST/cv_set_x.npy', filtered_X_cv)\n",
        "np.save('/content/gdrive/MyDrive/MNIST/train_set_y.npy', filtered_y_train)\n",
        "np.save('/content/gdrive/MyDrive/MNIST/test_set_y.npy', filtered_y_test)\n",
        "np.save('/content/gdrive/MyDrive/MNIST/cv_set_y.npy', filtered_y_cv)"
      ],
      "metadata": {
        "id": "mRlzRbC2LIkA"
      },
      "execution_count": null,
      "outputs": []
    },
    {
      "cell_type": "markdown",
      "metadata": {
        "id": "H4NdPJMVgVPa"
      },
      "source": [
        "# 3) Build Model (Sequential)"
      ]
    },
    {
      "cell_type": "markdown",
      "metadata": {
        "id": "91zky4emhjNA"
      },
      "source": [
        "Here, we build a NN model (feed forward) with one or more hidden layers. "
      ]
    },
    {
      "cell_type": "markdown",
      "metadata": {
        "id": "udEycVEOQHmM"
      },
      "source": [
        "## Examples"
      ]
    },
    {
      "cell_type": "code",
      "execution_count": null,
      "metadata": {
        "id": "8mRUSOniOa4w"
      },
      "outputs": [],
      "source": [
        "# example 1\n",
        "\n",
        "# building a NN model \n",
        "# the input layer with 16 units\n",
        "# one hidden layer, with 64 units, with a relu activation function.\n",
        "# the output layer is binary with a sigmoid activation function.\n",
        "\n",
        "model1 = Sequential([\n",
        "                    Dense(64, activation = 'relu', input_shape = (16,)),\n",
        "                    Dense(1, activation = 'sigmoid')\n",
        "])"
      ]
    },
    {
      "cell_type": "markdown",
      "metadata": {
        "id": "CgNPZ5UyN7BV"
      },
      "source": [
        "Note: If you don't specify the activation function, it will be linear."
      ]
    },
    {
      "cell_type": "markdown",
      "metadata": {
        "id": "DbkaDC6CO4v7"
      },
      "source": [
        "Read more about other activation choices here: https://www.tensorflow.org/api_docs/python/tf/keras/activations"
      ]
    },
    {
      "cell_type": "markdown",
      "metadata": {
        "id": "sWARuuq5LKnz"
      },
      "source": [
        "Let's take a look at the model we just bulit:"
      ]
    },
    {
      "cell_type": "code",
      "execution_count": null,
      "metadata": {
        "colab": {
          "base_uri": "https://localhost:8080/"
        },
        "id": "5Ebd_q5yLOJc",
        "outputId": "879dc65b-e7b8-40a3-8d00-1c79ee6b64ba"
      },
      "outputs": [
        {
          "output_type": "stream",
          "name": "stdout",
          "text": [
            "Model: \"sequential\"\n",
            "_________________________________________________________________\n",
            " Layer (type)                Output Shape              Param #   \n",
            "=================================================================\n",
            " dense (Dense)               (None, 64)                1088      \n",
            "                                                                 \n",
            " dense_1 (Dense)             (None, 1)                 65        \n",
            "                                                                 \n",
            "=================================================================\n",
            "Total params: 1,153\n",
            "Trainable params: 1,153\n",
            "Non-trainable params: 0\n",
            "_________________________________________________________________\n"
          ]
        }
      ],
      "source": [
        "model1.summary()"
      ]
    },
    {
      "cell_type": "markdown",
      "metadata": {
        "id": "4zove5MfLS45"
      },
      "source": [
        "We can also take a look at the value of initial weights and biases:"
      ]
    },
    {
      "cell_type": "code",
      "execution_count": null,
      "metadata": {
        "colab": {
          "base_uri": "https://localhost:8080/"
        },
        "id": "NLEB7bfULTLe",
        "outputId": "8e91e3ef-59cd-409f-9370-18c6b72a64ec"
      },
      "outputs": [
        {
          "output_type": "execute_result",
          "data": {
            "text/plain": [
              "[<tf.Variable 'dense/kernel:0' shape=(16, 64) dtype=float32, numpy=\n",
              " array([[-0.12466884, -0.24165632,  0.13704988, ..., -0.00126263,\n",
              "          0.06674117, -0.14089835],\n",
              "        [ 0.23649347, -0.0589924 ,  0.21053007, ...,  0.2612546 ,\n",
              "          0.23661548,  0.06963128],\n",
              "        [-0.08440943,  0.11977646,  0.07764724, ..., -0.06793207,\n",
              "          0.14893788, -0.21901138],\n",
              "        ...,\n",
              "        [ 0.1647161 ,  0.08467898,  0.09657091, ..., -0.08145811,\n",
              "         -0.24726008,  0.26563728],\n",
              "        [ 0.07477048,  0.07436335,  0.06656906, ..., -0.08300105,\n",
              "          0.17016926,  0.02781704],\n",
              "        [-0.17714864,  0.05200911,  0.00885028, ...,  0.19939327,\n",
              "          0.03654894, -0.1750934 ]], dtype=float32)>,\n",
              " <tf.Variable 'dense/bias:0' shape=(64,) dtype=float32, numpy=\n",
              " array([0., 0., 0., 0., 0., 0., 0., 0., 0., 0., 0., 0., 0., 0., 0., 0., 0.,\n",
              "        0., 0., 0., 0., 0., 0., 0., 0., 0., 0., 0., 0., 0., 0., 0., 0., 0.,\n",
              "        0., 0., 0., 0., 0., 0., 0., 0., 0., 0., 0., 0., 0., 0., 0., 0., 0.,\n",
              "        0., 0., 0., 0., 0., 0., 0., 0., 0., 0., 0., 0., 0.], dtype=float32)>,\n",
              " <tf.Variable 'dense_1/kernel:0' shape=(64, 1) dtype=float32, numpy=\n",
              " array([[ 0.15079045],\n",
              "        [ 0.1883193 ],\n",
              "        [-0.13961461],\n",
              "        [ 0.01325861],\n",
              "        [-0.15555432],\n",
              "        [ 0.22544044],\n",
              "        [-0.071125  ],\n",
              "        [-0.30088305],\n",
              "        [-0.18986756],\n",
              "        [ 0.15487668],\n",
              "        [ 0.23404825],\n",
              "        [-0.17414029],\n",
              "        [ 0.1949813 ],\n",
              "        [ 0.25737977],\n",
              "        [ 0.24825722],\n",
              "        [-0.13029976],\n",
              "        [ 0.29328835],\n",
              "        [ 0.27373767],\n",
              "        [ 0.00107098],\n",
              "        [-0.05896468],\n",
              "        [ 0.15487218],\n",
              "        [-0.24796915],\n",
              "        [ 0.21609616],\n",
              "        [-0.04225448],\n",
              "        [-0.22192147],\n",
              "        [ 0.04351965],\n",
              "        [ 0.17340651],\n",
              "        [-0.02659878],\n",
              "        [ 0.0931462 ],\n",
              "        [ 0.05757636],\n",
              "        [-0.15499924],\n",
              "        [ 0.15898493],\n",
              "        [ 0.13854066],\n",
              "        [ 0.1117132 ],\n",
              "        [-0.06543633],\n",
              "        [ 0.29801738],\n",
              "        [-0.14260328],\n",
              "        [-0.24295783],\n",
              "        [-0.22813603],\n",
              "        [-0.1245075 ],\n",
              "        [ 0.11529535],\n",
              "        [-0.19626117],\n",
              "        [ 0.10627401],\n",
              "        [ 0.03340647],\n",
              "        [-0.07570374],\n",
              "        [-0.09873761],\n",
              "        [ 0.07991391],\n",
              "        [-0.07682317],\n",
              "        [ 0.05339083],\n",
              "        [-0.26110774],\n",
              "        [-0.26666784],\n",
              "        [-0.00523067],\n",
              "        [ 0.24821079],\n",
              "        [ 0.12609887],\n",
              "        [-0.16505505],\n",
              "        [ 0.25013173],\n",
              "        [-0.00997266],\n",
              "        [-0.29744533],\n",
              "        [ 0.0329223 ],\n",
              "        [-0.2114109 ],\n",
              "        [ 0.18516424],\n",
              "        [-0.05864668],\n",
              "        [ 0.30281836],\n",
              "        [-0.21108761]], dtype=float32)>,\n",
              " <tf.Variable 'dense_1/bias:0' shape=(1,) dtype=float32, numpy=array([0.], dtype=float32)>]"
            ]
          },
          "metadata": {},
          "execution_count": 15
        }
      ],
      "source": [
        "model1.weights"
      ]
    },
    {
      "cell_type": "markdown",
      "metadata": {
        "id": "Lq3IKkO8OrbK"
      },
      "source": [
        "An alternative way to build sequential models:"
      ]
    },
    {
      "cell_type": "code",
      "execution_count": null,
      "metadata": {
        "id": "ejbPp3PBOrve"
      },
      "outputs": [],
      "source": [
        "# example 1 - alternative method:\n",
        "\n",
        "# building a NN model \n",
        "# the input layer with 16 units\n",
        "# one hidden layer, with 64 units, with a relu activation function.\n",
        "# the output layer is binary with a sigmoid activation function.\n",
        "\n",
        "model1 = Sequential()\n",
        "model1.add(Dense(64, activation = 'relu', input_shape = (16,)))\n",
        "model1.add(Dense(1, activation = 'sigmoid'))\n",
        "\n",
        "# model.add append additional layers to the model"
      ]
    },
    {
      "cell_type": "code",
      "execution_count": null,
      "metadata": {
        "colab": {
          "base_uri": "https://localhost:8080/"
        },
        "id": "7pL37medRHSz",
        "outputId": "11c16024-9629-4c91-924f-9514b05fdd64"
      },
      "outputs": [
        {
          "output_type": "stream",
          "name": "stdout",
          "text": [
            "Model: \"sequential_1\"\n",
            "_________________________________________________________________\n",
            " Layer (type)                Output Shape              Param #   \n",
            "=================================================================\n",
            " dense_2 (Dense)             (None, 64)                1088      \n",
            "                                                                 \n",
            " dense_3 (Dense)             (None, 1)                 65        \n",
            "                                                                 \n",
            "=================================================================\n",
            "Total params: 1,153\n",
            "Trainable params: 1,153\n",
            "Non-trainable params: 0\n",
            "_________________________________________________________________\n"
          ]
        }
      ],
      "source": [
        "model1.summary()"
      ]
    },
    {
      "cell_type": "markdown",
      "metadata": {
        "id": "XG0VQyz2_6km"
      },
      "source": [
        "More examples:"
      ]
    },
    {
      "cell_type": "code",
      "execution_count": null,
      "metadata": {
        "id": "7fT-vboV3glB"
      },
      "outputs": [],
      "source": [
        "# example 2\n",
        "\n",
        "# building a NN model \n",
        "# the input layer with 16 units\n",
        "# one hidden layer, with 32 units, with a relu activation function.\n",
        "# the output layer is multi-class with 10 classes (activation function is softmax).\n",
        "\n",
        "model2 = Sequential([\n",
        "                    Dense(32, activation = 'relu', input_shape = (16,)),\n",
        "                    Dense(10, activation = 'softmax')\n",
        "])"
      ]
    },
    {
      "cell_type": "code",
      "execution_count": null,
      "metadata": {
        "colab": {
          "base_uri": "https://localhost:8080/"
        },
        "id": "miho1IyUD6f4",
        "outputId": "89f9fc25-36c8-4a49-ebb9-d8bbff27e19a"
      },
      "outputs": [
        {
          "output_type": "stream",
          "name": "stdout",
          "text": [
            "Model: \"sequential_3\"\n",
            "_________________________________________________________________\n",
            " Layer (type)                Output Shape              Param #   \n",
            "=================================================================\n",
            " dense_6 (Dense)             (None, 32)                544       \n",
            "                                                                 \n",
            " dense_7 (Dense)             (None, 10)                330       \n",
            "                                                                 \n",
            "=================================================================\n",
            "Total params: 874\n",
            "Trainable params: 874\n",
            "Non-trainable params: 0\n",
            "_________________________________________________________________\n"
          ]
        }
      ],
      "source": [
        "model2.summary()"
      ]
    },
    {
      "cell_type": "code",
      "execution_count": null,
      "metadata": {
        "id": "Lu-FjI6B3jwO"
      },
      "outputs": [],
      "source": [
        "# example 3\n",
        "\n",
        "# building a NN model \n",
        "# the input layer with 16 units\n",
        "# first hidden layer, with 32 units, with a relu activation function.\n",
        "# second hidden layer, with 8 units, with a relu activation function.\n",
        "# the output layer is binary with a sigmoid activation function.\n",
        "\n",
        "model3 = Sequential([\n",
        "                    Dense(32, activation = 'relu', input_shape = (16,)),\n",
        "                    Dense(8, activation = 'relu'),\n",
        "                    Dense(1, activation = 'sigmoid')\n",
        "])"
      ]
    },
    {
      "cell_type": "code",
      "execution_count": null,
      "metadata": {
        "colab": {
          "base_uri": "https://localhost:8080/"
        },
        "id": "xl8b96vaD81H",
        "outputId": "1dcc65e3-3578-4532-9628-7a65ebd1d17b"
      },
      "outputs": [
        {
          "output_type": "stream",
          "name": "stdout",
          "text": [
            "Model: \"sequential_4\"\n",
            "_________________________________________________________________\n",
            " Layer (type)                Output Shape              Param #   \n",
            "=================================================================\n",
            " dense_8 (Dense)             (None, 32)                544       \n",
            "                                                                 \n",
            " dense_9 (Dense)             (None, 8)                 264       \n",
            "                                                                 \n",
            " dense_10 (Dense)            (None, 1)                 9         \n",
            "                                                                 \n",
            "=================================================================\n",
            "Total params: 817\n",
            "Trainable params: 817\n",
            "Non-trainable params: 0\n",
            "_________________________________________________________________\n"
          ]
        }
      ],
      "source": [
        "model3.summary()"
      ]
    },
    {
      "cell_type": "code",
      "execution_count": null,
      "metadata": {
        "id": "fR3Ag2y6Czxi"
      },
      "outputs": [],
      "source": [
        "# example 4\n",
        "\n",
        "# building a NN model\n",
        "# the input layer with 16 units\n",
        "# no hidden layers\n",
        "# the output layer is binary with a sigmoid activation function.\n",
        "\n",
        "model4 = Sequential([\n",
        "                    Dense(1, activation = 'sigmoid', input_shape = (16,))\n",
        "])"
      ]
    },
    {
      "cell_type": "code",
      "execution_count": null,
      "metadata": {
        "colab": {
          "base_uri": "https://localhost:8080/"
        },
        "id": "kfQ9wxibD-oo",
        "outputId": "3831fe90-669f-466b-9d29-da62287a2c55"
      },
      "outputs": [
        {
          "output_type": "stream",
          "name": "stdout",
          "text": [
            "Model: \"sequential_5\"\n",
            "_________________________________________________________________\n",
            " Layer (type)                Output Shape              Param #   \n",
            "=================================================================\n",
            " dense_11 (Dense)            (None, 1)                 17        \n",
            "                                                                 \n",
            "=================================================================\n",
            "Total params: 17\n",
            "Trainable params: 17\n",
            "Non-trainable params: 0\n",
            "_________________________________________________________________\n"
          ]
        }
      ],
      "source": [
        "model4.summary()"
      ]
    },
    {
      "cell_type": "markdown",
      "metadata": {
        "id": "fMjpUJNbl1mD"
      },
      "source": [
        "If the input shape is two-dimensional, we can flatten it and unroll it into a long one-dimensional vector first:"
      ]
    },
    {
      "cell_type": "code",
      "execution_count": null,
      "metadata": {
        "id": "c5YhtRNdEk5g"
      },
      "outputs": [],
      "source": [
        "# example 5:\n",
        "\n",
        "# building a NN model \n",
        "# the input layer with input_shape (4, 4)\n",
        "# one hidden layer, with 64 units, with a relu activation function.\n",
        "# the output layer is binary with a sigmoid activation function.\n",
        "\n",
        "model5 = Sequential([\n",
        "                    Flatten(input_shape = (4, 4)), #(16,)\n",
        "                    Dense(64, activation = 'relu'),\n",
        "                    Dense(1, activation = 'sigmoid')\n",
        "])"
      ]
    },
    {
      "cell_type": "code",
      "execution_count": null,
      "metadata": {
        "colab": {
          "base_uri": "https://localhost:8080/"
        },
        "id": "3Qm7xiq-PKNu",
        "outputId": "8a3257f1-f2f3-4da3-b17c-6e82f4a725d7"
      },
      "outputs": [
        {
          "output_type": "stream",
          "name": "stdout",
          "text": [
            "Model: \"sequential_6\"\n",
            "_________________________________________________________________\n",
            " Layer (type)                Output Shape              Param #   \n",
            "=================================================================\n",
            " flatten (Flatten)           (None, 16)                0         \n",
            "                                                                 \n",
            " dense_12 (Dense)            (None, 64)                1088      \n",
            "                                                                 \n",
            " dense_13 (Dense)            (None, 1)                 65        \n",
            "                                                                 \n",
            "=================================================================\n",
            "Total params: 1,153\n",
            "Trainable params: 1,153\n",
            "Non-trainable params: 0\n",
            "_________________________________________________________________\n"
          ]
        }
      ],
      "source": [
        "model5.summary()"
      ]
    },
    {
      "cell_type": "markdown",
      "metadata": {
        "id": "yVPxHYusnDoY"
      },
      "source": [
        "We can define a name for each layer:"
      ]
    },
    {
      "cell_type": "code",
      "execution_count": null,
      "metadata": {
        "id": "UuL9xQ6A4K-_"
      },
      "outputs": [],
      "source": [
        "# example 5 - define names for each layer:\n",
        "\n",
        "# building a NN model \n",
        "# the input layer with input_shape (4, 4)\n",
        "# one hidden layer, with 64 units, with a relu activation function.\n",
        "# the output layer is binary with a sigmoid activation function.\n",
        "\n",
        "model5 = Sequential([\n",
        "                    Flatten(input_shape = (4, 4), name = 'layer_0'), \n",
        "                    Dense(64, activation = 'relu', name = 'layer_1'),\n",
        "                    Dense(1, activation = 'sigmoid', name = 'layer_2')\n",
        "])"
      ]
    },
    {
      "cell_type": "code",
      "execution_count": null,
      "metadata": {
        "colab": {
          "base_uri": "https://localhost:8080/"
        },
        "id": "CF3d64wGPFJ8",
        "outputId": "7528fedb-b30b-441d-b38d-d2c7244daf8c"
      },
      "outputs": [
        {
          "output_type": "stream",
          "name": "stdout",
          "text": [
            "Model: \"sequential_7\"\n",
            "_________________________________________________________________\n",
            " Layer (type)                Output Shape              Param #   \n",
            "=================================================================\n",
            " layer_0 (Flatten)           (None, 16)                0         \n",
            "                                                                 \n",
            " layer_1 (Dense)             (None, 64)                1088      \n",
            "                                                                 \n",
            " layer_2 (Dense)             (None, 1)                 65        \n",
            "                                                                 \n",
            "=================================================================\n",
            "Total params: 1,153\n",
            "Trainable params: 1,153\n",
            "Non-trainable params: 0\n",
            "_________________________________________________________________\n"
          ]
        }
      ],
      "source": [
        "model5.summary()"
      ]
    },
    {
      "cell_type": "markdown",
      "metadata": {
        "id": "rZ4gGEuVOJph"
      },
      "source": [
        "## For our dataset"
      ]
    },
    {
      "cell_type": "code",
      "execution_count": null,
      "metadata": {
        "id": "RJZrt4fJOKVz"
      },
      "outputs": [],
      "source": [
        "# build the model\n",
        "\n",
        "# the input layer with input_shape (28, 28)\n",
        "# one hidden layer, with 64 units, with a relu activation function.\n",
        "# the output layer is multi-class with 10 classes (activation function is softmax).\n",
        "\n",
        "model = Sequential([\n",
        "                    Flatten(input_shape = (28, 28)),\n",
        "                    Dense(64, activation = 'relu'),\n",
        "                    Dense(10, activation = 'softmax')\n",
        "])"
      ]
    },
    {
      "cell_type": "code",
      "execution_count": null,
      "metadata": {
        "colab": {
          "base_uri": "https://localhost:8080/"
        },
        "id": "LwfovRv7OVJx",
        "outputId": "c60cd9a1-7c75-4ef6-bd99-038d26f040ba"
      },
      "outputs": [
        {
          "output_type": "stream",
          "name": "stdout",
          "text": [
            "Model: \"sequential_8\"\n",
            "_________________________________________________________________\n",
            " Layer (type)                Output Shape              Param #   \n",
            "=================================================================\n",
            " flatten_1 (Flatten)         (None, 784)               0         \n",
            "                                                                 \n",
            " dense_14 (Dense)            (None, 64)                50240     \n",
            "                                                                 \n",
            " dense_15 (Dense)            (None, 10)                650       \n",
            "                                                                 \n",
            "=================================================================\n",
            "Total params: 50,890\n",
            "Trainable params: 50,890\n",
            "Non-trainable params: 0\n",
            "_________________________________________________________________\n"
          ]
        }
      ],
      "source": [
        "model.summary()"
      ]
    },
    {
      "cell_type": "markdown",
      "metadata": {
        "id": "nZQ4ovbjnbTN"
      },
      "source": [
        "# 4) Start Training (Compile)"
      ]
    },
    {
      "cell_type": "markdown",
      "metadata": {
        "id": "9qX96Uv9nhDI"
      },
      "source": [
        "To start training our network on data, we need to define the optimization algorithm, and a loss function that will give us a measure of our model's performance. Also we define a set of metrics that we want to keep track of as the model is training. These metrics will be calculated for each epoch of training along with the evaluation of the loss function on the training data."
      ]
    },
    {
      "cell_type": "markdown",
      "metadata": {
        "id": "_QZL4pMeQT_u"
      },
      "source": [
        "## Examples"
      ]
    },
    {
      "cell_type": "code",
      "execution_count": null,
      "metadata": {
        "id": "j_36USUimhR-"
      },
      "outputs": [],
      "source": [
        "# example 1:\n",
        "model1 = Sequential([\n",
        "                    Dense(64, activation = 'relu', input_shape = (16,)),\n",
        "                    Dense(1, activation = 'sigmoid')\n",
        "])\n",
        "\n",
        "model1.compile(\n",
        "    optimizer = 'adam',  \n",
        "    loss = 'binary_crossentropy', \n",
        "    metrics = ['binary_accuracy'] \n",
        ")"
      ]
    },
    {
      "cell_type": "markdown",
      "metadata": {
        "id": "_5_SLlHl7f7Y"
      },
      "source": [
        "Read more about other optimizer choices here: https://www.tensorflow.org/api_docs/python/tf/keras/optimizers/\n",
        "\n",
        "Read more about other loss choices here: https://www.tensorflow.org/api_docs/python/tf/keras/losses\n",
        "\n",
        "Read more about other metrics choices here: https://www.tensorflow.org/api_docs/python/tf/keras/metrics"
      ]
    },
    {
      "cell_type": "markdown",
      "metadata": {
        "id": "IjHQE8rakpTQ"
      },
      "source": [
        "Each of the strings in the code above is a reference to another object or function and we can always use that object or function directly:"
      ]
    },
    {
      "cell_type": "code",
      "execution_count": null,
      "metadata": {
        "id": "K0SWQ93Kkw7m"
      },
      "outputs": [],
      "source": [
        "# example 1 - alternative compile method:\n",
        "\n",
        "model1.compile(\n",
        "    optimizer = tf.keras.optimizers.Adam(),\n",
        "    loss = tf.keras.losses.BinaryCrossentropy(),\n",
        "    metrics = [tf.keras.metrics.BinaryAccuracy()]\n",
        ")"
      ]
    },
    {
      "cell_type": "markdown",
      "metadata": {
        "id": "zgi6n00dlmmS"
      },
      "source": [
        "The reason why you might want to use the code above is because it gives you greater flexibility as many of these objects and functions themselves have options that you might want to have control over."
      ]
    },
    {
      "cell_type": "code",
      "execution_count": null,
      "metadata": {
        "id": "hPeZrOXYlsj8"
      },
      "outputs": [],
      "source": [
        "# example 1 - we can change the default parameters\n",
        "\n",
        "model1.compile(\n",
        "    optimizer = tf.keras.optimizers.Adam(learning_rate=0.003, beta_1=0.9, beta_2=0.999, epsilon=1e-07), # the default values.\n",
        "    loss = tf.keras.losses.BinaryCrossentropy(from_logits=True),          # use sigmoid activation, if in the final hidden layer, we do not specify an activation function or define a linear one.\n",
        "    metrics = [tf.keras.metrics.BinaryAccuracy(threshold=0.5)]            # default is 0.5 (the threshold for predictions to be classed as positive).\n",
        ")"
      ]
    },
    {
      "cell_type": "markdown",
      "metadata": {
        "id": "j6wfe9T6__fj"
      },
      "source": [
        "More examples:"
      ]
    },
    {
      "cell_type": "code",
      "execution_count": null,
      "metadata": {
        "id": "fKv7rSRpAby9"
      },
      "outputs": [],
      "source": [
        "# example 2\n",
        "\n",
        "# building a NN model \n",
        "# the input layer with 16 units\n",
        "# one hidden layer, with 64 units, with a relu activation function.\n",
        "# the output layer is multi-class with 10 classes (activation function is softmax).\n",
        "\n",
        "model2 = Sequential([\n",
        "                    Dense(64, activation = 'relu', input_shape = (16,)),\n",
        "                    Dense(10, activation = 'softmax')\n",
        "])\n",
        "\n",
        "model2.compile(\n",
        "    optimizer = 'rmsprop', \n",
        "    loss = 'categorical_crossentropy', \n",
        "    metrics = ['categorical_accuracy', 'mae']\n",
        ")"
      ]
    },
    {
      "cell_type": "markdown",
      "metadata": {
        "id": "z3O51IJHKNWZ"
      },
      "source": [
        "## For our dataset"
      ]
    },
    {
      "cell_type": "code",
      "execution_count": null,
      "metadata": {
        "id": "M6Q2Jb7sNVhQ"
      },
      "outputs": [],
      "source": [
        "# for our data set:\n",
        "\n",
        "model = Sequential([\n",
        "                    Flatten(input_shape = (28, 28)),\n",
        "                    Dense(64, activation = 'relu'),\n",
        "                    Dense(10, activation = 'softmax')\n",
        "])\n",
        "\n",
        "\n",
        "model.compile(\n",
        "    optimizer = tf.keras.optimizers.Adam(learning_rate = 0.005),\n",
        "    loss = 'sparse_categorical_crossentropy', # Use this loss function when the y labels are integers. \n",
        "    metrics = [tf.keras.metrics.SparseCategoricalAccuracy()] # Use this accuracy when the y labels are integers.\n",
        ")"
      ]
    },
    {
      "cell_type": "code",
      "source": [
        "model.summary()"
      ],
      "metadata": {
        "id": "2ukJVBx2dbhi",
        "outputId": "8f790d83-e690-41d1-d12f-0cdf7a167366",
        "colab": {
          "base_uri": "https://localhost:8080/"
        }
      },
      "execution_count": null,
      "outputs": [
        {
          "output_type": "stream",
          "name": "stdout",
          "text": [
            "Model: \"sequential_11\"\n",
            "_________________________________________________________________\n",
            " Layer (type)                Output Shape              Param #   \n",
            "=================================================================\n",
            " flatten_2 (Flatten)         (None, 784)               0         \n",
            "                                                                 \n",
            " dense_20 (Dense)            (None, 64)                50240     \n",
            "                                                                 \n",
            " dense_21 (Dense)            (None, 10)                650       \n",
            "                                                                 \n",
            "=================================================================\n",
            "Total params: 50,890\n",
            "Trainable params: 50,890\n",
            "Non-trainable params: 0\n",
            "_________________________________________________________________\n"
          ]
        }
      ]
    },
    {
      "cell_type": "markdown",
      "metadata": {
        "id": "ZkIizf6aPbsJ"
      },
      "source": [
        "An alternative compile method:"
      ]
    },
    {
      "cell_type": "code",
      "execution_count": null,
      "metadata": {
        "id": "CwC4eh6IXMkl"
      },
      "outputs": [],
      "source": [
        "# for our data set - alternative compile method:\n",
        "\n",
        "opt = tf.keras.optimizers.Adam(learning_rate = 0.005)\n",
        "acc = tf.keras.metrics.SparseCategoricalAccuracy()\n",
        "\n",
        "model.compile(\n",
        "    optimizer = opt,\n",
        "    loss = 'sparse_categorical_crossentropy', \n",
        "    metrics = [acc]\n",
        ")"
      ]
    },
    {
      "cell_type": "markdown",
      "metadata": {
        "id": "_vTxGDNyYnBB"
      },
      "source": [
        "# 5) Model Fit"
      ]
    },
    {
      "cell_type": "markdown",
      "metadata": {
        "id": "0U_qFaJnYr2T"
      },
      "source": [
        "Calling model.fit returns a TensorFlow history object. This object contains a record of the progress of the network during training in terms of the loss and the metrics that we defined when we compiled the model."
      ]
    },
    {
      "cell_type": "code",
      "execution_count": null,
      "metadata": {
        "colab": {
          "base_uri": "https://localhost:8080/"
        },
        "id": "cWlki4PM8dPm",
        "outputId": "0cda0440-69be-4797-8bec-ad2e0dca5cd0"
      },
      "outputs": [
        {
          "output_type": "execute_result",
          "data": {
            "text/plain": [
              "(60000, 28, 28)"
            ]
          },
          "metadata": {},
          "execution_count": 38
        }
      ],
      "source": [
        "X_train.shape"
      ]
    },
    {
      "cell_type": "code",
      "execution_count": null,
      "metadata": {
        "id": "ijHstY8R-3xT"
      },
      "outputs": [],
      "source": [
        "# 1 epoch = (for 235 mini-batch) *(256 images in each mini batch)"
      ]
    },
    {
      "cell_type": "code",
      "execution_count": null,
      "metadata": {
        "colab": {
          "base_uri": "https://localhost:8080/"
        },
        "id": "_8j8gKtyYsnz",
        "outputId": "9cfd7057-b59c-4d6b-ffc6-5f109d388ca5"
      },
      "outputs": [
        {
          "output_type": "stream",
          "name": "stdout",
          "text": [
            "Epoch 1/8\n",
            "235/235 - 1s - loss: 0.5743 - sparse_categorical_accuracy: 0.8002 - 1s/epoch - 6ms/step\n",
            "Epoch 2/8\n",
            "235/235 - 1s - loss: 0.4122 - sparse_categorical_accuracy: 0.8533 - 791ms/epoch - 3ms/step\n",
            "Epoch 3/8\n",
            "235/235 - 1s - loss: 0.3708 - sparse_categorical_accuracy: 0.8672 - 733ms/epoch - 3ms/step\n",
            "Epoch 4/8\n",
            "235/235 - 1s - loss: 0.3502 - sparse_categorical_accuracy: 0.8733 - 716ms/epoch - 3ms/step\n",
            "Epoch 5/8\n",
            "235/235 - 1s - loss: 0.3273 - sparse_categorical_accuracy: 0.8809 - 722ms/epoch - 3ms/step\n",
            "Epoch 6/8\n",
            "235/235 - 1s - loss: 0.3155 - sparse_categorical_accuracy: 0.8853 - 717ms/epoch - 3ms/step\n",
            "Epoch 7/8\n",
            "235/235 - 1s - loss: 0.3054 - sparse_categorical_accuracy: 0.8889 - 729ms/epoch - 3ms/step\n",
            "Epoch 8/8\n",
            "235/235 - 1s - loss: 0.2943 - sparse_categorical_accuracy: 0.8909 - 741ms/epoch - 3ms/step\n"
          ]
        }
      ],
      "source": [
        "# fit the model\n",
        "\n",
        "history = model.fit(X_train, y_train, epochs = 8, batch_size = 256, verbose = 2)\n",
        "# epochs = 8: training will make 8 complete passes through the dataset.\n",
        "# batch_size = 256: By default, the batch size is set to 32.\n",
        "# verbose = 2: print only one line per epoch\n",
        "# verbose = 1 (or True): print everything (the defalut)\n",
        "# verbose = 0 (or False): silence the print out"
      ]
    },
    {
      "cell_type": "markdown",
      "metadata": {
        "id": "o9HpDs3GdApU"
      },
      "source": [
        "The object history has an attribute called history that is a dictionary and contains information about the loss functions and matrix after each of the epochs."
      ]
    },
    {
      "cell_type": "code",
      "execution_count": null,
      "metadata": {
        "colab": {
          "base_uri": "https://localhost:8080/"
        },
        "id": "Yha1SkAPo9zL",
        "outputId": "72f9da63-fe11-4b35-f1c0-ec682168b8b4"
      },
      "outputs": [
        {
          "output_type": "stream",
          "name": "stdout",
          "text": [
            "dict_keys(['loss', 'sparse_categorical_accuracy'])\n"
          ]
        }
      ],
      "source": [
        "print(history.history.keys())"
      ]
    },
    {
      "cell_type": "markdown",
      "metadata": {
        "id": "xJ44NyQidpg5"
      },
      "source": [
        "Let's plot the training history:"
      ]
    },
    {
      "cell_type": "code",
      "execution_count": null,
      "metadata": {
        "colab": {
          "base_uri": "https://localhost:8080/",
          "height": 206
        },
        "id": "KWNqgBE4dtY7",
        "outputId": "d905b0db-fdd0-4218-836b-be42573c955c"
      },
      "outputs": [
        {
          "output_type": "execute_result",
          "data": {
            "text/plain": [
              "       loss  sparse_categorical_accuracy\n",
              "0  0.574292                     0.800183\n",
              "1  0.412179                     0.853267\n",
              "2  0.370774                     0.867233\n",
              "3  0.350183                     0.873250\n",
              "4  0.327317                     0.880850"
            ],
            "text/html": [
              "\n",
              "  <div id=\"df-c6f083d8-c4fe-46fa-bedc-b21771ff18f7\">\n",
              "    <div class=\"colab-df-container\">\n",
              "      <div>\n",
              "<style scoped>\n",
              "    .dataframe tbody tr th:only-of-type {\n",
              "        vertical-align: middle;\n",
              "    }\n",
              "\n",
              "    .dataframe tbody tr th {\n",
              "        vertical-align: top;\n",
              "    }\n",
              "\n",
              "    .dataframe thead th {\n",
              "        text-align: right;\n",
              "    }\n",
              "</style>\n",
              "<table border=\"1\" class=\"dataframe\">\n",
              "  <thead>\n",
              "    <tr style=\"text-align: right;\">\n",
              "      <th></th>\n",
              "      <th>loss</th>\n",
              "      <th>sparse_categorical_accuracy</th>\n",
              "    </tr>\n",
              "  </thead>\n",
              "  <tbody>\n",
              "    <tr>\n",
              "      <th>0</th>\n",
              "      <td>0.574292</td>\n",
              "      <td>0.800183</td>\n",
              "    </tr>\n",
              "    <tr>\n",
              "      <th>1</th>\n",
              "      <td>0.412179</td>\n",
              "      <td>0.853267</td>\n",
              "    </tr>\n",
              "    <tr>\n",
              "      <th>2</th>\n",
              "      <td>0.370774</td>\n",
              "      <td>0.867233</td>\n",
              "    </tr>\n",
              "    <tr>\n",
              "      <th>3</th>\n",
              "      <td>0.350183</td>\n",
              "      <td>0.873250</td>\n",
              "    </tr>\n",
              "    <tr>\n",
              "      <th>4</th>\n",
              "      <td>0.327317</td>\n",
              "      <td>0.880850</td>\n",
              "    </tr>\n",
              "  </tbody>\n",
              "</table>\n",
              "</div>\n",
              "      <button class=\"colab-df-convert\" onclick=\"convertToInteractive('df-c6f083d8-c4fe-46fa-bedc-b21771ff18f7')\"\n",
              "              title=\"Convert this dataframe to an interactive table.\"\n",
              "              style=\"display:none;\">\n",
              "        \n",
              "  <svg xmlns=\"http://www.w3.org/2000/svg\" height=\"24px\"viewBox=\"0 0 24 24\"\n",
              "       width=\"24px\">\n",
              "    <path d=\"M0 0h24v24H0V0z\" fill=\"none\"/>\n",
              "    <path d=\"M18.56 5.44l.94 2.06.94-2.06 2.06-.94-2.06-.94-.94-2.06-.94 2.06-2.06.94zm-11 1L8.5 8.5l.94-2.06 2.06-.94-2.06-.94L8.5 2.5l-.94 2.06-2.06.94zm10 10l.94 2.06.94-2.06 2.06-.94-2.06-.94-.94-2.06-.94 2.06-2.06.94z\"/><path d=\"M17.41 7.96l-1.37-1.37c-.4-.4-.92-.59-1.43-.59-.52 0-1.04.2-1.43.59L10.3 9.45l-7.72 7.72c-.78.78-.78 2.05 0 2.83L4 21.41c.39.39.9.59 1.41.59.51 0 1.02-.2 1.41-.59l7.78-7.78 2.81-2.81c.8-.78.8-2.07 0-2.86zM5.41 20L4 18.59l7.72-7.72 1.47 1.35L5.41 20z\"/>\n",
              "  </svg>\n",
              "      </button>\n",
              "      \n",
              "  <style>\n",
              "    .colab-df-container {\n",
              "      display:flex;\n",
              "      flex-wrap:wrap;\n",
              "      gap: 12px;\n",
              "    }\n",
              "\n",
              "    .colab-df-convert {\n",
              "      background-color: #E8F0FE;\n",
              "      border: none;\n",
              "      border-radius: 50%;\n",
              "      cursor: pointer;\n",
              "      display: none;\n",
              "      fill: #1967D2;\n",
              "      height: 32px;\n",
              "      padding: 0 0 0 0;\n",
              "      width: 32px;\n",
              "    }\n",
              "\n",
              "    .colab-df-convert:hover {\n",
              "      background-color: #E2EBFA;\n",
              "      box-shadow: 0px 1px 2px rgba(60, 64, 67, 0.3), 0px 1px 3px 1px rgba(60, 64, 67, 0.15);\n",
              "      fill: #174EA6;\n",
              "    }\n",
              "\n",
              "    [theme=dark] .colab-df-convert {\n",
              "      background-color: #3B4455;\n",
              "      fill: #D2E3FC;\n",
              "    }\n",
              "\n",
              "    [theme=dark] .colab-df-convert:hover {\n",
              "      background-color: #434B5C;\n",
              "      box-shadow: 0px 1px 3px 1px rgba(0, 0, 0, 0.15);\n",
              "      filter: drop-shadow(0px 1px 2px rgba(0, 0, 0, 0.3));\n",
              "      fill: #FFFFFF;\n",
              "    }\n",
              "  </style>\n",
              "\n",
              "      <script>\n",
              "        const buttonEl =\n",
              "          document.querySelector('#df-c6f083d8-c4fe-46fa-bedc-b21771ff18f7 button.colab-df-convert');\n",
              "        buttonEl.style.display =\n",
              "          google.colab.kernel.accessAllowed ? 'block' : 'none';\n",
              "\n",
              "        async function convertToInteractive(key) {\n",
              "          const element = document.querySelector('#df-c6f083d8-c4fe-46fa-bedc-b21771ff18f7');\n",
              "          const dataTable =\n",
              "            await google.colab.kernel.invokeFunction('convertToInteractive',\n",
              "                                                     [key], {});\n",
              "          if (!dataTable) return;\n",
              "\n",
              "          const docLinkHtml = 'Like what you see? Visit the ' +\n",
              "            '<a target=\"_blank\" href=https://colab.research.google.com/notebooks/data_table.ipynb>data table notebook</a>'\n",
              "            + ' to learn more about interactive tables.';\n",
              "          element.innerHTML = '';\n",
              "          dataTable['output_type'] = 'display_data';\n",
              "          await google.colab.output.renderOutput(dataTable, element);\n",
              "          const docLink = document.createElement('div');\n",
              "          docLink.innerHTML = docLinkHtml;\n",
              "          element.appendChild(docLink);\n",
              "        }\n",
              "      </script>\n",
              "    </div>\n",
              "  </div>\n",
              "  "
            ]
          },
          "metadata": {},
          "execution_count": 47
        }
      ],
      "source": [
        "# Load the history into a pandas Dataframe\n",
        "\n",
        "df = pd.DataFrame(history.history)\n",
        "df.head()"
      ]
    },
    {
      "cell_type": "code",
      "execution_count": null,
      "metadata": {
        "colab": {
          "base_uri": "https://localhost:8080/",
          "height": 490
        },
        "id": "nmAHj6pqd4VY",
        "outputId": "a5bf8ce9-d1f0-4924-8e80-2652fc897b0a"
      },
      "outputs": [
        {
          "output_type": "execute_result",
          "data": {
            "text/plain": [
              "[Text(0.5, 0, 'Epochs'), Text(0, 0.5, 'Loss')]"
            ]
          },
          "metadata": {},
          "execution_count": 48
        },
        {
          "output_type": "display_data",
          "data": {
            "text/plain": [
              "<Figure size 640x480 with 1 Axes>"
            ],
            "image/png": "[encoded data removed]"
          },
          "metadata": {}
        }
      ],
      "source": [
        "# Make a plot for the loss\n",
        "\n",
        "loss_plot = df.plot(y=\"loss\", title = \"Loss vs. Epochs\", legend=False)\n",
        "loss_plot.set(xlabel=\"Epochs\", ylabel=\"Loss\")"
      ]
    },
    {
      "cell_type": "code",
      "execution_count": null,
      "metadata": {
        "colab": {
          "base_uri": "https://localhost:8080/",
          "height": 467
        },
        "id": "451GeUU2d7VZ",
        "outputId": "6525a7f7-3e97-450d-db4d-ae0199b3d8fc"
      },
      "outputs": [
        {
          "output_type": "execute_result",
          "data": {
            "text/plain": [
              "[Text(0.5, 0, 'Epochs'), Text(0, 0.5, 'sparse_categorical_accuracy')]"
            ]
          },
          "metadata": {},
          "execution_count": 49
        },
        {
          "output_type": "display_data",
          "data": {
            "text/plain": [
              "<Figure size 640x480 with 1 Axes>"
            ],
            "image/png": "[encoded data removed]"
          },
          "metadata": {}
        }
      ],
      "source": [
        "# Make a plot for the accuracy\n",
        "\n",
        "accuracy_plot = df.plot(y=\"sparse_categorical_accuracy\", legend=False)\n",
        "accuracy_plot.set(xlabel=\"Epochs\", ylabel=\"sparse_categorical_accuracy\")"
      ]
    },
    {
      "cell_type": "markdown",
      "metadata": {
        "id": "_TxbUDlYElcw"
      },
      "source": [
        "# 6) Model Evaluate on Test"
      ]
    },
    {
      "cell_type": "code",
      "execution_count": null,
      "metadata": {
        "colab": {
          "base_uri": "https://localhost:8080/"
        },
        "id": "C5Fq4MI5CeC9",
        "outputId": "7085816b-51b8-408f-f486-e6a51cbb4fc2"
      },
      "outputs": [
        {
          "output_type": "stream",
          "name": "stdout",
          "text": [
            "313/313 [==============================] - 1s 2ms/step - loss: 0.3840 - sparse_categorical_accuracy: 0.8624\n"
          ]
        }
      ],
      "source": [
        "test_loss, test_accuracy = model.evaluate(X_test, y_test)"
      ]
    },
    {
      "cell_type": "markdown",
      "metadata": {
        "id": "gKuICVCMGEex"
      },
      "source": [
        "# 7) Model Predict"
      ]
    },
    {
      "cell_type": "code",
      "execution_count": null,
      "metadata": {
        "colab": {
          "base_uri": "https://localhost:8080/",
          "height": 448
        },
        "id": "_IRwPjXpfdWH",
        "outputId": "80f4cf42-7a0c-45fd-80c6-5d67becfe7f0"
      },
      "outputs": [
        {
          "output_type": "display_data",
          "data": {
            "text/plain": [
              "<Figure size 640x480 with 1 Axes>"
            ],
            "image/png": "[encoded data removed]"
          },
          "metadata": {}
        },
        {
          "output_type": "stream",
          "name": "stdout",
          "text": [
            "Label: Bag\n"
          ]
        }
      ],
      "source": [
        "# Choose a random test image\n",
        "\n",
        "random_inx = np.random.choice(X_test.shape[0])\n",
        "random_inx = 30\n",
        "X_sample = X_test[random_inx]\n",
        "plt.imshow(X_sample)\n",
        "plt.show()\n",
        "print(f\"Label: {labels[y_test[random_inx]]}\")"
      ]
    },
    {
      "cell_type": "code",
      "execution_count": null,
      "metadata": {
        "colab": {
          "base_uri": "https://localhost:8080/"
        },
        "id": "u0gpaGcBgGBY",
        "outputId": "c274ab02-ccd8-48fc-cf40-9d8ee7b93116"
      },
      "outputs": [
        {
          "output_type": "execute_result",
          "data": {
            "text/plain": [
              "(28, 28)"
            ]
          },
          "metadata": {},
          "execution_count": 52
        }
      ],
      "source": [
        "X_sample.shape"
      ]
    },
    {
      "cell_type": "code",
      "execution_count": null,
      "metadata": {
        "colab": {
          "base_uri": "https://localhost:8080/"
        },
        "id": "9Gus47sSgZ-c",
        "outputId": "583c2069-4b32-4202-8e68-c57e572e102f"
      },
      "outputs": [
        {
          "output_type": "execute_result",
          "data": {
            "text/plain": [
              "(1, 28, 28)"
            ]
          },
          "metadata": {},
          "execution_count": 53
        }
      ],
      "source": [
        "# need to reshape X_sample\n",
        "\n",
        "X_sample = X_sample.reshape(1, 28, 28) # X_sample: (num_samples, X_sample.shape)\n",
        "X_sample.shape"
      ]
    },
    {
      "cell_type": "code",
      "execution_count": null,
      "metadata": {
        "colab": {
          "base_uri": "https://localhost:8080/"
        },
        "id": "kpHdkWA5fqe3",
        "outputId": "75716afa-5dab-4892-c0bf-ff95ab8c3dc8"
      },
      "outputs": [
        {
          "output_type": "stream",
          "name": "stdout",
          "text": [
            "1/1 [==============================] - 0s 80ms/step\n"
          ]
        },
        {
          "output_type": "execute_result",
          "data": {
            "text/plain": [
              "array([[4.6767288e-11, 2.3313402e-11, 1.0554427e-12, 2.7027158e-11,\n",
              "        1.6424865e-09, 2.5218633e-10, 1.0413023e-11, 1.2716427e-10,\n",
              "        1.0000000e+00, 2.5757743e-18]], dtype=float32)"
            ]
          },
          "metadata": {},
          "execution_count": 54
        }
      ],
      "source": [
        "# Get the model predictions\n",
        "\n",
        "model.predict(X_sample)"
      ]
    },
    {
      "cell_type": "code",
      "execution_count": null,
      "metadata": {
        "colab": {
          "base_uri": "https://localhost:8080/"
        },
        "id": "JomPW6Pxi9nB",
        "outputId": "8cc6c6c8-5bf4-4948-9320-feba823ce330"
      },
      "outputs": [
        {
          "output_type": "stream",
          "name": "stdout",
          "text": [
            "1/1 [==============================] - 0s 21ms/step\n",
            "8\n",
            "Model prediction:Bag\n"
          ]
        }
      ],
      "source": [
        "predictions = model.predict(X_sample)\n",
        "print(np.argmax(predictions))\n",
        "print(f\"Model prediction:{labels[np.argmax(predictions)]}\")"
      ]
    },
    {
      "cell_type": "markdown",
      "metadata": {
        "id": "2tsCEHckj-mc"
      },
      "source": [
        "# 8) Model Fit with Validation Sets"
      ]
    },
    {
      "cell_type": "markdown",
      "metadata": {
        "id": "Fyk5hRZzn0eG"
      },
      "source": [
        "Sometimes, datasets have already been packaged up for us with the training and test split:"
      ]
    },
    {
      "cell_type": "code",
      "execution_count": null,
      "metadata": {
        "id": "QzZOV5Qwj6m6"
      },
      "outputs": [],
      "source": [
        "# Recall:\n",
        "# fashion_mnist_data = tf.keras.datasets.fashion_mnist\n",
        "# (X_train, y_train), (X_test, y_test) = fashion_mnist_data.load_data()"
      ]
    },
    {
      "cell_type": "code",
      "execution_count": null,
      "metadata": {
        "id": "OxNriE6qT_za"
      },
      "outputs": [],
      "source": [
        "# Recall:\n",
        "# build model - nothing changed\n",
        "\n",
        "model = Sequential([\n",
        "                    Flatten(input_shape = (28, 28)),\n",
        "                    Dense(64, activation = 'relu'),\n",
        "                    Dense(10, activation = 'softmax')\n",
        "])"
      ]
    },
    {
      "cell_type": "code",
      "execution_count": null,
      "metadata": {
        "id": "mj56AWHcT3OH"
      },
      "outputs": [],
      "source": [
        "# Recall:\n",
        "# Start Training - nothing changed\n",
        "\n",
        "model.compile(\n",
        "    optimizer = tf.keras.optimizers.Adam(learning_rate = 0.005),\n",
        "    loss = 'sparse_categorical_crossentropy', # Use this loss function when the y labels are integers. \n",
        "    metrics = [tf.keras.metrics.SparseCategoricalAccuracy()] # Use this accuracy when the y labels are integers.\n",
        ")"
      ]
    },
    {
      "cell_type": "code",
      "execution_count": null,
      "metadata": {
        "id": "XCNimkFholh1"
      },
      "outputs": [],
      "source": [
        "# fit the model with validation set\n",
        "\n",
        "history = model.fit(X_train, y_train, epochs = 25, batch_size = 256, verbose = False, validation_split=0.2) \n",
        "# The 0.2 means that 20 percent of the training data will be held back for validation."
      ]
    },
    {
      "cell_type": "markdown",
      "metadata": {
        "id": "kVabTr3OpIRk"
      },
      "source": [
        "The model's performance is recorded on both the training and validation sets."
      ]
    },
    {
      "cell_type": "code",
      "execution_count": null,
      "metadata": {
        "colab": {
          "base_uri": "https://localhost:8080/"
        },
        "id": "dSCCXG0FostF",
        "outputId": "548594a6-d8d9-497b-af80-3a53ea99dd32"
      },
      "outputs": [
        {
          "output_type": "stream",
          "name": "stdout",
          "text": [
            "dict_keys(['loss', 'sparse_categorical_accuracy', 'val_loss', 'val_sparse_categorical_accuracy'])\n"
          ]
        }
      ],
      "source": [
        "print(history.history.keys())"
      ]
    },
    {
      "cell_type": "code",
      "execution_count": null,
      "metadata": {
        "colab": {
          "base_uri": "https://localhost:8080/",
          "height": 472
        },
        "id": "6xWSblfnqgnY",
        "outputId": "9eacdc6e-f9f1-46d9-de0b-adde128f526a"
      },
      "outputs": [
        {
          "output_type": "display_data",
          "data": {
            "text/plain": [
              "<Figure size 640x480 with 1 Axes>"
            ],
            "image/png": "[encoded data removed]"
          },
          "metadata": {}
        }
      ],
      "source": [
        "# Plot the training and validation loss\n",
        "\n",
        "plt.plot(history.history['loss'])\n",
        "plt.plot(history.history['val_loss'])\n",
        "plt.title('Loss vs. epochs')\n",
        "plt.ylabel('Loss')\n",
        "plt.xlabel('Epoch')\n",
        "plt.legend(['Training', 'Validation'], loc='upper right')\n",
        "plt.show()"
      ]
    },
    {
      "cell_type": "markdown",
      "metadata": {
        "id": "U7R3EuFFq7fy"
      },
      "source": [
        "From the graph, we can see that the model has vastly overfit the training data and so it underperforms on the validation data."
      ]
    },
    {
      "cell_type": "code",
      "execution_count": null,
      "metadata": {
        "colab": {
          "base_uri": "https://localhost:8080/"
        },
        "id": "ppPRBykG2_M0",
        "outputId": "25e0e225-b8c2-47b4-925c-e50be8f5aa92"
      },
      "outputs": [
        {
          "output_type": "stream",
          "name": "stdout",
          "text": [
            "313/313 [==============================] - 1s 3ms/step - loss: 0.5153 - sparse_categorical_accuracy: 0.8687\n"
          ]
        }
      ],
      "source": [
        "# Testing mode\n",
        "\n",
        "test_loss, test_accuracy = model.evaluate(X_test, y_test)"
      ]
    },
    {
      "cell_type": "markdown",
      "metadata": {
        "id": "eHsDQmfWqhCv"
      },
      "source": [
        "Practice Question) See if you can reduce overfitting by, for example, altering the number of epochs at the model trains for or changing the layer structure of the model."
      ]
    },
    {
      "cell_type": "markdown",
      "metadata": {
        "id": "WoBch-X7jb9d"
      },
      "source": [
        "# 9) Reduce Overfit - Change the NN Model"
      ]
    },
    {
      "cell_type": "code",
      "execution_count": null,
      "metadata": {
        "id": "tDu88pOKSV-j"
      },
      "outputs": [],
      "source": [
        "# build model\n",
        "\n",
        "model = Sequential([\n",
        "                    Flatten(input_shape = (28, 28)),\n",
        "                    Dense(16, activation = 'relu'),\n",
        "                    Dense(10, activation = 'softmax')\n",
        "])"
      ]
    },
    {
      "cell_type": "code",
      "execution_count": null,
      "metadata": {
        "id": "SZe1z_OkSVWv"
      },
      "outputs": [],
      "source": [
        "# Start Training \n",
        "\n",
        "model.compile(\n",
        "    optimizer = tf.keras.optimizers.Adam(learning_rate = 0.005),\n",
        "    loss = 'sparse_categorical_crossentropy', # Use this loss function when the y labels are integers. \n",
        "    metrics = [tf.keras.metrics.SparseCategoricalAccuracy()] # Use this accuracy when the y labels are integers.\n",
        ")"
      ]
    },
    {
      "cell_type": "code",
      "execution_count": null,
      "metadata": {
        "id": "OSFd71c-SU5T"
      },
      "outputs": [],
      "source": [
        "# fit the model with validation set\n",
        "\n",
        "history = model.fit(X_train, y_train, epochs = 25, batch_size = 256, verbose = False, validation_split=0.2) "
      ]
    },
    {
      "cell_type": "code",
      "execution_count": null,
      "metadata": {
        "colab": {
          "base_uri": "https://localhost:8080/",
          "height": 472
        },
        "id": "bTacLHXqSjmO",
        "outputId": "73c9101b-7697-4b30-d597-f567ba8a9278"
      },
      "outputs": [
        {
          "output_type": "display_data",
          "data": {
            "text/plain": [
              "<Figure size 640x480 with 1 Axes>"
            ],
            "image/png": "[encoded data removed]"
          },
          "metadata": {}
        }
      ],
      "source": [
        "# Plot the training and validation loss\n",
        "\n",
        "plt.plot(history.history['loss'])\n",
        "plt.plot(history.history['val_loss'])\n",
        "plt.title('Loss vs. epochs')\n",
        "plt.ylabel('Loss')\n",
        "plt.xlabel('Epoch')\n",
        "plt.legend(['Training', 'Validation'], loc='upper right')\n",
        "plt.show()"
      ]
    },
    {
      "cell_type": "markdown",
      "metadata": {
        "id": "5i5fPoT7sYuv"
      },
      "source": [
        "# 10) Reduce Overfit - L2 Regularization"
      ]
    },
    {
      "cell_type": "markdown",
      "metadata": {
        "id": "lC2F4tQNXg7w"
      },
      "source": [
        "Model Regularization"
      ]
    },
    {
      "cell_type": "code",
      "execution_count": null,
      "metadata": {
        "id": "RRYBTj3IUbbQ"
      },
      "outputs": [],
      "source": [
        "# build model - we should change this!\n",
        "\n",
        "model = Sequential([\n",
        "                   Flatten(input_shape = (28, 28)),\n",
        "                   Dense(64, activation = 'relu'),\n",
        "                   Dense(10, activation = 'softmax')\n",
        "])"
      ]
    },
    {
      "cell_type": "code",
      "execution_count": null,
      "metadata": {
        "id": "-cXzrK4KgSIX"
      },
      "outputs": [],
      "source": [
        "#l2 regularizer\n",
        "model = Sequential([\n",
        "                    Flatten(input_shape = (28, 28)),\n",
        "                    Dense(64, activation='relu', kernel_regularizer=tf.keras.regularizers.l2(0.001)), # penalty rate (or lambda) =0.001\n",
        "                    Dense(10, activation = 'softmax', kernel_regularizer=tf.keras.regularizers.l2(0.001))\n",
        "])\n",
        "\n",
        "# the weight matrix is sometimes called the kernel."
      ]
    },
    {
      "cell_type": "code",
      "execution_count": null,
      "metadata": {
        "id": "qc5K1IWog7Zn"
      },
      "outputs": [],
      "source": [
        "# Start Training  - nothing changed here!\n",
        "\n",
        "model.compile(\n",
        "     optimizer = tf.keras.optimizers.Adam(learning_rate = 0.005),\n",
        "     loss = 'sparse_categorical_crossentropy', # Use this loss function when the y labels are integers. \n",
        "     metrics = [tf.keras.metrics.SparseCategoricalAccuracy()] # Use this accuracy when the y labels are integers.\n",
        " )"
      ]
    },
    {
      "cell_type": "code",
      "execution_count": null,
      "metadata": {
        "id": "s4XauvPqWGS9"
      },
      "outputs": [],
      "source": [
        "# fit the model with validation set  - nothing changed here!\n",
        "\n",
        "history = model.fit(X_train, y_train, epochs = 25, batch_size = 256, verbose = False, validation_split=0.2) \n",
        "# The 0.2 means that 20 percent of the training data will be held back for validation."
      ]
    },
    {
      "cell_type": "code",
      "execution_count": null,
      "metadata": {
        "colab": {
          "base_uri": "https://localhost:8080/",
          "height": 472
        },
        "id": "AodIjntoWju6",
        "outputId": "47d99e41-8cd5-4534-b654-f4bd742c85e3"
      },
      "outputs": [
        {
          "output_type": "display_data",
          "data": {
            "text/plain": [
              "<Figure size 640x480 with 1 Axes>"
            ],
            "image/png": "[encoded data removed]"
          },
          "metadata": {}
        }
      ],
      "source": [
        "# Plot the training and validation loss\n",
        "\n",
        "plt.plot(history.history['loss'])\n",
        "plt.plot(history.history['val_loss'])\n",
        "plt.title('Loss vs. epochs')\n",
        "plt.ylabel('Loss')\n",
        "plt.xlabel('Epoch')\n",
        "plt.legend(['Training', 'Validation'], loc='upper right')\n",
        "plt.show()"
      ]
    },
    {
      "cell_type": "code",
      "execution_count": null,
      "metadata": {
        "colab": {
          "base_uri": "https://localhost:8080/"
        },
        "id": "2s_7YXug2rqJ",
        "outputId": "ee565988-610e-4028-df31-4583951cf4ad"
      },
      "outputs": [
        {
          "output_type": "stream",
          "name": "stdout",
          "text": [
            "313/313 [==============================] - 1s 2ms/step - loss: 0.5167 - sparse_categorical_accuracy: 0.8488\n"
          ]
        }
      ],
      "source": [
        "# Testing mode\n",
        "\n",
        "test_loss, test_accuracy = model.evaluate(X_test, y_test)"
      ]
    },
    {
      "cell_type": "markdown",
      "metadata": {
        "id": "_IILS0s7s4Hm"
      },
      "source": [
        "# 11) Reduce Overfit - Dropout Regularization"
      ]
    },
    {
      "cell_type": "code",
      "execution_count": null,
      "metadata": {
        "id": "eee5SPsi02JH"
      },
      "outputs": [],
      "source": [
        "# Recall:\n",
        "\n",
        "#model = Sequential([\n",
        "#                   Flatten(input_shape = (28, 28)),\n",
        "#                   Dense(64, activation = 'relu'),\n",
        "#                   Dense(10, activation = 'softmax')\n",
        "#])"
      ]
    },
    {
      "cell_type": "code",
      "execution_count": null,
      "metadata": {
        "id": "1fVz_Auhij3O"
      },
      "outputs": [],
      "source": [
        "#dropout regularizer\n",
        "#dropout rate = 1-keep_probability\n",
        "\n",
        "model = Sequential([\n",
        "                    Flatten(input_shape = (28, 28)),\n",
        "                    Dense(64, activation='relu'),\n",
        "                    Dropout(0.5), #dropout rate \n",
        "                    Dense(10, activation = 'softmax')\n",
        "])\n",
        "                    "
      ]
    },
    {
      "cell_type": "code",
      "execution_count": null,
      "metadata": {
        "id": "KuU_Vb4D1kOJ"
      },
      "outputs": [],
      "source": [
        "# Start Training - nothing changed here!\n",
        "\n",
        "model.compile(\n",
        "     optimizer = tf.keras.optimizers.Adam(learning_rate = 0.005),\n",
        "     loss = 'sparse_categorical_crossentropy', # Use this loss function when the y labels are integers. \n",
        "     metrics = [tf.keras.metrics.SparseCategoricalAccuracy()] # Use this accuracy when the y labels are integers.\n",
        " )"
      ]
    },
    {
      "cell_type": "code",
      "execution_count": null,
      "metadata": {
        "id": "kGt4JaeG1-u0"
      },
      "outputs": [],
      "source": [
        "# fit the model with validation set  - nothing changed here!\n",
        "\n",
        "history = model.fit(X_train, y_train, epochs = 25, batch_size = 256, verbose = False, validation_split=0.2) \n",
        "# The 0.2 means that 20 percent of the training data will be held back for validation."
      ]
    },
    {
      "cell_type": "code",
      "execution_count": null,
      "metadata": {
        "colab": {
          "base_uri": "https://localhost:8080/",
          "height": 472
        },
        "id": "KcVWz7L_2E-N",
        "outputId": "831cb33f-ba6e-4a24-8d61-a185068aa14a"
      },
      "outputs": [
        {
          "output_type": "display_data",
          "data": {
            "text/plain": [
              "<Figure size 640x480 with 1 Axes>"
            ],
            "image/png": "[encoded data removed]"
          },
          "metadata": {}
        }
      ],
      "source": [
        "# Plot the training and validation loss\n",
        "\n",
        "plt.plot(history.history['loss'])\n",
        "plt.plot(history.history['val_loss'])\n",
        "plt.title('Loss vs. epochs')\n",
        "plt.ylabel('Loss')\n",
        "plt.xlabel('Epoch')\n",
        "plt.legend(['Training', 'Validation'], loc='upper right')\n",
        "plt.show()"
      ]
    },
    {
      "cell_type": "code",
      "execution_count": null,
      "metadata": {
        "colab": {
          "base_uri": "https://localhost:8080/"
        },
        "id": "avvC9sVN2JVp",
        "outputId": "30ab3365-4000-4f64-a85e-552616f55b33"
      },
      "outputs": [
        {
          "output_type": "stream",
          "name": "stdout",
          "text": [
            "313/313 [==============================] - 1s 2ms/step - loss: 0.3947 - sparse_categorical_accuracy: 0.8613\n"
          ]
        }
      ],
      "source": [
        "# Testing mode, no dropout\n",
        "\n",
        "test_loss, test_accuracy = model.evaluate(X_test, y_test)"
      ]
    },
    {
      "cell_type": "markdown",
      "metadata": {
        "id": "WD627bM_3_NT"
      },
      "source": [
        "# 12) Reduce Overfit - Early Stopping "
      ]
    },
    {
      "cell_type": "markdown",
      "metadata": {
        "id": "cAiLmhMUoBPa"
      },
      "source": [
        "Another regularization approach is called early stopping. \n",
        "Early stopping is a technique that monitors the performance of the network for every epoch on a held out validation set during the training run, and terminates the training conditional on the validation performance."
      ]
    },
    {
      "cell_type": "code",
      "execution_count": null,
      "metadata": {
        "id": "SMYgkhVs4U6M"
      },
      "outputs": [],
      "source": [
        "# build the original model without L2 or dropout regularization\n",
        "model = Sequential([\n",
        "                   Flatten(input_shape = (28, 28)),\n",
        "                   Dense(64, activation = 'relu'),\n",
        "                   Dense(10, activation = 'softmax')\n",
        "])"
      ]
    },
    {
      "cell_type": "code",
      "execution_count": null,
      "metadata": {
        "id": "y5g5bdNx4dYG"
      },
      "outputs": [],
      "source": [
        "# Start Training - nothing changed here!\n",
        "\n",
        "model.compile(\n",
        "     optimizer = tf.keras.optimizers.Adam(learning_rate = 0.005),\n",
        "     loss = 'sparse_categorical_crossentropy', # Use this loss function when the y labels are integers. \n",
        "     metrics = [tf.keras.metrics.SparseCategoricalAccuracy()] # Use this accuracy when the y labels are integers.\n",
        " )"
      ]
    },
    {
      "cell_type": "code",
      "execution_count": null,
      "metadata": {
        "id": "21OJdhWQoNuV"
      },
      "outputs": [],
      "source": [
        "#set early stopping\n",
        "\n",
        "early_stopping = tf.keras.callbacks.EarlyStopping(monitor='val_loss', min_delta=0.01, patience=5) \n",
        "\n",
        "# by default, monitor='val_loss', which means that we use the validation loss as the performance measure to decide when to terminate the training.\n",
        "# we could instead use 'val_accuracy'.\n",
        "\n",
        "# min_delta: Minimum change in the monitored quantity to qualify as an improvement, \n",
        "# i.e. an absolute change of less than min_delta, will count as no improvement.\n",
        "# by default, min_delta=0.\n",
        "\n",
        "#patience: Number of consecutive epochs with no improvement after which training will be stopped.\n",
        "# by default, patience is set to zero which terminates training as soon as the performance measure gets worse from one epoch to the next."
      ]
    },
    {
      "cell_type": "code",
      "execution_count": null,
      "metadata": {
        "colab": {
          "base_uri": "https://localhost:8080/"
        },
        "id": "H5F5HtET4xy8",
        "outputId": "a97f27db-cb11-422b-e030-1e8d27d33921"
      },
      "outputs": [
        {
          "output_type": "stream",
          "name": "stdout",
          "text": [
            "Epoch 1/25\n",
            "188/188 - 2s - loss: 0.4201 - sparse_categorical_accuracy: 0.8425 - val_loss: 0.3711 - val_sparse_categorical_accuracy: 0.8664 - 2s/epoch - 8ms/step\n",
            "Epoch 2/25\n",
            "188/188 - 1s - loss: 0.4159 - sparse_categorical_accuracy: 0.8424 - val_loss: 0.3754 - val_sparse_categorical_accuracy: 0.8686 - 819ms/epoch - 4ms/step\n",
            "Epoch 3/25\n",
            "188/188 - 1s - loss: 0.4159 - sparse_categorical_accuracy: 0.8445 - val_loss: 0.3832 - val_sparse_categorical_accuracy: 0.8625 - 817ms/epoch - 4ms/step\n",
            "Epoch 4/25\n",
            "188/188 - 1s - loss: 0.4135 - sparse_categorical_accuracy: 0.8433 - val_loss: 0.3725 - val_sparse_categorical_accuracy: 0.8709 - 992ms/epoch - 5ms/step\n",
            "Epoch 5/25\n",
            "188/188 - 1s - loss: 0.4113 - sparse_categorical_accuracy: 0.8448 - val_loss: 0.3739 - val_sparse_categorical_accuracy: 0.8689 - 1s/epoch - 7ms/step\n",
            "Epoch 6/25\n",
            "188/188 - 1s - loss: 0.4077 - sparse_categorical_accuracy: 0.8461 - val_loss: 0.3900 - val_sparse_categorical_accuracy: 0.8674 - 1s/epoch - 8ms/step\n"
          ]
        }
      ],
      "source": [
        "# fit the model with validation set  \n",
        "\n",
        "history = model.fit(X_train, y_train, epochs = 25, batch_size = 256, verbose = 2, validation_split=0.2,\n",
        "                    callbacks=[early_stopping]) \n",
        "# The 0.2 means that 20 percent of the training data will be held back for validation."
      ]
    },
    {
      "cell_type": "code",
      "execution_count": null,
      "metadata": {
        "colab": {
          "base_uri": "https://localhost:8080/",
          "height": 472
        },
        "id": "TIQQecGX5BXf",
        "outputId": "0b361b54-7412-4d89-8296-493ed6fe34c6"
      },
      "outputs": [
        {
          "output_type": "display_data",
          "data": {
            "text/plain": [
              "<Figure size 640x480 with 1 Axes>"
            ],
            "image/png": "[encoded data removed]"
          },
          "metadata": {}
        }
      ],
      "source": [
        "# Plot the training and validation loss\n",
        "\n",
        "plt.plot(history.history['loss'])\n",
        "plt.plot(history.history['val_loss'])\n",
        "plt.title('Loss vs. epochs')\n",
        "plt.ylabel('Loss')\n",
        "plt.xlabel('Epoch')\n",
        "plt.legend(['Training', 'Validation'], loc='upper right')\n",
        "plt.show()"
      ]
    },
    {
      "cell_type": "code",
      "execution_count": null,
      "metadata": {
        "colab": {
          "base_uri": "https://localhost:8080/"
        },
        "id": "HIpMat7A4rf5",
        "outputId": "958d7e25-62fd-46dd-8b64-8c048328ea78"
      },
      "outputs": [
        {
          "output_type": "stream",
          "name": "stdout",
          "text": [
            "313/313 [==============================] - 1s 2ms/step - loss: 0.4125 - sparse_categorical_accuracy: 0.8625\n"
          ]
        }
      ],
      "source": [
        "# Testing mode\n",
        "\n",
        "test_loss, test_accuracy = model.evaluate(X_test, y_test)"
      ]
    }
  ],
  "metadata": {
    "colab": {
      "provenance": [],
      "include_colab_link": true
    },
    "kernelspec": {
      "display_name": "Python 3",
      "language": "python",
      "name": "python3"
    },
    "language_info": {
      "codemirror_mode": {
        "name": "ipython",
        "version": 3
      },
      "file_extension": ".py",
      "mimetype": "text/x-python",
      "name": "python",
      "nbconvert_exporter": "python",
      "pygments_lexer": "ipython3",
      "version": "3.8.5"
    }
  },
  "nbformat": 4,
  "nbformat_minor": 0
}