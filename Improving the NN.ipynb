{
 "cells": [
  {
   "cell_type": "markdown",
   "id": "f4eb8b34",
   "metadata": {
    "id": "f4eb8b34"
   },
   "source": [
    "# Deep Learning Project"
   ]
  },
  {
   "cell_type": "markdown",
   "id": "22ca678b",
   "metadata": {
    "id": "22ca678b"
   },
   "source": [
    "## Automatic Image Tagging for Fashion E-commerce  "
   ]
  },
  {
   "cell_type": "markdown",
   "id": "f1ad90ce",
   "metadata": {
    "id": "f1ad90ce"
   },
   "source": [
    "Saman Zargarzadeh, Devy Yeap, Tiantian Gu, Tannaz Ebrahimi, Xia-Rong Zhang"
   ]
  },
  {
   "cell_type": "code",
   "execution_count": 1,
   "id": "ae1e2f50",
   "metadata": {
    "id": "ae1e2f50"
   },
   "outputs": [],
   "source": [
    "import matplotlib.pyplot as plt\n",
    "import matplotlib.image as mpimg"
   ]
  },
  {
   "cell_type": "code",
   "execution_count": 2,
   "id": "26849b63",
   "metadata": {
    "id": "26849b63"
   },
   "outputs": [],
   "source": [
    "import os\n",
    "import gc\n",
    "import sys\n",
    "import json\n",
    "import random\n",
    "from pathlib import Path\n",
    "import pandas as pd\n",
    "import numpy as np"
   ]
  },
  {
   "cell_type": "code",
   "execution_count": 29,
   "id": "faaf8d4e",
   "metadata": {},
   "outputs": [],
   "source": [
    "import numpy as np\n",
    "import matplotlib.pyplot as plt\n",
    "from reg_utils import sigmoid, relu, plot_decision_boundary, initialize_parameters, load_2D_dataset, predict_dec\n",
    "from reg_utils import compute_cost, predict, forward_propagation, backward_propagation, update_parameters\n",
    "import sklearn\n",
    "import sklearn.datasets\n",
    "import scipy.io\n",
    "from testCases import *"
   ]
  },
  {
   "cell_type": "markdown",
   "id": "7f9b5397",
   "metadata": {},
   "source": [
    "Importing the data set as arrays"
   ]
  },
  {
   "cell_type": "code",
   "execution_count": 3,
   "id": "PUSkYpPk23bs",
   "metadata": {
    "colab": {
     "base_uri": "https://localhost:8080/",
     "height": 383
    },
    "id": "PUSkYpPk23bs",
    "outputId": "b93ed553-e5d0-4ee7-cb31-ded7c923dab8"
   },
   "outputs": [],
   "source": [
    "import numpy as np\n",
    "\n",
    "# load the text file into an array\n",
    "train_set_x = np.load('/Users/macbook/Desktop/Uni/Quarter 4/Deep Learning/Project/Automatic-Image-Tagging-for-Fashion-E-commerce/train_set_x.npy')\n",
    "test_set_x = np.load('/Users/macbook/Desktop/Uni/Quarter 4/Deep Learning/Project/Automatic-Image-Tagging-for-Fashion-E-commerce/test_set_x.npy')\n",
    "cv_set_x = np.load('/Users/macbook/Desktop/Uni/Quarter 4/Deep Learning/Project/Automatic-Image-Tagging-for-Fashion-E-commerce/cv_set_x.npy')\n",
    "\n",
    "train_set_y = np.load('/Users/macbook/Desktop/Uni/Quarter 4/Deep Learning/Project/Automatic-Image-Tagging-for-Fashion-E-commerce/train_set_y.npy')\n",
    "test_set_y = np.load('/Users/macbook/Desktop/Uni/Quarter 4/Deep Learning/Project/Automatic-Image-Tagging-for-Fashion-E-commerce/test_set_y.npy')\n",
    "cv_set_y = np.load('/Users/macbook/Desktop/Uni/Quarter 4/Deep Learning/Project/Automatic-Image-Tagging-for-Fashion-E-commerce/cv_set_y.npy')\n"
   ]
  },
  {
   "cell_type": "markdown",
   "id": "27923275",
   "metadata": {
    "id": "27923275"
   },
   "source": [
    "# L Layer Function"
   ]
  },
  {
   "cell_type": "code",
   "execution_count": 4,
   "id": "0e10b544",
   "metadata": {},
   "outputs": [],
   "source": [
    "from dnn_app_utils_v3 import *"
   ]
  },
  {
   "cell_type": "code",
   "execution_count": 5,
   "id": "b9c59c1b",
   "metadata": {
    "id": "b9c59c1b"
   },
   "outputs": [],
   "source": [
    "def L_layer_model(X, Y, layers_dims, learning_rate = 0.0075, num_iterations = 3000, print_cost=False):#lr was 0.009\n",
    "\n",
    "    np.random.seed(1)\n",
    "    costs = []                         # keep track of cost\n",
    "    \n",
    "    # Parameters initialization. (≈ 1 line of code)\n",
    "    parameters = initialize_parameters_deep(layers_dims)\n",
    "    \n",
    "    # Loop (gradient descent)\n",
    "    for i in range(0, num_iterations):\n",
    "\n",
    "        # Forward propagation: [LINEAR -> RELU]*(L-1) -> LINEAR -> SIGMOID.\n",
    "        AL, caches = L_model_forward(X, parameters)\n",
    "        \n",
    "        # Compute cost.\n",
    "        cost = compute_cost(AL, Y)\n",
    "    \n",
    "        # Backward propagation.\n",
    "        grads = L_model_backward(AL, Y, caches)\n",
    " \n",
    "        # Update parameters.\n",
    "        parameters = update_parameters(parameters, grads, learning_rate)\n",
    "                \n",
    "        # Print the cost every 100 training example\n",
    "        if print_cost and i % 100 == 0:\n",
    "            print (\"Cost after iteration %i: %f\" %(i, cost))\n",
    "        if print_cost and i % 100 == 0:\n",
    "            costs.append(cost)\n",
    "            \n",
    "    # plot the cost\n",
    "    plt.plot(np.squeeze(costs))\n",
    "    plt.ylabel('cost')\n",
    "    plt.xlabel('iterations (per hundreds)')\n",
    "    plt.title(\"Learning rate =\" + str(learning_rate))\n",
    "    plt.show()\n",
    "    \n",
    "    return parameters"
   ]
  },
  {
   "cell_type": "code",
   "execution_count": 6,
   "id": "2084003d",
   "metadata": {
    "id": "2084003d"
   },
   "outputs": [],
   "source": [
    "def predict(parameters, X):\n",
    "\n",
    "    AL, caches = L_model_forward(X, parameters)\n",
    "    predictions = np.where(AL > 0.5, 1, 0)\n",
    "    \n",
    "    return predictions"
   ]
  },
  {
   "cell_type": "markdown",
   "id": "97e8a14c",
   "metadata": {
    "id": "97e8a14c"
   },
   "source": [
    "# Two Layer with 7 Unit and 4 Unit"
   ]
  },
  {
   "cell_type": "code",
   "execution_count": 8,
   "id": "e8fd8069",
   "metadata": {},
   "outputs": [
    {
     "data": {
      "text/plain": [
       "7938"
      ]
     },
     "execution_count": 8,
     "metadata": {},
     "output_type": "execute_result"
    }
   ],
   "source": [
    "n_x = train_set_x.shape[0]\n",
    "n_x"
   ]
  },
  {
   "cell_type": "code",
   "execution_count": 9,
   "id": "1ef11d25",
   "metadata": {
    "id": "1ef11d25"
   },
   "outputs": [],
   "source": [
    "layers_dims = [n_x, 7, 4, 1] #  4-layer model"
   ]
  },
  {
   "cell_type": "code",
   "execution_count": 78,
   "id": "0004fe10",
   "metadata": {
    "id": "0004fe10",
    "outputId": "3b2cb4c8-aba1-454c-ad3a-9463efbd7583"
   },
   "outputs": [
    {
     "name": "stdout",
     "output_type": "stream",
     "text": [
      "Cost after iteration 0: 0.698325\n",
      "Cost after iteration 100: 0.668278\n",
      "Cost after iteration 200: 0.656720\n",
      "Cost after iteration 300: 0.648907\n",
      "Cost after iteration 400: 0.642308\n",
      "Cost after iteration 500: 0.636270\n",
      "Cost after iteration 600: 0.630655\n",
      "Cost after iteration 700: 0.626262\n",
      "Cost after iteration 800: 0.627104\n",
      "Cost after iteration 900: 0.627410\n",
      "Cost after iteration 1000: 0.625472\n",
      "Cost after iteration 1100: 0.621088\n",
      "Cost after iteration 1200: 0.623151\n",
      "Cost after iteration 1300: 0.616624\n",
      "Cost after iteration 1400: 0.613860\n",
      "Cost after iteration 1500: 0.609218\n",
      "Cost after iteration 1600: 0.609547\n",
      "Cost after iteration 1700: 0.603064\n",
      "Cost after iteration 1800: 0.603689\n",
      "Cost after iteration 1900: 0.602882\n",
      "Cost after iteration 2000: 0.601737\n",
      "Cost after iteration 2100: 0.597233\n",
      "Cost after iteration 2200: 0.594200\n",
      "Cost after iteration 2300: 0.594070\n",
      "Cost after iteration 2400: 0.591775\n"
     ]
    },
    {
     "data": {
      "image/png": "[encoded data removed]",
      "text/plain": [
       "<Figure size 432x288 with 1 Axes>"
      ]
     },
     "metadata": {
      "needs_background": "light"
     },
     "output_type": "display_data"
    }
   ],
   "source": [
    "parameters = L_layer_model(train_set_x, train_set_y.reshape(1, -1), \n",
    "                           layers_dims, num_iterations = 2500, print_cost = True)"
   ]
  },
  {
   "cell_type": "code",
   "execution_count": 79,
   "id": "eefda90c",
   "metadata": {
    "id": "eefda90c"
   },
   "outputs": [
    {
     "name": "stdout",
     "output_type": "stream",
     "text": [
      "Train Set: 69.06 %\n",
      "Test Set: 62.25 %\n",
      "CV Set: 63.12 %\n"
     ]
    }
   ],
   "source": [
    "predictions = predict(parameters, train_set_x)\n",
    "accuracy_train = float((np.dot(train_set_y,predictions.T) + \n",
    "                        np.dot(1-train_set_y,1-predictions.T))/float(train_set_y.size)*100)\n",
    "print(\"Train Set:\", round(accuracy_train,2),\"%\")\n",
    "\n",
    "predictions = predict(parameters, test_set_x)\n",
    "accuracy_test = float((np.dot(test_set_y,predictions.T) + \n",
    "                       np.dot(1-test_set_y,1-predictions.T))/float(test_set_y.size)*100)\n",
    "print(\"Test Set:\", round(accuracy_test,2),\"%\")\n",
    "\n",
    "predictions = predict(parameters, cv_set_x)\n",
    "accuracy_cv = float((np.dot(cv_set_y,predictions.T) + \n",
    "                     np.dot(1-cv_set_y,1-predictions.T))/float(cv_set_y.size)*100)\n",
    "print(\"CV Set:\", round(accuracy_cv,2),\"%\")\n"
   ]
  },
  {
   "cell_type": "markdown",
   "id": "f731cc77",
   "metadata": {},
   "source": [
    "# Regularization"
   ]
  },
  {
   "cell_type": "code",
   "execution_count": 33,
   "id": "d6ed05b7",
   "metadata": {},
   "outputs": [],
   "source": [
    "# no need to change this function (it is already implemented for you).\n",
    "def model(X, Y, learning_rate = 0.0075, num_iterations = 2500, print_cost = True, lambd = 0, keep_prob = 1):\n",
    "    \"\"\"\n",
    "    Implements a three-layer neural network: LINEAR->RELU->LINEAR->RELU->LINEAR->SIGMOID.\n",
    "    \n",
    "    Arguments:\n",
    "    X -- input data, of shape (input size, number of examples)\n",
    "    Y -- true \"label\" vector (1 for blue dot / 0 for red dot), of shape (output size, number of examples)\n",
    "    learning_rate -- learning rate of the optimization\n",
    "    num_iterations -- number of iterations of the optimization loop\n",
    "    print_cost -- If True, print the cost every 10000 iterations\n",
    "    lambd -- regularization hyperparameter, scalar\n",
    "    keep_prob - probability of keeping a neuron active during drop-out, scalar.\n",
    "    \n",
    "    Returns:\n",
    "    parameters -- parameters learned by the model. They can then be used to predict.\n",
    "    \"\"\"\n",
    "        \n",
    "    grads = {}\n",
    "    costs = []                            # to keep track of the cost\n",
    "    m = X.shape[1]                        # number of examples\n",
    "    layers_dims = [X.shape[0], 7, 4, 1]\n",
    "    \n",
    "    # Initialize parameters dictionary.\n",
    "    parameters = initialize_parameters(layers_dims)\n",
    "\n",
    "    # Loop (gradient descent)\n",
    "\n",
    "    for i in range(0, num_iterations):\n",
    "\n",
    "        # Forward propagation: LINEAR -> RELU -> LINEAR -> RELU -> LINEAR -> SIGMOID.\n",
    "        if keep_prob == 1:\n",
    "            a3, cache = forward_propagation(X, parameters)\n",
    "        elif keep_prob < 1:\n",
    "            a3, cache = forward_propagation_with_dropout(X, parameters, keep_prob)\n",
    "        \n",
    "        # Cost function\n",
    "        if lambd == 0:\n",
    "            cost = compute_cost(a3, Y)\n",
    "        else:\n",
    "            cost = compute_cost_with_regularization(a3, Y, parameters, lambd)\n",
    "            \n",
    "        # Backward propagation.\n",
    "        assert(lambd==0 or keep_prob==1)    # it is possible to use both L2 regularization and dropout, \n",
    "                                            # but this assignment will only explore one at a time\n",
    "        if lambd == 0 and keep_prob == 1:\n",
    "            grads = backward_propagation(X, Y, cache)\n",
    "        elif lambd != 0:\n",
    "            grads = backward_propagation_with_regularization(X, Y, cache, lambd)\n",
    "        elif keep_prob < 1:\n",
    "            grads = backward_propagation_with_dropout(X, Y, cache, keep_prob)\n",
    "        \n",
    "        # Update parameters.\n",
    "        parameters = update_parameters(parameters, grads, learning_rate)\n",
    "        \n",
    "        # Print the loss every 100 iterations\n",
    "        if print_cost and i % 100 == 0:\n",
    "            print(\"Cost after iteration {}: {}\".format(i, cost))\n",
    "        if print_cost and i % 100 == 0:\n",
    "            costs.append(cost)\n",
    "    \n",
    "    # plot the cost\n",
    "    plt.plot(costs)\n",
    "    plt.ylabel('cost')\n",
    "    plt.xlabel('iterations (x1,00)')\n",
    "    plt.title(\"Learning rate =\" + str(learning_rate))\n",
    "    plt.show()\n",
    "    \n",
    "    return parameters"
   ]
  },
  {
   "cell_type": "code",
   "execution_count": 34,
   "id": "615e684f",
   "metadata": {},
   "outputs": [
    {
     "name": "stdout",
     "output_type": "stream",
     "text": [
      "Cost after iteration 0: 0.6918819192122466\n",
      "Cost after iteration 100: 0.6690096852581046\n",
      "Cost after iteration 200: 0.6588399615293817\n",
      "Cost after iteration 300: 0.6520870116984848\n",
      "Cost after iteration 400: 0.6465981711772715\n",
      "Cost after iteration 500: 0.641692115942513\n",
      "Cost after iteration 600: 0.6370414600603379\n",
      "Cost after iteration 700: 0.6363028849167135\n",
      "Cost after iteration 800: 0.6381888028736382\n",
      "Cost after iteration 900: 0.6351004923361337\n",
      "Cost after iteration 1000: 0.631367676352521\n",
      "Cost after iteration 1100: 0.6290571242783111\n",
      "Cost after iteration 1200: 0.6269489315874438\n",
      "Cost after iteration 1300: 0.6228272638160995\n",
      "Cost after iteration 1400: 0.6203318567646046\n",
      "Cost after iteration 1500: 0.6181522984382649\n",
      "Cost after iteration 1600: 0.6146931462268987\n",
      "Cost after iteration 1700: 0.6133466829154378\n",
      "Cost after iteration 1800: 0.6101811546369705\n",
      "Cost after iteration 1900: 0.6074284097819646\n",
      "Cost after iteration 2000: 0.6053371019970972\n",
      "Cost after iteration 2100: 0.6025590014020132\n",
      "Cost after iteration 2200: 0.5974861382606158\n",
      "Cost after iteration 2300: 0.5958472428824731\n",
      "Cost after iteration 2400: 0.5942669057424369\n"
     ]
    },
    {
     "data": {
      "image/png": "[encoded data removed]",
      "text/plain": [
       "<Figure size 432x288 with 1 Axes>"
      ]
     },
     "metadata": {
      "needs_background": "light"
     },
     "output_type": "display_data"
    }
   ],
   "source": [
    "parameters = model(train_set_x, train_set_y.reshape(1, -1))"
   ]
  },
  {
   "cell_type": "code",
   "execution_count": 35,
   "id": "e0f643ab",
   "metadata": {},
   "outputs": [
    {
     "name": "stdout",
     "output_type": "stream",
     "text": [
      "On the training set:\n",
      "Accuracy: 0.6784746822254636\n",
      "On the test set:\n",
      "Accuracy: 0.625625\n",
      "On the cv set:\n",
      "Accuracy: 0.6325\n"
     ]
    }
   ],
   "source": [
    "print (\"On the training set:\")\n",
    "predictions_train = predict(train_set_x, train_set_y.reshape(1, -1), parameters)\n",
    "print (\"On the test set:\")\n",
    "predictions_test = predict(test_set_x, test_set_y.reshape(1, -1), parameters)\n",
    "print (\"On the cv set:\")\n",
    "predictions_test = predict(cv_set_x, cv_set_y.reshape(1, -1), parameters)"
   ]
  },
  {
   "cell_type": "code",
   "execution_count": 36,
   "id": "5b0d554d",
   "metadata": {},
   "outputs": [],
   "source": [
    "def compute_cost_with_regularization(A3, Y, parameters, lambd):\n",
    "    \"\"\"\n",
    "    Implement the cost function with L2 regularization. See formula (2) above.\n",
    "    \n",
    "    Arguments:\n",
    "    A3 -- post-activation, output of forward propagation, of shape (output size, number of examples)\n",
    "    Y -- \"true\" labels vector, of shape (output size, number of examples)\n",
    "    parameters -- python dictionary containing parameters of the model\n",
    "    \n",
    "    Returns:\n",
    "    cost - value of the regularized loss function (formula (2))\n",
    "    \"\"\"\n",
    "    m = Y.shape[1]\n",
    "    W1 = parameters[\"W1\"]\n",
    "    W2 = parameters[\"W2\"]\n",
    "    W3 = parameters[\"W3\"]\n",
    "    \n",
    "    cost = compute_cost(A3, Y) # This gives you the cross-entropy part of the cost\n",
    "    \n",
    "    ### START CODE HERE ### (approx. 1 line)\n",
    "    L2_regularization_cost = (1/m)*(lambd/2)*(np.sum(np.square(W1))+np.sum(np.square(W2))+np.sum(np.square(W3)))\n",
    "    ### END CODER HERE ###\n",
    "    \n",
    "    cost = cost + L2_regularization_cost\n",
    "    \n",
    "    return cost"
   ]
  },
  {
   "cell_type": "code",
   "execution_count": 37,
   "id": "7d98e3ad",
   "metadata": {},
   "outputs": [],
   "source": [
    "def backward_propagation_with_regularization(X, Y, cache, lambd):\n",
    "    \"\"\"\n",
    "    Implements the backward propagation of our baseline model to which we added an L2 regularization.\n",
    "    \n",
    "    Arguments:\n",
    "    X -- input dataset, of shape (input size, number of examples)\n",
    "    Y -- \"true\" labels vector, of shape (output size, number of examples)\n",
    "    cache -- cache output from forward_propagation()\n",
    "    lambd -- regularization hyperparameter, scalar\n",
    "    \n",
    "    Returns:\n",
    "    gradients -- A dictionary with the gradients with respect to each parameter, activation and pre-activation variables\n",
    "    \"\"\"\n",
    "    \n",
    "    m = X.shape[1]\n",
    "    (Z1, A1, W1, b1, Z2, A2, W2, b2, Z3, A3, W3, b3) = cache\n",
    "    \n",
    "    dZ3 = A3 - Y\n",
    "    \n",
    "    dW3 = 1./m * np.dot(dZ3, A2.T) + (lambd/m)*W3\n",
    "    db3 = 1./m * np.sum(dZ3, axis=1, keepdims = True)\n",
    "    \n",
    "    dA2 = np.dot(W3.T, dZ3)\n",
    "    dZ2 = np.multiply(dA2, np.int64(A2 > 0))\n",
    "\n",
    "    dW2 = 1./m * np.dot(dZ2, A1.T) + (lambd/m)*W2\n",
    "    db2 = 1./m * np.sum(dZ2, axis=1, keepdims = True)\n",
    "    \n",
    "    dA1 = np.dot(W2.T, dZ2)\n",
    "    dZ1 = np.multiply(dA1, np.int64(A1 > 0))\n",
    "\n",
    "    dW1 = 1./m * np.dot(dZ1, X.T) + (lambd/m)*W1\n",
    "    db1 = 1./m * np.sum(dZ1, axis=1, keepdims = True)\n",
    "    \n",
    "    gradients = {\"dZ3\": dZ3, \"dW3\": dW3, \"db3\": db3,\"dA2\": dA2,\n",
    "                 \"dZ2\": dZ2, \"dW2\": dW2, \"db2\": db2, \"dA1\": dA1, \n",
    "                 \"dZ1\": dZ1, \"dW1\": dW1, \"db1\": db1}\n",
    "    \n",
    "    return gradients"
   ]
  },
  {
   "cell_type": "code",
   "execution_count": 38,
   "id": "568a5bc8",
   "metadata": {},
   "outputs": [
    {
     "name": "stdout",
     "output_type": "stream",
     "text": [
      "Cost after iteration 0: 0.6920072009296656\n",
      "Cost after iteration 100: 0.6691365740361134\n",
      "Cost after iteration 200: 0.6589677449035255\n",
      "Cost after iteration 300: 0.6522175823596784\n",
      "Cost after iteration 400: 0.6467326800204971\n",
      "Cost after iteration 500: 0.6418214305448984\n",
      "Cost after iteration 600: 0.637196182698902\n",
      "Cost after iteration 700: 0.6353571532513387\n",
      "Cost after iteration 800: 0.6380527042669036\n",
      "Cost after iteration 900: 0.6351696625222198\n",
      "Cost after iteration 1000: 0.632759281358016\n",
      "Cost after iteration 1100: 0.6286385972368026\n",
      "Cost after iteration 1200: 0.6250823691471282\n",
      "Cost after iteration 1300: 0.6219357765987737\n",
      "Cost after iteration 1400: 0.6194473883247461\n",
      "Cost after iteration 1500: 0.616651316211304\n",
      "Cost after iteration 1600: 0.6136347443898907\n",
      "Cost after iteration 1700: 0.6108325538667779\n",
      "Cost after iteration 1800: 0.6097578336207127\n",
      "Cost after iteration 1900: 0.6065964421022231\n",
      "Cost after iteration 2000: 0.6035516595303498\n",
      "Cost after iteration 2100: 0.6006047564716692\n",
      "Cost after iteration 2200: 0.5980247736579437\n",
      "Cost after iteration 2300: 0.5938528057071603\n",
      "Cost after iteration 2400: 0.59193085386079\n"
     ]
    },
    {
     "data": {
      "image/png": "[encoded data removed]",
      "text/plain": [
       "<Figure size 432x288 with 1 Axes>"
      ]
     },
     "metadata": {
      "needs_background": "light"
     },
     "output_type": "display_data"
    }
   ],
   "source": [
    "parameters = model(train_set_x, train_set_y.reshape(1, -1), lambd = 0.1)"
   ]
  },
  {
   "cell_type": "code",
   "execution_count": 39,
   "id": "d8091af8",
   "metadata": {},
   "outputs": [
    {
     "name": "stdout",
     "output_type": "stream",
     "text": [
      "On the training set:\n",
      "Accuracy: 0.6857678683058971\n",
      "On the test set:\n",
      "Accuracy: 0.62\n",
      "On the cv set:\n",
      "Accuracy: 0.61875\n"
     ]
    }
   ],
   "source": [
    "print (\"On the training set:\")\n",
    "predictions_train = predict(train_set_x, train_set_y.reshape(1, -1), parameters)\n",
    "print (\"On the test set:\")\n",
    "predictions_test = predict(test_set_x, test_set_y.reshape(1, -1), parameters)\n",
    "print (\"On the cv set:\")\n",
    "predictions_test = predict(cv_set_x, cv_set_y.reshape(1, -1), parameters)"
   ]
  },
  {
   "cell_type": "code",
   "execution_count": null,
   "id": "e122ef32",
   "metadata": {},
   "outputs": [],
   "source": []
  }
 ],
 "metadata": {
  "colab": {
   "provenance": []
  },
  "kernelspec": {
   "display_name": "Python 3 (ipykernel)",
   "language": "python",
   "name": "python3"
  },
  "language_info": {
   "codemirror_mode": {
    "name": "ipython",
    "version": 3
   },
   "file_extension": ".py",
   "mimetype": "text/x-python",
   "name": "python",
   "nbconvert_exporter": "python",
   "pygments_lexer": "ipython3",
   "version": "3.9.12"
  }
 },
 "nbformat": 4,
 "nbformat_minor": 5
}
